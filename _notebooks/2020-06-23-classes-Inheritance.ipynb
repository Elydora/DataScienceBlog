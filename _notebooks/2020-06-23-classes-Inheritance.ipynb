{
 "cells": [
  {
   "cell_type": "markdown",
   "source": [
    "# Classes - Inheritance\n",
    "> Example Implementations using <a href=\"https://jupyter.org/\">Jupyter Notebooks</a>.\n",
    "\n",
    "- toc: true\n",
    "- badges: true\n",
    "- comments: true\n",
    "- sticky_rank: 1\n",
    "- author: Felix\n",
    "- categories: [classes, jupyter, percipio]"
   ],
   "metadata": {
    "collapsed": false
   }
  },
  {
   "cell_type": "code",
   "execution_count": 1,
   "metadata": {
    "collapsed": true
   },
   "outputs": [],
   "source": [
    "class Shape:\n",
    "    pass\n",
    "\n",
    "class Shape():\n",
    "    pass\n",
    "\n",
    "class Shape(object):\n",
    "    pass"
   ]
  },
  {
   "cell_type": "code",
   "execution_count": 2,
   "outputs": [],
   "source": [
    "class Shape:\n",
    "    def __init__(self, shape_type):\n",
    "        self.__type = shape_type\n",
    "\n",
    "    def get_type(self):\n",
    "        return self.__type"
   ],
   "metadata": {
    "collapsed": false,
    "pycharm": {
     "name": "#%%\n"
    }
   }
  },
  {
   "cell_type": "code",
   "execution_count": 3,
   "outputs": [
    {
     "data": {
      "text/plain": "__main__.Shape"
     },
     "execution_count": 3,
     "metadata": {},
     "output_type": "execute_result"
    }
   ],
   "source": [
    "circle = Shape(\"circle\")\n",
    "type(circle)"
   ],
   "metadata": {
    "collapsed": false,
    "pycharm": {
     "name": "#%%\n"
    }
   }
  },
  {
   "cell_type": "code",
   "execution_count": 4,
   "outputs": [
    {
     "data": {
      "text/plain": "'circle'"
     },
     "execution_count": 4,
     "metadata": {},
     "output_type": "execute_result"
    }
   ],
   "source": [
    "circle.get_type()"
   ],
   "metadata": {
    "collapsed": false,
    "pycharm": {
     "name": "#%%\n"
    }
   }
  },
  {
   "cell_type": "code",
   "execution_count": 5,
   "outputs": [
    {
     "data": {
      "text/plain": "__main__.Shape"
     },
     "execution_count": 5,
     "metadata": {},
     "output_type": "execute_result"
    }
   ],
   "source": [
    "square = Shape(\"square\")\n",
    "type(square)"
   ],
   "metadata": {
    "collapsed": false,
    "pycharm": {
     "name": "#%%\n"
    }
   }
  },
  {
   "cell_type": "code",
   "execution_count": 6,
   "outputs": [],
   "source": [
    "class Shape:\n",
    "    def __init__(self, shape_type, color=\"Red\"): # optional\n",
    "        self.__type = shape_type\n",
    "        self.__color = color\n",
    "\n",
    "    def get_type(self):\n",
    "        return self.__type\n",
    "\n",
    "    def get_color(self):\n",
    "        return self.__color\n",
    "\n",
    "    def get_area(self):\n",
    "        pass\n",
    "\n",
    "    def get_perimeter(self):\n",
    "        pass"
   ],
   "metadata": {
    "collapsed": false,
    "pycharm": {
     "name": "#%%\n"
    }
   }
  },
  {
   "cell_type": "code",
   "execution_count": 7,
   "outputs": [
    {
     "data": {
      "text/plain": "'Red'"
     },
     "execution_count": 7,
     "metadata": {},
     "output_type": "execute_result"
    }
   ],
   "source": [
    "circle = Shape(\"circle\")\n",
    "circle.get_color()"
   ],
   "metadata": {
    "collapsed": false,
    "pycharm": {
     "name": "#%%\n"
    }
   }
  },
  {
   "cell_type": "code",
   "execution_count": 8,
   "outputs": [],
   "source": [
    "class Circle(Shape):\n",
    "    pass"
   ],
   "metadata": {
    "collapsed": false,
    "pycharm": {
     "name": "#%%\n"
    }
   }
  },
  {
   "cell_type": "code",
   "execution_count": 9,
   "outputs": [],
   "source": [
    "circle = Circle(\"circle\")"
   ],
   "metadata": {
    "collapsed": false,
    "pycharm": {
     "name": "#%%\n"
    }
   }
  },
  {
   "cell_type": "code",
   "execution_count": 10,
   "outputs": [
    {
     "data": {
      "text/plain": "__main__.Circle"
     },
     "execution_count": 10,
     "metadata": {},
     "output_type": "execute_result"
    }
   ],
   "source": [
    "type(circle)"
   ],
   "metadata": {
    "collapsed": false,
    "pycharm": {
     "name": "#%%\n"
    }
   }
  },
  {
   "cell_type": "code",
   "execution_count": 11,
   "outputs": [],
   "source": [
    "class Circle(Shape):\n",
    "\n",
    "    def __init__(self):\n",
    "        Shape.__init__(self, \"circle\")"
   ],
   "metadata": {
    "collapsed": false,
    "pycharm": {
     "name": "#%%\n"
    }
   }
  },
  {
   "cell_type": "code",
   "execution_count": 12,
   "outputs": [],
   "source": [
    "class Square(Shape):\n",
    "\n",
    "    def __init__(self):\n",
    "        Shape.__init__(self, \"square\")"
   ],
   "metadata": {
    "collapsed": false,
    "pycharm": {
     "name": "#%%\n"
    }
   }
  },
  {
   "cell_type": "code",
   "execution_count": 13,
   "outputs": [
    {
     "data": {
      "text/plain": "('circle', 'square')"
     },
     "execution_count": 13,
     "metadata": {},
     "output_type": "execute_result"
    }
   ],
   "source": [
    "circle = Circle()\n",
    "square = Square()\n",
    "circle.get_type(), square.get_type()"
   ],
   "metadata": {
    "collapsed": false,
    "pycharm": {
     "name": "#%%\n"
    }
   }
  },
  {
   "cell_type": "code",
   "execution_count": 14,
   "outputs": [],
   "source": [
    "class Circle(Shape):\n",
    "\n",
    "    def __init__(self, color=\"green\"):\n",
    "        Shape.__init__(self, \"circle\", color)"
   ],
   "metadata": {
    "collapsed": false,
    "pycharm": {
     "name": "#%%\n"
    }
   }
  },
  {
   "cell_type": "code",
   "execution_count": 15,
   "outputs": [
    {
     "data": {
      "text/plain": "'green'"
     },
     "execution_count": 15,
     "metadata": {},
     "output_type": "execute_result"
    }
   ],
   "source": [
    "circle = Circle()\n",
    "circle.get_color()"
   ],
   "metadata": {
    "collapsed": false,
    "pycharm": {
     "name": "#%%\n"
    }
   }
  },
  {
   "cell_type": "code",
   "execution_count": 16,
   "outputs": [],
   "source": [
    "import math\n",
    "class Circle(Shape):\n",
    "\n",
    "    def __init__(self, radius, color=\"green\"):\n",
    "        Shape.__init__(self, \"circle\", color)\n",
    "        self.__radius = radius\n",
    "\n",
    "    def get_area(self):\n",
    "        return math.pi * self.__radius * self.__radius\n",
    "\n",
    "    def get_perimeter(self):\n",
    "        return 2 * math.pi * self.__radius"
   ],
   "metadata": {
    "collapsed": false,
    "pycharm": {
     "name": "#%%\n"
    }
   }
  },
  {
   "cell_type": "code",
   "execution_count": 17,
   "outputs": [
    {
     "data": {
      "text/plain": "78.53981633974483"
     },
     "execution_count": 17,
     "metadata": {},
     "output_type": "execute_result"
    }
   ],
   "source": [
    "circle = Circle(5, color=\"orange\")\n",
    "circle.get_area()"
   ],
   "metadata": {
    "collapsed": false,
    "pycharm": {
     "name": "#%%\n"
    }
   }
  },
  {
   "cell_type": "code",
   "execution_count": 18,
   "outputs": [
    {
     "name": "stdout",
     "output_type": "stream",
     "text": [
      "Help on class Circle in module __main__:\n",
      "\n",
      "class Circle(Shape)\n",
      " |  Circle(radius, color='green')\n",
      " |  \n",
      " |  Method resolution order:\n",
      " |      Circle\n",
      " |      Shape\n",
      " |      builtins.object\n",
      " |  \n",
      " |  Methods defined here:\n",
      " |  \n",
      " |  __init__(self, radius, color='green')\n",
      " |      Initialize self.  See help(type(self)) for accurate signature.\n",
      " |  \n",
      " |  get_area(self)\n",
      " |  \n",
      " |  get_perimeter(self)\n",
      " |  \n",
      " |  ----------------------------------------------------------------------\n",
      " |  Methods inherited from Shape:\n",
      " |  \n",
      " |  get_color(self)\n",
      " |  \n",
      " |  get_type(self)\n",
      " |  \n",
      " |  ----------------------------------------------------------------------\n",
      " |  Data descriptors inherited from Shape:\n",
      " |  \n",
      " |  __dict__\n",
      " |      dictionary for instance variables (if defined)\n",
      " |  \n",
      " |  __weakref__\n",
      " |      list of weak references to the object (if defined)\n",
      "\n"
     ]
    }
   ],
   "source": [
    "help(Circle)"
   ],
   "metadata": {
    "collapsed": false,
    "pycharm": {
     "name": "#%%\n"
    }
   }
  },
  {
   "cell_type": "code",
   "execution_count": 19,
   "outputs": [],
   "source": [
    "import math\n",
    "class Circle(Shape):\n",
    "\n",
    "    def __init__(self, radius, color=\"green\"):\n",
    "        super().__init__(self, \"circle\", color) # super is also possible\n",
    "        self.__radius = radius\n",
    "\n",
    "    def get_area(self):\n",
    "        return math.pi * self.__radius * self.__radius\n",
    "\n",
    "    def get_perimeter(self):\n",
    "        return 2 * math.pi * self.__radius"
   ],
   "metadata": {
    "collapsed": false,
    "pycharm": {
     "name": "#%%\n"
    }
   }
  },
  {
   "cell_type": "code",
   "execution_count": 20,
   "outputs": [
    {
     "data": {
      "text/plain": "True"
     },
     "execution_count": 20,
     "metadata": {},
     "output_type": "execute_result"
    }
   ],
   "source": [
    "issubclass(Circle, Shape)"
   ],
   "metadata": {
    "collapsed": false,
    "pycharm": {
     "name": "#%%\n"
    }
   }
  },
  {
   "cell_type": "code",
   "execution_count": 21,
   "outputs": [],
   "source": [
    "# Multiple and Multilevel Inheritance\n",
    "class Father:\n",
    "    pass\n",
    "\n",
    "class Mother:\n",
    "    pass"
   ],
   "metadata": {
    "collapsed": false,
    "pycharm": {
     "name": "#%%\n"
    }
   }
  },
  {
   "cell_type": "code",
   "execution_count": 22,
   "outputs": [],
   "source": [
    "class Child1(Father, Mother):\n",
    "    pass"
   ],
   "metadata": {
    "collapsed": false,
    "pycharm": {
     "name": "#%%\n"
    }
   }
  },
  {
   "cell_type": "code",
   "execution_count": 23,
   "outputs": [
    {
     "name": "stdout",
     "output_type": "stream",
     "text": [
      "Help on class Child1 in module __main__:\n",
      "\n",
      "class Child1(Father, Mother)\n",
      " |  Method resolution order:\n",
      " |      Child1\n",
      " |      Father\n",
      " |      Mother\n",
      " |      builtins.object\n",
      " |  \n",
      " |  Data descriptors inherited from Father:\n",
      " |  \n",
      " |  __dict__\n",
      " |      dictionary for instance variables (if defined)\n",
      " |  \n",
      " |  __weakref__\n",
      " |      list of weak references to the object (if defined)\n",
      "\n"
     ]
    }
   ],
   "source": [
    "help(Child1)"
   ],
   "metadata": {
    "collapsed": false,
    "pycharm": {
     "name": "#%%\n"
    }
   }
  },
  {
   "cell_type": "code",
   "execution_count": 24,
   "outputs": [],
   "source": [
    "class Father:\n",
    "    def height(self):\n",
    "        print(\"I have inherited my height from my father\")\n",
    "\n",
    "class Mother:\n",
    "    def intelligence(self):\n",
    "        print(\"I have inherited my intelligence from my mother\")\n",
    "\n",
    "class Child(Father, Mother):\n",
    "    def experience(self):\n",
    "        print(\"My experience are all my own\")\n"
   ],
   "metadata": {
    "collapsed": false,
    "pycharm": {
     "name": "#%%\n"
    }
   }
  },
  {
   "cell_type": "code",
   "execution_count": 25,
   "outputs": [
    {
     "name": "stdout",
     "output_type": "stream",
     "text": [
      "I have inherited my height from my father\n"
     ]
    }
   ],
   "source": [
    "c = Child()\n",
    "c.height()"
   ],
   "metadata": {
    "collapsed": false,
    "pycharm": {
     "name": "#%%\n"
    }
   }
  },
  {
   "cell_type": "code",
   "execution_count": 26,
   "outputs": [
    {
     "name": "stdout",
     "output_type": "stream",
     "text": [
      "I have inherited my intelligence from my mother\n"
     ]
    }
   ],
   "source": [
    "c.intelligence()"
   ],
   "metadata": {
    "collapsed": false,
    "pycharm": {
     "name": "#%%\n"
    }
   }
  },
  {
   "cell_type": "code",
   "execution_count": 30,
   "outputs": [],
   "source": [
    "# Polymorphism\n",
    "class Hominidae():\n",
    "\n",
    "    def communication(self):\n",
    "        print(\"They use auditory calls and visual cues.\")\n",
    "\n",
    "    def walk(self):\n",
    "        print(\"They are knuckle-walkers, used to hang and swing from one tree to another.\")\n",
    "\n",
    "class Human(Hominidae):\n",
    "\n",
    "    def communication(self):\n",
    "        print(\"They use language to communicate.\")\n",
    "\n",
    "    def walk(self):\n",
    "        print(\"They are bipeds.\")\n",
    "\n",
    "class Gorilla(Hominidae):\n",
    "\n",
    "    def communication(self):\n",
    "        print(\"They use twenty-five distinct vocalizations to communicate.\")\n",
    "\n",
    "    def walk(self):\n",
    "        print(\"They are knuckle-walkers.\")\n",
    "\n",
    "hominidae_1 = Hominidae()\n",
    "human_1 = Human()\n",
    "gorilla_1 = Gorilla()"
   ],
   "metadata": {
    "collapsed": false,
    "pycharm": {
     "name": "#%%\n"
    }
   }
  },
  {
   "cell_type": "code",
   "execution_count": 31,
   "outputs": [
    {
     "name": "stdout",
     "output_type": "stream",
     "text": [
      "They use auditory calls and visual cues.\n",
      "They use language to communicate.\n",
      "They use twenty-five distinct vocalizations to communicate.\n"
     ]
    }
   ],
   "source": [
    "hominidae_1.communication()\n",
    "human_1.communication()\n",
    "gorilla_1.communication()"
   ],
   "metadata": {
    "collapsed": false,
    "pycharm": {
     "name": "#%%\n"
    }
   }
  },
  {
   "cell_type": "code",
   "execution_count": null,
   "outputs": [],
   "source": [
    "\n"
   ],
   "metadata": {
    "collapsed": false,
    "pycharm": {
     "name": "#%%\n"
    }
   }
  }
 ],
 "metadata": {
  "kernelspec": {
   "display_name": "Python 3",
   "language": "python",
   "name": "python3"
  },
  "language_info": {
   "codemirror_mode": {
    "name": "ipython",
    "version": 2
   },
   "file_extension": ".py",
   "mimetype": "text/x-python",
   "name": "python",
   "nbconvert_exporter": "python",
   "pygments_lexer": "ipython2",
   "version": "2.7.6"
  }
 },
 "nbformat": 4,
 "nbformat_minor": 0
}