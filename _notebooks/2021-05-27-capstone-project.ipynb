{
 "cells": [
  {
   "cell_type": "code",
   "execution_count": null,
   "metadata": {},
   "outputs": [],
   "source": [
    "# Capstone Project\n",
    "> Capstone Project\n",
    "\n",
    "- toc: true\n",
    "- badges: true\n",
    "- comments: true\n",
    "- sticky_rank: 1\n",
    "- author: Felix\n",
    "- categories: [ibm, data_science, ml, visualization]"
   ]
  },
  {
   "source": [
    "# Capstone Project\n",
    "## Finding a location and type for a restaurant in Los Angeles County, CA"
   ],
   "cell_type": "markdown",
   "metadata": {
    "collapsed": true,
    "pycharm": {
     "name": "#%% md\n"
    }
   }
  },
  {
   "cell_type": "markdown",
   "source": [
    "## Table of contents\n",
    "* [Introduction: Business Problem](#introduction)\n",
    "* [Data](#data)\n",
    "* [Methodology](#methodology)\n",
    "* [Analysis](#analysis)\n",
    "* [Results and Discussion](#results)\n",
    "* [Conclusion](#conclusion)\n"
   ],
   "metadata": {
    "collapsed": false
   }
  },
  {
   "cell_type": "markdown",
   "source": [
    "## Introduction: Business Problem <a name=\"introduction\"></a>\n"
   ],
   "metadata": {
    "collapsed": false
   }
  },
  {
   "cell_type": "markdown",
   "source": [
    "In this project I will try to give a recommendation on where to open a\n",
    "restaurant in Los Angeles County, CA. In addition, there shall be given  a\n",
    "recommendation of which type of restaurant could be opened, based on\n",
    "existing restaurants in the area and generally popular restaurants in the\n",
    "whole county.\n",
    "\n",
    "The decision on where to open a restaurant can be based on many factors,\n",
    "depending on the target group. For example, one could look for very dense\n",
    "populated areas, or areas with lots of wealthy citizens. Even the median age\n",
    " of the population can play a role.\n",
    "\n",
    "I will make a decision based on the following conditions:\n",
    "- Find the area with a good balance between number of possible customers\n",
    "and a high median income (population is slightly more important than income)\n",
    "- the type of restaurant will be determined by the most recommended categories\n",
    " of food venue in Los Angeles County, CA and the number of already existing\n",
    " venues in the area"
   ],
   "metadata": {
    "collapsed": false
   }
  },
  {
   "cell_type": "markdown",
   "source": [
    "## Data <a name=\"data\"></a>"
   ],
   "metadata": {
    "collapsed": false
   }
  },
  {
   "cell_type": "markdown",
   "source": [
    "I used three different datasets as basis for my analysis. Using these\n",
    "datasets I am able to work with the following features, among others:\n",
    "- A list of areas in Los Angeles County, CA based on the ZIP code\n",
    "- The number of citizens and households in every area\n",
    "- The estimated median income of every area\n",
    "- The latitude and longitude for every zip code in the county\n",
    "\n",
    "<br />\n",
    "\n",
    "I combined the following datasets for this:\n",
    "-\t2010 Los Angeles Census Data\n",
    "    - \thttps://www.kaggle.com/cityofLA/los-angeles-census-data\n",
    "-\tMedian Household Income by Zip Code in 2019\n",
    "    -\thttp://www.laalmanac.com/employment/em12c.php\n",
    "-\tUS Zip Code Latitude and Longitude\n",
    "    -   https://public.opendatasoft.com/explore/dataset/us-zip-code-latitude-and-longitude/information/\n",
    "\n",
    "To analyse the existing food venues in the county, the **Foursquare API** is\n",
    " used. With this API we can provide the data to answer the following two\n",
    " questions:\n",
    "- What are the most recommended types of restaurants in the county?\n",
    "- What are the existing food venues categories in the area where we want to\n",
    "open a restaurant in?"
   ],
   "metadata": {
    "collapsed": false
   }
  },
  {
   "cell_type": "markdown",
   "source": [
    "<br />\n",
    "\n",
    "#### Merging the three datasets as basis of the analytics\n",
    "First, let's merge all three datasets and get rid of unnecessary\n",
    "information. I will continue to use a single dataframe with the combined\n",
    "datasets as basis for further analysis.<br />\n",
    "\n",
    "The census data and the geodata for the US zip codes are available as csv\n",
    "files that I will read directly into a dataframe. The records for the median\n",
    " household income are available on a website, so I downloaded the data as a\n",
    " html file, which then is used to create a dataframe. As the median income\n",
    " has a dollar sign and can not be converted into a numeric value\n",
    " automatically because of its format, we have to do some data preparation."
   ],
   "metadata": {
    "collapsed": false,
    "pycharm": {
     "name": "#%% md\n"
    }
   }
  },
  {
   "cell_type": "code",
   "execution_count": 1,
   "outputs": [
    {
     "data": {
      "text/plain": "(279, 12)"
     },
     "execution_count": 1,
     "metadata": {},
     "output_type": "execute_result"
    }
   ],
   "source": [
    "import pandas as pd\n",
    "\n",
    "# Dataset: 2010 Los Angeles Census Data\n",
    "df_census = pd.read_csv(\"2010-census-populations-by-zip-code.csv\")\n",
    "# Dataset: Median Household Income by Zip Code in 2019\n",
    "url = \"Median Household Income By Zip Code in Los Angeles County, California.html\"\n",
    "dfs = pd.read_html(url)\n",
    "df_income_all = dfs[0]\n",
    "# drop areas where the median income is missing\n",
    "df_income_na = df_income_all[df_income_all['Estimated Median Income'].notna()]\n",
    "# Next step: clean the values in the median income column to retrieve\n",
    "# numeric values that can be used for clustering / calculation\n",
    "df_income = df_income_na.drop(df_income_na[df_income_na[\n",
    "                             'Estimated Median Income'] == '---'].index)\n",
    "df_income['Estimated Median Income'] = \\\n",
    "    df_income['Estimated Median Income'].map(lambda x: x.lstrip('$'))\n",
    "df_income['Estimated Median Income'] =\\\n",
    "    df_income['Estimated Median Income'].str.replace(',','')\n",
    "df_income[\"Estimated Median Income\"] =\\\n",
    "    pd.to_numeric(df_income[\"Estimated Median Income\"])\n",
    "# Dataset: US Zip Code Latitude and Longitude\n",
    "df_geodata = pd.read_csv(\"us-zip-code-latitude-and-longitude.csv\", sep=';')\n",
    "# Let's start by joining the geodata on the income dataset via the zip code\n",
    "df_income_geo = df_census.join(df_income.set_index('Zip Code'), on='Zip Code')\n",
    "# Now join the census data with the income dataset and the geodata\n",
    "dataset_geo = df_income_geo.join(df_geodata.set_index('Zip'), on='Zip Code',\n",
    "                           how='left')\n",
    "# Let us only use the columns we need for the further analysis and ignore\n",
    "# the rest\n",
    "prepared_ds = dataset_geo[[\n",
    "  \"Zip Code\", \"City\", \"Community\", \"Estimated Median Income\",\n",
    "  \"Longitude\", \"Latitude\", \"Total Population\", \"Median Age\",\n",
    "  \"Total Males\", \"Total Females\", \"Total Households\",\n",
    "  \"Average Household Size\"]]\n",
    "# last stop: let's drop records with missing data\n",
    "final_ds = prepared_ds.dropna(axis=0)\n",
    "final_ds.shape"
   ],
   "metadata": {
    "collapsed": false,
    "pycharm": {
     "name": "#%%\n"
    }
   }
  },
  {
   "cell_type": "markdown",
   "source": [
    "So the final dataframe now contains 279 areas with 12 features. <br />\n",
    "Let's get an overview on how the records look now:"
   ],
   "metadata": {
    "collapsed": false,
    "pycharm": {
     "name": "#%% md\n"
    }
   }
  },
  {
   "cell_type": "code",
   "execution_count": 2,
   "outputs": [
    {
     "data": {
      "text/plain": "   Zip Code         City                                          Community  \\\n1     90001  Los Angeles   Los Angeles (South Los Angeles), Florence-Graham   \n2     90002  Los Angeles         Los Angeles (Southeast Los Angeles, Watts)   \n3     90003  Los Angeles  Los Angeles (South Los Angeles, Southeast Los ...   \n4     90004  Los Angeles  Los Angeles (Hancock Park, Rampart Village, Vi...   \n5     90005  Los Angeles  Los Angeles (Hancock Park, Koreatown, Wilshire...   \n\n   Estimated Median Income  Longitude   Latitude  Total Population  \\\n1                  43360.0 -118.24878  33.972914             57110   \n2                  37285.0 -118.24845  33.948315             51223   \n3                  40598.0 -118.27600  33.962714             66266   \n4                  49675.0 -118.30755  34.077110             62180   \n5                  38491.0 -118.30848  34.058911             37681   \n\n   Median Age  Total Males  Total Females  Total Households  \\\n1        26.6        28468          28642             12971   \n2        25.5        24876          26347             11731   \n3        26.3        32631          33635             15642   \n4        34.8        31302          30878             22547   \n5        33.9        19299          18382             15044   \n\n   Average Household Size  \n1                    4.40  \n2                    4.36  \n3                    4.22  \n4                    2.73  \n5                    2.50  ",
      "text/html": "<div>\n<style scoped>\n    .dataframe tbody tr th:only-of-type {\n        vertical-align: middle;\n    }\n\n    .dataframe tbody tr th {\n        vertical-align: top;\n    }\n\n    .dataframe thead th {\n        text-align: right;\n    }\n</style>\n<table border=\"1\" class=\"dataframe\">\n  <thead>\n    <tr style=\"text-align: right;\">\n      <th></th>\n      <th>Zip Code</th>\n      <th>City</th>\n      <th>Community</th>\n      <th>Estimated Median Income</th>\n      <th>Longitude</th>\n      <th>Latitude</th>\n      <th>Total Population</th>\n      <th>Median Age</th>\n      <th>Total Males</th>\n      <th>Total Females</th>\n      <th>Total Households</th>\n      <th>Average Household Size</th>\n    </tr>\n  </thead>\n  <tbody>\n    <tr>\n      <th>1</th>\n      <td>90001</td>\n      <td>Los Angeles</td>\n      <td>Los Angeles (South Los Angeles), Florence-Graham</td>\n      <td>43360.0</td>\n      <td>-118.24878</td>\n      <td>33.972914</td>\n      <td>57110</td>\n      <td>26.6</td>\n      <td>28468</td>\n      <td>28642</td>\n      <td>12971</td>\n      <td>4.40</td>\n    </tr>\n    <tr>\n      <th>2</th>\n      <td>90002</td>\n      <td>Los Angeles</td>\n      <td>Los Angeles (Southeast Los Angeles, Watts)</td>\n      <td>37285.0</td>\n      <td>-118.24845</td>\n      <td>33.948315</td>\n      <td>51223</td>\n      <td>25.5</td>\n      <td>24876</td>\n      <td>26347</td>\n      <td>11731</td>\n      <td>4.36</td>\n    </tr>\n    <tr>\n      <th>3</th>\n      <td>90003</td>\n      <td>Los Angeles</td>\n      <td>Los Angeles (South Los Angeles, Southeast Los ...</td>\n      <td>40598.0</td>\n      <td>-118.27600</td>\n      <td>33.962714</td>\n      <td>66266</td>\n      <td>26.3</td>\n      <td>32631</td>\n      <td>33635</td>\n      <td>15642</td>\n      <td>4.22</td>\n    </tr>\n    <tr>\n      <th>4</th>\n      <td>90004</td>\n      <td>Los Angeles</td>\n      <td>Los Angeles (Hancock Park, Rampart Village, Vi...</td>\n      <td>49675.0</td>\n      <td>-118.30755</td>\n      <td>34.077110</td>\n      <td>62180</td>\n      <td>34.8</td>\n      <td>31302</td>\n      <td>30878</td>\n      <td>22547</td>\n      <td>2.73</td>\n    </tr>\n    <tr>\n      <th>5</th>\n      <td>90005</td>\n      <td>Los Angeles</td>\n      <td>Los Angeles (Hancock Park, Koreatown, Wilshire...</td>\n      <td>38491.0</td>\n      <td>-118.30848</td>\n      <td>34.058911</td>\n      <td>37681</td>\n      <td>33.9</td>\n      <td>19299</td>\n      <td>18382</td>\n      <td>15044</td>\n      <td>2.50</td>\n    </tr>\n  </tbody>\n</table>\n</div>"
     },
     "execution_count": 2,
     "metadata": {},
     "output_type": "execute_result"
    }
   ],
   "source": [
    "final_ds.head(5)"
   ],
   "metadata": {
    "collapsed": false,
    "pycharm": {
     "name": "#%%\n"
    }
   }
  },
  {
   "cell_type": "markdown",
   "source": [
    "#### Finding the most recommended food venue categories in the county <br />\n",
    "Now we will use the Foursquare API to find out what are the most recommended\n",
    " food venues in the county. For this we will go through every single area\n",
    " and get the recommended food venues in the vicinity of the area center."
   ],
   "metadata": {
    "collapsed": false,
    "pycharm": {
     "name": "#%% md\n"
    }
   }
  },
  {
   "cell_type": "code",
   "execution_count": 3,
   "outputs": [],
   "source": [
    "# first, lets import the necessary libraries and the credentials for the API\n",
    "import foursquare\n",
    "import requests\n",
    "CLIENT_ID = foursquare.CLIENT_ID\n",
    "CLIENT_SECRET = foursquare.CLIENT_SECRET\n",
    "ACCESS_TOKEN = foursquare.ACCESS_TOKEN\n",
    "VERSION = '20210514' # Foursquare API version\n",
    "LIMIT = 100"
   ],
   "metadata": {
    "collapsed": false,
    "pycharm": {
     "name": "#%%\n"
    }
   }
  },
  {
   "cell_type": "code",
   "execution_count": 4,
   "outputs": [
    {
     "data": {
      "text/plain": "   Zip Code         City                                          Community  \\\n1     90001  Los Angeles   Los Angeles (South Los Angeles), Florence-Graham   \n2     90002  Los Angeles         Los Angeles (Southeast Los Angeles, Watts)   \n3     90003  Los Angeles  Los Angeles (South Los Angeles, Southeast Los ...   \n4     90004  Los Angeles  Los Angeles (Hancock Park, Rampart Village, Vi...   \n5     90005  Los Angeles  Los Angeles (Hancock Park, Koreatown, Wilshire...   \n\n   Longitude   Latitude  \n1 -118.24878  33.972914  \n2 -118.24845  33.948315  \n3 -118.27600  33.962714  \n4 -118.30755  34.077110  \n5 -118.30848  34.058911  ",
      "text/html": "<div>\n<style scoped>\n    .dataframe tbody tr th:only-of-type {\n        vertical-align: middle;\n    }\n\n    .dataframe tbody tr th {\n        vertical-align: top;\n    }\n\n    .dataframe thead th {\n        text-align: right;\n    }\n</style>\n<table border=\"1\" class=\"dataframe\">\n  <thead>\n    <tr style=\"text-align: right;\">\n      <th></th>\n      <th>Zip Code</th>\n      <th>City</th>\n      <th>Community</th>\n      <th>Longitude</th>\n      <th>Latitude</th>\n    </tr>\n  </thead>\n  <tbody>\n    <tr>\n      <th>1</th>\n      <td>90001</td>\n      <td>Los Angeles</td>\n      <td>Los Angeles (South Los Angeles), Florence-Graham</td>\n      <td>-118.24878</td>\n      <td>33.972914</td>\n    </tr>\n    <tr>\n      <th>2</th>\n      <td>90002</td>\n      <td>Los Angeles</td>\n      <td>Los Angeles (Southeast Los Angeles, Watts)</td>\n      <td>-118.24845</td>\n      <td>33.948315</td>\n    </tr>\n    <tr>\n      <th>3</th>\n      <td>90003</td>\n      <td>Los Angeles</td>\n      <td>Los Angeles (South Los Angeles, Southeast Los ...</td>\n      <td>-118.27600</td>\n      <td>33.962714</td>\n    </tr>\n    <tr>\n      <th>4</th>\n      <td>90004</td>\n      <td>Los Angeles</td>\n      <td>Los Angeles (Hancock Park, Rampart Village, Vi...</td>\n      <td>-118.30755</td>\n      <td>34.077110</td>\n    </tr>\n    <tr>\n      <th>5</th>\n      <td>90005</td>\n      <td>Los Angeles</td>\n      <td>Los Angeles (Hancock Park, Koreatown, Wilshire...</td>\n      <td>-118.30848</td>\n      <td>34.058911</td>\n    </tr>\n  </tbody>\n</table>\n</div>"
     },
     "execution_count": 4,
     "metadata": {},
     "output_type": "execute_result"
    }
   ],
   "source": [
    "# first, we use a list of the areas and without columns we don't need\n",
    "areas = final_ds.drop(['Estimated Median Income', 'Total ' 'Population',\n",
    "                        'Median Age', 'Total Males', 'Total Females',\n",
    "                        'Total Households', 'Average Household Size'], 1)\n",
    "areas.head()"
   ],
   "metadata": {
    "collapsed": false,
    "pycharm": {
     "name": "#%%\n"
    }
   }
  },
  {
   "cell_type": "markdown",
   "source": [
    "In the next code block, we will iterate through every area in the dataframe\n",
    "and get up to 50 recommendations per area. For that I use the \"explore\"\n",
    "endpoint of the Foursquare API. I use the *categoryId* and\n",
    "*sortByPopularity* parameters to only request food venues that are sorted by\n",
    " popularity in descending order."
   ],
   "metadata": {
    "collapsed": false,
    "pycharm": {
     "name": "#%% md\n"
    }
   }
  },
  {
   "cell_type": "code",
   "execution_count": 5,
   "outputs": [],
   "source": [
    "venues_list = []\n",
    "for index, area in areas.iterrows():\n",
    "    url = 'https://api.foursquare' \\\n",
    "      '.com/v2/venues/explore?&client_id={}&client_secret={}&v={}&ll={},' \\\n",
    "      '{}&radius={}&limit={}&offset={}&categoryId={}&sortByPopularity={}'\\\n",
    "        .format(\n",
    "    CLIENT_ID, CLIENT_SECRET, VERSION, area['Latitude'], area['Longitude'],\n",
    "    1000, LIMIT, 0, '4d4b7105d754a06374d81259', 1)\n",
    "\n",
    "    results = requests.get(url).json()[\"response\"]['groups'][0]['items']\n",
    "    for v in results:\n",
    "        try: # try to extract the city, if there is one in the response\n",
    "            city = v['venue']['location']['city']\n",
    "        except:\n",
    "            city = area['City']\n",
    "\n",
    "        try: # try to extract the zip code, if there is one\n",
    "            postalCode = str(v['venue']['location']['postalCode'])\n",
    "        except:\n",
    "            postalCode = str(area['Zip Code'])\n",
    "        # build a list with all the columns I want to use\n",
    "        if postalCode == str(area['Zip Code']):\n",
    "            venues_list.append((\n",
    "                        area['Zip Code'],\n",
    "                        area['Community'],\n",
    "                        area['Latitude'],\n",
    "                        area['Longitude'],\n",
    "                        v['venue']['name'],\n",
    "                        v['venue']['categories'][0]['name'],\n",
    "                        city ))\n",
    "# create a dataframe from the results of the request\n",
    "la_venues = pd.DataFrame(venues_list, columns=['Zip Code', 'Community',\n",
    "              'Zip Code Latitude', 'Zip Code Longitude', 'Venue',\n",
    "              'Venue Category', 'City'])"
   ],
   "metadata": {
    "collapsed": false,
    "pycharm": {
     "name": "#%%\n"
    }
   }
  },
  {
   "cell_type": "code",
   "execution_count": 6,
   "outputs": [
    {
     "data": {
      "text/plain": "   Zip Code                                         Community  \\\n0     90001  Los Angeles (South Los Angeles), Florence-Graham   \n1     90001  Los Angeles (South Los Angeles), Florence-Graham   \n2     90001  Los Angeles (South Los Angeles), Florence-Graham   \n3     90001  Los Angeles (South Los Angeles), Florence-Graham   \n4     90001  Los Angeles (South Los Angeles), Florence-Graham   \n\n   Zip Code Latitude  Zip Code Longitude                      Venue  \\\n0          33.972914          -118.24878  Mi Lindo Nayarit Mariscos   \n1          33.972914          -118.24878                Happy Donut   \n2          33.972914          -118.24878            Jack in the Box   \n3          33.972914          -118.24878      Birrieria Tlaquepaque   \n4          33.972914          -118.24878          Birrieria Jalisco   \n\n         Venue Category         City  \n0    Mexican Restaurant  Los Angeles  \n1            Donut Shop  Los Angeles  \n2  Fast Food Restaurant  Los Angeles  \n3    Mexican Restaurant  Los Angeles  \n4    Mexican Restaurant  Los Angeles  ",
      "text/html": "<div>\n<style scoped>\n    .dataframe tbody tr th:only-of-type {\n        vertical-align: middle;\n    }\n\n    .dataframe tbody tr th {\n        vertical-align: top;\n    }\n\n    .dataframe thead th {\n        text-align: right;\n    }\n</style>\n<table border=\"1\" class=\"dataframe\">\n  <thead>\n    <tr style=\"text-align: right;\">\n      <th></th>\n      <th>Zip Code</th>\n      <th>Community</th>\n      <th>Zip Code Latitude</th>\n      <th>Zip Code Longitude</th>\n      <th>Venue</th>\n      <th>Venue Category</th>\n      <th>City</th>\n    </tr>\n  </thead>\n  <tbody>\n    <tr>\n      <th>0</th>\n      <td>90001</td>\n      <td>Los Angeles (South Los Angeles), Florence-Graham</td>\n      <td>33.972914</td>\n      <td>-118.24878</td>\n      <td>Mi Lindo Nayarit Mariscos</td>\n      <td>Mexican Restaurant</td>\n      <td>Los Angeles</td>\n    </tr>\n    <tr>\n      <th>1</th>\n      <td>90001</td>\n      <td>Los Angeles (South Los Angeles), Florence-Graham</td>\n      <td>33.972914</td>\n      <td>-118.24878</td>\n      <td>Happy Donut</td>\n      <td>Donut Shop</td>\n      <td>Los Angeles</td>\n    </tr>\n    <tr>\n      <th>2</th>\n      <td>90001</td>\n      <td>Los Angeles (South Los Angeles), Florence-Graham</td>\n      <td>33.972914</td>\n      <td>-118.24878</td>\n      <td>Jack in the Box</td>\n      <td>Fast Food Restaurant</td>\n      <td>Los Angeles</td>\n    </tr>\n    <tr>\n      <th>3</th>\n      <td>90001</td>\n      <td>Los Angeles (South Los Angeles), Florence-Graham</td>\n      <td>33.972914</td>\n      <td>-118.24878</td>\n      <td>Birrieria Tlaquepaque</td>\n      <td>Mexican Restaurant</td>\n      <td>Los Angeles</td>\n    </tr>\n    <tr>\n      <th>4</th>\n      <td>90001</td>\n      <td>Los Angeles (South Los Angeles), Florence-Graham</td>\n      <td>33.972914</td>\n      <td>-118.24878</td>\n      <td>Birrieria Jalisco</td>\n      <td>Mexican Restaurant</td>\n      <td>Los Angeles</td>\n    </tr>\n  </tbody>\n</table>\n</div>"
     },
     "execution_count": 6,
     "metadata": {},
     "output_type": "execute_result"
    }
   ],
   "source": [
    "la_venues.head()"
   ],
   "metadata": {
    "collapsed": false,
    "pycharm": {
     "name": "#%%\n"
    }
   }
  },
  {
   "cell_type": "code",
   "execution_count": 7,
   "outputs": [
    {
     "data": {
      "text/plain": "8635"
     },
     "execution_count": 7,
     "metadata": {},
     "output_type": "execute_result"
    }
   ],
   "source": [
    "la_venues[\"Venue\"].count()"
   ],
   "metadata": {
    "collapsed": false,
    "pycharm": {
     "name": "#%%\n"
    }
   }
  },
  {
   "cell_type": "markdown",
   "source": [
    "So we have found 8,635 recommendations for our 279 areas in Los Angeles\n",
    "County, CA. That are ~31 recommendations per area. Let's extract the city\n",
    "and venue category and group the data by category, to find out about the\n",
    "distribution of the recommended food venue categories."
   ],
   "metadata": {
    "collapsed": false,
    "pycharm": {
     "name": "#%% md\n"
    }
   }
  },
  {
   "cell_type": "code",
   "execution_count": 8,
   "outputs": [
    {
     "data": {
      "text/plain": "          Venue Category  Count\n77    Mexican Restaurant    831\n89           Pizza Place    569\n41  Fast Food Restaurant    503\n23    Chinese Restaurant    414\n9                 Bakery    346\n99        Sandwich Place    338\n2    American Restaurant    318\n18                  Café    303\n14          Burger Joint    259",
      "text/html": "<div>\n<style scoped>\n    .dataframe tbody tr th:only-of-type {\n        vertical-align: middle;\n    }\n\n    .dataframe tbody tr th {\n        vertical-align: top;\n    }\n\n    .dataframe thead th {\n        text-align: right;\n    }\n</style>\n<table border=\"1\" class=\"dataframe\">\n  <thead>\n    <tr style=\"text-align: right;\">\n      <th></th>\n      <th>Venue Category</th>\n      <th>Count</th>\n    </tr>\n  </thead>\n  <tbody>\n    <tr>\n      <th>77</th>\n      <td>Mexican Restaurant</td>\n      <td>831</td>\n    </tr>\n    <tr>\n      <th>89</th>\n      <td>Pizza Place</td>\n      <td>569</td>\n    </tr>\n    <tr>\n      <th>41</th>\n      <td>Fast Food Restaurant</td>\n      <td>503</td>\n    </tr>\n    <tr>\n      <th>23</th>\n      <td>Chinese Restaurant</td>\n      <td>414</td>\n    </tr>\n    <tr>\n      <th>9</th>\n      <td>Bakery</td>\n      <td>346</td>\n    </tr>\n    <tr>\n      <th>99</th>\n      <td>Sandwich Place</td>\n      <td>338</td>\n    </tr>\n    <tr>\n      <th>2</th>\n      <td>American Restaurant</td>\n      <td>318</td>\n    </tr>\n    <tr>\n      <th>18</th>\n      <td>Café</td>\n      <td>303</td>\n    </tr>\n    <tr>\n      <th>14</th>\n      <td>Burger Joint</td>\n      <td>259</td>\n    </tr>\n  </tbody>\n</table>\n</div>"
     },
     "execution_count": 8,
     "metadata": {},
     "output_type": "execute_result"
    }
   ],
   "source": [
    "venues = la_venues[['City', 'Venue Category']]\n",
    "categories = venues.groupby('Venue Category').size().to_frame('Count').reset_index()\n",
    "sorted = categories.sort_values(by='Count', ascending=False) # Sort by Count\n",
    "top10 = sorted.iloc[0:9] # Show the top 10 categories\n",
    "top10"
   ],
   "metadata": {
    "collapsed": false,
    "pycharm": {
     "name": "#%%\n"
    }
   }
  },
  {
   "cell_type": "markdown",
   "source": [
    "After that, we will visualize the distribution."
   ],
   "metadata": {
    "collapsed": false,
    "pycharm": {
     "name": "#%% md\n"
    }
   }
  },
  {
   "cell_type": "code",
   "execution_count": 9,
   "outputs": [
    {
     "data": {
      "text/html": "        <script type=\"text/javascript\">\n        window.PlotlyConfig = {MathJaxConfig: 'local'};\n        if (window.MathJax) {MathJax.Hub.Config({SVG: {font: \"STIX-Web\"}});}\n        if (typeof require !== 'undefined') {\n        require.undef(\"plotly\");\n        requirejs.config({\n            paths: {\n                'plotly': ['https://cdn.plot.ly/plotly-latest.min']\n            }\n        });\n        require(['plotly'], function(Plotly) {\n            window._Plotly = Plotly;\n        });\n        }\n        </script>\n        "
     },
     "metadata": {},
     "output_type": "display_data"
    },
    {
     "data": {
      "text/html": "<div>                            <div id=\"eacb82bf-0e79-4eb3-b203-1344320de823\" class=\"plotly-graph-div\" style=\"height:525px; width:100%;\"></div>            <script type=\"text/javascript\">                require([\"plotly\"], function(Plotly) {                    window.PLOTLYENV=window.PLOTLYENV || {};                                    if (document.getElementById(\"eacb82bf-0e79-4eb3-b203-1344320de823\")) {                    Plotly.newPlot(                        \"eacb82bf-0e79-4eb3-b203-1344320de823\",                        [{\"alignmentgroup\": \"True\", \"hovertemplate\": \"Venue Category=%{x}<br>Count=%{y}<extra></extra>\", \"legendgroup\": \"\", \"marker\": {\"color\": \"#636efa\"}, \"name\": \"\", \"offsetgroup\": \"\", \"orientation\": \"v\", \"showlegend\": false, \"textposition\": \"auto\", \"type\": \"bar\", \"x\": [\"Mexican Restaurant\", \"Pizza Place\", \"Fast Food Restaurant\", \"Chinese Restaurant\", \"Bakery\", \"Sandwich Place\", \"American Restaurant\", \"Caf\\u00e9\", \"Burger Joint\", \"Sushi Restaurant\", \"Japanese Restaurant\", \"Food\", \"Italian Restaurant\", \"Food Truck\"], \"xaxis\": \"x\", \"y\": [831, 569, 503, 414, 346, 338, 318, 303, 259, 258, 237, 235, 227, 213], \"yaxis\": \"y\"}],                        {\"barmode\": \"relative\", \"legend\": {\"tracegroupgap\": 0}, \"template\": {\"data\": {\"bar\": [{\"error_x\": {\"color\": \"#2a3f5f\"}, \"error_y\": {\"color\": \"#2a3f5f\"}, \"marker\": {\"line\": {\"color\": \"#E5ECF6\", \"width\": 0.5}}, \"type\": \"bar\"}], \"barpolar\": [{\"marker\": {\"line\": {\"color\": \"#E5ECF6\", \"width\": 0.5}}, \"type\": \"barpolar\"}], \"carpet\": [{\"aaxis\": {\"endlinecolor\": \"#2a3f5f\", \"gridcolor\": \"white\", \"linecolor\": \"white\", \"minorgridcolor\": \"white\", \"startlinecolor\": \"#2a3f5f\"}, \"baxis\": {\"endlinecolor\": \"#2a3f5f\", \"gridcolor\": \"white\", \"linecolor\": \"white\", \"minorgridcolor\": \"white\", \"startlinecolor\": \"#2a3f5f\"}, \"type\": \"carpet\"}], \"choropleth\": [{\"colorbar\": {\"outlinewidth\": 0, \"ticks\": \"\"}, \"type\": \"choropleth\"}], \"contour\": [{\"colorbar\": {\"outlinewidth\": 0, \"ticks\": \"\"}, \"colorscale\": [[0.0, \"#0d0887\"], [0.1111111111111111, \"#46039f\"], [0.2222222222222222, \"#7201a8\"], [0.3333333333333333, \"#9c179e\"], [0.4444444444444444, \"#bd3786\"], [0.5555555555555556, \"#d8576b\"], [0.6666666666666666, \"#ed7953\"], [0.7777777777777778, \"#fb9f3a\"], [0.8888888888888888, \"#fdca26\"], [1.0, \"#f0f921\"]], \"type\": \"contour\"}], \"contourcarpet\": [{\"colorbar\": {\"outlinewidth\": 0, \"ticks\": \"\"}, \"type\": \"contourcarpet\"}], \"heatmap\": [{\"colorbar\": {\"outlinewidth\": 0, \"ticks\": \"\"}, \"colorscale\": [[0.0, \"#0d0887\"], [0.1111111111111111, \"#46039f\"], [0.2222222222222222, \"#7201a8\"], [0.3333333333333333, \"#9c179e\"], [0.4444444444444444, \"#bd3786\"], [0.5555555555555556, \"#d8576b\"], [0.6666666666666666, \"#ed7953\"], [0.7777777777777778, \"#fb9f3a\"], [0.8888888888888888, \"#fdca26\"], [1.0, \"#f0f921\"]], \"type\": \"heatmap\"}], \"heatmapgl\": [{\"colorbar\": {\"outlinewidth\": 0, \"ticks\": \"\"}, \"colorscale\": [[0.0, \"#0d0887\"], [0.1111111111111111, \"#46039f\"], [0.2222222222222222, \"#7201a8\"], [0.3333333333333333, \"#9c179e\"], [0.4444444444444444, \"#bd3786\"], [0.5555555555555556, \"#d8576b\"], [0.6666666666666666, \"#ed7953\"], [0.7777777777777778, \"#fb9f3a\"], [0.8888888888888888, \"#fdca26\"], [1.0, \"#f0f921\"]], \"type\": \"heatmapgl\"}], \"histogram\": [{\"marker\": {\"colorbar\": {\"outlinewidth\": 0, \"ticks\": \"\"}}, \"type\": \"histogram\"}], \"histogram2d\": [{\"colorbar\": {\"outlinewidth\": 0, \"ticks\": \"\"}, \"colorscale\": [[0.0, \"#0d0887\"], [0.1111111111111111, \"#46039f\"], [0.2222222222222222, \"#7201a8\"], [0.3333333333333333, \"#9c179e\"], [0.4444444444444444, \"#bd3786\"], [0.5555555555555556, \"#d8576b\"], [0.6666666666666666, \"#ed7953\"], [0.7777777777777778, \"#fb9f3a\"], [0.8888888888888888, \"#fdca26\"], [1.0, \"#f0f921\"]], \"type\": \"histogram2d\"}], \"histogram2dcontour\": [{\"colorbar\": {\"outlinewidth\": 0, \"ticks\": \"\"}, \"colorscale\": [[0.0, \"#0d0887\"], [0.1111111111111111, \"#46039f\"], [0.2222222222222222, \"#7201a8\"], [0.3333333333333333, \"#9c179e\"], [0.4444444444444444, \"#bd3786\"], [0.5555555555555556, \"#d8576b\"], [0.6666666666666666, \"#ed7953\"], [0.7777777777777778, \"#fb9f3a\"], [0.8888888888888888, \"#fdca26\"], [1.0, \"#f0f921\"]], \"type\": \"histogram2dcontour\"}], \"mesh3d\": [{\"colorbar\": {\"outlinewidth\": 0, \"ticks\": \"\"}, \"type\": \"mesh3d\"}], \"parcoords\": [{\"line\": {\"colorbar\": {\"outlinewidth\": 0, \"ticks\": \"\"}}, \"type\": \"parcoords\"}], \"pie\": [{\"automargin\": true, \"type\": \"pie\"}], \"scatter\": [{\"marker\": {\"colorbar\": {\"outlinewidth\": 0, \"ticks\": \"\"}}, \"type\": \"scatter\"}], \"scatter3d\": [{\"line\": {\"colorbar\": {\"outlinewidth\": 0, \"ticks\": \"\"}}, \"marker\": {\"colorbar\": {\"outlinewidth\": 0, \"ticks\": \"\"}}, \"type\": \"scatter3d\"}], \"scattercarpet\": [{\"marker\": {\"colorbar\": {\"outlinewidth\": 0, \"ticks\": \"\"}}, \"type\": \"scattercarpet\"}], \"scattergeo\": [{\"marker\": {\"colorbar\": {\"outlinewidth\": 0, \"ticks\": \"\"}}, \"type\": \"scattergeo\"}], \"scattergl\": [{\"marker\": {\"colorbar\": {\"outlinewidth\": 0, \"ticks\": \"\"}}, \"type\": \"scattergl\"}], \"scattermapbox\": [{\"marker\": {\"colorbar\": {\"outlinewidth\": 0, \"ticks\": \"\"}}, \"type\": \"scattermapbox\"}], \"scatterpolar\": [{\"marker\": {\"colorbar\": {\"outlinewidth\": 0, \"ticks\": \"\"}}, \"type\": \"scatterpolar\"}], \"scatterpolargl\": [{\"marker\": {\"colorbar\": {\"outlinewidth\": 0, \"ticks\": \"\"}}, \"type\": \"scatterpolargl\"}], \"scatterternary\": [{\"marker\": {\"colorbar\": {\"outlinewidth\": 0, \"ticks\": \"\"}}, \"type\": \"scatterternary\"}], \"surface\": [{\"colorbar\": {\"outlinewidth\": 0, \"ticks\": \"\"}, \"colorscale\": [[0.0, \"#0d0887\"], [0.1111111111111111, \"#46039f\"], [0.2222222222222222, \"#7201a8\"], [0.3333333333333333, \"#9c179e\"], [0.4444444444444444, \"#bd3786\"], [0.5555555555555556, \"#d8576b\"], [0.6666666666666666, \"#ed7953\"], [0.7777777777777778, \"#fb9f3a\"], [0.8888888888888888, \"#fdca26\"], [1.0, \"#f0f921\"]], \"type\": \"surface\"}], \"table\": [{\"cells\": {\"fill\": {\"color\": \"#EBF0F8\"}, \"line\": {\"color\": \"white\"}}, \"header\": {\"fill\": {\"color\": \"#C8D4E3\"}, \"line\": {\"color\": \"white\"}}, \"type\": \"table\"}]}, \"layout\": {\"annotationdefaults\": {\"arrowcolor\": \"#2a3f5f\", \"arrowhead\": 0, \"arrowwidth\": 1}, \"autotypenumbers\": \"strict\", \"coloraxis\": {\"colorbar\": {\"outlinewidth\": 0, \"ticks\": \"\"}}, \"colorscale\": {\"diverging\": [[0, \"#8e0152\"], [0.1, \"#c51b7d\"], [0.2, \"#de77ae\"], [0.3, \"#f1b6da\"], [0.4, \"#fde0ef\"], [0.5, \"#f7f7f7\"], [0.6, \"#e6f5d0\"], [0.7, \"#b8e186\"], [0.8, \"#7fbc41\"], [0.9, \"#4d9221\"], [1, \"#276419\"]], \"sequential\": [[0.0, \"#0d0887\"], [0.1111111111111111, \"#46039f\"], [0.2222222222222222, \"#7201a8\"], [0.3333333333333333, \"#9c179e\"], [0.4444444444444444, \"#bd3786\"], [0.5555555555555556, \"#d8576b\"], [0.6666666666666666, \"#ed7953\"], [0.7777777777777778, \"#fb9f3a\"], [0.8888888888888888, \"#fdca26\"], [1.0, \"#f0f921\"]], \"sequentialminus\": [[0.0, \"#0d0887\"], [0.1111111111111111, \"#46039f\"], [0.2222222222222222, \"#7201a8\"], [0.3333333333333333, \"#9c179e\"], [0.4444444444444444, \"#bd3786\"], [0.5555555555555556, \"#d8576b\"], [0.6666666666666666, \"#ed7953\"], [0.7777777777777778, \"#fb9f3a\"], [0.8888888888888888, \"#fdca26\"], [1.0, \"#f0f921\"]]}, \"colorway\": [\"#636efa\", \"#EF553B\", \"#00cc96\", \"#ab63fa\", \"#FFA15A\", \"#19d3f3\", \"#FF6692\", \"#B6E880\", \"#FF97FF\", \"#FECB52\"], \"font\": {\"color\": \"#2a3f5f\"}, \"geo\": {\"bgcolor\": \"white\", \"lakecolor\": \"white\", \"landcolor\": \"#E5ECF6\", \"showlakes\": true, \"showland\": true, \"subunitcolor\": \"white\"}, \"hoverlabel\": {\"align\": \"left\"}, \"hovermode\": \"closest\", \"mapbox\": {\"style\": \"light\"}, \"paper_bgcolor\": \"white\", \"plot_bgcolor\": \"#E5ECF6\", \"polar\": {\"angularaxis\": {\"gridcolor\": \"white\", \"linecolor\": \"white\", \"ticks\": \"\"}, \"bgcolor\": \"#E5ECF6\", \"radialaxis\": {\"gridcolor\": \"white\", \"linecolor\": \"white\", \"ticks\": \"\"}}, \"scene\": {\"xaxis\": {\"backgroundcolor\": \"#E5ECF6\", \"gridcolor\": \"white\", \"gridwidth\": 2, \"linecolor\": \"white\", \"showbackground\": true, \"ticks\": \"\", \"zerolinecolor\": \"white\"}, \"yaxis\": {\"backgroundcolor\": \"#E5ECF6\", \"gridcolor\": \"white\", \"gridwidth\": 2, \"linecolor\": \"white\", \"showbackground\": true, \"ticks\": \"\", \"zerolinecolor\": \"white\"}, \"zaxis\": {\"backgroundcolor\": \"#E5ECF6\", \"gridcolor\": \"white\", \"gridwidth\": 2, \"linecolor\": \"white\", \"showbackground\": true, \"ticks\": \"\", \"zerolinecolor\": \"white\"}}, \"shapedefaults\": {\"line\": {\"color\": \"#2a3f5f\"}}, \"ternary\": {\"aaxis\": {\"gridcolor\": \"white\", \"linecolor\": \"white\", \"ticks\": \"\"}, \"baxis\": {\"gridcolor\": \"white\", \"linecolor\": \"white\", \"ticks\": \"\"}, \"bgcolor\": \"#E5ECF6\", \"caxis\": {\"gridcolor\": \"white\", \"linecolor\": \"white\", \"ticks\": \"\"}}, \"title\": {\"x\": 0.05}, \"xaxis\": {\"automargin\": true, \"gridcolor\": \"white\", \"linecolor\": \"white\", \"ticks\": \"\", \"title\": {\"standoff\": 15}, \"zerolinecolor\": \"white\", \"zerolinewidth\": 2}, \"yaxis\": {\"automargin\": true, \"gridcolor\": \"white\", \"linecolor\": \"white\", \"ticks\": \"\", \"title\": {\"standoff\": 15}, \"zerolinecolor\": \"white\", \"zerolinewidth\": 2}}}, \"title\": {\"text\": \"Distribution of recommended food venue categories\"}, \"xaxis\": {\"anchor\": \"y\", \"domain\": [0.0, 1.0], \"title\": {\"text\": \"Venue Category\"}}, \"yaxis\": {\"anchor\": \"x\", \"domain\": [0.0, 1.0], \"title\": {\"text\": \"Count\"}}},                        {\"responsive\": true}                    ).then(function(){\n                            \nvar gd = document.getElementById('eacb82bf-0e79-4eb3-b203-1344320de823');\nvar x = new MutationObserver(function (mutations, observer) {{\n        var display = window.getComputedStyle(gd).display;\n        if (!display || display === 'none') {{\n            console.log([gd, 'removed!']);\n            Plotly.purge(gd);\n            observer.disconnect();\n        }}\n}});\n\n// Listen for the removal of the full notebook cells\nvar notebookContainer = gd.closest('#notebook-container');\nif (notebookContainer) {{\n    x.observe(notebookContainer, {childList: true});\n}}\n\n// Listen for the clearing of the current output cell\nvar outputEl = gd.closest('.output');\nif (outputEl) {{\n    x.observe(outputEl, {childList: true});\n}}\n\n                        })                };                });            </script>        </div>"
     },
     "metadata": {},
     "output_type": "display_data"
    }
   ],
   "source": [
    "import plotly.express as px\n",
    "top15 = sorted.iloc[0:14]\n",
    "fig = px.bar(top15, x=\"Venue Category\", y=\"Count\",\n",
    "             title='Distribution of recommended food venue categories')\n",
    "fig.show(renderer='notebook_connected')"
   ],
   "metadata": {
    "collapsed": false,
    "pycharm": {
     "name": "#%%\n"
    }
   }
  },
  {
   "cell_type": "markdown",
   "source": [
    "So with this data we can tell what food venue categories are recommended the\n",
    " most throughout Los Angeles County, CA. <br />"
   ],
   "metadata": {
    "collapsed": false,
    "pycharm": {
     "name": "#%% md\n"
    }
   }
  },
  {
   "cell_type": "markdown",
   "source": [
    "We have prepared the following data, which we will use for further analysis:\n",
    "- a dataframe with areas in LA County, enriched with geodata, median income\n",
    "and census data\n",
    "- a dataframe with the most recommended food venue categories in the county"
   ],
   "metadata": {
    "collapsed": false
   }
  },
  {
   "cell_type": "markdown",
   "source": [
    "## Methodology <a name=\"methodology\"></a>"
   ],
   "metadata": {
    "collapsed": false
   }
  },
  {
   "cell_type": "markdown",
   "source": [
    "In this project we will focus on finding a suitable area for a new\n",
    "restaurant in Los Angeles County, CA. The areas are defined by their US Zip\n",
    "Code. In addition, we will look at the most\n",
    "recommended food venue categories throughout the country, to suggest which\n",
    "type of restaurant could be opened. There won't be a specific location in\n",
    "the chosen area recommended.\n",
    "\n",
    "In the first step we have merged three different datasets, that provide data\n",
    " on the different areas in Los Angeles County. With this data it is possible\n",
    "  to cluster the areas using information like median income, number of\n",
    "  households and number of inhabitants. In addition, using Foursquare, we\n",
    "  identified the most recommended food venue categories in the county.\n",
    "\n",
    "The second step in the analysis is to cluster (using k-means clustering) the\n",
    "areas in the county and to describe the individual clusters. Using this\n",
    "method we support the process of finding a single area that looks promising\n",
    "for a new restaurant.\n",
    "\n",
    "The third step is to pick a cluster that fits the chosen criteria most. The\n",
    "area shall be chosen under the premise of finding a good balance between estimated median income and number of potential\n",
    " customers. So the target is to find an area that has as many citizens as\n",
    " possible with the highest income possible. After an area was chosen, the\n",
    " distribution of local restaurant types in this area will be analysed.\n",
    " Combining this information with the categories of food venues that are\n",
    " popular throughout the county, a recommendation of the restaurant to open\n",
    " can be given."
   ],
   "metadata": {
    "collapsed": false
   }
  },
  {
   "cell_type": "markdown",
   "source": [
    "## Analysis <a name=\"analysis\"></a>"
   ],
   "metadata": {
    "collapsed": false
   }
  },
  {
   "cell_type": "markdown",
   "source": [
    "#### Getting an overview\n",
    "First of all, let's have a look on our dataset describing the areas."
   ],
   "metadata": {
    "collapsed": false,
    "pycharm": {
     "name": "#%% md\n"
    }
   }
  },
  {
   "cell_type": "code",
   "execution_count": 10,
   "outputs": [
    {
     "data": {
      "text/plain": "   Zip Code         City                                          Community  \\\n1     90001  Los Angeles   Los Angeles (South Los Angeles), Florence-Graham   \n2     90002  Los Angeles         Los Angeles (Southeast Los Angeles, Watts)   \n3     90003  Los Angeles  Los Angeles (South Los Angeles, Southeast Los ...   \n4     90004  Los Angeles  Los Angeles (Hancock Park, Rampart Village, Vi...   \n5     90005  Los Angeles  Los Angeles (Hancock Park, Koreatown, Wilshire...   \n\n   Estimated Median Income  Longitude   Latitude  Total Population  \\\n1                  43360.0 -118.24878  33.972914             57110   \n2                  37285.0 -118.24845  33.948315             51223   \n3                  40598.0 -118.27600  33.962714             66266   \n4                  49675.0 -118.30755  34.077110             62180   \n5                  38491.0 -118.30848  34.058911             37681   \n\n   Median Age  Total Males  Total Females  Total Households  \\\n1        26.6        28468          28642             12971   \n2        25.5        24876          26347             11731   \n3        26.3        32631          33635             15642   \n4        34.8        31302          30878             22547   \n5        33.9        19299          18382             15044   \n\n   Average Household Size  \n1                    4.40  \n2                    4.36  \n3                    4.22  \n4                    2.73  \n5                    2.50  ",
      "text/html": "<div>\n<style scoped>\n    .dataframe tbody tr th:only-of-type {\n        vertical-align: middle;\n    }\n\n    .dataframe tbody tr th {\n        vertical-align: top;\n    }\n\n    .dataframe thead th {\n        text-align: right;\n    }\n</style>\n<table border=\"1\" class=\"dataframe\">\n  <thead>\n    <tr style=\"text-align: right;\">\n      <th></th>\n      <th>Zip Code</th>\n      <th>City</th>\n      <th>Community</th>\n      <th>Estimated Median Income</th>\n      <th>Longitude</th>\n      <th>Latitude</th>\n      <th>Total Population</th>\n      <th>Median Age</th>\n      <th>Total Males</th>\n      <th>Total Females</th>\n      <th>Total Households</th>\n      <th>Average Household Size</th>\n    </tr>\n  </thead>\n  <tbody>\n    <tr>\n      <th>1</th>\n      <td>90001</td>\n      <td>Los Angeles</td>\n      <td>Los Angeles (South Los Angeles), Florence-Graham</td>\n      <td>43360.0</td>\n      <td>-118.24878</td>\n      <td>33.972914</td>\n      <td>57110</td>\n      <td>26.6</td>\n      <td>28468</td>\n      <td>28642</td>\n      <td>12971</td>\n      <td>4.40</td>\n    </tr>\n    <tr>\n      <th>2</th>\n      <td>90002</td>\n      <td>Los Angeles</td>\n      <td>Los Angeles (Southeast Los Angeles, Watts)</td>\n      <td>37285.0</td>\n      <td>-118.24845</td>\n      <td>33.948315</td>\n      <td>51223</td>\n      <td>25.5</td>\n      <td>24876</td>\n      <td>26347</td>\n      <td>11731</td>\n      <td>4.36</td>\n    </tr>\n    <tr>\n      <th>3</th>\n      <td>90003</td>\n      <td>Los Angeles</td>\n      <td>Los Angeles (South Los Angeles, Southeast Los ...</td>\n      <td>40598.0</td>\n      <td>-118.27600</td>\n      <td>33.962714</td>\n      <td>66266</td>\n      <td>26.3</td>\n      <td>32631</td>\n      <td>33635</td>\n      <td>15642</td>\n      <td>4.22</td>\n    </tr>\n    <tr>\n      <th>4</th>\n      <td>90004</td>\n      <td>Los Angeles</td>\n      <td>Los Angeles (Hancock Park, Rampart Village, Vi...</td>\n      <td>49675.0</td>\n      <td>-118.30755</td>\n      <td>34.077110</td>\n      <td>62180</td>\n      <td>34.8</td>\n      <td>31302</td>\n      <td>30878</td>\n      <td>22547</td>\n      <td>2.73</td>\n    </tr>\n    <tr>\n      <th>5</th>\n      <td>90005</td>\n      <td>Los Angeles</td>\n      <td>Los Angeles (Hancock Park, Koreatown, Wilshire...</td>\n      <td>38491.0</td>\n      <td>-118.30848</td>\n      <td>34.058911</td>\n      <td>37681</td>\n      <td>33.9</td>\n      <td>19299</td>\n      <td>18382</td>\n      <td>15044</td>\n      <td>2.50</td>\n    </tr>\n  </tbody>\n</table>\n</div>"
     },
     "execution_count": 10,
     "metadata": {},
     "output_type": "execute_result"
    }
   ],
   "source": [
    "final_ds.head()"
   ],
   "metadata": {
    "collapsed": false,
    "pycharm": {
     "name": "#%%\n"
    }
   }
  },
  {
   "cell_type": "markdown",
   "source": [
    "Now we are going to take a look at the areas with the highest income and the\n",
    " highest population."
   ],
   "metadata": {
    "collapsed": false
   }
  },
  {
   "cell_type": "code",
   "execution_count": 11,
   "outputs": [
    {
     "data": {
      "text/html": "        <script type=\"text/javascript\">\n        window.PlotlyConfig = {MathJaxConfig: 'local'};\n        if (window.MathJax) {MathJax.Hub.Config({SVG: {font: \"STIX-Web\"}});}\n        if (typeof require !== 'undefined') {\n        require.undef(\"plotly\");\n        requirejs.config({\n            paths: {\n                'plotly': ['https://cdn.plot.ly/plotly-latest.min']\n            }\n        });\n        require(['plotly'], function(Plotly) {\n            window._Plotly = Plotly;\n        });\n        }\n        </script>\n        "
     },
     "metadata": {},
     "output_type": "display_data"
    },
    {
     "data": {
      "text/html": "<div>                            <div id=\"531e9d83-a3d8-41cd-9fad-88aad5a12d7d\" class=\"plotly-graph-div\" style=\"height:525px; width:100%;\"></div>            <script type=\"text/javascript\">                require([\"plotly\"], function(Plotly) {                    window.PLOTLYENV=window.PLOTLYENV || {};                                    if (document.getElementById(\"531e9d83-a3d8-41cd-9fad-88aad5a12d7d\")) {                    Plotly.newPlot(                        \"531e9d83-a3d8-41cd-9fad-88aad5a12d7d\",                        [{\"alignmentgroup\": \"True\", \"hovertemplate\": \"Estimated Median Income=%{marker.color}<br>City=%{y}<extra></extra>\", \"legendgroup\": \"\", \"marker\": {\"color\": [209531.0, 192500.0, 175652.0, 174085.0, 169919.0, 165765.0, 155417.0, 154583.0, 153023.0, 152378.0, 147270.0, 138293.0, 136702.0, 135741.0], \"coloraxis\": \"coloraxis\"}, \"name\": \"\", \"offsetgroup\": \"\", \"orientation\": \"h\", \"showlegend\": false, \"textposition\": \"auto\", \"type\": \"bar\", \"x\": [209531.0, 192500.0, 175652.0, 174085.0, 169919.0, 165765.0, 155417.0, 154583.0, 153023.0, 152378.0, 147270.0, 138293.0, 136702.0, 135741.0], \"xaxis\": \"x\", \"y\": [\"Los Angeles\", \"Pacific Palisades\", \"La Canada Flintridge\", \"Encino\", \"Palos Verdes Peninsula\", \"San Marino\", \"Los Angeles\", \"Santa Monica\", \"Manhattan Beach\", \"Malibu\", \"Beverly Hills\", \"Rancho Palos Verdes\", \"Hermosa Beach\", \"Glendale\"], \"yaxis\": \"y\"}],                        {\"barmode\": \"relative\", \"coloraxis\": {\"colorbar\": {\"title\": {\"text\": \"Estimated Median Income\"}}, \"colorscale\": [[0.0, \"#0d0887\"], [0.1111111111111111, \"#46039f\"], [0.2222222222222222, \"#7201a8\"], [0.3333333333333333, \"#9c179e\"], [0.4444444444444444, \"#bd3786\"], [0.5555555555555556, \"#d8576b\"], [0.6666666666666666, \"#ed7953\"], [0.7777777777777778, \"#fb9f3a\"], [0.8888888888888888, \"#fdca26\"], [1.0, \"#f0f921\"]]}, \"legend\": {\"tracegroupgap\": 0}, \"template\": {\"data\": {\"bar\": [{\"error_x\": {\"color\": \"#2a3f5f\"}, \"error_y\": {\"color\": \"#2a3f5f\"}, \"marker\": {\"line\": {\"color\": \"#E5ECF6\", \"width\": 0.5}}, \"type\": \"bar\"}], \"barpolar\": [{\"marker\": {\"line\": {\"color\": \"#E5ECF6\", \"width\": 0.5}}, \"type\": \"barpolar\"}], \"carpet\": [{\"aaxis\": {\"endlinecolor\": \"#2a3f5f\", \"gridcolor\": \"white\", \"linecolor\": \"white\", \"minorgridcolor\": \"white\", \"startlinecolor\": \"#2a3f5f\"}, \"baxis\": {\"endlinecolor\": \"#2a3f5f\", \"gridcolor\": \"white\", \"linecolor\": \"white\", \"minorgridcolor\": \"white\", \"startlinecolor\": \"#2a3f5f\"}, \"type\": \"carpet\"}], \"choropleth\": [{\"colorbar\": {\"outlinewidth\": 0, \"ticks\": \"\"}, \"type\": \"choropleth\"}], \"contour\": [{\"colorbar\": {\"outlinewidth\": 0, \"ticks\": \"\"}, \"colorscale\": [[0.0, \"#0d0887\"], [0.1111111111111111, \"#46039f\"], [0.2222222222222222, \"#7201a8\"], [0.3333333333333333, \"#9c179e\"], [0.4444444444444444, \"#bd3786\"], [0.5555555555555556, \"#d8576b\"], [0.6666666666666666, \"#ed7953\"], [0.7777777777777778, \"#fb9f3a\"], [0.8888888888888888, \"#fdca26\"], [1.0, \"#f0f921\"]], \"type\": \"contour\"}], \"contourcarpet\": [{\"colorbar\": {\"outlinewidth\": 0, \"ticks\": \"\"}, \"type\": \"contourcarpet\"}], \"heatmap\": [{\"colorbar\": {\"outlinewidth\": 0, \"ticks\": \"\"}, \"colorscale\": [[0.0, \"#0d0887\"], [0.1111111111111111, \"#46039f\"], [0.2222222222222222, \"#7201a8\"], [0.3333333333333333, \"#9c179e\"], [0.4444444444444444, \"#bd3786\"], [0.5555555555555556, \"#d8576b\"], [0.6666666666666666, \"#ed7953\"], [0.7777777777777778, \"#fb9f3a\"], [0.8888888888888888, \"#fdca26\"], [1.0, \"#f0f921\"]], \"type\": \"heatmap\"}], \"heatmapgl\": [{\"colorbar\": {\"outlinewidth\": 0, \"ticks\": \"\"}, \"colorscale\": [[0.0, \"#0d0887\"], [0.1111111111111111, \"#46039f\"], [0.2222222222222222, \"#7201a8\"], [0.3333333333333333, \"#9c179e\"], [0.4444444444444444, \"#bd3786\"], [0.5555555555555556, \"#d8576b\"], [0.6666666666666666, \"#ed7953\"], [0.7777777777777778, \"#fb9f3a\"], [0.8888888888888888, \"#fdca26\"], [1.0, \"#f0f921\"]], \"type\": \"heatmapgl\"}], \"histogram\": [{\"marker\": {\"colorbar\": {\"outlinewidth\": 0, \"ticks\": \"\"}}, \"type\": \"histogram\"}], \"histogram2d\": [{\"colorbar\": {\"outlinewidth\": 0, \"ticks\": \"\"}, \"colorscale\": [[0.0, \"#0d0887\"], [0.1111111111111111, \"#46039f\"], [0.2222222222222222, \"#7201a8\"], [0.3333333333333333, \"#9c179e\"], [0.4444444444444444, \"#bd3786\"], [0.5555555555555556, \"#d8576b\"], [0.6666666666666666, \"#ed7953\"], [0.7777777777777778, \"#fb9f3a\"], [0.8888888888888888, \"#fdca26\"], [1.0, \"#f0f921\"]], \"type\": \"histogram2d\"}], \"histogram2dcontour\": [{\"colorbar\": {\"outlinewidth\": 0, \"ticks\": \"\"}, \"colorscale\": [[0.0, \"#0d0887\"], [0.1111111111111111, \"#46039f\"], [0.2222222222222222, \"#7201a8\"], [0.3333333333333333, \"#9c179e\"], [0.4444444444444444, \"#bd3786\"], [0.5555555555555556, \"#d8576b\"], [0.6666666666666666, \"#ed7953\"], [0.7777777777777778, \"#fb9f3a\"], [0.8888888888888888, \"#fdca26\"], [1.0, \"#f0f921\"]], \"type\": \"histogram2dcontour\"}], \"mesh3d\": [{\"colorbar\": {\"outlinewidth\": 0, \"ticks\": \"\"}, \"type\": \"mesh3d\"}], \"parcoords\": [{\"line\": {\"colorbar\": {\"outlinewidth\": 0, \"ticks\": \"\"}}, \"type\": \"parcoords\"}], \"pie\": [{\"automargin\": true, \"type\": \"pie\"}], \"scatter\": [{\"marker\": {\"colorbar\": {\"outlinewidth\": 0, \"ticks\": \"\"}}, \"type\": \"scatter\"}], \"scatter3d\": [{\"line\": {\"colorbar\": {\"outlinewidth\": 0, \"ticks\": \"\"}}, \"marker\": {\"colorbar\": {\"outlinewidth\": 0, \"ticks\": \"\"}}, \"type\": \"scatter3d\"}], \"scattercarpet\": [{\"marker\": {\"colorbar\": {\"outlinewidth\": 0, \"ticks\": \"\"}}, \"type\": \"scattercarpet\"}], \"scattergeo\": [{\"marker\": {\"colorbar\": {\"outlinewidth\": 0, \"ticks\": \"\"}}, \"type\": \"scattergeo\"}], \"scattergl\": [{\"marker\": {\"colorbar\": {\"outlinewidth\": 0, \"ticks\": \"\"}}, \"type\": \"scattergl\"}], \"scattermapbox\": [{\"marker\": {\"colorbar\": {\"outlinewidth\": 0, \"ticks\": \"\"}}, \"type\": \"scattermapbox\"}], \"scatterpolar\": [{\"marker\": {\"colorbar\": {\"outlinewidth\": 0, \"ticks\": \"\"}}, \"type\": \"scatterpolar\"}], \"scatterpolargl\": [{\"marker\": {\"colorbar\": {\"outlinewidth\": 0, \"ticks\": \"\"}}, \"type\": \"scatterpolargl\"}], \"scatterternary\": [{\"marker\": {\"colorbar\": {\"outlinewidth\": 0, \"ticks\": \"\"}}, \"type\": \"scatterternary\"}], \"surface\": [{\"colorbar\": {\"outlinewidth\": 0, \"ticks\": \"\"}, \"colorscale\": [[0.0, \"#0d0887\"], [0.1111111111111111, \"#46039f\"], [0.2222222222222222, \"#7201a8\"], [0.3333333333333333, \"#9c179e\"], [0.4444444444444444, \"#bd3786\"], [0.5555555555555556, \"#d8576b\"], [0.6666666666666666, \"#ed7953\"], [0.7777777777777778, \"#fb9f3a\"], [0.8888888888888888, \"#fdca26\"], [1.0, \"#f0f921\"]], \"type\": \"surface\"}], \"table\": [{\"cells\": {\"fill\": {\"color\": \"#EBF0F8\"}, \"line\": {\"color\": \"white\"}}, \"header\": {\"fill\": {\"color\": \"#C8D4E3\"}, \"line\": {\"color\": \"white\"}}, \"type\": \"table\"}]}, \"layout\": {\"annotationdefaults\": {\"arrowcolor\": \"#2a3f5f\", \"arrowhead\": 0, \"arrowwidth\": 1}, \"autotypenumbers\": \"strict\", \"coloraxis\": {\"colorbar\": {\"outlinewidth\": 0, \"ticks\": \"\"}}, \"colorscale\": {\"diverging\": [[0, \"#8e0152\"], [0.1, \"#c51b7d\"], [0.2, \"#de77ae\"], [0.3, \"#f1b6da\"], [0.4, \"#fde0ef\"], [0.5, \"#f7f7f7\"], [0.6, \"#e6f5d0\"], [0.7, \"#b8e186\"], [0.8, \"#7fbc41\"], [0.9, \"#4d9221\"], [1, \"#276419\"]], \"sequential\": [[0.0, \"#0d0887\"], [0.1111111111111111, \"#46039f\"], [0.2222222222222222, \"#7201a8\"], [0.3333333333333333, \"#9c179e\"], [0.4444444444444444, \"#bd3786\"], [0.5555555555555556, \"#d8576b\"], [0.6666666666666666, \"#ed7953\"], [0.7777777777777778, \"#fb9f3a\"], [0.8888888888888888, \"#fdca26\"], [1.0, \"#f0f921\"]], \"sequentialminus\": [[0.0, \"#0d0887\"], [0.1111111111111111, \"#46039f\"], [0.2222222222222222, \"#7201a8\"], [0.3333333333333333, \"#9c179e\"], [0.4444444444444444, \"#bd3786\"], [0.5555555555555556, \"#d8576b\"], [0.6666666666666666, \"#ed7953\"], [0.7777777777777778, \"#fb9f3a\"], [0.8888888888888888, \"#fdca26\"], [1.0, \"#f0f921\"]]}, \"colorway\": [\"#636efa\", \"#EF553B\", \"#00cc96\", \"#ab63fa\", \"#FFA15A\", \"#19d3f3\", \"#FF6692\", \"#B6E880\", \"#FF97FF\", \"#FECB52\"], \"font\": {\"color\": \"#2a3f5f\"}, \"geo\": {\"bgcolor\": \"white\", \"lakecolor\": \"white\", \"landcolor\": \"#E5ECF6\", \"showlakes\": true, \"showland\": true, \"subunitcolor\": \"white\"}, \"hoverlabel\": {\"align\": \"left\"}, \"hovermode\": \"closest\", \"mapbox\": {\"style\": \"light\"}, \"paper_bgcolor\": \"white\", \"plot_bgcolor\": \"#E5ECF6\", \"polar\": {\"angularaxis\": {\"gridcolor\": \"white\", \"linecolor\": \"white\", \"ticks\": \"\"}, \"bgcolor\": \"#E5ECF6\", \"radialaxis\": {\"gridcolor\": \"white\", \"linecolor\": \"white\", \"ticks\": \"\"}}, \"scene\": {\"xaxis\": {\"backgroundcolor\": \"#E5ECF6\", \"gridcolor\": \"white\", \"gridwidth\": 2, \"linecolor\": \"white\", \"showbackground\": true, \"ticks\": \"\", \"zerolinecolor\": \"white\"}, \"yaxis\": {\"backgroundcolor\": \"#E5ECF6\", \"gridcolor\": \"white\", \"gridwidth\": 2, \"linecolor\": \"white\", \"showbackground\": true, \"ticks\": \"\", \"zerolinecolor\": \"white\"}, \"zaxis\": {\"backgroundcolor\": \"#E5ECF6\", \"gridcolor\": \"white\", \"gridwidth\": 2, \"linecolor\": \"white\", \"showbackground\": true, \"ticks\": \"\", \"zerolinecolor\": \"white\"}}, \"shapedefaults\": {\"line\": {\"color\": \"#2a3f5f\"}}, \"ternary\": {\"aaxis\": {\"gridcolor\": \"white\", \"linecolor\": \"white\", \"ticks\": \"\"}, \"baxis\": {\"gridcolor\": \"white\", \"linecolor\": \"white\", \"ticks\": \"\"}, \"bgcolor\": \"#E5ECF6\", \"caxis\": {\"gridcolor\": \"white\", \"linecolor\": \"white\", \"ticks\": \"\"}}, \"title\": {\"x\": 0.05}, \"xaxis\": {\"automargin\": true, \"gridcolor\": \"white\", \"linecolor\": \"white\", \"ticks\": \"\", \"title\": {\"standoff\": 15}, \"zerolinecolor\": \"white\", \"zerolinewidth\": 2}, \"yaxis\": {\"automargin\": true, \"gridcolor\": \"white\", \"linecolor\": \"white\", \"ticks\": \"\", \"title\": {\"standoff\": 15}, \"zerolinecolor\": \"white\", \"zerolinewidth\": 2}}}, \"title\": {\"text\": \"Distribution of Estimated Median Income\"}, \"xaxis\": {\"anchor\": \"y\", \"domain\": [0.0, 1.0], \"title\": {\"text\": \"Estimated Median Income\"}}, \"yaxis\": {\"anchor\": \"x\", \"domain\": [0.0, 1.0], \"title\": {\"text\": \"City\"}}},                        {\"responsive\": true}                    ).then(function(){\n                            \nvar gd = document.getElementById('531e9d83-a3d8-41cd-9fad-88aad5a12d7d');\nvar x = new MutationObserver(function (mutations, observer) {{\n        var display = window.getComputedStyle(gd).display;\n        if (!display || display === 'none') {{\n            console.log([gd, 'removed!']);\n            Plotly.purge(gd);\n            observer.disconnect();\n        }}\n}});\n\n// Listen for the removal of the full notebook cells\nvar notebookContainer = gd.closest('#notebook-container');\nif (notebookContainer) {{\n    x.observe(notebookContainer, {childList: true});\n}}\n\n// Listen for the clearing of the current output cell\nvar outputEl = gd.closest('.output');\nif (outputEl) {{\n    x.observe(outputEl, {childList: true});\n}}\n\n                        })                };                });            </script>        </div>"
     },
     "metadata": {},
     "output_type": "display_data"
    }
   ],
   "source": [
    "# sort descending by the income and draw the top 15 areas\n",
    "income_sorted = final_ds.sort_values(by='Estimated Median Income',\n",
    "                                     ascending=False)\n",
    "income_top15 = income_sorted.iloc[0:14]\n",
    "fig = px.bar(income_top15, x=\"Estimated Median Income\", y=\"City\",\n",
    " orientation = \"h\", color='Estimated Median Income',\n",
    "             title='Distribution of Estimated Median Income')\n",
    "fig.show(renderer='notebook_connected')"
   ],
   "metadata": {
    "collapsed": false,
    "pycharm": {
     "name": "#%%\n"
    }
   }
  },
  {
   "cell_type": "code",
   "execution_count": 12,
   "outputs": [
    {
     "data": {
      "text/html": "        <script type=\"text/javascript\">\n        window.PlotlyConfig = {MathJaxConfig: 'local'};\n        if (window.MathJax) {MathJax.Hub.Config({SVG: {font: \"STIX-Web\"}});}\n        if (typeof require !== 'undefined') {\n        require.undef(\"plotly\");\n        requirejs.config({\n            paths: {\n                'plotly': ['https://cdn.plot.ly/plotly-latest.min']\n            }\n        });\n        require(['plotly'], function(Plotly) {\n            window._Plotly = Plotly;\n        });\n        }\n        </script>\n        "
     },
     "metadata": {},
     "output_type": "display_data"
    },
    {
     "data": {
      "text/html": "<div>                            <div id=\"daad9821-f6b8-43f7-853f-c870c9fd98b4\" class=\"plotly-graph-div\" style=\"height:525px; width:100%;\"></div>            <script type=\"text/javascript\">                require([\"plotly\"], function(Plotly) {                    window.PLOTLYENV=window.PLOTLYENV || {};                                    if (document.getElementById(\"daad9821-f6b8-43f7-853f-c870c9fd98b4\")) {                    Plotly.newPlot(                        \"daad9821-f6b8-43f7-853f-c870c9fd98b4\",                        [{\"alignmentgroup\": \"True\", \"hovertemplate\": \"City=%{x}<br>Total Population=%{marker.color}<extra></extra>\", \"legendgroup\": \"\", \"marker\": {\"color\": [105549, 103892, 103689, 101279, 94396, 93524, 93193, 91725, 89779, 85040, 76615, 76571, 75066, 74929], \"coloraxis\": \"coloraxis\"}, \"name\": \"\", \"offsetgroup\": \"\", \"orientation\": \"v\", \"showlegend\": false, \"textposition\": \"auto\", \"type\": \"bar\", \"x\": [\"Norwalk\", \"Los Angeles\", \"Pacoima\", \"Bell\", \"South Gate\", \"Long Beach\", \"Hawthorne\", \"Sylmar\", \"Los Angeles\", \"La Puente\", \"Bellflower\", \"Baldwin Park\", \"Huntington Park\", \"Palmdale\"], \"xaxis\": \"x\", \"y\": [105549, 103892, 103689, 101279, 94396, 93524, 93193, 91725, 89779, 85040, 76615, 76571, 75066, 74929], \"yaxis\": \"y\"}],                        {\"barmode\": \"relative\", \"coloraxis\": {\"colorbar\": {\"title\": {\"text\": \"Total Population\"}}, \"colorscale\": [[0.0, \"#0d0887\"], [0.1111111111111111, \"#46039f\"], [0.2222222222222222, \"#7201a8\"], [0.3333333333333333, \"#9c179e\"], [0.4444444444444444, \"#bd3786\"], [0.5555555555555556, \"#d8576b\"], [0.6666666666666666, \"#ed7953\"], [0.7777777777777778, \"#fb9f3a\"], [0.8888888888888888, \"#fdca26\"], [1.0, \"#f0f921\"]]}, \"legend\": {\"tracegroupgap\": 0}, \"template\": {\"data\": {\"bar\": [{\"error_x\": {\"color\": \"#2a3f5f\"}, \"error_y\": {\"color\": \"#2a3f5f\"}, \"marker\": {\"line\": {\"color\": \"#E5ECF6\", \"width\": 0.5}}, \"type\": \"bar\"}], \"barpolar\": [{\"marker\": {\"line\": {\"color\": \"#E5ECF6\", \"width\": 0.5}}, \"type\": \"barpolar\"}], \"carpet\": [{\"aaxis\": {\"endlinecolor\": \"#2a3f5f\", \"gridcolor\": \"white\", \"linecolor\": \"white\", \"minorgridcolor\": \"white\", \"startlinecolor\": \"#2a3f5f\"}, \"baxis\": {\"endlinecolor\": \"#2a3f5f\", \"gridcolor\": \"white\", \"linecolor\": \"white\", \"minorgridcolor\": \"white\", \"startlinecolor\": \"#2a3f5f\"}, \"type\": \"carpet\"}], \"choropleth\": [{\"colorbar\": {\"outlinewidth\": 0, \"ticks\": \"\"}, \"type\": \"choropleth\"}], \"contour\": [{\"colorbar\": {\"outlinewidth\": 0, \"ticks\": \"\"}, \"colorscale\": [[0.0, \"#0d0887\"], [0.1111111111111111, \"#46039f\"], [0.2222222222222222, \"#7201a8\"], [0.3333333333333333, \"#9c179e\"], [0.4444444444444444, \"#bd3786\"], [0.5555555555555556, \"#d8576b\"], [0.6666666666666666, \"#ed7953\"], [0.7777777777777778, \"#fb9f3a\"], [0.8888888888888888, \"#fdca26\"], [1.0, \"#f0f921\"]], \"type\": \"contour\"}], \"contourcarpet\": [{\"colorbar\": {\"outlinewidth\": 0, \"ticks\": \"\"}, \"type\": \"contourcarpet\"}], \"heatmap\": [{\"colorbar\": {\"outlinewidth\": 0, \"ticks\": \"\"}, \"colorscale\": [[0.0, \"#0d0887\"], [0.1111111111111111, \"#46039f\"], [0.2222222222222222, \"#7201a8\"], [0.3333333333333333, \"#9c179e\"], [0.4444444444444444, \"#bd3786\"], [0.5555555555555556, \"#d8576b\"], [0.6666666666666666, \"#ed7953\"], [0.7777777777777778, \"#fb9f3a\"], [0.8888888888888888, \"#fdca26\"], [1.0, \"#f0f921\"]], \"type\": \"heatmap\"}], \"heatmapgl\": [{\"colorbar\": {\"outlinewidth\": 0, \"ticks\": \"\"}, \"colorscale\": [[0.0, \"#0d0887\"], [0.1111111111111111, \"#46039f\"], [0.2222222222222222, \"#7201a8\"], [0.3333333333333333, \"#9c179e\"], [0.4444444444444444, \"#bd3786\"], [0.5555555555555556, \"#d8576b\"], [0.6666666666666666, \"#ed7953\"], [0.7777777777777778, \"#fb9f3a\"], [0.8888888888888888, \"#fdca26\"], [1.0, \"#f0f921\"]], \"type\": \"heatmapgl\"}], \"histogram\": [{\"marker\": {\"colorbar\": {\"outlinewidth\": 0, \"ticks\": \"\"}}, \"type\": \"histogram\"}], \"histogram2d\": [{\"colorbar\": {\"outlinewidth\": 0, \"ticks\": \"\"}, \"colorscale\": [[0.0, \"#0d0887\"], [0.1111111111111111, \"#46039f\"], [0.2222222222222222, \"#7201a8\"], [0.3333333333333333, \"#9c179e\"], [0.4444444444444444, \"#bd3786\"], [0.5555555555555556, \"#d8576b\"], [0.6666666666666666, \"#ed7953\"], [0.7777777777777778, \"#fb9f3a\"], [0.8888888888888888, \"#fdca26\"], [1.0, \"#f0f921\"]], \"type\": \"histogram2d\"}], \"histogram2dcontour\": [{\"colorbar\": {\"outlinewidth\": 0, \"ticks\": \"\"}, \"colorscale\": [[0.0, \"#0d0887\"], [0.1111111111111111, \"#46039f\"], [0.2222222222222222, \"#7201a8\"], [0.3333333333333333, \"#9c179e\"], [0.4444444444444444, \"#bd3786\"], [0.5555555555555556, \"#d8576b\"], [0.6666666666666666, \"#ed7953\"], [0.7777777777777778, \"#fb9f3a\"], [0.8888888888888888, \"#fdca26\"], [1.0, \"#f0f921\"]], \"type\": \"histogram2dcontour\"}], \"mesh3d\": [{\"colorbar\": {\"outlinewidth\": 0, \"ticks\": \"\"}, \"type\": \"mesh3d\"}], \"parcoords\": [{\"line\": {\"colorbar\": {\"outlinewidth\": 0, \"ticks\": \"\"}}, \"type\": \"parcoords\"}], \"pie\": [{\"automargin\": true, \"type\": \"pie\"}], \"scatter\": [{\"marker\": {\"colorbar\": {\"outlinewidth\": 0, \"ticks\": \"\"}}, \"type\": \"scatter\"}], \"scatter3d\": [{\"line\": {\"colorbar\": {\"outlinewidth\": 0, \"ticks\": \"\"}}, \"marker\": {\"colorbar\": {\"outlinewidth\": 0, \"ticks\": \"\"}}, \"type\": \"scatter3d\"}], \"scattercarpet\": [{\"marker\": {\"colorbar\": {\"outlinewidth\": 0, \"ticks\": \"\"}}, \"type\": \"scattercarpet\"}], \"scattergeo\": [{\"marker\": {\"colorbar\": {\"outlinewidth\": 0, \"ticks\": \"\"}}, \"type\": \"scattergeo\"}], \"scattergl\": [{\"marker\": {\"colorbar\": {\"outlinewidth\": 0, \"ticks\": \"\"}}, \"type\": \"scattergl\"}], \"scattermapbox\": [{\"marker\": {\"colorbar\": {\"outlinewidth\": 0, \"ticks\": \"\"}}, \"type\": \"scattermapbox\"}], \"scatterpolar\": [{\"marker\": {\"colorbar\": {\"outlinewidth\": 0, \"ticks\": \"\"}}, \"type\": \"scatterpolar\"}], \"scatterpolargl\": [{\"marker\": {\"colorbar\": {\"outlinewidth\": 0, \"ticks\": \"\"}}, \"type\": \"scatterpolargl\"}], \"scatterternary\": [{\"marker\": {\"colorbar\": {\"outlinewidth\": 0, \"ticks\": \"\"}}, \"type\": \"scatterternary\"}], \"surface\": [{\"colorbar\": {\"outlinewidth\": 0, \"ticks\": \"\"}, \"colorscale\": [[0.0, \"#0d0887\"], [0.1111111111111111, \"#46039f\"], [0.2222222222222222, \"#7201a8\"], [0.3333333333333333, \"#9c179e\"], [0.4444444444444444, \"#bd3786\"], [0.5555555555555556, \"#d8576b\"], [0.6666666666666666, \"#ed7953\"], [0.7777777777777778, \"#fb9f3a\"], [0.8888888888888888, \"#fdca26\"], [1.0, \"#f0f921\"]], \"type\": \"surface\"}], \"table\": [{\"cells\": {\"fill\": {\"color\": \"#EBF0F8\"}, \"line\": {\"color\": \"white\"}}, \"header\": {\"fill\": {\"color\": \"#C8D4E3\"}, \"line\": {\"color\": \"white\"}}, \"type\": \"table\"}]}, \"layout\": {\"annotationdefaults\": {\"arrowcolor\": \"#2a3f5f\", \"arrowhead\": 0, \"arrowwidth\": 1}, \"autotypenumbers\": \"strict\", \"coloraxis\": {\"colorbar\": {\"outlinewidth\": 0, \"ticks\": \"\"}}, \"colorscale\": {\"diverging\": [[0, \"#8e0152\"], [0.1, \"#c51b7d\"], [0.2, \"#de77ae\"], [0.3, \"#f1b6da\"], [0.4, \"#fde0ef\"], [0.5, \"#f7f7f7\"], [0.6, \"#e6f5d0\"], [0.7, \"#b8e186\"], [0.8, \"#7fbc41\"], [0.9, \"#4d9221\"], [1, \"#276419\"]], \"sequential\": [[0.0, \"#0d0887\"], [0.1111111111111111, \"#46039f\"], [0.2222222222222222, \"#7201a8\"], [0.3333333333333333, \"#9c179e\"], [0.4444444444444444, \"#bd3786\"], [0.5555555555555556, \"#d8576b\"], [0.6666666666666666, \"#ed7953\"], [0.7777777777777778, \"#fb9f3a\"], [0.8888888888888888, \"#fdca26\"], [1.0, \"#f0f921\"]], \"sequentialminus\": [[0.0, \"#0d0887\"], [0.1111111111111111, \"#46039f\"], [0.2222222222222222, \"#7201a8\"], [0.3333333333333333, \"#9c179e\"], [0.4444444444444444, \"#bd3786\"], [0.5555555555555556, \"#d8576b\"], [0.6666666666666666, \"#ed7953\"], [0.7777777777777778, \"#fb9f3a\"], [0.8888888888888888, \"#fdca26\"], [1.0, \"#f0f921\"]]}, \"colorway\": [\"#636efa\", \"#EF553B\", \"#00cc96\", \"#ab63fa\", \"#FFA15A\", \"#19d3f3\", \"#FF6692\", \"#B6E880\", \"#FF97FF\", \"#FECB52\"], \"font\": {\"color\": \"#2a3f5f\"}, \"geo\": {\"bgcolor\": \"white\", \"lakecolor\": \"white\", \"landcolor\": \"#E5ECF6\", \"showlakes\": true, \"showland\": true, \"subunitcolor\": \"white\"}, \"hoverlabel\": {\"align\": \"left\"}, \"hovermode\": \"closest\", \"mapbox\": {\"style\": \"light\"}, \"paper_bgcolor\": \"white\", \"plot_bgcolor\": \"#E5ECF6\", \"polar\": {\"angularaxis\": {\"gridcolor\": \"white\", \"linecolor\": \"white\", \"ticks\": \"\"}, \"bgcolor\": \"#E5ECF6\", \"radialaxis\": {\"gridcolor\": \"white\", \"linecolor\": \"white\", \"ticks\": \"\"}}, \"scene\": {\"xaxis\": {\"backgroundcolor\": \"#E5ECF6\", \"gridcolor\": \"white\", \"gridwidth\": 2, \"linecolor\": \"white\", \"showbackground\": true, \"ticks\": \"\", \"zerolinecolor\": \"white\"}, \"yaxis\": {\"backgroundcolor\": \"#E5ECF6\", \"gridcolor\": \"white\", \"gridwidth\": 2, \"linecolor\": \"white\", \"showbackground\": true, \"ticks\": \"\", \"zerolinecolor\": \"white\"}, \"zaxis\": {\"backgroundcolor\": \"#E5ECF6\", \"gridcolor\": \"white\", \"gridwidth\": 2, \"linecolor\": \"white\", \"showbackground\": true, \"ticks\": \"\", \"zerolinecolor\": \"white\"}}, \"shapedefaults\": {\"line\": {\"color\": \"#2a3f5f\"}}, \"ternary\": {\"aaxis\": {\"gridcolor\": \"white\", \"linecolor\": \"white\", \"ticks\": \"\"}, \"baxis\": {\"gridcolor\": \"white\", \"linecolor\": \"white\", \"ticks\": \"\"}, \"bgcolor\": \"#E5ECF6\", \"caxis\": {\"gridcolor\": \"white\", \"linecolor\": \"white\", \"ticks\": \"\"}}, \"title\": {\"x\": 0.05}, \"xaxis\": {\"automargin\": true, \"gridcolor\": \"white\", \"linecolor\": \"white\", \"ticks\": \"\", \"title\": {\"standoff\": 15}, \"zerolinecolor\": \"white\", \"zerolinewidth\": 2}, \"yaxis\": {\"automargin\": true, \"gridcolor\": \"white\", \"linecolor\": \"white\", \"ticks\": \"\", \"title\": {\"standoff\": 15}, \"zerolinecolor\": \"white\", \"zerolinewidth\": 2}}}, \"title\": {\"text\": \"Distribution of Population\"}, \"xaxis\": {\"anchor\": \"y\", \"domain\": [0.0, 1.0], \"title\": {\"text\": \"City\"}}, \"yaxis\": {\"anchor\": \"x\", \"domain\": [0.0, 1.0], \"title\": {\"text\": \"Total Population\"}}},                        {\"responsive\": true}                    ).then(function(){\n                            \nvar gd = document.getElementById('daad9821-f6b8-43f7-853f-c870c9fd98b4');\nvar x = new MutationObserver(function (mutations, observer) {{\n        var display = window.getComputedStyle(gd).display;\n        if (!display || display === 'none') {{\n            console.log([gd, 'removed!']);\n            Plotly.purge(gd);\n            observer.disconnect();\n        }}\n}});\n\n// Listen for the removal of the full notebook cells\nvar notebookContainer = gd.closest('#notebook-container');\nif (notebookContainer) {{\n    x.observe(notebookContainer, {childList: true});\n}}\n\n// Listen for the clearing of the current output cell\nvar outputEl = gd.closest('.output');\nif (outputEl) {{\n    x.observe(outputEl, {childList: true});\n}}\n\n                        })                };                });            </script>        </div>"
     },
     "metadata": {},
     "output_type": "display_data"
    }
   ],
   "source": [
    "# sort descending by the population and draw the top 15 areas\n",
    "pop_sorted = final_ds.sort_values(by='Total Population',\n",
    "                                     ascending=False)\n",
    "pop_top15 = pop_sorted.iloc[0:14]\n",
    "fig = px.bar(pop_top15, y=\"Total Population\", x=\"City\",\n",
    " orientation = \"v\", color='Total Population',\n",
    "             title='Distribution of Population')\n",
    "fig.show(renderer='notebook_connected')"
   ],
   "metadata": {
    "collapsed": false,
    "pycharm": {
     "name": "#%%\n"
    }
   }
  },
  {
   "cell_type": "markdown",
   "source": [
    "As we are primarily interested in the areas that have a high total\n",
    "population, let us add the income to this graph and get an overview on which\n",
    "areas in this group have the highest income."
   ],
   "metadata": {
    "collapsed": false
   }
  },
  {
   "cell_type": "code",
   "execution_count": 13,
   "outputs": [
    {
     "data": {
      "text/html": "        <script type=\"text/javascript\">\n        window.PlotlyConfig = {MathJaxConfig: 'local'};\n        if (window.MathJax) {MathJax.Hub.Config({SVG: {font: \"STIX-Web\"}});}\n        if (typeof require !== 'undefined') {\n        require.undef(\"plotly\");\n        requirejs.config({\n            paths: {\n                'plotly': ['https://cdn.plot.ly/plotly-latest.min']\n            }\n        });\n        require(['plotly'], function(Plotly) {\n            window._Plotly = Plotly;\n        });\n        }\n        </script>\n        "
     },
     "metadata": {},
     "output_type": "display_data"
    },
    {
     "data": {
      "text/html": "<div>                            <div id=\"c33f0a76-ab97-46fe-b667-9f50cb73c4fa\" class=\"plotly-graph-div\" style=\"height:525px; width:100%;\"></div>            <script type=\"text/javascript\">                require([\"plotly\"], function(Plotly) {                    window.PLOTLYENV=window.PLOTLYENV || {};                                    if (document.getElementById(\"c33f0a76-ab97-46fe-b667-9f50cb73c4fa\")) {                    Plotly.newPlot(                        \"c33f0a76-ab97-46fe-b667-9f50cb73c4fa\",                        [{\"hovertemplate\": \"Estimated Median Income=%{x}<br>Community=%{y}<br>Total Population=%{marker.color}<extra></extra>\", \"legendgroup\": \"\", \"marker\": {\"color\": [105549, 103892, 103689, 101279, 94396, 93524, 93193, 91725, 89779, 85040, 76615, 76571, 75066, 74929], \"coloraxis\": \"coloraxis\", \"size\": [105549, 103892, 103689, 101279, 94396, 93524, 93193, 91725, 89779, 85040, 76615, 76571, 75066, 74929], \"sizemode\": \"area\", \"sizeref\": 263.8725, \"symbol\": \"circle\"}, \"mode\": \"markers\", \"name\": \"\", \"orientation\": \"h\", \"showlegend\": false, \"type\": \"scatter\", \"x\": [70667.0, 40940.0, 63807.0, 44046.0, 52321.0, 50914.0, 56304.0, 74050.0, 35981.0, 71243.0, 60011.0, 65755.0, 44962.0, 45918.0], \"xaxis\": \"x\", \"y\": [\"Norwalk\", \"Los Angeles (Southeast Los Angeles)\", \"Los Angeles (Arleta, Hansen Hills, Pacoima)\", \"Bell, Bell Gardens, Cudahy\", \"South Gate\", \"Long Beach (North Long Beach)\", \"Hawthorne (Holly Park)\", \"Los Angeles (Lake View Terrace, Sylmar), Kagel Canyon\", \"Athens, Los Angeles (South Los Angeles)\", \"City of Industry, La Puente, Valinda\", \"Bellflower\", \"Baldwin Park, Irwindale\", \"Huntington Park, Walnut Park\", \"Lake Los Angeles, Palmdale\"], \"yaxis\": \"y\"}],                        {\"coloraxis\": {\"colorbar\": {\"title\": {\"text\": \"Total Population\"}}, \"colorscale\": [[0.0, \"#0d0887\"], [0.1111111111111111, \"#46039f\"], [0.2222222222222222, \"#7201a8\"], [0.3333333333333333, \"#9c179e\"], [0.4444444444444444, \"#bd3786\"], [0.5555555555555556, \"#d8576b\"], [0.6666666666666666, \"#ed7953\"], [0.7777777777777778, \"#fb9f3a\"], [0.8888888888888888, \"#fdca26\"], [1.0, \"#f0f921\"]]}, \"legend\": {\"itemsizing\": \"constant\", \"tracegroupgap\": 0}, \"margin\": {\"t\": 60}, \"template\": {\"data\": {\"bar\": [{\"error_x\": {\"color\": \"#2a3f5f\"}, \"error_y\": {\"color\": \"#2a3f5f\"}, \"marker\": {\"line\": {\"color\": \"#E5ECF6\", \"width\": 0.5}}, \"type\": \"bar\"}], \"barpolar\": [{\"marker\": {\"line\": {\"color\": \"#E5ECF6\", \"width\": 0.5}}, \"type\": \"barpolar\"}], \"carpet\": [{\"aaxis\": {\"endlinecolor\": \"#2a3f5f\", \"gridcolor\": \"white\", \"linecolor\": \"white\", \"minorgridcolor\": \"white\", \"startlinecolor\": \"#2a3f5f\"}, \"baxis\": {\"endlinecolor\": \"#2a3f5f\", \"gridcolor\": \"white\", \"linecolor\": \"white\", \"minorgridcolor\": \"white\", \"startlinecolor\": \"#2a3f5f\"}, \"type\": \"carpet\"}], \"choropleth\": [{\"colorbar\": {\"outlinewidth\": 0, \"ticks\": \"\"}, \"type\": \"choropleth\"}], \"contour\": [{\"colorbar\": {\"outlinewidth\": 0, \"ticks\": \"\"}, \"colorscale\": [[0.0, \"#0d0887\"], [0.1111111111111111, \"#46039f\"], [0.2222222222222222, \"#7201a8\"], [0.3333333333333333, \"#9c179e\"], [0.4444444444444444, \"#bd3786\"], [0.5555555555555556, \"#d8576b\"], [0.6666666666666666, \"#ed7953\"], [0.7777777777777778, \"#fb9f3a\"], [0.8888888888888888, \"#fdca26\"], [1.0, \"#f0f921\"]], \"type\": \"contour\"}], \"contourcarpet\": [{\"colorbar\": {\"outlinewidth\": 0, \"ticks\": \"\"}, \"type\": \"contourcarpet\"}], \"heatmap\": [{\"colorbar\": {\"outlinewidth\": 0, \"ticks\": \"\"}, \"colorscale\": [[0.0, \"#0d0887\"], [0.1111111111111111, \"#46039f\"], [0.2222222222222222, \"#7201a8\"], [0.3333333333333333, \"#9c179e\"], [0.4444444444444444, \"#bd3786\"], [0.5555555555555556, \"#d8576b\"], [0.6666666666666666, \"#ed7953\"], [0.7777777777777778, \"#fb9f3a\"], [0.8888888888888888, \"#fdca26\"], [1.0, \"#f0f921\"]], \"type\": \"heatmap\"}], \"heatmapgl\": [{\"colorbar\": {\"outlinewidth\": 0, \"ticks\": \"\"}, \"colorscale\": [[0.0, \"#0d0887\"], [0.1111111111111111, \"#46039f\"], [0.2222222222222222, \"#7201a8\"], [0.3333333333333333, \"#9c179e\"], [0.4444444444444444, \"#bd3786\"], [0.5555555555555556, \"#d8576b\"], [0.6666666666666666, \"#ed7953\"], [0.7777777777777778, \"#fb9f3a\"], [0.8888888888888888, \"#fdca26\"], [1.0, \"#f0f921\"]], \"type\": \"heatmapgl\"}], \"histogram\": [{\"marker\": {\"colorbar\": {\"outlinewidth\": 0, \"ticks\": \"\"}}, \"type\": \"histogram\"}], \"histogram2d\": [{\"colorbar\": {\"outlinewidth\": 0, \"ticks\": \"\"}, \"colorscale\": [[0.0, \"#0d0887\"], [0.1111111111111111, \"#46039f\"], [0.2222222222222222, \"#7201a8\"], [0.3333333333333333, \"#9c179e\"], [0.4444444444444444, \"#bd3786\"], [0.5555555555555556, \"#d8576b\"], [0.6666666666666666, \"#ed7953\"], [0.7777777777777778, \"#fb9f3a\"], [0.8888888888888888, \"#fdca26\"], [1.0, \"#f0f921\"]], \"type\": \"histogram2d\"}], \"histogram2dcontour\": [{\"colorbar\": {\"outlinewidth\": 0, \"ticks\": \"\"}, \"colorscale\": [[0.0, \"#0d0887\"], [0.1111111111111111, \"#46039f\"], [0.2222222222222222, \"#7201a8\"], [0.3333333333333333, \"#9c179e\"], [0.4444444444444444, \"#bd3786\"], [0.5555555555555556, \"#d8576b\"], [0.6666666666666666, \"#ed7953\"], [0.7777777777777778, \"#fb9f3a\"], [0.8888888888888888, \"#fdca26\"], [1.0, \"#f0f921\"]], \"type\": \"histogram2dcontour\"}], \"mesh3d\": [{\"colorbar\": {\"outlinewidth\": 0, \"ticks\": \"\"}, \"type\": \"mesh3d\"}], \"parcoords\": [{\"line\": {\"colorbar\": {\"outlinewidth\": 0, \"ticks\": \"\"}}, \"type\": \"parcoords\"}], \"pie\": [{\"automargin\": true, \"type\": \"pie\"}], \"scatter\": [{\"marker\": {\"colorbar\": {\"outlinewidth\": 0, \"ticks\": \"\"}}, \"type\": \"scatter\"}], \"scatter3d\": [{\"line\": {\"colorbar\": {\"outlinewidth\": 0, \"ticks\": \"\"}}, \"marker\": {\"colorbar\": {\"outlinewidth\": 0, \"ticks\": \"\"}}, \"type\": \"scatter3d\"}], \"scattercarpet\": [{\"marker\": {\"colorbar\": {\"outlinewidth\": 0, \"ticks\": \"\"}}, \"type\": \"scattercarpet\"}], \"scattergeo\": [{\"marker\": {\"colorbar\": {\"outlinewidth\": 0, \"ticks\": \"\"}}, \"type\": \"scattergeo\"}], \"scattergl\": [{\"marker\": {\"colorbar\": {\"outlinewidth\": 0, \"ticks\": \"\"}}, \"type\": \"scattergl\"}], \"scattermapbox\": [{\"marker\": {\"colorbar\": {\"outlinewidth\": 0, \"ticks\": \"\"}}, \"type\": \"scattermapbox\"}], \"scatterpolar\": [{\"marker\": {\"colorbar\": {\"outlinewidth\": 0, \"ticks\": \"\"}}, \"type\": \"scatterpolar\"}], \"scatterpolargl\": [{\"marker\": {\"colorbar\": {\"outlinewidth\": 0, \"ticks\": \"\"}}, \"type\": \"scatterpolargl\"}], \"scatterternary\": [{\"marker\": {\"colorbar\": {\"outlinewidth\": 0, \"ticks\": \"\"}}, \"type\": \"scatterternary\"}], \"surface\": [{\"colorbar\": {\"outlinewidth\": 0, \"ticks\": \"\"}, \"colorscale\": [[0.0, \"#0d0887\"], [0.1111111111111111, \"#46039f\"], [0.2222222222222222, \"#7201a8\"], [0.3333333333333333, \"#9c179e\"], [0.4444444444444444, \"#bd3786\"], [0.5555555555555556, \"#d8576b\"], [0.6666666666666666, \"#ed7953\"], [0.7777777777777778, \"#fb9f3a\"], [0.8888888888888888, \"#fdca26\"], [1.0, \"#f0f921\"]], \"type\": \"surface\"}], \"table\": [{\"cells\": {\"fill\": {\"color\": \"#EBF0F8\"}, \"line\": {\"color\": \"white\"}}, \"header\": {\"fill\": {\"color\": \"#C8D4E3\"}, \"line\": {\"color\": \"white\"}}, \"type\": \"table\"}]}, \"layout\": {\"annotationdefaults\": {\"arrowcolor\": \"#2a3f5f\", \"arrowhead\": 0, \"arrowwidth\": 1}, \"autotypenumbers\": \"strict\", \"coloraxis\": {\"colorbar\": {\"outlinewidth\": 0, \"ticks\": \"\"}}, \"colorscale\": {\"diverging\": [[0, \"#8e0152\"], [0.1, \"#c51b7d\"], [0.2, \"#de77ae\"], [0.3, \"#f1b6da\"], [0.4, \"#fde0ef\"], [0.5, \"#f7f7f7\"], [0.6, \"#e6f5d0\"], [0.7, \"#b8e186\"], [0.8, \"#7fbc41\"], [0.9, \"#4d9221\"], [1, \"#276419\"]], \"sequential\": [[0.0, \"#0d0887\"], [0.1111111111111111, \"#46039f\"], [0.2222222222222222, \"#7201a8\"], [0.3333333333333333, \"#9c179e\"], [0.4444444444444444, \"#bd3786\"], [0.5555555555555556, \"#d8576b\"], [0.6666666666666666, \"#ed7953\"], [0.7777777777777778, \"#fb9f3a\"], [0.8888888888888888, \"#fdca26\"], [1.0, \"#f0f921\"]], \"sequentialminus\": [[0.0, \"#0d0887\"], [0.1111111111111111, \"#46039f\"], [0.2222222222222222, \"#7201a8\"], [0.3333333333333333, \"#9c179e\"], [0.4444444444444444, \"#bd3786\"], [0.5555555555555556, \"#d8576b\"], [0.6666666666666666, \"#ed7953\"], [0.7777777777777778, \"#fb9f3a\"], [0.8888888888888888, \"#fdca26\"], [1.0, \"#f0f921\"]]}, \"colorway\": [\"#636efa\", \"#EF553B\", \"#00cc96\", \"#ab63fa\", \"#FFA15A\", \"#19d3f3\", \"#FF6692\", \"#B6E880\", \"#FF97FF\", \"#FECB52\"], \"font\": {\"color\": \"#2a3f5f\"}, \"geo\": {\"bgcolor\": \"white\", \"lakecolor\": \"white\", \"landcolor\": \"#E5ECF6\", \"showlakes\": true, \"showland\": true, \"subunitcolor\": \"white\"}, \"hoverlabel\": {\"align\": \"left\"}, \"hovermode\": \"closest\", \"mapbox\": {\"style\": \"light\"}, \"paper_bgcolor\": \"white\", \"plot_bgcolor\": \"#E5ECF6\", \"polar\": {\"angularaxis\": {\"gridcolor\": \"white\", \"linecolor\": \"white\", \"ticks\": \"\"}, \"bgcolor\": \"#E5ECF6\", \"radialaxis\": {\"gridcolor\": \"white\", \"linecolor\": \"white\", \"ticks\": \"\"}}, \"scene\": {\"xaxis\": {\"backgroundcolor\": \"#E5ECF6\", \"gridcolor\": \"white\", \"gridwidth\": 2, \"linecolor\": \"white\", \"showbackground\": true, \"ticks\": \"\", \"zerolinecolor\": \"white\"}, \"yaxis\": {\"backgroundcolor\": \"#E5ECF6\", \"gridcolor\": \"white\", \"gridwidth\": 2, \"linecolor\": \"white\", \"showbackground\": true, \"ticks\": \"\", \"zerolinecolor\": \"white\"}, \"zaxis\": {\"backgroundcolor\": \"#E5ECF6\", \"gridcolor\": \"white\", \"gridwidth\": 2, \"linecolor\": \"white\", \"showbackground\": true, \"ticks\": \"\", \"zerolinecolor\": \"white\"}}, \"shapedefaults\": {\"line\": {\"color\": \"#2a3f5f\"}}, \"ternary\": {\"aaxis\": {\"gridcolor\": \"white\", \"linecolor\": \"white\", \"ticks\": \"\"}, \"baxis\": {\"gridcolor\": \"white\", \"linecolor\": \"white\", \"ticks\": \"\"}, \"bgcolor\": \"#E5ECF6\", \"caxis\": {\"gridcolor\": \"white\", \"linecolor\": \"white\", \"ticks\": \"\"}}, \"title\": {\"x\": 0.05}, \"xaxis\": {\"automargin\": true, \"gridcolor\": \"white\", \"linecolor\": \"white\", \"ticks\": \"\", \"title\": {\"standoff\": 15}, \"zerolinecolor\": \"white\", \"zerolinewidth\": 2}, \"yaxis\": {\"automargin\": true, \"gridcolor\": \"white\", \"linecolor\": \"white\", \"ticks\": \"\", \"title\": {\"standoff\": 15}, \"zerolinecolor\": \"white\", \"zerolinewidth\": 2}}}, \"xaxis\": {\"anchor\": \"y\", \"domain\": [0.0, 1.0], \"title\": {\"text\": \"Estimated Median Income\"}, \"type\": \"log\"}, \"yaxis\": {\"anchor\": \"x\", \"domain\": [0.0, 1.0], \"title\": {\"text\": \"Community\"}}},                        {\"responsive\": true}                    ).then(function(){\n                            \nvar gd = document.getElementById('c33f0a76-ab97-46fe-b667-9f50cb73c4fa');\nvar x = new MutationObserver(function (mutations, observer) {{\n        var display = window.getComputedStyle(gd).display;\n        if (!display || display === 'none') {{\n            console.log([gd, 'removed!']);\n            Plotly.purge(gd);\n            observer.disconnect();\n        }}\n}});\n\n// Listen for the removal of the full notebook cells\nvar notebookContainer = gd.closest('#notebook-container');\nif (notebookContainer) {{\n    x.observe(notebookContainer, {childList: true});\n}}\n\n// Listen for the clearing of the current output cell\nvar outputEl = gd.closest('.output');\nif (outputEl) {{\n    x.observe(outputEl, {childList: true});\n}}\n\n                        })                };                });            </script>        </div>"
     },
     "metadata": {},
     "output_type": "display_data"
    }
   ],
   "source": [
    "fig = px.scatter(pop_top15, x=\"Estimated Median Income\", y=\"Community\",\n",
    "                 size=\"Total Population\", log_x=True, color=\"Total Population\")\n",
    "fig.show(renderer='notebook_connected')"
   ],
   "metadata": {
    "collapsed": false,
    "pycharm": {
     "name": "#%%\n"
    }
   }
  },
  {
   "cell_type": "markdown",
   "source": [
    "In this graph the population determines the bubble size. So there are four\n",
    "areas that stand out:\n",
    "\n",
    "| City    | Population | Median Income |\n",
    "|---------|------------|--------|\n",
    "| Norwalk | 105,6K     | 70,7K       |\n",
    "| Lake View Terrace, Sylmar   |  91,7K          |  74K      |\n",
    "| La Puente, Valinda        |  85K          |   71,2K     |\n",
    "| Hansen Hills, Pacoima |  104K          |  64K      |\n",
    "\n",
    "These four cities / neighbourhoods seem to be suitable areas, based on\n",
    "their combination of population and median income. We are going to see, if\n",
    "this assumption is confirmed going forward."
   ],
   "metadata": {
    "collapsed": false,
    "pycharm": {
     "name": "#%% md\n"
    }
   }
  },
  {
   "cell_type": "markdown",
   "source": [
    "#### Clustering the dataset\n"
   ],
   "metadata": {
    "collapsed": false
   }
  },
  {
   "cell_type": "code",
   "execution_count": 14,
   "outputs": [
    {
     "data": {
      "text/plain": "   Estimated Median Income  Total Population  Median Age  Total Households  \\\n1                  43360.0             57110        26.6             12971   \n2                  37285.0             51223        25.5             11731   \n3                  40598.0             66266        26.3             15642   \n4                  49675.0             62180        34.8             22547   \n5                  38491.0             37681        33.9             15044   \n\n   Average Household Size  \n1                    4.40  \n2                    4.36  \n3                    4.22  \n4                    2.73  \n5                    2.50  ",
      "text/html": "<div>\n<style scoped>\n    .dataframe tbody tr th:only-of-type {\n        vertical-align: middle;\n    }\n\n    .dataframe tbody tr th {\n        vertical-align: top;\n    }\n\n    .dataframe thead th {\n        text-align: right;\n    }\n</style>\n<table border=\"1\" class=\"dataframe\">\n  <thead>\n    <tr style=\"text-align: right;\">\n      <th></th>\n      <th>Estimated Median Income</th>\n      <th>Total Population</th>\n      <th>Median Age</th>\n      <th>Total Households</th>\n      <th>Average Household Size</th>\n    </tr>\n  </thead>\n  <tbody>\n    <tr>\n      <th>1</th>\n      <td>43360.0</td>\n      <td>57110</td>\n      <td>26.6</td>\n      <td>12971</td>\n      <td>4.40</td>\n    </tr>\n    <tr>\n      <th>2</th>\n      <td>37285.0</td>\n      <td>51223</td>\n      <td>25.5</td>\n      <td>11731</td>\n      <td>4.36</td>\n    </tr>\n    <tr>\n      <th>3</th>\n      <td>40598.0</td>\n      <td>66266</td>\n      <td>26.3</td>\n      <td>15642</td>\n      <td>4.22</td>\n    </tr>\n    <tr>\n      <th>4</th>\n      <td>49675.0</td>\n      <td>62180</td>\n      <td>34.8</td>\n      <td>22547</td>\n      <td>2.73</td>\n    </tr>\n    <tr>\n      <th>5</th>\n      <td>38491.0</td>\n      <td>37681</td>\n      <td>33.9</td>\n      <td>15044</td>\n      <td>2.50</td>\n    </tr>\n  </tbody>\n</table>\n</div>"
     },
     "execution_count": 14,
     "metadata": {},
     "output_type": "execute_result"
    }
   ],
   "source": [
    "from sklearn.cluster import KMeans\n",
    "grouped_clustering = final_ds.drop(['Zip Code', 'City', 'Community', 'Longitude', 'Latitude', 'Total Males',\n",
    "                                    'Total Females'], 1)\n",
    "grouped_clustering.head()"
   ],
   "metadata": {
    "collapsed": false,
    "pycharm": {
     "name": "#%%\n"
    }
   }
  },
  {
   "cell_type": "markdown",
   "source": [],
   "metadata": {
    "collapsed": false
   }
  },
  {
   "cell_type": "code",
   "execution_count": 15,
   "outputs": [],
   "source": [
    "sum_of_squared_distances = []\n",
    "K = range(1,15)\n",
    "for k in K:\n",
    "    kmeans = KMeans(n_clusters=k, init=\"k-means++\",\n",
    "                random_state=0).fit(grouped_clustering)\n",
    "    sum_of_squared_distances.append(kmeans.inertia_)\n",
    "\n",
    "#kmeans.labels_"
   ],
   "metadata": {
    "collapsed": false,
    "pycharm": {
     "name": "#%%\n"
    }
   }
  },
  {
   "cell_type": "code",
   "execution_count": 16,
   "outputs": [
    {
     "data": {
      "text/plain": "<Figure size 432x288 with 1 Axes>",
      "image/png": "[encoded data removed]"
     },
     "metadata": {
      "needs_background": "light"
     },
     "output_type": "display_data"
    }
   ],
   "source": [
    "import matplotlib.pyplot as plt\n",
    "plt.plot(K, sum_of_squared_distances, 'bx-')\n",
    "plt.xlabel('k')\n",
    "plt.ylabel('Sum_of_squared_distances')\n",
    "plt.title('Elbow Method For Optimal k')\n",
    "plt.show()"
   ],
   "metadata": {
    "collapsed": false,
    "pycharm": {
     "name": "#%%\n"
    }
   }
  },
  {
   "cell_type": "markdown",
   "source": [
    "According to the elbow method I chose a k of 6 going forward.\n",
    "So let's do the clustering again with the determined k value.\n",
    "Then I will add the cluster labels to my dataset and print out a\n",
    "summarization of the created clusters."
   ],
   "metadata": {
    "collapsed": false,
    "pycharm": {
     "name": "#%% md\n"
    }
   }
  },
  {
   "cell_type": "code",
   "execution_count": 19,
   "outputs": [],
   "source": [
    "# cluster with the determined K\n",
    "kmeans = KMeans(n_clusters=6, init=\"k-means++\",\n",
    "                random_state=0).fit(grouped_clustering)\n",
    "# add the labels to the dataset\n",
    "final_ds.insert(0, 'Cluster Label', kmeans.labels_)"
   ],
   "metadata": {
    "collapsed": false,
    "pycharm": {
     "name": "#%%\n"
    }
   }
  },
  {
   "cell_type": "code",
   "execution_count": 20,
   "outputs": [
    {
     "data": {
      "text/plain": "                   Zip Code  Estimated Median Income   Longitude   Latitude  \\\nCluster Label                                                                 \n0              90988.629630            106149.203704 -118.326722  34.101526   \n1              90949.500000             51305.386364 -118.201435  34.097584   \n2              90624.000000            155063.444444 -118.425995  34.024770   \n3              91153.090909             57912.863636 -118.190515  34.113848   \n4              90657.634921             53158.555556 -118.258781  34.038015   \n5              91012.205128             79295.179487 -118.214638  34.056455   \n\n               Total Population  Median Age   Total Males  Total Females  \\\nCluster Label                                                              \n0                  29781.925926   41.064815  14563.444444   15218.481481   \n1                  18681.204545   35.754545   9459.613636    9221.590909   \n2                  17967.666667   43.838889   8777.833333    9189.833333   \n3                  83146.500000   30.468182  41257.500000   41889.000000   \n4                  49959.714286   32.455556  24713.476190   25246.238095   \n5                  28459.230769   38.342308  13819.230769   14640.000000   \n\n               Total Households  Average Household Size  \nCluster Label                                            \n0                  11475.425926                2.544815  \n1                   6144.704545                2.858409  \n2                   7020.722222                2.479444  \n3                  22069.545455                3.768182  \n4                  15571.158730                3.256984  \n5                  10393.205128                2.747949  ",
      "text/html": "<div>\n<style scoped>\n    .dataframe tbody tr th:only-of-type {\n        vertical-align: middle;\n    }\n\n    .dataframe tbody tr th {\n        vertical-align: top;\n    }\n\n    .dataframe thead th {\n        text-align: right;\n    }\n</style>\n<table border=\"1\" class=\"dataframe\">\n  <thead>\n    <tr style=\"text-align: right;\">\n      <th></th>\n      <th>Zip Code</th>\n      <th>Estimated Median Income</th>\n      <th>Longitude</th>\n      <th>Latitude</th>\n      <th>Total Population</th>\n      <th>Median Age</th>\n      <th>Total Males</th>\n      <th>Total Females</th>\n      <th>Total Households</th>\n      <th>Average Household Size</th>\n    </tr>\n    <tr>\n      <th>Cluster Label</th>\n      <th></th>\n      <th></th>\n      <th></th>\n      <th></th>\n      <th></th>\n      <th></th>\n      <th></th>\n      <th></th>\n      <th></th>\n      <th></th>\n    </tr>\n  </thead>\n  <tbody>\n    <tr>\n      <th>0</th>\n      <td>90988.629630</td>\n      <td>106149.203704</td>\n      <td>-118.326722</td>\n      <td>34.101526</td>\n      <td>29781.925926</td>\n      <td>41.064815</td>\n      <td>14563.444444</td>\n      <td>15218.481481</td>\n      <td>11475.425926</td>\n      <td>2.544815</td>\n    </tr>\n    <tr>\n      <th>1</th>\n      <td>90949.500000</td>\n      <td>51305.386364</td>\n      <td>-118.201435</td>\n      <td>34.097584</td>\n      <td>18681.204545</td>\n      <td>35.754545</td>\n      <td>9459.613636</td>\n      <td>9221.590909</td>\n      <td>6144.704545</td>\n      <td>2.858409</td>\n    </tr>\n    <tr>\n      <th>2</th>\n      <td>90624.000000</td>\n      <td>155063.444444</td>\n      <td>-118.425995</td>\n      <td>34.024770</td>\n      <td>17967.666667</td>\n      <td>43.838889</td>\n      <td>8777.833333</td>\n      <td>9189.833333</td>\n      <td>7020.722222</td>\n      <td>2.479444</td>\n    </tr>\n    <tr>\n      <th>3</th>\n      <td>91153.090909</td>\n      <td>57912.863636</td>\n      <td>-118.190515</td>\n      <td>34.113848</td>\n      <td>83146.500000</td>\n      <td>30.468182</td>\n      <td>41257.500000</td>\n      <td>41889.000000</td>\n      <td>22069.545455</td>\n      <td>3.768182</td>\n    </tr>\n    <tr>\n      <th>4</th>\n      <td>90657.634921</td>\n      <td>53158.555556</td>\n      <td>-118.258781</td>\n      <td>34.038015</td>\n      <td>49959.714286</td>\n      <td>32.455556</td>\n      <td>24713.476190</td>\n      <td>25246.238095</td>\n      <td>15571.158730</td>\n      <td>3.256984</td>\n    </tr>\n    <tr>\n      <th>5</th>\n      <td>91012.205128</td>\n      <td>79295.179487</td>\n      <td>-118.214638</td>\n      <td>34.056455</td>\n      <td>28459.230769</td>\n      <td>38.342308</td>\n      <td>13819.230769</td>\n      <td>14640.000000</td>\n      <td>10393.205128</td>\n      <td>2.747949</td>\n    </tr>\n  </tbody>\n</table>\n</div>"
     },
     "execution_count": 20,
     "metadata": {},
     "output_type": "execute_result"
    }
   ],
   "source": [
    "# create a dataframe for the defined clusters\n",
    "cluster_df = final_ds.groupby('Cluster Label').mean()\n",
    "cluster_df"
   ],
   "metadata": {
    "collapsed": false,
    "pycharm": {
     "name": "#%%\n"
    }
   }
  },
  {
   "cell_type": "markdown",
   "source": [
    "Let us clean this up a bit and add a new column, that will help us to chose\n",
    "a cluster going forward.\n"
   ],
   "metadata": {
    "collapsed": false,
    "pycharm": {
     "name": "#%% md\n"
    }
   }
  },
  {
   "cell_type": "code",
   "execution_count": 21,
   "outputs": [
    {
     "name": "stderr",
     "output_type": "stream",
     "text": [
      "<ipython-input-21-b7541a95aecd>:5: SettingWithCopyWarning:\n",
      "\n",
      "\n",
      "A value is trying to be set on a copy of a slice from a DataFrame.\n",
      "Try using .loc[row_indexer,col_indexer] = value instead\n",
      "\n",
      "See the caveats in the documentation: https://pandas.pydata.org/pandas-docs/stable/user_guide/indexing.html#returning-a-view-versus-a-copy\n",
      "\n"
     ]
    },
    {
     "data": {
      "text/plain": "               Estimated Median Income  Total Population  Median Age  \\\nCluster Label                                                          \n3                             57912.86          83146.50       30.47   \n0                            106149.20          29781.93       41.06   \n2                            155063.44          17967.67       43.84   \n4                             53158.56          49959.71       32.46   \n5                             79295.18          28459.23       38.34   \n1                             51305.39          18681.20       35.75   \n\n               Total Households  Average Household Size  Decision Factor  \nCluster Label                                                             \n3                      22069.55                    3.77         57783.02  \n0                      11475.43                    2.54         37935.93  \n2                       7020.72                    2.48         33433.54  \n4                      15571.16                    3.26         31869.43  \n5                      10393.21                    2.75         27080.16  \n1                       6144.70                    2.86         11501.36  ",
      "text/html": "<div>\n<style scoped>\n    .dataframe tbody tr th:only-of-type {\n        vertical-align: middle;\n    }\n\n    .dataframe tbody tr th {\n        vertical-align: top;\n    }\n\n    .dataframe thead th {\n        text-align: right;\n    }\n</style>\n<table border=\"1\" class=\"dataframe\">\n  <thead>\n    <tr style=\"text-align: right;\">\n      <th></th>\n      <th>Estimated Median Income</th>\n      <th>Total Population</th>\n      <th>Median Age</th>\n      <th>Total Households</th>\n      <th>Average Household Size</th>\n      <th>Decision Factor</th>\n    </tr>\n    <tr>\n      <th>Cluster Label</th>\n      <th></th>\n      <th></th>\n      <th></th>\n      <th></th>\n      <th></th>\n      <th></th>\n    </tr>\n  </thead>\n  <tbody>\n    <tr>\n      <th>3</th>\n      <td>57912.86</td>\n      <td>83146.50</td>\n      <td>30.47</td>\n      <td>22069.55</td>\n      <td>3.77</td>\n      <td>57783.02</td>\n    </tr>\n    <tr>\n      <th>0</th>\n      <td>106149.20</td>\n      <td>29781.93</td>\n      <td>41.06</td>\n      <td>11475.43</td>\n      <td>2.54</td>\n      <td>37935.93</td>\n    </tr>\n    <tr>\n      <th>2</th>\n      <td>155063.44</td>\n      <td>17967.67</td>\n      <td>43.84</td>\n      <td>7020.72</td>\n      <td>2.48</td>\n      <td>33433.54</td>\n    </tr>\n    <tr>\n      <th>4</th>\n      <td>53158.56</td>\n      <td>49959.71</td>\n      <td>32.46</td>\n      <td>15571.16</td>\n      <td>3.26</td>\n      <td>31869.43</td>\n    </tr>\n    <tr>\n      <th>5</th>\n      <td>79295.18</td>\n      <td>28459.23</td>\n      <td>38.34</td>\n      <td>10393.21</td>\n      <td>2.75</td>\n      <td>27080.16</td>\n    </tr>\n    <tr>\n      <th>1</th>\n      <td>51305.39</td>\n      <td>18681.20</td>\n      <td>35.75</td>\n      <td>6144.70</td>\n      <td>2.86</td>\n      <td>11501.36</td>\n    </tr>\n  </tbody>\n</table>\n</div>"
     },
     "execution_count": 21,
     "metadata": {},
     "output_type": "execute_result"
    }
   ],
   "source": [
    "clusters = cluster_df[['Estimated Median Income', 'Total Population',\n",
    "                       'Median Age', 'Total Households', 'Average Household '\n",
    "                                                         'Size']]\n",
    "\n",
    "clusters['Decision Factor'] = \\\n",
    "    ( ( clusters['Total Population'] * 1.2 ) *\n",
    "      clusters['Estimated Median Income']) / 100000\n",
    "clusters_r = clusters.round(2)\n",
    "clusters_r\n",
    "clusters_sorted = clusters_r.sort_values(by='Decision Factor', ascending=False)\n",
    "clusters_sorted"
   ],
   "metadata": {
    "collapsed": false,
    "pycharm": {
     "name": "#%%\n"
    }
   }
  },
  {
   "cell_type": "markdown",
   "source": [
    "Looking at these clusters, they can be described as the following:\n",
    "\n",
    "| Name      | Income | Population | Age |\n",
    "|-----------|--------|------------|-----|\n",
    "| Cluster 0 | High      | Medium   | Older    |\n",
    "| Cluster 1 | Low       | Low      | Young    |\n",
    "| Cluster 2 | Very High | Low      | Older    |\n",
    "| Cluster 3 | Medium    | Very High| Very Young    |\n",
    "| Cluster 4 | Low       | High     | Very Young    |\n",
    "| Cluster 5 | High      | Medium   | Young    |\n",
    "\n",
    "So based on this information I am going to choose Cluster 3 for further\n",
    "evaluation and as the cluster where I will pick an area from. This cluster\n",
    "has a medium income combined with a very high population. It also contains\n",
    "the youngest median age, which also can be considered for choosing the\n",
    "food venue category."
   ],
   "metadata": {
    "collapsed": false
   }
  },
  {
   "cell_type": "code",
   "execution_count": 22,
   "outputs": [
    {
     "data": {
      "text/plain": "(22, 12)"
     },
     "execution_count": 22,
     "metadata": {},
     "output_type": "execute_result"
    }
   ],
   "source": [
    "cluster3 = final_ds.loc[final_ds['Cluster Label'] == 3, final_ds\n",
    "    .columns[[1] + list(range(2, final_ds.shape[1]))]]\n",
    "cluster3.shape"
   ],
   "metadata": {
    "collapsed": false,
    "pycharm": {
     "name": "#%%\n"
    }
   }
  },
  {
   "cell_type": "markdown",
   "source": [
    "This cluster contains 22 areas in Los Angeles County, CA.\n",
    "We are going to have a look on them on the map using **Folium**."
   ],
   "metadata": {
    "collapsed": false,
    "pycharm": {
     "name": "#%% md\n"
    }
   }
  },
  {
   "cell_type": "code",
   "execution_count": 23,
   "outputs": [],
   "source": [
    "from geopy.geocoders import Nominatim\n",
    "# initialize the map\n",
    "address = 'Los Angeles County, CA'\n",
    "geolocator = Nominatim(user_agent=\"la_explorer\")\n",
    "location = geolocator.geocode(address)\n",
    "latitude = location.latitude\n",
    "longitude = location.longitude\n"
   ],
   "metadata": {
    "collapsed": false,
    "pycharm": {
     "name": "#%%\n"
    }
   }
  },
  {
   "cell_type": "code",
   "execution_count": 24,
   "outputs": [
    {
     "data": {
      "text/plain": "<folium.folium.Map at 0x7fecd13e60d0>",
      "text/html": "<div style=\"width:100%;\"><div style=\"position:relative;width:100%;height:0;padding-bottom:60%;\"><span style=\"color:#565656\">Make this Notebook Trusted to load map: File -> Trust Notebook</span><iframe src=\"about:blank\" style=\"position:absolute;width:100%;height:100%;left:0;top:0;border:none !important;\" data-html=%3C%21DOCTYPE%20html%3E%0A%3Chead%3E%20%20%20%20%0A%20%20%20%20%3Cmeta%20http-equiv%3D%22content-type%22%20content%3D%22text/html%3B%20charset%3DUTF-8%22%20/%3E%0A%20%20%20%20%0A%20%20%20%20%20%20%20%20%3Cscript%3E%0A%20%20%20%20%20%20%20%20%20%20%20%20L_NO_TOUCH%20%3D%20false%3B%0A%20%20%20%20%20%20%20%20%20%20%20%20L_DISABLE_3D%20%3D%20false%3B%0A%20%20%20%20%20%20%20%20%3C/script%3E%0A%20%20%20%20%0A%20%20%20%20%3Cstyle%3Ehtml%2C%20body%20%7Bwidth%3A%20100%25%3Bheight%3A%20100%25%3Bmargin%3A%200%3Bpadding%3A%200%3B%7D%3C/style%3E%0A%20%20%20%20%3Cstyle%3E%23map%20%7Bposition%3Aabsolute%3Btop%3A0%3Bbottom%3A0%3Bright%3A0%3Bleft%3A0%3B%7D%3C/style%3E%0A%20%20%20%20%3Cscript%20src%3D%22https%3A//cdn.jsdelivr.net/npm/leaflet%401.6.0/dist/leaflet.js%22%3E%3C/script%3E%0A%20%20%20%20%3Cscript%20src%3D%22https%3A//code.jquery.com/jquery-1.12.4.min.js%22%3E%3C/script%3E%0A%20%20%20%20%3Cscript%20src%3D%22https%3A//maxcdn.bootstrapcdn.com/bootstrap/3.2.0/js/bootstrap.min.js%22%3E%3C/script%3E%0A%20%20%20%20%3Cscript%20src%3D%22https%3A//cdnjs.cloudflare.com/ajax/libs/Leaflet.awesome-markers/2.0.2/leaflet.awesome-markers.js%22%3E%3C/script%3E%0A%20%20%20%20%3Clink%20rel%3D%22stylesheet%22%20href%3D%22https%3A//cdn.jsdelivr.net/npm/leaflet%401.6.0/dist/leaflet.css%22/%3E%0A%20%20%20%20%3Clink%20rel%3D%22stylesheet%22%20href%3D%22https%3A//maxcdn.bootstrapcdn.com/bootstrap/3.2.0/css/bootstrap.min.css%22/%3E%0A%20%20%20%20%3Clink%20rel%3D%22stylesheet%22%20href%3D%22https%3A//maxcdn.bootstrapcdn.com/bootstrap/3.2.0/css/bootstrap-theme.min.css%22/%3E%0A%20%20%20%20%3Clink%20rel%3D%22stylesheet%22%20href%3D%22https%3A//maxcdn.bootstrapcdn.com/font-awesome/4.6.3/css/font-awesome.min.css%22/%3E%0A%20%20%20%20%3Clink%20rel%3D%22stylesheet%22%20href%3D%22https%3A//cdnjs.cloudflare.com/ajax/libs/Leaflet.awesome-markers/2.0.2/leaflet.awesome-markers.css%22/%3E%0A%20%20%20%20%3Clink%20rel%3D%22stylesheet%22%20href%3D%22https%3A//cdn.jsdelivr.net/gh/python-visualization/folium/folium/templates/leaflet.awesome.rotate.min.css%22/%3E%0A%20%20%20%20%0A%20%20%20%20%20%20%20%20%20%20%20%20%3Cmeta%20name%3D%22viewport%22%20content%3D%22width%3Ddevice-width%2C%0A%20%20%20%20%20%20%20%20%20%20%20%20%20%20%20%20initial-scale%3D1.0%2C%20maximum-scale%3D1.0%2C%20user-scalable%3Dno%22%20/%3E%0A%20%20%20%20%20%20%20%20%20%20%20%20%3Cstyle%3E%0A%20%20%20%20%20%20%20%20%20%20%20%20%20%20%20%20%23map_8649f729c1174135b61e767d588b791f%20%7B%0A%20%20%20%20%20%20%20%20%20%20%20%20%20%20%20%20%20%20%20%20position%3A%20relative%3B%0A%20%20%20%20%20%20%20%20%20%20%20%20%20%20%20%20%20%20%20%20width%3A%20100.0%25%3B%0A%20%20%20%20%20%20%20%20%20%20%20%20%20%20%20%20%20%20%20%20height%3A%20100.0%25%3B%0A%20%20%20%20%20%20%20%20%20%20%20%20%20%20%20%20%20%20%20%20left%3A%200.0%25%3B%0A%20%20%20%20%20%20%20%20%20%20%20%20%20%20%20%20%20%20%20%20top%3A%200.0%25%3B%0A%20%20%20%20%20%20%20%20%20%20%20%20%20%20%20%20%7D%0A%20%20%20%20%20%20%20%20%20%20%20%20%3C/style%3E%0A%20%20%20%20%20%20%20%20%0A%3C/head%3E%0A%3Cbody%3E%20%20%20%20%0A%20%20%20%20%0A%20%20%20%20%20%20%20%20%20%20%20%20%3Cdiv%20class%3D%22folium-map%22%20id%3D%22map_8649f729c1174135b61e767d588b791f%22%20%3E%3C/div%3E%0A%20%20%20%20%20%20%20%20%0A%3C/body%3E%0A%3Cscript%3E%20%20%20%20%0A%20%20%20%20%0A%20%20%20%20%20%20%20%20%20%20%20%20var%20map_8649f729c1174135b61e767d588b791f%20%3D%20L.map%28%0A%20%20%20%20%20%20%20%20%20%20%20%20%20%20%20%20%22map_8649f729c1174135b61e767d588b791f%22%2C%0A%20%20%20%20%20%20%20%20%20%20%20%20%20%20%20%20%7B%0A%20%20%20%20%20%20%20%20%20%20%20%20%20%20%20%20%20%20%20%20center%3A%20%5B34.3155072%2C%20-118.2096814%5D%2C%0A%20%20%20%20%20%20%20%20%20%20%20%20%20%20%20%20%20%20%20%20crs%3A%20L.CRS.EPSG3857%2C%0A%20%20%20%20%20%20%20%20%20%20%20%20%20%20%20%20%20%20%20%20zoom%3A%2011%2C%0A%20%20%20%20%20%20%20%20%20%20%20%20%20%20%20%20%20%20%20%20zoomControl%3A%20true%2C%0A%20%20%20%20%20%20%20%20%20%20%20%20%20%20%20%20%20%20%20%20preferCanvas%3A%20false%2C%0A%20%20%20%20%20%20%20%20%20%20%20%20%20%20%20%20%7D%0A%20%20%20%20%20%20%20%20%20%20%20%20%29%3B%0A%0A%20%20%20%20%20%20%20%20%20%20%20%20%0A%0A%20%20%20%20%20%20%20%20%0A%20%20%20%20%0A%20%20%20%20%20%20%20%20%20%20%20%20var%20tile_layer_baa85470072b4eefae3c92cc88fbf510%20%3D%20L.tileLayer%28%0A%20%20%20%20%20%20%20%20%20%20%20%20%20%20%20%20%22https%3A//%7Bs%7D.tile.openstreetmap.org/%7Bz%7D/%7Bx%7D/%7By%7D.png%22%2C%0A%20%20%20%20%20%20%20%20%20%20%20%20%20%20%20%20%7B%22attribution%22%3A%20%22Data%20by%20%5Cu0026copy%3B%20%5Cu003ca%20href%3D%5C%22http%3A//openstreetmap.org%5C%22%5Cu003eOpenStreetMap%5Cu003c/a%5Cu003e%2C%20under%20%5Cu003ca%20href%3D%5C%22http%3A//www.openstreetmap.org/copyright%5C%22%5Cu003eODbL%5Cu003c/a%5Cu003e.%22%2C%20%22detectRetina%22%3A%20false%2C%20%22maxNativeZoom%22%3A%2018%2C%20%22maxZoom%22%3A%2018%2C%20%22minZoom%22%3A%200%2C%20%22noWrap%22%3A%20false%2C%20%22opacity%22%3A%201%2C%20%22subdomains%22%3A%20%22abc%22%2C%20%22tms%22%3A%20false%7D%0A%20%20%20%20%20%20%20%20%20%20%20%20%29.addTo%28map_8649f729c1174135b61e767d588b791f%29%3B%0A%20%20%20%20%20%20%20%20%0A%20%20%20%20%0A%20%20%20%20%20%20%20%20%20%20%20%20var%20circle_marker_0780dfa77ed44f5a906a963991d40455%20%3D%20L.circleMarker%28%0A%20%20%20%20%20%20%20%20%20%20%20%20%20%20%20%20%5B34.007063%2C%20-118.25868%5D%2C%0A%20%20%20%20%20%20%20%20%20%20%20%20%20%20%20%20%7B%22bubblingMouseEvents%22%3A%20true%2C%20%22color%22%3A%20%22%234df3ce%22%2C%20%22dashArray%22%3A%20null%2C%20%22dashOffset%22%3A%20null%2C%20%22fill%22%3A%20true%2C%20%22fillColor%22%3A%20%22%234df3ce%22%2C%20%22fillOpacity%22%3A%200.7%2C%20%22fillRule%22%3A%20%22evenodd%22%2C%20%22lineCap%22%3A%20%22round%22%2C%20%22lineJoin%22%3A%20%22round%22%2C%20%22opacity%22%3A%201.0%2C%20%22radius%22%3A%205%2C%20%22stroke%22%3A%20true%2C%20%22weight%22%3A%203%7D%0A%20%20%20%20%20%20%20%20%20%20%20%20%29.addTo%28map_8649f729c1174135b61e767d588b791f%29%3B%0A%20%20%20%20%20%20%20%20%0A%20%20%20%20%0A%20%20%20%20%20%20%20%20var%20popup_74c9c15507e545ab947a6ca5d7f6cdd7%20%3D%20L.popup%28%7B%22maxWidth%22%3A%20%22100%25%22%7D%29%3B%0A%0A%20%20%20%20%20%20%20%20%0A%20%20%20%20%20%20%20%20%20%20%20%20var%20html_36b7ec5f64044234a7058ae29d5aa0ee%20%3D%20%24%28%60%3Cdiv%20id%3D%22html_36b7ec5f64044234a7058ae29d5aa0ee%22%20style%3D%22width%3A%20100.0%25%3B%20height%3A%20100.0%25%3B%22%3E90011%20Cluster%203%3C/div%3E%60%29%5B0%5D%3B%0A%20%20%20%20%20%20%20%20%20%20%20%20popup_74c9c15507e545ab947a6ca5d7f6cdd7.setContent%28html_36b7ec5f64044234a7058ae29d5aa0ee%29%3B%0A%20%20%20%20%20%20%20%20%0A%0A%20%20%20%20%20%20%20%20circle_marker_0780dfa77ed44f5a906a963991d40455.bindPopup%28popup_74c9c15507e545ab947a6ca5d7f6cdd7%29%0A%20%20%20%20%20%20%20%20%3B%0A%0A%20%20%20%20%20%20%20%20%0A%20%20%20%20%0A%20%20%20%20%0A%20%20%20%20%20%20%20%20%20%20%20%20var%20circle_marker_87b0d29b1d764bb2a3638a8882a31889%20%3D%20L.circleMarker%28%0A%20%20%20%20%20%20%20%20%20%20%20%20%20%20%20%20%5B34.07851%2C%20-118.26596%5D%2C%0A%20%20%20%20%20%20%20%20%20%20%20%20%20%20%20%20%7B%22bubblingMouseEvents%22%3A%20true%2C%20%22color%22%3A%20%22%234df3ce%22%2C%20%22dashArray%22%3A%20null%2C%20%22dashOffset%22%3A%20null%2C%20%22fill%22%3A%20true%2C%20%22fillColor%22%3A%20%22%234df3ce%22%2C%20%22fillOpacity%22%3A%200.7%2C%20%22fillRule%22%3A%20%22evenodd%22%2C%20%22lineCap%22%3A%20%22round%22%2C%20%22lineJoin%22%3A%20%22round%22%2C%20%22opacity%22%3A%201.0%2C%20%22radius%22%3A%205%2C%20%22stroke%22%3A%20true%2C%20%22weight%22%3A%203%7D%0A%20%20%20%20%20%20%20%20%20%20%20%20%29.addTo%28map_8649f729c1174135b61e767d588b791f%29%3B%0A%20%20%20%20%20%20%20%20%0A%20%20%20%20%0A%20%20%20%20%20%20%20%20var%20popup_c1b111dcff3d4b5d87f9975a5919c9dd%20%3D%20L.popup%28%7B%22maxWidth%22%3A%20%22100%25%22%7D%29%3B%0A%0A%20%20%20%20%20%20%20%20%0A%20%20%20%20%20%20%20%20%20%20%20%20var%20html_d819b5e17d4741d795206fd5415819db%20%3D%20%24%28%60%3Cdiv%20id%3D%22html_d819b5e17d4741d795206fd5415819db%22%20style%3D%22width%3A%20100.0%25%3B%20height%3A%20100.0%25%3B%22%3E90026%20Cluster%203%3C/div%3E%60%29%5B0%5D%3B%0A%20%20%20%20%20%20%20%20%20%20%20%20popup_c1b111dcff3d4b5d87f9975a5919c9dd.setContent%28html_d819b5e17d4741d795206fd5415819db%29%3B%0A%20%20%20%20%20%20%20%20%0A%0A%20%20%20%20%20%20%20%20circle_marker_87b0d29b1d764bb2a3638a8882a31889.bindPopup%28popup_c1b111dcff3d4b5d87f9975a5919c9dd%29%0A%20%20%20%20%20%20%20%20%3B%0A%0A%20%20%20%20%20%20%20%20%0A%20%20%20%20%0A%20%20%20%20%0A%20%20%20%20%20%20%20%20%20%20%20%20var%20circle_marker_a81d64ccdd4f4725aadbe48cd7c74403%20%3D%20L.circleMarker%28%0A%20%20%20%20%20%20%20%20%20%20%20%20%20%20%20%20%5B33.953814%2C%20-118.29158%5D%2C%0A%20%20%20%20%20%20%20%20%20%20%20%20%20%20%20%20%7B%22bubblingMouseEvents%22%3A%20true%2C%20%22color%22%3A%20%22%234df3ce%22%2C%20%22dashArray%22%3A%20null%2C%20%22dashOffset%22%3A%20null%2C%20%22fill%22%3A%20true%2C%20%22fillColor%22%3A%20%22%234df3ce%22%2C%20%22fillOpacity%22%3A%200.7%2C%20%22fillRule%22%3A%20%22evenodd%22%2C%20%22lineCap%22%3A%20%22round%22%2C%20%22lineJoin%22%3A%20%22round%22%2C%20%22opacity%22%3A%201.0%2C%20%22radius%22%3A%205%2C%20%22stroke%22%3A%20true%2C%20%22weight%22%3A%203%7D%0A%20%20%20%20%20%20%20%20%20%20%20%20%29.addTo%28map_8649f729c1174135b61e767d588b791f%29%3B%0A%20%20%20%20%20%20%20%20%0A%20%20%20%20%0A%20%20%20%20%20%20%20%20var%20popup_4efcb633d4b74402a401e7f9139d66f6%20%3D%20L.popup%28%7B%22maxWidth%22%3A%20%22100%25%22%7D%29%3B%0A%0A%20%20%20%20%20%20%20%20%0A%20%20%20%20%20%20%20%20%20%20%20%20var%20html_40fcc4a7fe384a189cb1e4f8c4d769f0%20%3D%20%24%28%60%3Cdiv%20id%3D%22html_40fcc4a7fe384a189cb1e4f8c4d769f0%22%20style%3D%22width%3A%20100.0%25%3B%20height%3A%20100.0%25%3B%22%3E90044%20Cluster%203%3C/div%3E%60%29%5B0%5D%3B%0A%20%20%20%20%20%20%20%20%20%20%20%20popup_4efcb633d4b74402a401e7f9139d66f6.setContent%28html_40fcc4a7fe384a189cb1e4f8c4d769f0%29%3B%0A%20%20%20%20%20%20%20%20%0A%0A%20%20%20%20%20%20%20%20circle_marker_a81d64ccdd4f4725aadbe48cd7c74403.bindPopup%28popup_4efcb633d4b74402a401e7f9139d66f6%29%0A%20%20%20%20%20%20%20%20%3B%0A%0A%20%20%20%20%20%20%20%20%0A%20%20%20%20%0A%20%20%20%20%0A%20%20%20%20%20%20%20%20%20%20%20%20var%20circle_marker_4b4458093193448f8720e3bd61635b05%20%3D%20L.circleMarker%28%0A%20%20%20%20%20%20%20%20%20%20%20%20%20%20%20%20%5B33.972814%2C%20-118.17385%5D%2C%0A%20%20%20%20%20%20%20%20%20%20%20%20%20%20%20%20%7B%22bubblingMouseEvents%22%3A%20true%2C%20%22color%22%3A%20%22%234df3ce%22%2C%20%22dashArray%22%3A%20null%2C%20%22dashOffset%22%3A%20null%2C%20%22fill%22%3A%20true%2C%20%22fillColor%22%3A%20%22%234df3ce%22%2C%20%22fillOpacity%22%3A%200.7%2C%20%22fillRule%22%3A%20%22evenodd%22%2C%20%22lineCap%22%3A%20%22round%22%2C%20%22lineJoin%22%3A%20%22round%22%2C%20%22opacity%22%3A%201.0%2C%20%22radius%22%3A%205%2C%20%22stroke%22%3A%20true%2C%20%22weight%22%3A%203%7D%0A%20%20%20%20%20%20%20%20%20%20%20%20%29.addTo%28map_8649f729c1174135b61e767d588b791f%29%3B%0A%20%20%20%20%20%20%20%20%0A%20%20%20%20%0A%20%20%20%20%20%20%20%20var%20popup_410a8d8c80784fdc94e459bf1a01b32d%20%3D%20L.popup%28%7B%22maxWidth%22%3A%20%22100%25%22%7D%29%3B%0A%0A%20%20%20%20%20%20%20%20%0A%20%20%20%20%20%20%20%20%20%20%20%20var%20html_1f45416d5a0547989f6cc0f3d734978f%20%3D%20%24%28%60%3Cdiv%20id%3D%22html_1f45416d5a0547989f6cc0f3d734978f%22%20style%3D%22width%3A%20100.0%25%3B%20height%3A%20100.0%25%3B%22%3E90201%20Cluster%203%3C/div%3E%60%29%5B0%5D%3B%0A%20%20%20%20%20%20%20%20%20%20%20%20popup_410a8d8c80784fdc94e459bf1a01b32d.setContent%28html_1f45416d5a0547989f6cc0f3d734978f%29%3B%0A%20%20%20%20%20%20%20%20%0A%0A%20%20%20%20%20%20%20%20circle_marker_4b4458093193448f8720e3bd61635b05.bindPopup%28popup_410a8d8c80784fdc94e459bf1a01b32d%29%0A%20%20%20%20%20%20%20%20%3B%0A%0A%20%20%20%20%20%20%20%20%0A%20%20%20%20%0A%20%20%20%20%0A%20%20%20%20%20%20%20%20%20%20%20%20var%20circle_marker_5ca6043a14774b148df62b00ddc64fd8%20%3D%20L.circleMarker%28%0A%20%20%20%20%20%20%20%20%20%20%20%20%20%20%20%20%5B33.914614%2C%20-118.35092%5D%2C%0A%20%20%20%20%20%20%20%20%20%20%20%20%20%20%20%20%7B%22bubblingMouseEvents%22%3A%20true%2C%20%22color%22%3A%20%22%234df3ce%22%2C%20%22dashArray%22%3A%20null%2C%20%22dashOffset%22%3A%20null%2C%20%22fill%22%3A%20true%2C%20%22fillColor%22%3A%20%22%234df3ce%22%2C%20%22fillOpacity%22%3A%200.7%2C%20%22fillRule%22%3A%20%22evenodd%22%2C%20%22lineCap%22%3A%20%22round%22%2C%20%22lineJoin%22%3A%20%22round%22%2C%20%22opacity%22%3A%201.0%2C%20%22radius%22%3A%205%2C%20%22stroke%22%3A%20true%2C%20%22weight%22%3A%203%7D%0A%20%20%20%20%20%20%20%20%20%20%20%20%29.addTo%28map_8649f729c1174135b61e767d588b791f%29%3B%0A%20%20%20%20%20%20%20%20%0A%20%20%20%20%0A%20%20%20%20%20%20%20%20var%20popup_65e13d41cc6f4add853e7f0c5f2c0cb8%20%3D%20L.popup%28%7B%22maxWidth%22%3A%20%22100%25%22%7D%29%3B%0A%0A%20%20%20%20%20%20%20%20%0A%20%20%20%20%20%20%20%20%20%20%20%20var%20html_6d4b1472d5cc4975ac15d051a8c36707%20%3D%20%24%28%60%3Cdiv%20id%3D%22html_6d4b1472d5cc4975ac15d051a8c36707%22%20style%3D%22width%3A%20100.0%25%3B%20height%3A%20100.0%25%3B%22%3E90250%20Cluster%203%3C/div%3E%60%29%5B0%5D%3B%0A%20%20%20%20%20%20%20%20%20%20%20%20popup_65e13d41cc6f4add853e7f0c5f2c0cb8.setContent%28html_6d4b1472d5cc4975ac15d051a8c36707%29%3B%0A%20%20%20%20%20%20%20%20%0A%0A%20%20%20%20%20%20%20%20circle_marker_5ca6043a14774b148df62b00ddc64fd8.bindPopup%28popup_65e13d41cc6f4add853e7f0c5f2c0cb8%29%0A%20%20%20%20%20%20%20%20%3B%0A%0A%20%20%20%20%20%20%20%20%0A%20%20%20%20%0A%20%20%20%20%0A%20%20%20%20%20%20%20%20%20%20%20%20var%20circle_marker_de0e46a1fd924620804327c2d354ca8a%20%3D%20L.circleMarker%28%0A%20%20%20%20%20%20%20%20%20%20%20%20%20%20%20%20%5B33.978404%2C%20-118.21773%5D%2C%0A%20%20%20%20%20%20%20%20%20%20%20%20%20%20%20%20%7B%22bubblingMouseEvents%22%3A%20true%2C%20%22color%22%3A%20%22%234df3ce%22%2C%20%22dashArray%22%3A%20null%2C%20%22dashOffset%22%3A%20null%2C%20%22fill%22%3A%20true%2C%20%22fillColor%22%3A%20%22%234df3ce%22%2C%20%22fillOpacity%22%3A%200.7%2C%20%22fillRule%22%3A%20%22evenodd%22%2C%20%22lineCap%22%3A%20%22round%22%2C%20%22lineJoin%22%3A%20%22round%22%2C%20%22opacity%22%3A%201.0%2C%20%22radius%22%3A%205%2C%20%22stroke%22%3A%20true%2C%20%22weight%22%3A%203%7D%0A%20%20%20%20%20%20%20%20%20%20%20%20%29.addTo%28map_8649f729c1174135b61e767d588b791f%29%3B%0A%20%20%20%20%20%20%20%20%0A%20%20%20%20%0A%20%20%20%20%20%20%20%20var%20popup_ba816ee3bfaf4f67a791888318b01e52%20%3D%20L.popup%28%7B%22maxWidth%22%3A%20%22100%25%22%7D%29%3B%0A%0A%20%20%20%20%20%20%20%20%0A%20%20%20%20%20%20%20%20%20%20%20%20var%20html_597b74be3aeb41ae98319641f69c828f%20%3D%20%24%28%60%3Cdiv%20id%3D%22html_597b74be3aeb41ae98319641f69c828f%22%20style%3D%22width%3A%20100.0%25%3B%20height%3A%20100.0%25%3B%22%3E90255%20Cluster%203%3C/div%3E%60%29%5B0%5D%3B%0A%20%20%20%20%20%20%20%20%20%20%20%20popup_ba816ee3bfaf4f67a791888318b01e52.setContent%28html_597b74be3aeb41ae98319641f69c828f%29%3B%0A%20%20%20%20%20%20%20%20%0A%0A%20%20%20%20%20%20%20%20circle_marker_de0e46a1fd924620804327c2d354ca8a.bindPopup%28popup_ba816ee3bfaf4f67a791888318b01e52%29%0A%20%20%20%20%20%20%20%20%3B%0A%0A%20%20%20%20%20%20%20%20%0A%20%20%20%20%0A%20%20%20%20%0A%20%20%20%20%20%20%20%20%20%20%20%20var%20circle_marker_bc17445035a14ed996a0b3d3c0221247%20%3D%20L.circleMarker%28%0A%20%20%20%20%20%20%20%20%20%20%20%20%20%20%20%20%5B33.924642%2C%20-118.20186%5D%2C%0A%20%20%20%20%20%20%20%20%20%20%20%20%20%20%20%20%7B%22bubblingMouseEvents%22%3A%20true%2C%20%22color%22%3A%20%22%234df3ce%22%2C%20%22dashArray%22%3A%20null%2C%20%22dashOffset%22%3A%20null%2C%20%22fill%22%3A%20true%2C%20%22fillColor%22%3A%20%22%234df3ce%22%2C%20%22fillOpacity%22%3A%200.7%2C%20%22fillRule%22%3A%20%22evenodd%22%2C%20%22lineCap%22%3A%20%22round%22%2C%20%22lineJoin%22%3A%20%22round%22%2C%20%22opacity%22%3A%201.0%2C%20%22radius%22%3A%205%2C%20%22stroke%22%3A%20true%2C%20%22weight%22%3A%203%7D%0A%20%20%20%20%20%20%20%20%20%20%20%20%29.addTo%28map_8649f729c1174135b61e767d588b791f%29%3B%0A%20%20%20%20%20%20%20%20%0A%20%20%20%20%0A%20%20%20%20%20%20%20%20var%20popup_e792a09b09c940eba8dd7d3102d9c6ba%20%3D%20L.popup%28%7B%22maxWidth%22%3A%20%22100%25%22%7D%29%3B%0A%0A%20%20%20%20%20%20%20%20%0A%20%20%20%20%20%20%20%20%20%20%20%20var%20html_d83d0aaa592c4e359ed44955671a2f5c%20%3D%20%24%28%60%3Cdiv%20id%3D%22html_d83d0aaa592c4e359ed44955671a2f5c%22%20style%3D%22width%3A%20100.0%25%3B%20height%3A%20100.0%25%3B%22%3E90262%20Cluster%203%3C/div%3E%60%29%5B0%5D%3B%0A%20%20%20%20%20%20%20%20%20%20%20%20popup_e792a09b09c940eba8dd7d3102d9c6ba.setContent%28html_d83d0aaa592c4e359ed44955671a2f5c%29%3B%0A%20%20%20%20%20%20%20%20%0A%0A%20%20%20%20%20%20%20%20circle_marker_bc17445035a14ed996a0b3d3c0221247.bindPopup%28popup_e792a09b09c940eba8dd7d3102d9c6ba%29%0A%20%20%20%20%20%20%20%20%3B%0A%0A%20%20%20%20%20%20%20%20%0A%20%20%20%20%0A%20%20%20%20%0A%20%20%20%20%20%20%20%20%20%20%20%20var%20circle_marker_71e8268709fd4e7194e57f0bd2a3e183%20%3D%20L.circleMarker%28%0A%20%20%20%20%20%20%20%20%20%20%20%20%20%20%20%20%5B33.944264%2C%20-118.1949%5D%2C%0A%20%20%20%20%20%20%20%20%20%20%20%20%20%20%20%20%7B%22bubblingMouseEvents%22%3A%20true%2C%20%22color%22%3A%20%22%234df3ce%22%2C%20%22dashArray%22%3A%20null%2C%20%22dashOffset%22%3A%20null%2C%20%22fill%22%3A%20true%2C%20%22fillColor%22%3A%20%22%234df3ce%22%2C%20%22fillOpacity%22%3A%200.7%2C%20%22fillRule%22%3A%20%22evenodd%22%2C%20%22lineCap%22%3A%20%22round%22%2C%20%22lineJoin%22%3A%20%22round%22%2C%20%22opacity%22%3A%201.0%2C%20%22radius%22%3A%205%2C%20%22stroke%22%3A%20true%2C%20%22weight%22%3A%203%7D%0A%20%20%20%20%20%20%20%20%20%20%20%20%29.addTo%28map_8649f729c1174135b61e767d588b791f%29%3B%0A%20%20%20%20%20%20%20%20%0A%20%20%20%20%0A%20%20%20%20%20%20%20%20var%20popup_5b3856b05dac4ed8aafb7a45581dba1f%20%3D%20L.popup%28%7B%22maxWidth%22%3A%20%22100%25%22%7D%29%3B%0A%0A%20%20%20%20%20%20%20%20%0A%20%20%20%20%20%20%20%20%20%20%20%20var%20html_ad99a9fced7e4be6a73403ef69dbe217%20%3D%20%24%28%60%3Cdiv%20id%3D%22html_ad99a9fced7e4be6a73403ef69dbe217%22%20style%3D%22width%3A%20100.0%25%3B%20height%3A%20100.0%25%3B%22%3E90280%20Cluster%203%3C/div%3E%60%29%5B0%5D%3B%0A%20%20%20%20%20%20%20%20%20%20%20%20popup_5b3856b05dac4ed8aafb7a45581dba1f.setContent%28html_ad99a9fced7e4be6a73403ef69dbe217%29%3B%0A%20%20%20%20%20%20%20%20%0A%0A%20%20%20%20%20%20%20%20circle_marker_71e8268709fd4e7194e57f0bd2a3e183.bindPopup%28popup_5b3856b05dac4ed8aafb7a45581dba1f%29%0A%20%20%20%20%20%20%20%20%3B%0A%0A%20%20%20%20%20%20%20%20%0A%20%20%20%20%0A%20%20%20%20%0A%20%20%20%20%20%20%20%20%20%20%20%20var%20circle_marker_eddcd1dee3784f59a62e8da1b61a154f%20%3D%20L.circleMarker%28%0A%20%20%20%20%20%20%20%20%20%20%20%20%20%20%20%20%5B33.934513%2C%20-117.95159%5D%2C%0A%20%20%20%20%20%20%20%20%20%20%20%20%20%20%20%20%7B%22bubblingMouseEvents%22%3A%20true%2C%20%22color%22%3A%20%22%234df3ce%22%2C%20%22dashArray%22%3A%20null%2C%20%22dashOffset%22%3A%20null%2C%20%22fill%22%3A%20true%2C%20%22fillColor%22%3A%20%22%234df3ce%22%2C%20%22fillOpacity%22%3A%200.7%2C%20%22fillRule%22%3A%20%22evenodd%22%2C%20%22lineCap%22%3A%20%22round%22%2C%20%22lineJoin%22%3A%20%22round%22%2C%20%22opacity%22%3A%201.0%2C%20%22radius%22%3A%205%2C%20%22stroke%22%3A%20true%2C%20%22weight%22%3A%203%7D%0A%20%20%20%20%20%20%20%20%20%20%20%20%29.addTo%28map_8649f729c1174135b61e767d588b791f%29%3B%0A%20%20%20%20%20%20%20%20%0A%20%20%20%20%0A%20%20%20%20%20%20%20%20var%20popup_4d612ed257ec49fca8a6d69a3e6d653d%20%3D%20L.popup%28%7B%22maxWidth%22%3A%20%22100%25%22%7D%29%3B%0A%0A%20%20%20%20%20%20%20%20%0A%20%20%20%20%20%20%20%20%20%20%20%20var%20html_87812232138b4d029bd8e03dd480f7c6%20%3D%20%24%28%60%3Cdiv%20id%3D%22html_87812232138b4d029bd8e03dd480f7c6%22%20style%3D%22width%3A%20100.0%25%3B%20height%3A%20100.0%25%3B%22%3E90631%20Cluster%203%3C/div%3E%60%29%5B0%5D%3B%0A%20%20%20%20%20%20%20%20%20%20%20%20popup_4d612ed257ec49fca8a6d69a3e6d653d.setContent%28html_87812232138b4d029bd8e03dd480f7c6%29%3B%0A%20%20%20%20%20%20%20%20%0A%0A%20%20%20%20%20%20%20%20circle_marker_eddcd1dee3784f59a62e8da1b61a154f.bindPopup%28popup_4d612ed257ec49fca8a6d69a3e6d653d%29%0A%20%20%20%20%20%20%20%20%3B%0A%0A%20%20%20%20%20%20%20%20%0A%20%20%20%20%0A%20%20%20%20%0A%20%20%20%20%20%20%20%20%20%20%20%20var%20circle_marker_46debbdd9d7c4b01964401cfc26d6cd1%20%3D%20L.circleMarker%28%0A%20%20%20%20%20%20%20%20%20%20%20%20%20%20%20%20%5B33.906914%2C%20-118.08339%5D%2C%0A%20%20%20%20%20%20%20%20%20%20%20%20%20%20%20%20%7B%22bubblingMouseEvents%22%3A%20true%2C%20%22color%22%3A%20%22%234df3ce%22%2C%20%22dashArray%22%3A%20null%2C%20%22dashOffset%22%3A%20null%2C%20%22fill%22%3A%20true%2C%20%22fillColor%22%3A%20%22%234df3ce%22%2C%20%22fillOpacity%22%3A%200.7%2C%20%22fillRule%22%3A%20%22evenodd%22%2C%20%22lineCap%22%3A%20%22round%22%2C%20%22lineJoin%22%3A%20%22round%22%2C%20%22opacity%22%3A%201.0%2C%20%22radius%22%3A%205%2C%20%22stroke%22%3A%20true%2C%20%22weight%22%3A%203%7D%0A%20%20%20%20%20%20%20%20%20%20%20%20%29.addTo%28map_8649f729c1174135b61e767d588b791f%29%3B%0A%20%20%20%20%20%20%20%20%0A%20%20%20%20%0A%20%20%20%20%20%20%20%20var%20popup_00dea011a2d44d69a3b781d7caea6e4e%20%3D%20L.popup%28%7B%22maxWidth%22%3A%20%22100%25%22%7D%29%3B%0A%0A%20%20%20%20%20%20%20%20%0A%20%20%20%20%20%20%20%20%20%20%20%20var%20html_ff119c590e4f4c369934db04fdc6570c%20%3D%20%24%28%60%3Cdiv%20id%3D%22html_ff119c590e4f4c369934db04fdc6570c%22%20style%3D%22width%3A%20100.0%25%3B%20height%3A%20100.0%25%3B%22%3E90650%20Cluster%203%3C/div%3E%60%29%5B0%5D%3B%0A%20%20%20%20%20%20%20%20%20%20%20%20popup_00dea011a2d44d69a3b781d7caea6e4e.setContent%28html_ff119c590e4f4c369934db04fdc6570c%29%3B%0A%20%20%20%20%20%20%20%20%0A%0A%20%20%20%20%20%20%20%20circle_marker_46debbdd9d7c4b01964401cfc26d6cd1.bindPopup%28popup_00dea011a2d44d69a3b781d7caea6e4e%29%0A%20%20%20%20%20%20%20%20%3B%0A%0A%20%20%20%20%20%20%20%20%0A%20%20%20%20%0A%20%20%20%20%0A%20%20%20%20%20%20%20%20%20%20%20%20var%20circle_marker_5c4ea2b9f1df41778e540eead196b339%20%3D%20L.circleMarker%28%0A%20%20%20%20%20%20%20%20%20%20%20%20%20%20%20%20%5B33.888165%2C%20-118.1276%5D%2C%0A%20%20%20%20%20%20%20%20%20%20%20%20%20%20%20%20%7B%22bubblingMouseEvents%22%3A%20true%2C%20%22color%22%3A%20%22%234df3ce%22%2C%20%22dashArray%22%3A%20null%2C%20%22dashOffset%22%3A%20null%2C%20%22fill%22%3A%20true%2C%20%22fillColor%22%3A%20%22%234df3ce%22%2C%20%22fillOpacity%22%3A%200.7%2C%20%22fillRule%22%3A%20%22evenodd%22%2C%20%22lineCap%22%3A%20%22round%22%2C%20%22lineJoin%22%3A%20%22round%22%2C%20%22opacity%22%3A%201.0%2C%20%22radius%22%3A%205%2C%20%22stroke%22%3A%20true%2C%20%22weight%22%3A%203%7D%0A%20%20%20%20%20%20%20%20%20%20%20%20%29.addTo%28map_8649f729c1174135b61e767d588b791f%29%3B%0A%20%20%20%20%20%20%20%20%0A%20%20%20%20%0A%20%20%20%20%20%20%20%20var%20popup_aa063348d40647179b5bb46e20e728f7%20%3D%20L.popup%28%7B%22maxWidth%22%3A%20%22100%25%22%7D%29%3B%0A%0A%20%20%20%20%20%20%20%20%0A%20%20%20%20%20%20%20%20%20%20%20%20var%20html_d1c6e3bfb7524a4f983f051ffda7b974%20%3D%20%24%28%60%3Cdiv%20id%3D%22html_d1c6e3bfb7524a4f983f051ffda7b974%22%20style%3D%22width%3A%20100.0%25%3B%20height%3A%20100.0%25%3B%22%3E90706%20Cluster%203%3C/div%3E%60%29%5B0%5D%3B%0A%20%20%20%20%20%20%20%20%20%20%20%20popup_aa063348d40647179b5bb46e20e728f7.setContent%28html_d1c6e3bfb7524a4f983f051ffda7b974%29%3B%0A%20%20%20%20%20%20%20%20%0A%0A%20%20%20%20%20%20%20%20circle_marker_5c4ea2b9f1df41778e540eead196b339.bindPopup%28popup_aa063348d40647179b5bb46e20e728f7%29%0A%20%20%20%20%20%20%20%20%3B%0A%0A%20%20%20%20%20%20%20%20%0A%20%20%20%20%0A%20%20%20%20%0A%20%20%20%20%20%20%20%20%20%20%20%20var%20circle_marker_cb1d6628977e42d799fe56b12fab89b1%20%3D%20L.circleMarker%28%0A%20%20%20%20%20%20%20%20%20%20%20%20%20%20%20%20%5B33.865916%2C%20-118.18362%5D%2C%0A%20%20%20%20%20%20%20%20%20%20%20%20%20%20%20%20%7B%22bubblingMouseEvents%22%3A%20true%2C%20%22color%22%3A%20%22%234df3ce%22%2C%20%22dashArray%22%3A%20null%2C%20%22dashOffset%22%3A%20null%2C%20%22fill%22%3A%20true%2C%20%22fillColor%22%3A%20%22%234df3ce%22%2C%20%22fillOpacity%22%3A%200.7%2C%20%22fillRule%22%3A%20%22evenodd%22%2C%20%22lineCap%22%3A%20%22round%22%2C%20%22lineJoin%22%3A%20%22round%22%2C%20%22opacity%22%3A%201.0%2C%20%22radius%22%3A%205%2C%20%22stroke%22%3A%20true%2C%20%22weight%22%3A%203%7D%0A%20%20%20%20%20%20%20%20%20%20%20%20%29.addTo%28map_8649f729c1174135b61e767d588b791f%29%3B%0A%20%20%20%20%20%20%20%20%0A%20%20%20%20%0A%20%20%20%20%20%20%20%20var%20popup_b5ad4929a4c343c8859bcd26fece2bfe%20%3D%20L.popup%28%7B%22maxWidth%22%3A%20%22100%25%22%7D%29%3B%0A%0A%20%20%20%20%20%20%20%20%0A%20%20%20%20%20%20%20%20%20%20%20%20var%20html_27d265b1083146539116ef75c56033fe%20%3D%20%24%28%60%3Cdiv%20id%3D%22html_27d265b1083146539116ef75c56033fe%22%20style%3D%22width%3A%20100.0%25%3B%20height%3A%20100.0%25%3B%22%3E90805%20Cluster%203%3C/div%3E%60%29%5B0%5D%3B%0A%20%20%20%20%20%20%20%20%20%20%20%20popup_b5ad4929a4c343c8859bcd26fece2bfe.setContent%28html_27d265b1083146539116ef75c56033fe%29%3B%0A%20%20%20%20%20%20%20%20%0A%0A%20%20%20%20%20%20%20%20circle_marker_cb1d6628977e42d799fe56b12fab89b1.bindPopup%28popup_b5ad4929a4c343c8859bcd26fece2bfe%29%0A%20%20%20%20%20%20%20%20%3B%0A%0A%20%20%20%20%20%20%20%20%0A%20%20%20%20%0A%20%20%20%20%0A%20%20%20%20%20%20%20%20%20%20%20%20var%20circle_marker_94b27efea0194eecab90ccab761c83a1%20%3D%20L.circleMarker%28%0A%20%20%20%20%20%20%20%20%20%20%20%20%20%20%20%20%5B34.254751%2C%20-118.42406%5D%2C%0A%20%20%20%20%20%20%20%20%20%20%20%20%20%20%20%20%7B%22bubblingMouseEvents%22%3A%20true%2C%20%22color%22%3A%20%22%234df3ce%22%2C%20%22dashArray%22%3A%20null%2C%20%22dashOffset%22%3A%20null%2C%20%22fill%22%3A%20true%2C%20%22fillColor%22%3A%20%22%234df3ce%22%2C%20%22fillOpacity%22%3A%200.7%2C%20%22fillRule%22%3A%20%22evenodd%22%2C%20%22lineCap%22%3A%20%22round%22%2C%20%22lineJoin%22%3A%20%22round%22%2C%20%22opacity%22%3A%201.0%2C%20%22radius%22%3A%205%2C%20%22stroke%22%3A%20true%2C%20%22weight%22%3A%203%7D%0A%20%20%20%20%20%20%20%20%20%20%20%20%29.addTo%28map_8649f729c1174135b61e767d588b791f%29%3B%0A%20%20%20%20%20%20%20%20%0A%20%20%20%20%0A%20%20%20%20%20%20%20%20var%20popup_e2a1650ef7a54bf68eba061cac64300b%20%3D%20L.popup%28%7B%22maxWidth%22%3A%20%22100%25%22%7D%29%3B%0A%0A%20%20%20%20%20%20%20%20%0A%20%20%20%20%20%20%20%20%20%20%20%20var%20html_ecec56e48b2c487787f7970eb2a468c7%20%3D%20%24%28%60%3Cdiv%20id%3D%22html_ecec56e48b2c487787f7970eb2a468c7%22%20style%3D%22width%3A%20100.0%25%3B%20height%3A%20100.0%25%3B%22%3E91331%20Cluster%203%3C/div%3E%60%29%5B0%5D%3B%0A%20%20%20%20%20%20%20%20%20%20%20%20popup_e2a1650ef7a54bf68eba061cac64300b.setContent%28html_ecec56e48b2c487787f7970eb2a468c7%29%3B%0A%20%20%20%20%20%20%20%20%0A%0A%20%20%20%20%20%20%20%20circle_marker_94b27efea0194eecab90ccab761c83a1.bindPopup%28popup_e2a1650ef7a54bf68eba061cac64300b%29%0A%20%20%20%20%20%20%20%20%3B%0A%0A%20%20%20%20%20%20%20%20%0A%20%20%20%20%0A%20%20%20%20%0A%20%20%20%20%20%20%20%20%20%20%20%20var%20circle_marker_510b0e13607145b8847af4ff25d83e30%20%3D%20L.circleMarker%28%0A%20%20%20%20%20%20%20%20%20%20%20%20%20%20%20%20%5B34.200104%2C%20-118.54099%5D%2C%0A%20%20%20%20%20%20%20%20%20%20%20%20%20%20%20%20%7B%22bubblingMouseEvents%22%3A%20true%2C%20%22color%22%3A%20%22%234df3ce%22%2C%20%22dashArray%22%3A%20null%2C%20%22dashOffset%22%3A%20null%2C%20%22fill%22%3A%20true%2C%20%22fillColor%22%3A%20%22%234df3ce%22%2C%20%22fillOpacity%22%3A%200.7%2C%20%22fillRule%22%3A%20%22evenodd%22%2C%20%22lineCap%22%3A%20%22round%22%2C%20%22lineJoin%22%3A%20%22round%22%2C%20%22opacity%22%3A%201.0%2C%20%22radius%22%3A%205%2C%20%22stroke%22%3A%20true%2C%20%22weight%22%3A%203%7D%0A%20%20%20%20%20%20%20%20%20%20%20%20%29.addTo%28map_8649f729c1174135b61e767d588b791f%29%3B%0A%20%20%20%20%20%20%20%20%0A%20%20%20%20%0A%20%20%20%20%20%20%20%20var%20popup_249be79a449e4a19a92f0148a91dc888%20%3D%20L.popup%28%7B%22maxWidth%22%3A%20%22100%25%22%7D%29%3B%0A%0A%20%20%20%20%20%20%20%20%0A%20%20%20%20%20%20%20%20%20%20%20%20var%20html_3c9a4fda02274643860081e8fc9c74eb%20%3D%20%24%28%60%3Cdiv%20id%3D%22html_3c9a4fda02274643860081e8fc9c74eb%22%20style%3D%22width%3A%20100.0%25%3B%20height%3A%20100.0%25%3B%22%3E91335%20Cluster%203%3C/div%3E%60%29%5B0%5D%3B%0A%20%20%20%20%20%20%20%20%20%20%20%20popup_249be79a449e4a19a92f0148a91dc888.setContent%28html_3c9a4fda02274643860081e8fc9c74eb%29%3B%0A%20%20%20%20%20%20%20%20%0A%0A%20%20%20%20%20%20%20%20circle_marker_510b0e13607145b8847af4ff25d83e30.bindPopup%28popup_249be79a449e4a19a92f0148a91dc888%29%0A%20%20%20%20%20%20%20%20%3B%0A%0A%20%20%20%20%20%20%20%20%0A%20%20%20%20%0A%20%20%20%20%0A%20%20%20%20%20%20%20%20%20%20%20%20var%20circle_marker_c242e9b2fbb34b6f9a6cc93323ad26bc%20%3D%20L.circleMarker%28%0A%20%20%20%20%20%20%20%20%20%20%20%20%20%20%20%20%5B34.307877%2C%20-118.42904%5D%2C%0A%20%20%20%20%20%20%20%20%20%20%20%20%20%20%20%20%7B%22bubblingMouseEvents%22%3A%20true%2C%20%22color%22%3A%20%22%234df3ce%22%2C%20%22dashArray%22%3A%20null%2C%20%22dashOffset%22%3A%20null%2C%20%22fill%22%3A%20true%2C%20%22fillColor%22%3A%20%22%234df3ce%22%2C%20%22fillOpacity%22%3A%200.7%2C%20%22fillRule%22%3A%20%22evenodd%22%2C%20%22lineCap%22%3A%20%22round%22%2C%20%22lineJoin%22%3A%20%22round%22%2C%20%22opacity%22%3A%201.0%2C%20%22radius%22%3A%205%2C%20%22stroke%22%3A%20true%2C%20%22weight%22%3A%203%7D%0A%20%20%20%20%20%20%20%20%20%20%20%20%29.addTo%28map_8649f729c1174135b61e767d588b791f%29%3B%0A%20%20%20%20%20%20%20%20%0A%20%20%20%20%0A%20%20%20%20%20%20%20%20var%20popup_0d2af05b8cf848df902d39bbabc3a924%20%3D%20L.popup%28%7B%22maxWidth%22%3A%20%22100%25%22%7D%29%3B%0A%0A%20%20%20%20%20%20%20%20%0A%20%20%20%20%20%20%20%20%20%20%20%20var%20html_e470574479a246f19389726066dd6ac6%20%3D%20%24%28%60%3Cdiv%20id%3D%22html_e470574479a246f19389726066dd6ac6%22%20style%3D%22width%3A%20100.0%25%3B%20height%3A%20100.0%25%3B%22%3E91342%20Cluster%203%3C/div%3E%60%29%5B0%5D%3B%0A%20%20%20%20%20%20%20%20%20%20%20%20popup_0d2af05b8cf848df902d39bbabc3a924.setContent%28html_e470574479a246f19389726066dd6ac6%29%3B%0A%20%20%20%20%20%20%20%20%0A%0A%20%20%20%20%20%20%20%20circle_marker_c242e9b2fbb34b6f9a6cc93323ad26bc.bindPopup%28popup_0d2af05b8cf848df902d39bbabc3a924%29%0A%20%20%20%20%20%20%20%20%3B%0A%0A%20%20%20%20%20%20%20%20%0A%20%20%20%20%0A%20%20%20%20%0A%20%20%20%20%20%20%20%20%20%20%20%20var%20circle_marker_994dfe99f9f04424944dbfbc841c79a1%20%3D%20L.circleMarker%28%0A%20%20%20%20%20%20%20%20%20%20%20%20%20%20%20%20%5B34.223753%2C%20-118.44322%5D%2C%0A%20%20%20%20%20%20%20%20%20%20%20%20%20%20%20%20%7B%22bubblingMouseEvents%22%3A%20true%2C%20%22color%22%3A%20%22%234df3ce%22%2C%20%22dashArray%22%3A%20null%2C%20%22dashOffset%22%3A%20null%2C%20%22fill%22%3A%20true%2C%20%22fillColor%22%3A%20%22%234df3ce%22%2C%20%22fillOpacity%22%3A%200.7%2C%20%22fillRule%22%3A%20%22evenodd%22%2C%20%22lineCap%22%3A%20%22round%22%2C%20%22lineJoin%22%3A%20%22round%22%2C%20%22opacity%22%3A%201.0%2C%20%22radius%22%3A%205%2C%20%22stroke%22%3A%20true%2C%20%22weight%22%3A%203%7D%0A%20%20%20%20%20%20%20%20%20%20%20%20%29.addTo%28map_8649f729c1174135b61e767d588b791f%29%3B%0A%20%20%20%20%20%20%20%20%0A%20%20%20%20%0A%20%20%20%20%20%20%20%20var%20popup_e033bfbb6a5d4eaf89381df8741f71ab%20%3D%20L.popup%28%7B%22maxWidth%22%3A%20%22100%25%22%7D%29%3B%0A%0A%20%20%20%20%20%20%20%20%0A%20%20%20%20%20%20%20%20%20%20%20%20var%20html_fec53a8da44e496abcd0504dab2bd3bb%20%3D%20%24%28%60%3Cdiv%20id%3D%22html_fec53a8da44e496abcd0504dab2bd3bb%22%20style%3D%22width%3A%20100.0%25%3B%20height%3A%20100.0%25%3B%22%3E91402%20Cluster%203%3C/div%3E%60%29%5B0%5D%3B%0A%20%20%20%20%20%20%20%20%20%20%20%20popup_e033bfbb6a5d4eaf89381df8741f71ab.setContent%28html_fec53a8da44e496abcd0504dab2bd3bb%29%3B%0A%20%20%20%20%20%20%20%20%0A%0A%20%20%20%20%20%20%20%20circle_marker_994dfe99f9f04424944dbfbc841c79a1.bindPopup%28popup_e033bfbb6a5d4eaf89381df8741f71ab%29%0A%20%20%20%20%20%20%20%20%3B%0A%0A%20%20%20%20%20%20%20%20%0A%20%20%20%20%0A%20%20%20%20%0A%20%20%20%20%20%20%20%20%20%20%20%20var%20circle_marker_e733da51483544b883dd155a359177c3%20%3D%20L.circleMarker%28%0A%20%20%20%20%20%20%20%20%20%20%20%20%20%20%20%20%5B34.087108%2C%20-117.96966%5D%2C%0A%20%20%20%20%20%20%20%20%20%20%20%20%20%20%20%20%7B%22bubblingMouseEvents%22%3A%20true%2C%20%22color%22%3A%20%22%234df3ce%22%2C%20%22dashArray%22%3A%20null%2C%20%22dashOffset%22%3A%20null%2C%20%22fill%22%3A%20true%2C%20%22fillColor%22%3A%20%22%234df3ce%22%2C%20%22fillOpacity%22%3A%200.7%2C%20%22fillRule%22%3A%20%22evenodd%22%2C%20%22lineCap%22%3A%20%22round%22%2C%20%22lineJoin%22%3A%20%22round%22%2C%20%22opacity%22%3A%201.0%2C%20%22radius%22%3A%205%2C%20%22stroke%22%3A%20true%2C%20%22weight%22%3A%203%7D%0A%20%20%20%20%20%20%20%20%20%20%20%20%29.addTo%28map_8649f729c1174135b61e767d588b791f%29%3B%0A%20%20%20%20%20%20%20%20%0A%20%20%20%20%0A%20%20%20%20%20%20%20%20var%20popup_2277faa97fcf4fdba3ad8f92c0bea7fc%20%3D%20L.popup%28%7B%22maxWidth%22%3A%20%22100%25%22%7D%29%3B%0A%0A%20%20%20%20%20%20%20%20%0A%20%20%20%20%20%20%20%20%20%20%20%20var%20html_671ec3a7eb99427f9a5cb70aa20ae539%20%3D%20%24%28%60%3Cdiv%20id%3D%22html_671ec3a7eb99427f9a5cb70aa20ae539%22%20style%3D%22width%3A%20100.0%25%3B%20height%3A%20100.0%25%3B%22%3E91706%20Cluster%203%3C/div%3E%60%29%5B0%5D%3B%0A%20%20%20%20%20%20%20%20%20%20%20%20popup_2277faa97fcf4fdba3ad8f92c0bea7fc.setContent%28html_671ec3a7eb99427f9a5cb70aa20ae539%29%3B%0A%20%20%20%20%20%20%20%20%0A%0A%20%20%20%20%20%20%20%20circle_marker_e733da51483544b883dd155a359177c3.bindPopup%28popup_2277faa97fcf4fdba3ad8f92c0bea7fc%29%0A%20%20%20%20%20%20%20%20%3B%0A%0A%20%20%20%20%20%20%20%20%0A%20%20%20%20%0A%20%20%20%20%0A%20%20%20%20%20%20%20%20%20%20%20%20var%20circle_marker_500dfbe7024c4ed9aa3c92dc8e5800c2%20%3D%20L.circleMarker%28%0A%20%20%20%20%20%20%20%20%20%20%20%20%20%20%20%20%5B34.029561%2C%20-117.93975%5D%2C%0A%20%20%20%20%20%20%20%20%20%20%20%20%20%20%20%20%7B%22bubblingMouseEvents%22%3A%20true%2C%20%22color%22%3A%20%22%234df3ce%22%2C%20%22dashArray%22%3A%20null%2C%20%22dashOffset%22%3A%20null%2C%20%22fill%22%3A%20true%2C%20%22fillColor%22%3A%20%22%234df3ce%22%2C%20%22fillOpacity%22%3A%200.7%2C%20%22fillRule%22%3A%20%22evenodd%22%2C%20%22lineCap%22%3A%20%22round%22%2C%20%22lineJoin%22%3A%20%22round%22%2C%20%22opacity%22%3A%201.0%2C%20%22radius%22%3A%205%2C%20%22stroke%22%3A%20true%2C%20%22weight%22%3A%203%7D%0A%20%20%20%20%20%20%20%20%20%20%20%20%29.addTo%28map_8649f729c1174135b61e767d588b791f%29%3B%0A%20%20%20%20%20%20%20%20%0A%20%20%20%20%0A%20%20%20%20%20%20%20%20var%20popup_275669dd8a76429b82ba855b98b98c8d%20%3D%20L.popup%28%7B%22maxWidth%22%3A%20%22100%25%22%7D%29%3B%0A%0A%20%20%20%20%20%20%20%20%0A%20%20%20%20%20%20%20%20%20%20%20%20var%20html_b8a3ced32c394dbf8b31af29aa953919%20%3D%20%24%28%60%3Cdiv%20id%3D%22html_b8a3ced32c394dbf8b31af29aa953919%22%20style%3D%22width%3A%20100.0%25%3B%20height%3A%20100.0%25%3B%22%3E91744%20Cluster%203%3C/div%3E%60%29%5B0%5D%3B%0A%20%20%20%20%20%20%20%20%20%20%20%20popup_275669dd8a76429b82ba855b98b98c8d.setContent%28html_b8a3ced32c394dbf8b31af29aa953919%29%3B%0A%20%20%20%20%20%20%20%20%0A%0A%20%20%20%20%20%20%20%20circle_marker_500dfbe7024c4ed9aa3c92dc8e5800c2.bindPopup%28popup_275669dd8a76429b82ba855b98b98c8d%29%0A%20%20%20%20%20%20%20%20%3B%0A%0A%20%20%20%20%20%20%20%20%0A%20%20%20%20%0A%20%20%20%20%0A%20%20%20%20%20%20%20%20%20%20%20%20var%20circle_marker_d2f4ff90ccbf427cb5223030f95a96fc%20%3D%20L.circleMarker%28%0A%20%20%20%20%20%20%20%20%20%20%20%20%20%20%20%20%5B34.045584%2C%20-117.75305%5D%2C%0A%20%20%20%20%20%20%20%20%20%20%20%20%20%20%20%20%7B%22bubblingMouseEvents%22%3A%20true%2C%20%22color%22%3A%20%22%234df3ce%22%2C%20%22dashArray%22%3A%20null%2C%20%22dashOffset%22%3A%20null%2C%20%22fill%22%3A%20true%2C%20%22fillColor%22%3A%20%22%234df3ce%22%2C%20%22fillOpacity%22%3A%200.7%2C%20%22fillRule%22%3A%20%22evenodd%22%2C%20%22lineCap%22%3A%20%22round%22%2C%20%22lineJoin%22%3A%20%22round%22%2C%20%22opacity%22%3A%201.0%2C%20%22radius%22%3A%205%2C%20%22stroke%22%3A%20true%2C%20%22weight%22%3A%203%7D%0A%20%20%20%20%20%20%20%20%20%20%20%20%29.addTo%28map_8649f729c1174135b61e767d588b791f%29%3B%0A%20%20%20%20%20%20%20%20%0A%20%20%20%20%0A%20%20%20%20%20%20%20%20var%20popup_455fb3e07d9549f6b5dfa465e707b323%20%3D%20L.popup%28%7B%22maxWidth%22%3A%20%22100%25%22%7D%29%3B%0A%0A%20%20%20%20%20%20%20%20%0A%20%20%20%20%20%20%20%20%20%20%20%20var%20html_16cbd4d47b984f6c929cd4f84dadc6a5%20%3D%20%24%28%60%3Cdiv%20id%3D%22html_16cbd4d47b984f6c929cd4f84dadc6a5%22%20style%3D%22width%3A%20100.0%25%3B%20height%3A%20100.0%25%3B%22%3E91766%20Cluster%203%3C/div%3E%60%29%5B0%5D%3B%0A%20%20%20%20%20%20%20%20%20%20%20%20popup_455fb3e07d9549f6b5dfa465e707b323.setContent%28html_16cbd4d47b984f6c929cd4f84dadc6a5%29%3B%0A%20%20%20%20%20%20%20%20%0A%0A%20%20%20%20%20%20%20%20circle_marker_d2f4ff90ccbf427cb5223030f95a96fc.bindPopup%28popup_455fb3e07d9549f6b5dfa465e707b323%29%0A%20%20%20%20%20%20%20%20%3B%0A%0A%20%20%20%20%20%20%20%20%0A%20%20%20%20%0A%20%20%20%20%0A%20%20%20%20%20%20%20%20%20%20%20%20var%20circle_marker_fcf080f38dc04d258b83ac7b2e36b515%20%3D%20L.circleMarker%28%0A%20%20%20%20%20%20%20%20%20%20%20%20%20%20%20%20%5B34.691946%2C%20-117.97756%5D%2C%0A%20%20%20%20%20%20%20%20%20%20%20%20%20%20%20%20%7B%22bubblingMouseEvents%22%3A%20true%2C%20%22color%22%3A%20%22%234df3ce%22%2C%20%22dashArray%22%3A%20null%2C%20%22dashOffset%22%3A%20null%2C%20%22fill%22%3A%20true%2C%20%22fillColor%22%3A%20%22%234df3ce%22%2C%20%22fillOpacity%22%3A%200.7%2C%20%22fillRule%22%3A%20%22evenodd%22%2C%20%22lineCap%22%3A%20%22round%22%2C%20%22lineJoin%22%3A%20%22round%22%2C%20%22opacity%22%3A%201.0%2C%20%22radius%22%3A%205%2C%20%22stroke%22%3A%20true%2C%20%22weight%22%3A%203%7D%0A%20%20%20%20%20%20%20%20%20%20%20%20%29.addTo%28map_8649f729c1174135b61e767d588b791f%29%3B%0A%20%20%20%20%20%20%20%20%0A%20%20%20%20%0A%20%20%20%20%20%20%20%20var%20popup_c5092d3e420842f099d4eeea89674e5d%20%3D%20L.popup%28%7B%22maxWidth%22%3A%20%22100%25%22%7D%29%3B%0A%0A%20%20%20%20%20%20%20%20%0A%20%20%20%20%20%20%20%20%20%20%20%20var%20html_82865a2dd4464dcf8adee3b6f28ec635%20%3D%20%24%28%60%3Cdiv%20id%3D%22html_82865a2dd4464dcf8adee3b6f28ec635%22%20style%3D%22width%3A%20100.0%25%3B%20height%3A%20100.0%25%3B%22%3E93535%20Cluster%203%3C/div%3E%60%29%5B0%5D%3B%0A%20%20%20%20%20%20%20%20%20%20%20%20popup_c5092d3e420842f099d4eeea89674e5d.setContent%28html_82865a2dd4464dcf8adee3b6f28ec635%29%3B%0A%20%20%20%20%20%20%20%20%0A%0A%20%20%20%20%20%20%20%20circle_marker_fcf080f38dc04d258b83ac7b2e36b515.bindPopup%28popup_c5092d3e420842f099d4eeea89674e5d%29%0A%20%20%20%20%20%20%20%20%3B%0A%0A%20%20%20%20%20%20%20%20%0A%20%20%20%20%0A%20%20%20%20%0A%20%20%20%20%20%20%20%20%20%20%20%20var%20circle_marker_c1676a368f264aea95f45409683159f1%20%3D%20L.circleMarker%28%0A%20%20%20%20%20%20%20%20%20%20%20%20%20%20%20%20%5B34.728857%2C%20-118.32683%5D%2C%0A%20%20%20%20%20%20%20%20%20%20%20%20%20%20%20%20%7B%22bubblingMouseEvents%22%3A%20true%2C%20%22color%22%3A%20%22%234df3ce%22%2C%20%22dashArray%22%3A%20null%2C%20%22dashOffset%22%3A%20null%2C%20%22fill%22%3A%20true%2C%20%22fillColor%22%3A%20%22%234df3ce%22%2C%20%22fillOpacity%22%3A%200.7%2C%20%22fillRule%22%3A%20%22evenodd%22%2C%20%22lineCap%22%3A%20%22round%22%2C%20%22lineJoin%22%3A%20%22round%22%2C%20%22opacity%22%3A%201.0%2C%20%22radius%22%3A%205%2C%20%22stroke%22%3A%20true%2C%20%22weight%22%3A%203%7D%0A%20%20%20%20%20%20%20%20%20%20%20%20%29.addTo%28map_8649f729c1174135b61e767d588b791f%29%3B%0A%20%20%20%20%20%20%20%20%0A%20%20%20%20%0A%20%20%20%20%20%20%20%20var%20popup_e6d794b047d14799aa5028a2c0edd4a0%20%3D%20L.popup%28%7B%22maxWidth%22%3A%20%22100%25%22%7D%29%3B%0A%0A%20%20%20%20%20%20%20%20%0A%20%20%20%20%20%20%20%20%20%20%20%20var%20html_e47a268b55eb4bd5a6ecd903dd7ee00e%20%3D%20%24%28%60%3Cdiv%20id%3D%22html_e47a268b55eb4bd5a6ecd903dd7ee00e%22%20style%3D%22width%3A%20100.0%25%3B%20height%3A%20100.0%25%3B%22%3E93536%20Cluster%203%3C/div%3E%60%29%5B0%5D%3B%0A%20%20%20%20%20%20%20%20%20%20%20%20popup_e6d794b047d14799aa5028a2c0edd4a0.setContent%28html_e47a268b55eb4bd5a6ecd903dd7ee00e%29%3B%0A%20%20%20%20%20%20%20%20%0A%0A%20%20%20%20%20%20%20%20circle_marker_c1676a368f264aea95f45409683159f1.bindPopup%28popup_e6d794b047d14799aa5028a2c0edd4a0%29%0A%20%20%20%20%20%20%20%20%3B%0A%0A%20%20%20%20%20%20%20%20%0A%20%20%20%20%0A%20%20%20%20%0A%20%20%20%20%20%20%20%20%20%20%20%20var%20circle_marker_5506ceca84db495f86045a6e282e6c97%20%3D%20L.circleMarker%28%0A%20%20%20%20%20%20%20%20%20%20%20%20%20%20%20%20%5B34.56548%2C%20-118.08549%5D%2C%0A%20%20%20%20%20%20%20%20%20%20%20%20%20%20%20%20%7B%22bubblingMouseEvents%22%3A%20true%2C%20%22color%22%3A%20%22%234df3ce%22%2C%20%22dashArray%22%3A%20null%2C%20%22dashOffset%22%3A%20null%2C%20%22fill%22%3A%20true%2C%20%22fillColor%22%3A%20%22%234df3ce%22%2C%20%22fillOpacity%22%3A%200.7%2C%20%22fillRule%22%3A%20%22evenodd%22%2C%20%22lineCap%22%3A%20%22round%22%2C%20%22lineJoin%22%3A%20%22round%22%2C%20%22opacity%22%3A%201.0%2C%20%22radius%22%3A%205%2C%20%22stroke%22%3A%20true%2C%20%22weight%22%3A%203%7D%0A%20%20%20%20%20%20%20%20%20%20%20%20%29.addTo%28map_8649f729c1174135b61e767d588b791f%29%3B%0A%20%20%20%20%20%20%20%20%0A%20%20%20%20%0A%20%20%20%20%20%20%20%20var%20popup_b31fba0e14f74d77a8f6a7678cc76edb%20%3D%20L.popup%28%7B%22maxWidth%22%3A%20%22100%25%22%7D%29%3B%0A%0A%20%20%20%20%20%20%20%20%0A%20%20%20%20%20%20%20%20%20%20%20%20var%20html_f5e90c8208974e359ce79dc5448d3dce%20%3D%20%24%28%60%3Cdiv%20id%3D%22html_f5e90c8208974e359ce79dc5448d3dce%22%20style%3D%22width%3A%20100.0%25%3B%20height%3A%20100.0%25%3B%22%3E93550%20Cluster%203%3C/div%3E%60%29%5B0%5D%3B%0A%20%20%20%20%20%20%20%20%20%20%20%20popup_b31fba0e14f74d77a8f6a7678cc76edb.setContent%28html_f5e90c8208974e359ce79dc5448d3dce%29%3B%0A%20%20%20%20%20%20%20%20%0A%0A%20%20%20%20%20%20%20%20circle_marker_5506ceca84db495f86045a6e282e6c97.bindPopup%28popup_b31fba0e14f74d77a8f6a7678cc76edb%29%0A%20%20%20%20%20%20%20%20%3B%0A%0A%20%20%20%20%20%20%20%20%0A%20%20%20%20%0A%3C/script%3E onload=\"this.contentDocument.open();this.contentDocument.write(    decodeURIComponent(this.getAttribute('data-html')));this.contentDocument.close();\" allowfullscreen webkitallowfullscreen mozallowfullscreen></iframe></div></div>"
     },
     "execution_count": 24,
     "metadata": {},
     "output_type": "execute_result"
    }
   ],
   "source": [
    "import matplotlib.cm as cm\n",
    "import matplotlib.colors as colors\n",
    "import folium\n",
    "import numpy as np\n",
    "# create map\n",
    "map_clusters = folium.Map(location=[latitude, longitude], zoom_start=11)\n",
    "cluster3 = final_ds.loc[final_ds['Cluster Label'] == 3]\n",
    "# set color scheme for the clusters, 6 is our number of clusters\n",
    "x = np.arange(6)\n",
    "ys = [i + x + (i*x)**2 for i in range(6)]\n",
    "colors_array = cm.rainbow(np.linspace(0, 1, len(ys)))\n",
    "rainbow = [colors.rgb2hex(i) for i in colors_array]\n",
    "# add markers to the map\n",
    "markers_colors = []\n",
    "for lat, lon, poi, cluster in zip(cluster3['Latitude'],\n",
    "                                  cluster3['Longitude'],\n",
    "                                  cluster3['Zip Code'],\n",
    "                                  cluster3['Cluster Label']):\n",
    "    label = folium.Popup(str(poi) + ' Cluster ' + str(cluster), parse_html=True)\n",
    "    folium.CircleMarker(\n",
    "        [lat, lon],\n",
    "        radius=5,\n",
    "        popup=label,\n",
    "        color=rainbow[cluster-1],\n",
    "        fill=True,\n",
    "        fill_color=rainbow[cluster-1],\n",
    "        fill_opacity=0.7).add_to(map_clusters)\n",
    "\n",
    "map_clusters"
   ],
   "metadata": {
    "collapsed": false,
    "pycharm": {
     "name": "#%%\n"
    }
   }
  },
  {
   "cell_type": "markdown",
   "source": [
    "As one can see, most of our areas in more densely populated areas and in the\n",
    " vicinity of the city of Los Angeles.\n",
    "Now let us add the \"decision factor\" again and calculate it for every single\n",
    " region in cluster 3."
   ],
   "metadata": {
    "collapsed": false,
    "pycharm": {
     "name": "#%% md\n"
    }
   }
  },
  {
   "cell_type": "code",
   "execution_count": 25,
   "outputs": [
    {
     "name": "stderr",
     "output_type": "stream",
     "text": [
      "<ipython-input-25-12c6a3c89ae9>:1: SettingWithCopyWarning:\n",
      "\n",
      "\n",
      "A value is trying to be set on a copy of a slice from a DataFrame.\n",
      "Try using .loc[row_indexer,col_indexer] = value instead\n",
      "\n",
      "See the caveats in the documentation: https://pandas.pydata.org/pandas-docs/stable/user_guide/indexing.html#returning-a-view-versus-a-copy\n",
      "\n"
     ]
    },
    {
     "data": {
      "text/plain": "     Cluster Label  Zip Code          City  \\\n132              3     90650       Norwalk   \n214              3     91342        Sylmar   \n211              3     91331       Pacoima   \n266              3     91744     La Puente   \n309              3     93536     Lancaster   \n129              3     90631      La Habra   \n85               3     90250     Hawthorne   \n254              3     91706  Baldwin Park   \n99               3     90280    South Gate   \n158              3     90805    Long Beach   \n\n                                             Community  \\\n132                                            Norwalk   \n214  Los Angeles (Lake View Terrace, Sylmar), Kagel...   \n211        Los Angeles (Arleta, Hansen Hills, Pacoima)   \n266               City of Industry, La Puente, Valinda   \n309  Del Sur, Fairmont, Lancaster, Metler Valley, N...   \n129                                   La Habra Heights   \n85                              Hawthorne (Holly Park)   \n254                            Baldwin Park, Irwindale   \n99                                          South Gate   \n158                      Long Beach (North Long Beach)   \n\n     Estimated Median Income  Longitude  Latitude  Total Population  \\\n132                  70667.0    -118.08     33.91            105549   \n214                  74050.0    -118.43     34.31             91725   \n211                  63807.0    -118.42     34.25            103689   \n266                  71243.0    -117.94     34.03             85040   \n309                  79990.0    -118.33     34.73             70918   \n129                  83629.0    -117.95     33.93             67619   \n85                   56304.0    -118.35     33.91             93193   \n254                  65755.0    -117.97     34.09             76571   \n99                   52321.0    -118.19     33.94             94396   \n158                  50914.0    -118.18     33.87             93524   \n\n     Median Age  Total Males  Total Females  Total Households  \\\n132        32.5        52364          53185             27130   \n214        31.9        45786          45939             23543   \n211        29.5        52358          51331             22465   \n266        30.9        42564          42476             18648   \n309        34.4        37804          33114             20964   \n129        34.8        33320          34299             21452   \n85         31.9        45113          48080             31087   \n254        30.5        37969          38602             17504   \n99         29.4        46321          48075             23278   \n158        29.0        45229          48295             26056   \n\n     Average Household Size  Decision Factor  \n132                    3.83         89505.97  \n214                    3.83         81506.84  \n211                    4.60         79393.01  \n266                    4.55         72702.06  \n309                    3.07         68072.77  \n129                    3.13         67858.91  \n85                     2.98         62965.66  \n254                    4.35         60419.11  \n99                     4.05         59266.72  \n158                    3.56         57140.17  ",
      "text/html": "<div>\n<style scoped>\n    .dataframe tbody tr th:only-of-type {\n        vertical-align: middle;\n    }\n\n    .dataframe tbody tr th {\n        vertical-align: top;\n    }\n\n    .dataframe thead th {\n        text-align: right;\n    }\n</style>\n<table border=\"1\" class=\"dataframe\">\n  <thead>\n    <tr style=\"text-align: right;\">\n      <th></th>\n      <th>Cluster Label</th>\n      <th>Zip Code</th>\n      <th>City</th>\n      <th>Community</th>\n      <th>Estimated Median Income</th>\n      <th>Longitude</th>\n      <th>Latitude</th>\n      <th>Total Population</th>\n      <th>Median Age</th>\n      <th>Total Males</th>\n      <th>Total Females</th>\n      <th>Total Households</th>\n      <th>Average Household Size</th>\n      <th>Decision Factor</th>\n    </tr>\n  </thead>\n  <tbody>\n    <tr>\n      <th>132</th>\n      <td>3</td>\n      <td>90650</td>\n      <td>Norwalk</td>\n      <td>Norwalk</td>\n      <td>70667.0</td>\n      <td>-118.08</td>\n      <td>33.91</td>\n      <td>105549</td>\n      <td>32.5</td>\n      <td>52364</td>\n      <td>53185</td>\n      <td>27130</td>\n      <td>3.83</td>\n      <td>89505.97</td>\n    </tr>\n    <tr>\n      <th>214</th>\n      <td>3</td>\n      <td>91342</td>\n      <td>Sylmar</td>\n      <td>Los Angeles (Lake View Terrace, Sylmar), Kagel...</td>\n      <td>74050.0</td>\n      <td>-118.43</td>\n      <td>34.31</td>\n      <td>91725</td>\n      <td>31.9</td>\n      <td>45786</td>\n      <td>45939</td>\n      <td>23543</td>\n      <td>3.83</td>\n      <td>81506.84</td>\n    </tr>\n    <tr>\n      <th>211</th>\n      <td>3</td>\n      <td>91331</td>\n      <td>Pacoima</td>\n      <td>Los Angeles (Arleta, Hansen Hills, Pacoima)</td>\n      <td>63807.0</td>\n      <td>-118.42</td>\n      <td>34.25</td>\n      <td>103689</td>\n      <td>29.5</td>\n      <td>52358</td>\n      <td>51331</td>\n      <td>22465</td>\n      <td>4.60</td>\n      <td>79393.01</td>\n    </tr>\n    <tr>\n      <th>266</th>\n      <td>3</td>\n      <td>91744</td>\n      <td>La Puente</td>\n      <td>City of Industry, La Puente, Valinda</td>\n      <td>71243.0</td>\n      <td>-117.94</td>\n      <td>34.03</td>\n      <td>85040</td>\n      <td>30.9</td>\n      <td>42564</td>\n      <td>42476</td>\n      <td>18648</td>\n      <td>4.55</td>\n      <td>72702.06</td>\n    </tr>\n    <tr>\n      <th>309</th>\n      <td>3</td>\n      <td>93536</td>\n      <td>Lancaster</td>\n      <td>Del Sur, Fairmont, Lancaster, Metler Valley, N...</td>\n      <td>79990.0</td>\n      <td>-118.33</td>\n      <td>34.73</td>\n      <td>70918</td>\n      <td>34.4</td>\n      <td>37804</td>\n      <td>33114</td>\n      <td>20964</td>\n      <td>3.07</td>\n      <td>68072.77</td>\n    </tr>\n    <tr>\n      <th>129</th>\n      <td>3</td>\n      <td>90631</td>\n      <td>La Habra</td>\n      <td>La Habra Heights</td>\n      <td>83629.0</td>\n      <td>-117.95</td>\n      <td>33.93</td>\n      <td>67619</td>\n      <td>34.8</td>\n      <td>33320</td>\n      <td>34299</td>\n      <td>21452</td>\n      <td>3.13</td>\n      <td>67858.91</td>\n    </tr>\n    <tr>\n      <th>85</th>\n      <td>3</td>\n      <td>90250</td>\n      <td>Hawthorne</td>\n      <td>Hawthorne (Holly Park)</td>\n      <td>56304.0</td>\n      <td>-118.35</td>\n      <td>33.91</td>\n      <td>93193</td>\n      <td>31.9</td>\n      <td>45113</td>\n      <td>48080</td>\n      <td>31087</td>\n      <td>2.98</td>\n      <td>62965.66</td>\n    </tr>\n    <tr>\n      <th>254</th>\n      <td>3</td>\n      <td>91706</td>\n      <td>Baldwin Park</td>\n      <td>Baldwin Park, Irwindale</td>\n      <td>65755.0</td>\n      <td>-117.97</td>\n      <td>34.09</td>\n      <td>76571</td>\n      <td>30.5</td>\n      <td>37969</td>\n      <td>38602</td>\n      <td>17504</td>\n      <td>4.35</td>\n      <td>60419.11</td>\n    </tr>\n    <tr>\n      <th>99</th>\n      <td>3</td>\n      <td>90280</td>\n      <td>South Gate</td>\n      <td>South Gate</td>\n      <td>52321.0</td>\n      <td>-118.19</td>\n      <td>33.94</td>\n      <td>94396</td>\n      <td>29.4</td>\n      <td>46321</td>\n      <td>48075</td>\n      <td>23278</td>\n      <td>4.05</td>\n      <td>59266.72</td>\n    </tr>\n    <tr>\n      <th>158</th>\n      <td>3</td>\n      <td>90805</td>\n      <td>Long Beach</td>\n      <td>Long Beach (North Long Beach)</td>\n      <td>50914.0</td>\n      <td>-118.18</td>\n      <td>33.87</td>\n      <td>93524</td>\n      <td>29.0</td>\n      <td>45229</td>\n      <td>48295</td>\n      <td>26056</td>\n      <td>3.56</td>\n      <td>57140.17</td>\n    </tr>\n  </tbody>\n</table>\n</div>"
     },
     "execution_count": 25,
     "metadata": {},
     "output_type": "execute_result"
    }
   ],
   "source": [
    "cluster3['Decision Factor'] = ( ( cluster3['Total Population'] * 1.2 ) *\n",
    "                                  cluster3['Estimated Median Income']) / 100000\n",
    "cluster3_r = cluster3.round(2)\n",
    "cluster3_sorted = cluster3_r.sort_values(by='Decision Factor', ascending=False)\n",
    "cluster3_sorted.head(10)"
   ],
   "metadata": {
    "collapsed": false,
    "pycharm": {
     "name": "#%%\n"
    }
   }
  },
  {
   "cell_type": "code",
   "execution_count": 26,
   "outputs": [
    {
     "data": {
      "text/html": "        <script type=\"text/javascript\">\n        window.PlotlyConfig = {MathJaxConfig: 'local'};\n        if (window.MathJax) {MathJax.Hub.Config({SVG: {font: \"STIX-Web\"}});}\n        if (typeof require !== 'undefined') {\n        require.undef(\"plotly\");\n        requirejs.config({\n            paths: {\n                'plotly': ['https://cdn.plot.ly/plotly-latest.min']\n            }\n        });\n        require(['plotly'], function(Plotly) {\n            window._Plotly = Plotly;\n        });\n        }\n        </script>\n        "
     },
     "metadata": {},
     "output_type": "display_data"
    },
    {
     "data": {
      "text/html": "<div>                            <div id=\"fd4a519e-1cd8-4fa0-b0cd-d947c1d5fe12\" class=\"plotly-graph-div\" style=\"height:525px; width:100%;\"></div>            <script type=\"text/javascript\">                require([\"plotly\"], function(Plotly) {                    window.PLOTLYENV=window.PLOTLYENV || {};                                    if (document.getElementById(\"fd4a519e-1cd8-4fa0-b0cd-d947c1d5fe12\")) {                    Plotly.newPlot(                        \"fd4a519e-1cd8-4fa0-b0cd-d947c1d5fe12\",                        [{\"alignmentgroup\": \"True\", \"hovertemplate\": \"Decision Factor=%{x}<br>Community=%{y}<br>Average Household Size=%{marker.color}<extra></extra>\", \"legendgroup\": \"\", \"marker\": {\"color\": [3.83, 3.83, 4.6, 4.55, 3.07], \"coloraxis\": \"coloraxis\"}, \"name\": \"\", \"offsetgroup\": \"\", \"orientation\": \"h\", \"showlegend\": false, \"textposition\": \"auto\", \"type\": \"bar\", \"x\": [89505.97, 81506.84, 79393.01, 72702.06, 68072.77], \"xaxis\": \"x\", \"y\": [\"Norwalk\", \"Los Angeles (Lake View Terrace, Sylmar), Kagel Canyon\", \"Los Angeles (Arleta, Hansen Hills, Pacoima)\", \"City of Industry, La Puente, Valinda\", \"Del Sur, Fairmont, Lancaster, Metler Valley, Neenach, Quartz Hill\"], \"yaxis\": \"y\"}],                        {\"barmode\": \"relative\", \"coloraxis\": {\"colorbar\": {\"title\": {\"text\": \"Average Household Size\"}}, \"colorscale\": [[0.0, \"#0d0887\"], [0.1111111111111111, \"#46039f\"], [0.2222222222222222, \"#7201a8\"], [0.3333333333333333, \"#9c179e\"], [0.4444444444444444, \"#bd3786\"], [0.5555555555555556, \"#d8576b\"], [0.6666666666666666, \"#ed7953\"], [0.7777777777777778, \"#fb9f3a\"], [0.8888888888888888, \"#fdca26\"], [1.0, \"#f0f921\"]]}, \"legend\": {\"tracegroupgap\": 0}, \"margin\": {\"t\": 60}, \"template\": {\"data\": {\"bar\": [{\"error_x\": {\"color\": \"#2a3f5f\"}, \"error_y\": {\"color\": \"#2a3f5f\"}, \"marker\": {\"line\": {\"color\": \"#E5ECF6\", \"width\": 0.5}}, \"type\": \"bar\"}], \"barpolar\": [{\"marker\": {\"line\": {\"color\": \"#E5ECF6\", \"width\": 0.5}}, \"type\": \"barpolar\"}], \"carpet\": [{\"aaxis\": {\"endlinecolor\": \"#2a3f5f\", \"gridcolor\": \"white\", \"linecolor\": \"white\", \"minorgridcolor\": \"white\", \"startlinecolor\": \"#2a3f5f\"}, \"baxis\": {\"endlinecolor\": \"#2a3f5f\", \"gridcolor\": \"white\", \"linecolor\": \"white\", \"minorgridcolor\": \"white\", \"startlinecolor\": \"#2a3f5f\"}, \"type\": \"carpet\"}], \"choropleth\": [{\"colorbar\": {\"outlinewidth\": 0, \"ticks\": \"\"}, \"type\": \"choropleth\"}], \"contour\": [{\"colorbar\": {\"outlinewidth\": 0, \"ticks\": \"\"}, \"colorscale\": [[0.0, \"#0d0887\"], [0.1111111111111111, \"#46039f\"], [0.2222222222222222, \"#7201a8\"], [0.3333333333333333, \"#9c179e\"], [0.4444444444444444, \"#bd3786\"], [0.5555555555555556, \"#d8576b\"], [0.6666666666666666, \"#ed7953\"], [0.7777777777777778, \"#fb9f3a\"], [0.8888888888888888, \"#fdca26\"], [1.0, \"#f0f921\"]], \"type\": \"contour\"}], \"contourcarpet\": [{\"colorbar\": {\"outlinewidth\": 0, \"ticks\": \"\"}, \"type\": \"contourcarpet\"}], \"heatmap\": [{\"colorbar\": {\"outlinewidth\": 0, \"ticks\": \"\"}, \"colorscale\": [[0.0, \"#0d0887\"], [0.1111111111111111, \"#46039f\"], [0.2222222222222222, \"#7201a8\"], [0.3333333333333333, \"#9c179e\"], [0.4444444444444444, \"#bd3786\"], [0.5555555555555556, \"#d8576b\"], [0.6666666666666666, \"#ed7953\"], [0.7777777777777778, \"#fb9f3a\"], [0.8888888888888888, \"#fdca26\"], [1.0, \"#f0f921\"]], \"type\": \"heatmap\"}], \"heatmapgl\": [{\"colorbar\": {\"outlinewidth\": 0, \"ticks\": \"\"}, \"colorscale\": [[0.0, \"#0d0887\"], [0.1111111111111111, \"#46039f\"], [0.2222222222222222, \"#7201a8\"], [0.3333333333333333, \"#9c179e\"], [0.4444444444444444, \"#bd3786\"], [0.5555555555555556, \"#d8576b\"], [0.6666666666666666, \"#ed7953\"], [0.7777777777777778, \"#fb9f3a\"], [0.8888888888888888, \"#fdca26\"], [1.0, \"#f0f921\"]], \"type\": \"heatmapgl\"}], \"histogram\": [{\"marker\": {\"colorbar\": {\"outlinewidth\": 0, \"ticks\": \"\"}}, \"type\": \"histogram\"}], \"histogram2d\": [{\"colorbar\": {\"outlinewidth\": 0, \"ticks\": \"\"}, \"colorscale\": [[0.0, \"#0d0887\"], [0.1111111111111111, \"#46039f\"], [0.2222222222222222, \"#7201a8\"], [0.3333333333333333, \"#9c179e\"], [0.4444444444444444, \"#bd3786\"], [0.5555555555555556, \"#d8576b\"], [0.6666666666666666, \"#ed7953\"], [0.7777777777777778, \"#fb9f3a\"], [0.8888888888888888, \"#fdca26\"], [1.0, \"#f0f921\"]], \"type\": \"histogram2d\"}], \"histogram2dcontour\": [{\"colorbar\": {\"outlinewidth\": 0, \"ticks\": \"\"}, \"colorscale\": [[0.0, \"#0d0887\"], [0.1111111111111111, \"#46039f\"], [0.2222222222222222, \"#7201a8\"], [0.3333333333333333, \"#9c179e\"], [0.4444444444444444, \"#bd3786\"], [0.5555555555555556, \"#d8576b\"], [0.6666666666666666, \"#ed7953\"], [0.7777777777777778, \"#fb9f3a\"], [0.8888888888888888, \"#fdca26\"], [1.0, \"#f0f921\"]], \"type\": \"histogram2dcontour\"}], \"mesh3d\": [{\"colorbar\": {\"outlinewidth\": 0, \"ticks\": \"\"}, \"type\": \"mesh3d\"}], \"parcoords\": [{\"line\": {\"colorbar\": {\"outlinewidth\": 0, \"ticks\": \"\"}}, \"type\": \"parcoords\"}], \"pie\": [{\"automargin\": true, \"type\": \"pie\"}], \"scatter\": [{\"marker\": {\"colorbar\": {\"outlinewidth\": 0, \"ticks\": \"\"}}, \"type\": \"scatter\"}], \"scatter3d\": [{\"line\": {\"colorbar\": {\"outlinewidth\": 0, \"ticks\": \"\"}}, \"marker\": {\"colorbar\": {\"outlinewidth\": 0, \"ticks\": \"\"}}, \"type\": \"scatter3d\"}], \"scattercarpet\": [{\"marker\": {\"colorbar\": {\"outlinewidth\": 0, \"ticks\": \"\"}}, \"type\": \"scattercarpet\"}], \"scattergeo\": [{\"marker\": {\"colorbar\": {\"outlinewidth\": 0, \"ticks\": \"\"}}, \"type\": \"scattergeo\"}], \"scattergl\": [{\"marker\": {\"colorbar\": {\"outlinewidth\": 0, \"ticks\": \"\"}}, \"type\": \"scattergl\"}], \"scattermapbox\": [{\"marker\": {\"colorbar\": {\"outlinewidth\": 0, \"ticks\": \"\"}}, \"type\": \"scattermapbox\"}], \"scatterpolar\": [{\"marker\": {\"colorbar\": {\"outlinewidth\": 0, \"ticks\": \"\"}}, \"type\": \"scatterpolar\"}], \"scatterpolargl\": [{\"marker\": {\"colorbar\": {\"outlinewidth\": 0, \"ticks\": \"\"}}, \"type\": \"scatterpolargl\"}], \"scatterternary\": [{\"marker\": {\"colorbar\": {\"outlinewidth\": 0, \"ticks\": \"\"}}, \"type\": \"scatterternary\"}], \"surface\": [{\"colorbar\": {\"outlinewidth\": 0, \"ticks\": \"\"}, \"colorscale\": [[0.0, \"#0d0887\"], [0.1111111111111111, \"#46039f\"], [0.2222222222222222, \"#7201a8\"], [0.3333333333333333, \"#9c179e\"], [0.4444444444444444, \"#bd3786\"], [0.5555555555555556, \"#d8576b\"], [0.6666666666666666, \"#ed7953\"], [0.7777777777777778, \"#fb9f3a\"], [0.8888888888888888, \"#fdca26\"], [1.0, \"#f0f921\"]], \"type\": \"surface\"}], \"table\": [{\"cells\": {\"fill\": {\"color\": \"#EBF0F8\"}, \"line\": {\"color\": \"white\"}}, \"header\": {\"fill\": {\"color\": \"#C8D4E3\"}, \"line\": {\"color\": \"white\"}}, \"type\": \"table\"}]}, \"layout\": {\"annotationdefaults\": {\"arrowcolor\": \"#2a3f5f\", \"arrowhead\": 0, \"arrowwidth\": 1}, \"autotypenumbers\": \"strict\", \"coloraxis\": {\"colorbar\": {\"outlinewidth\": 0, \"ticks\": \"\"}}, \"colorscale\": {\"diverging\": [[0, \"#8e0152\"], [0.1, \"#c51b7d\"], [0.2, \"#de77ae\"], [0.3, \"#f1b6da\"], [0.4, \"#fde0ef\"], [0.5, \"#f7f7f7\"], [0.6, \"#e6f5d0\"], [0.7, \"#b8e186\"], [0.8, \"#7fbc41\"], [0.9, \"#4d9221\"], [1, \"#276419\"]], \"sequential\": [[0.0, \"#0d0887\"], [0.1111111111111111, \"#46039f\"], [0.2222222222222222, \"#7201a8\"], [0.3333333333333333, \"#9c179e\"], [0.4444444444444444, \"#bd3786\"], [0.5555555555555556, \"#d8576b\"], [0.6666666666666666, \"#ed7953\"], [0.7777777777777778, \"#fb9f3a\"], [0.8888888888888888, \"#fdca26\"], [1.0, \"#f0f921\"]], \"sequentialminus\": [[0.0, \"#0d0887\"], [0.1111111111111111, \"#46039f\"], [0.2222222222222222, \"#7201a8\"], [0.3333333333333333, \"#9c179e\"], [0.4444444444444444, \"#bd3786\"], [0.5555555555555556, \"#d8576b\"], [0.6666666666666666, \"#ed7953\"], [0.7777777777777778, \"#fb9f3a\"], [0.8888888888888888, \"#fdca26\"], [1.0, \"#f0f921\"]]}, \"colorway\": [\"#636efa\", \"#EF553B\", \"#00cc96\", \"#ab63fa\", \"#FFA15A\", \"#19d3f3\", \"#FF6692\", \"#B6E880\", \"#FF97FF\", \"#FECB52\"], \"font\": {\"color\": \"#2a3f5f\"}, \"geo\": {\"bgcolor\": \"white\", \"lakecolor\": \"white\", \"landcolor\": \"#E5ECF6\", \"showlakes\": true, \"showland\": true, \"subunitcolor\": \"white\"}, \"hoverlabel\": {\"align\": \"left\"}, \"hovermode\": \"closest\", \"mapbox\": {\"style\": \"light\"}, \"paper_bgcolor\": \"white\", \"plot_bgcolor\": \"#E5ECF6\", \"polar\": {\"angularaxis\": {\"gridcolor\": \"white\", \"linecolor\": \"white\", \"ticks\": \"\"}, \"bgcolor\": \"#E5ECF6\", \"radialaxis\": {\"gridcolor\": \"white\", \"linecolor\": \"white\", \"ticks\": \"\"}}, \"scene\": {\"xaxis\": {\"backgroundcolor\": \"#E5ECF6\", \"gridcolor\": \"white\", \"gridwidth\": 2, \"linecolor\": \"white\", \"showbackground\": true, \"ticks\": \"\", \"zerolinecolor\": \"white\"}, \"yaxis\": {\"backgroundcolor\": \"#E5ECF6\", \"gridcolor\": \"white\", \"gridwidth\": 2, \"linecolor\": \"white\", \"showbackground\": true, \"ticks\": \"\", \"zerolinecolor\": \"white\"}, \"zaxis\": {\"backgroundcolor\": \"#E5ECF6\", \"gridcolor\": \"white\", \"gridwidth\": 2, \"linecolor\": \"white\", \"showbackground\": true, \"ticks\": \"\", \"zerolinecolor\": \"white\"}}, \"shapedefaults\": {\"line\": {\"color\": \"#2a3f5f\"}}, \"ternary\": {\"aaxis\": {\"gridcolor\": \"white\", \"linecolor\": \"white\", \"ticks\": \"\"}, \"baxis\": {\"gridcolor\": \"white\", \"linecolor\": \"white\", \"ticks\": \"\"}, \"bgcolor\": \"#E5ECF6\", \"caxis\": {\"gridcolor\": \"white\", \"linecolor\": \"white\", \"ticks\": \"\"}}, \"title\": {\"x\": 0.05}, \"xaxis\": {\"automargin\": true, \"gridcolor\": \"white\", \"linecolor\": \"white\", \"ticks\": \"\", \"title\": {\"standoff\": 15}, \"zerolinecolor\": \"white\", \"zerolinewidth\": 2}, \"yaxis\": {\"automargin\": true, \"gridcolor\": \"white\", \"linecolor\": \"white\", \"ticks\": \"\", \"title\": {\"standoff\": 15}, \"zerolinecolor\": \"white\", \"zerolinewidth\": 2}}}, \"xaxis\": {\"anchor\": \"y\", \"domain\": [0.0, 1.0], \"title\": {\"text\": \"Decision Factor\"}}, \"yaxis\": {\"anchor\": \"x\", \"domain\": [0.0, 1.0], \"title\": {\"text\": \"Community\"}}},                        {\"responsive\": true}                    ).then(function(){\n                            \nvar gd = document.getElementById('fd4a519e-1cd8-4fa0-b0cd-d947c1d5fe12');\nvar x = new MutationObserver(function (mutations, observer) {{\n        var display = window.getComputedStyle(gd).display;\n        if (!display || display === 'none') {{\n            console.log([gd, 'removed!']);\n            Plotly.purge(gd);\n            observer.disconnect();\n        }}\n}});\n\n// Listen for the removal of the full notebook cells\nvar notebookContainer = gd.closest('#notebook-container');\nif (notebookContainer) {{\n    x.observe(notebookContainer, {childList: true});\n}}\n\n// Listen for the clearing of the current output cell\nvar outputEl = gd.closest('.output');\nif (outputEl) {{\n    x.observe(outputEl, {childList: true});\n}}\n\n                        })                };                });            </script>        </div>"
     },
     "metadata": {},
     "output_type": "display_data"
    }
   ],
   "source": [
    "# draw the top 5 areas according to income and population\n",
    "cluster3_top5 = cluster3_sorted.iloc[0:5]\n",
    "fig = px.bar(cluster3_top5, x='Decision Factor', y='Community',\n",
    "             color='Average Household Size' )\n",
    "fig.show(renderer='notebook_connected')"
   ],
   "metadata": {
    "collapsed": false,
    "pycharm": {
     "name": "#%%\n"
    }
   }
  },
  {
   "cell_type": "markdown",
   "source": [
    "So there are three areas that stand out:\n",
    "- Norwalk, with a population of 105,6k and an income of $70,6k; it has the\n",
    "oldest median age of the three communities and the largest population.\n",
    "- Lake View Terrace in Sylmar, with a population of 91,7k and an income of\n",
    "$74k; it has the highest income of the group and the lowest population.\n",
    "- Hansen Hills in Pacoima, with a population 104,7k and an income of $63,8k.\n",
    " It has the youngest median age of the three and is very close to Norwalk in\n",
    "  terms of population, but it has the lowest income.\n",
    "\n",
    "Looking back at the initial analysis we did for all areas in Los Angeles\n",
    "County, we find that these three areas were also part auf the group we\n",
    "found, based on their features. So through the clustering we could confirm our\n",
    "initial findings."
   ],
   "metadata": {
    "collapsed": false,
    "pycharm": {
     "name": "#%% md\n"
    }
   }
  },
  {
   "cell_type": "markdown",
   "source": [
    "#### Exploring local food venues"
   ],
   "metadata": {
    "collapsed": false
   }
  },
  {
   "cell_type": "markdown",
   "source": [
    "Using Foursquare, we are going to query the existing food venues in the\n",
    "three areas.\n",
    "\n",
    "We will use a radius of 4 kilometres around the center of every community.\n",
    "I will also use the city and zip code from the response to filter out\n",
    "results from Foursquare that actually do not belong to the city community we\n",
    " are exploring."
   ],
   "metadata": {
    "collapsed": false
   }
  },
  {
   "cell_type": "code",
   "execution_count": 27,
   "outputs": [
    {
     "data": {
      "text/plain": "Zip Code              367\nCommunity             367\nZip Code Latitude     367\nZip Code Longitude    367\nVenue                 367\nVenue Category        367\nCity                  367\nPostalCode            367\ndtype: int64"
     },
     "execution_count": 27,
     "metadata": {},
     "output_type": "execute_result"
    }
   ],
   "source": [
    "import itertools\n",
    "top3 = cluster3_sorted.iloc[0:3]\n",
    "venues_list=[]\n",
    "# Get the local food venues for all 3 of our communities\n",
    "for _, record in top3.iterrows():\n",
    "    offset = 0\n",
    "    for _ in itertools.repeat(None, 4):\n",
    "        url = 'https://api.foursquare' \\\n",
    "              '.com/v2/venues/explore?&client_id={}&client_secret={}&v={}&ll={},' \\\n",
    "              '{}&radius={}&limit={}&offset={}&categoryId={}'.format(\n",
    "            CLIENT_ID, CLIENT_SECRET, VERSION, record['Latitude'],\n",
    "            record['Longitude'], 4000, 50, offset, '4d4b7105d754a06374d81259')\n",
    "        # increase the offset for the next run\n",
    "        offset += 50\n",
    "        # try to read the items from the Foursquare response and loop over them\n",
    "        try:\n",
    "            results = requests.get(url).json()[\"response\"]['groups'][0]['items']\n",
    "            for v in results:\n",
    "                # get the city name from the Foursquare response, if possible\n",
    "                try:\n",
    "                    city = v['venue']['location']['city']\n",
    "                except:\n",
    "                    city = str(record['City'])\n",
    "                # get the zip code from the Foursquare response, if possible\n",
    "                try:\n",
    "                    postalCode = str(v['venue']['location']['postalCode'])\n",
    "                except:\n",
    "                    postalCode = str(record['Zip Code'])\n",
    "\n",
    "                venues_list.append((record['Zip Code'], record['Community'],\n",
    "                                    record['Latitude'], record['Longitude'],\n",
    "                                    v['venue']['name'],\n",
    "                                    v['venue']['categories'][0]['name'],\n",
    "                                    city, postalCode))\n",
    "        except:\n",
    "            # there are no more results that Foursquare can deliver\n",
    "            break\n",
    "# create a dataframe from all venues we have found for all 3 areas\n",
    "nearby_venues = pd.DataFrame(venues_list, columns=['Zip Code', 'Community',\n",
    "              'Zip Code Latitude', 'Zip Code Longitude', 'Venue',\n",
    "              'Venue Category', 'City', 'PostalCode'])\n",
    "nearby_venues.count()"
   ],
   "metadata": {
    "collapsed": false,
    "pycharm": {
     "name": "#%%\n"
    }
   }
  },
  {
   "cell_type": "code",
   "execution_count": 28,
   "outputs": [
    {
     "data": {
      "text/plain": "Zip Code              164\nCommunity             164\nZip Code Latitude     164\nZip Code Longitude    164\nVenue                 164\nVenue Category        164\nCity                  164\nPostalCode            164\ndtype: int64"
     },
     "execution_count": 28,
     "metadata": {},
     "output_type": "execute_result"
    }
   ],
   "source": [
    "# only keep the records that belong to our 3 chosen cities\n",
    "venues_cleaned = nearby_venues.loc[\n",
    "                 nearby_venues['City'].isin(['Norwalk', 'Sylmar', 'Pacoima'])]\n",
    "venues_cleaned.count()"
   ],
   "metadata": {
    "collapsed": false,
    "pycharm": {
     "name": "#%%\n"
    }
   }
  },
  {
   "cell_type": "markdown",
   "source": [
    "We found 167 food venues across all 3 areas.\n",
    "In the next step we will group the food venues by category and city.\n",
    "We can use the count of food venues per category to visualize the\n",
    "distribution across the communities."
   ],
   "metadata": {
    "collapsed": false,
    "pycharm": {
     "name": "#%% md\n"
    }
   }
  },
  {
   "cell_type": "code",
   "execution_count": 29,
   "outputs": [
    {
     "data": {
      "text/plain": "       City             Venue Category  Count\n49   Sylmar         Mexican Restaurant     13\n50   Sylmar                Pizza Place      7\n52   Sylmar             Sandwich Place      6\n43   Sylmar         Chinese Restaurant      4\n38   Sylmar        American Restaurant      3\n45   Sylmar       Fast Food Restaurant      3\n47   Sylmar        Fried Chicken Joint      3\n44   Sylmar                 Donut Shop      2\n46   Sylmar                       Food      2\n48   Sylmar         Italian Restaurant      2\n39   Sylmar           Asian Restaurant      1\n40   Sylmar                     Bakery      1\n41   Sylmar             Breakfast Spot      1\n42   Sylmar              Burrito Place      1\n51   Sylmar                 Restaurant      1\n53   Sylmar                Snack Place      1\n54   Sylmar           Sushi Restaurant      1\n55   Sylmar                 Taco Place      1\n56   Sylmar            Thai Restaurant      1\n31  Pacoima         Mexican Restaurant      8\n28  Pacoima       Fast Food Restaurant      7\n35  Pacoima                 Taco Place      4\n34  Pacoima             Sandwich Place      3\n26  Pacoima               Burger Joint      2\n33  Pacoima                Pizza Place      2\n23  Pacoima        American Restaurant      1\n24  Pacoima                  BBQ Joint      1\n25  Pacoima             Breakfast Spot      1\n27  Pacoima         Chinese Restaurant      1\n29  Pacoima                 Food Court      1\n30  Pacoima        Fried Chicken Joint      1\n32  Pacoima  Middle Eastern Restaurant      1\n36  Pacoima            Thai Restaurant      1\n37  Pacoima                Wings Joint      1\n8   Norwalk       Fast Food Restaurant     14\n16  Norwalk         Mexican Restaurant     12\n18  Norwalk             Sandwich Place      8\n17  Norwalk                Pizza Place      7\n5   Norwalk         Chinese Restaurant      5\n7   Norwalk                 Donut Shop      5\n0   Norwalk        American Restaurant      3\n1   Norwalk           Asian Restaurant      3\n4   Norwalk               Burger Joint      2\n12  Norwalk                 Food Truck      2\n13  Norwalk        Fried Chicken Joint      2\n2   Norwalk                     Bakery      1\n3   Norwalk             Breakfast Spot      1\n6   Norwalk         Donburi Restaurant      1\n9   Norwalk          Fish & Chips Shop      1\n10  Norwalk                       Food      1\n11  Norwalk                 Food Court      1\n14  Norwalk        Japanese Restaurant      1\n15  Norwalk          Korean Restaurant      1\n19  Norwalk                 Steakhouse      1\n20  Norwalk           Sushi Restaurant      1\n21  Norwalk                 Taco Place      1\n22  Norwalk            Thai Restaurant      1",
      "text/html": "<div>\n<style scoped>\n    .dataframe tbody tr th:only-of-type {\n        vertical-align: middle;\n    }\n\n    .dataframe tbody tr th {\n        vertical-align: top;\n    }\n\n    .dataframe thead th {\n        text-align: right;\n    }\n</style>\n<table border=\"1\" class=\"dataframe\">\n  <thead>\n    <tr style=\"text-align: right;\">\n      <th></th>\n      <th>City</th>\n      <th>Venue Category</th>\n      <th>Count</th>\n    </tr>\n  </thead>\n  <tbody>\n    <tr>\n      <th>49</th>\n      <td>Sylmar</td>\n      <td>Mexican Restaurant</td>\n      <td>13</td>\n    </tr>\n    <tr>\n      <th>50</th>\n      <td>Sylmar</td>\n      <td>Pizza Place</td>\n      <td>7</td>\n    </tr>\n    <tr>\n      <th>52</th>\n      <td>Sylmar</td>\n      <td>Sandwich Place</td>\n      <td>6</td>\n    </tr>\n    <tr>\n      <th>43</th>\n      <td>Sylmar</td>\n      <td>Chinese Restaurant</td>\n      <td>4</td>\n    </tr>\n    <tr>\n      <th>38</th>\n      <td>Sylmar</td>\n      <td>American Restaurant</td>\n      <td>3</td>\n    </tr>\n    <tr>\n      <th>45</th>\n      <td>Sylmar</td>\n      <td>Fast Food Restaurant</td>\n      <td>3</td>\n    </tr>\n    <tr>\n      <th>47</th>\n      <td>Sylmar</td>\n      <td>Fried Chicken Joint</td>\n      <td>3</td>\n    </tr>\n    <tr>\n      <th>44</th>\n      <td>Sylmar</td>\n      <td>Donut Shop</td>\n      <td>2</td>\n    </tr>\n    <tr>\n      <th>46</th>\n      <td>Sylmar</td>\n      <td>Food</td>\n      <td>2</td>\n    </tr>\n    <tr>\n      <th>48</th>\n      <td>Sylmar</td>\n      <td>Italian Restaurant</td>\n      <td>2</td>\n    </tr>\n    <tr>\n      <th>39</th>\n      <td>Sylmar</td>\n      <td>Asian Restaurant</td>\n      <td>1</td>\n    </tr>\n    <tr>\n      <th>40</th>\n      <td>Sylmar</td>\n      <td>Bakery</td>\n      <td>1</td>\n    </tr>\n    <tr>\n      <th>41</th>\n      <td>Sylmar</td>\n      <td>Breakfast Spot</td>\n      <td>1</td>\n    </tr>\n    <tr>\n      <th>42</th>\n      <td>Sylmar</td>\n      <td>Burrito Place</td>\n      <td>1</td>\n    </tr>\n    <tr>\n      <th>51</th>\n      <td>Sylmar</td>\n      <td>Restaurant</td>\n      <td>1</td>\n    </tr>\n    <tr>\n      <th>53</th>\n      <td>Sylmar</td>\n      <td>Snack Place</td>\n      <td>1</td>\n    </tr>\n    <tr>\n      <th>54</th>\n      <td>Sylmar</td>\n      <td>Sushi Restaurant</td>\n      <td>1</td>\n    </tr>\n    <tr>\n      <th>55</th>\n      <td>Sylmar</td>\n      <td>Taco Place</td>\n      <td>1</td>\n    </tr>\n    <tr>\n      <th>56</th>\n      <td>Sylmar</td>\n      <td>Thai Restaurant</td>\n      <td>1</td>\n    </tr>\n    <tr>\n      <th>31</th>\n      <td>Pacoima</td>\n      <td>Mexican Restaurant</td>\n      <td>8</td>\n    </tr>\n    <tr>\n      <th>28</th>\n      <td>Pacoima</td>\n      <td>Fast Food Restaurant</td>\n      <td>7</td>\n    </tr>\n    <tr>\n      <th>35</th>\n      <td>Pacoima</td>\n      <td>Taco Place</td>\n      <td>4</td>\n    </tr>\n    <tr>\n      <th>34</th>\n      <td>Pacoima</td>\n      <td>Sandwich Place</td>\n      <td>3</td>\n    </tr>\n    <tr>\n      <th>26</th>\n      <td>Pacoima</td>\n      <td>Burger Joint</td>\n      <td>2</td>\n    </tr>\n    <tr>\n      <th>33</th>\n      <td>Pacoima</td>\n      <td>Pizza Place</td>\n      <td>2</td>\n    </tr>\n    <tr>\n      <th>23</th>\n      <td>Pacoima</td>\n      <td>American Restaurant</td>\n      <td>1</td>\n    </tr>\n    <tr>\n      <th>24</th>\n      <td>Pacoima</td>\n      <td>BBQ Joint</td>\n      <td>1</td>\n    </tr>\n    <tr>\n      <th>25</th>\n      <td>Pacoima</td>\n      <td>Breakfast Spot</td>\n      <td>1</td>\n    </tr>\n    <tr>\n      <th>27</th>\n      <td>Pacoima</td>\n      <td>Chinese Restaurant</td>\n      <td>1</td>\n    </tr>\n    <tr>\n      <th>29</th>\n      <td>Pacoima</td>\n      <td>Food Court</td>\n      <td>1</td>\n    </tr>\n    <tr>\n      <th>30</th>\n      <td>Pacoima</td>\n      <td>Fried Chicken Joint</td>\n      <td>1</td>\n    </tr>\n    <tr>\n      <th>32</th>\n      <td>Pacoima</td>\n      <td>Middle Eastern Restaurant</td>\n      <td>1</td>\n    </tr>\n    <tr>\n      <th>36</th>\n      <td>Pacoima</td>\n      <td>Thai Restaurant</td>\n      <td>1</td>\n    </tr>\n    <tr>\n      <th>37</th>\n      <td>Pacoima</td>\n      <td>Wings Joint</td>\n      <td>1</td>\n    </tr>\n    <tr>\n      <th>8</th>\n      <td>Norwalk</td>\n      <td>Fast Food Restaurant</td>\n      <td>14</td>\n    </tr>\n    <tr>\n      <th>16</th>\n      <td>Norwalk</td>\n      <td>Mexican Restaurant</td>\n      <td>12</td>\n    </tr>\n    <tr>\n      <th>18</th>\n      <td>Norwalk</td>\n      <td>Sandwich Place</td>\n      <td>8</td>\n    </tr>\n    <tr>\n      <th>17</th>\n      <td>Norwalk</td>\n      <td>Pizza Place</td>\n      <td>7</td>\n    </tr>\n    <tr>\n      <th>5</th>\n      <td>Norwalk</td>\n      <td>Chinese Restaurant</td>\n      <td>5</td>\n    </tr>\n    <tr>\n      <th>7</th>\n      <td>Norwalk</td>\n      <td>Donut Shop</td>\n      <td>5</td>\n    </tr>\n    <tr>\n      <th>0</th>\n      <td>Norwalk</td>\n      <td>American Restaurant</td>\n      <td>3</td>\n    </tr>\n    <tr>\n      <th>1</th>\n      <td>Norwalk</td>\n      <td>Asian Restaurant</td>\n      <td>3</td>\n    </tr>\n    <tr>\n      <th>4</th>\n      <td>Norwalk</td>\n      <td>Burger Joint</td>\n      <td>2</td>\n    </tr>\n    <tr>\n      <th>12</th>\n      <td>Norwalk</td>\n      <td>Food Truck</td>\n      <td>2</td>\n    </tr>\n    <tr>\n      <th>13</th>\n      <td>Norwalk</td>\n      <td>Fried Chicken Joint</td>\n      <td>2</td>\n    </tr>\n    <tr>\n      <th>2</th>\n      <td>Norwalk</td>\n      <td>Bakery</td>\n      <td>1</td>\n    </tr>\n    <tr>\n      <th>3</th>\n      <td>Norwalk</td>\n      <td>Breakfast Spot</td>\n      <td>1</td>\n    </tr>\n    <tr>\n      <th>6</th>\n      <td>Norwalk</td>\n      <td>Donburi Restaurant</td>\n      <td>1</td>\n    </tr>\n    <tr>\n      <th>9</th>\n      <td>Norwalk</td>\n      <td>Fish &amp; Chips Shop</td>\n      <td>1</td>\n    </tr>\n    <tr>\n      <th>10</th>\n      <td>Norwalk</td>\n      <td>Food</td>\n      <td>1</td>\n    </tr>\n    <tr>\n      <th>11</th>\n      <td>Norwalk</td>\n      <td>Food Court</td>\n      <td>1</td>\n    </tr>\n    <tr>\n      <th>14</th>\n      <td>Norwalk</td>\n      <td>Japanese Restaurant</td>\n      <td>1</td>\n    </tr>\n    <tr>\n      <th>15</th>\n      <td>Norwalk</td>\n      <td>Korean Restaurant</td>\n      <td>1</td>\n    </tr>\n    <tr>\n      <th>19</th>\n      <td>Norwalk</td>\n      <td>Steakhouse</td>\n      <td>1</td>\n    </tr>\n    <tr>\n      <th>20</th>\n      <td>Norwalk</td>\n      <td>Sushi Restaurant</td>\n      <td>1</td>\n    </tr>\n    <tr>\n      <th>21</th>\n      <td>Norwalk</td>\n      <td>Taco Place</td>\n      <td>1</td>\n    </tr>\n    <tr>\n      <th>22</th>\n      <td>Norwalk</td>\n      <td>Thai Restaurant</td>\n      <td>1</td>\n    </tr>\n  </tbody>\n</table>\n</div>"
     },
     "execution_count": 29,
     "metadata": {},
     "output_type": "execute_result"
    }
   ],
   "source": [
    "# extract city name and food venue category\n",
    "categs = venues_cleaned[['City', 'Venue Category']]\n",
    "# count the number of restaurants per city and category\n",
    "categs_count = categs.groupby(['City', 'Venue Category']).size().to_frame(\n",
    "               'Count').reset_index()\n",
    "# sort the result by city and count\n",
    "categs_sorted = categs_count.sort_values(by=['City', 'Count'],\n",
    "                                         ascending=False)\n",
    "categs_sorted"
   ],
   "metadata": {
    "collapsed": false,
    "pycharm": {
     "name": "#%%\n"
    }
   }
  },
  {
   "cell_type": "code",
   "execution_count": 30,
   "outputs": [
    {
     "data": {
      "text/html": "        <script type=\"text/javascript\">\n        window.PlotlyConfig = {MathJaxConfig: 'local'};\n        if (window.MathJax) {MathJax.Hub.Config({SVG: {font: \"STIX-Web\"}});}\n        if (typeof require !== 'undefined') {\n        require.undef(\"plotly\");\n        requirejs.config({\n            paths: {\n                'plotly': ['https://cdn.plot.ly/plotly-latest.min']\n            }\n        });\n        require(['plotly'], function(Plotly) {\n            window._Plotly = Plotly;\n        });\n        }\n        </script>\n        "
     },
     "metadata": {},
     "output_type": "display_data"
    },
    {
     "data": {
      "text/html": "<div>                            <div id=\"0fd62fe3-b66d-4641-87c4-97cf16e262b5\" class=\"plotly-graph-div\" style=\"height:525px; width:100%;\"></div>            <script type=\"text/javascript\">                require([\"plotly\"], function(Plotly) {                    window.PLOTLYENV=window.PLOTLYENV || {};                                    if (document.getElementById(\"0fd62fe3-b66d-4641-87c4-97cf16e262b5\")) {                    Plotly.newPlot(                        \"0fd62fe3-b66d-4641-87c4-97cf16e262b5\",                        [{\"alignmentgroup\": \"True\", \"hovertemplate\": \"City=Sylmar<br>Count=%{x}<br>Venue Category=%{y}<extra></extra>\", \"legendgroup\": \"Sylmar\", \"marker\": {\"color\": \"#636efa\"}, \"name\": \"Sylmar\", \"offsetgroup\": \"Sylmar\", \"orientation\": \"h\", \"showlegend\": true, \"textposition\": \"auto\", \"type\": \"bar\", \"x\": [13, 7, 6, 4, 3, 3, 3, 2, 2, 2], \"xaxis\": \"x\", \"y\": [\"Mexican Restaurant\", \"Pizza Place\", \"Sandwich Place\", \"Chinese Restaurant\", \"American Restaurant\", \"Fast Food Restaurant\", \"Fried Chicken Joint\", \"Donut Shop\", \"Food\", \"Italian Restaurant\"], \"yaxis\": \"y\"}, {\"alignmentgroup\": \"True\", \"hovertemplate\": \"City=Pacoima<br>Count=%{x}<br>Venue Category=%{y}<extra></extra>\", \"legendgroup\": \"Pacoima\", \"marker\": {\"color\": \"#EF553B\"}, \"name\": \"Pacoima\", \"offsetgroup\": \"Pacoima\", \"orientation\": \"h\", \"showlegend\": true, \"textposition\": \"auto\", \"type\": \"bar\", \"x\": [8, 7, 4, 3, 2, 2], \"xaxis\": \"x\", \"y\": [\"Mexican Restaurant\", \"Fast Food Restaurant\", \"Taco Place\", \"Sandwich Place\", \"Burger Joint\", \"Pizza Place\"], \"yaxis\": \"y\"}, {\"alignmentgroup\": \"True\", \"hovertemplate\": \"City=Norwalk<br>Count=%{x}<br>Venue Category=%{y}<extra></extra>\", \"legendgroup\": \"Norwalk\", \"marker\": {\"color\": \"#00cc96\"}, \"name\": \"Norwalk\", \"offsetgroup\": \"Norwalk\", \"orientation\": \"h\", \"showlegend\": true, \"textposition\": \"auto\", \"type\": \"bar\", \"x\": [14, 12, 8, 7, 5, 5, 3, 3, 2, 2, 2], \"xaxis\": \"x\", \"y\": [\"Fast Food Restaurant\", \"Mexican Restaurant\", \"Sandwich Place\", \"Pizza Place\", \"Chinese Restaurant\", \"Donut Shop\", \"American Restaurant\", \"Asian Restaurant\", \"Burger Joint\", \"Food Truck\", \"Fried Chicken Joint\"], \"yaxis\": \"y\"}],                        {\"barmode\": \"relative\", \"legend\": {\"title\": {\"text\": \"City\"}, \"tracegroupgap\": 0}, \"template\": {\"data\": {\"bar\": [{\"error_x\": {\"color\": \"#2a3f5f\"}, \"error_y\": {\"color\": \"#2a3f5f\"}, \"marker\": {\"line\": {\"color\": \"#E5ECF6\", \"width\": 0.5}}, \"type\": \"bar\"}], \"barpolar\": [{\"marker\": {\"line\": {\"color\": \"#E5ECF6\", \"width\": 0.5}}, \"type\": \"barpolar\"}], \"carpet\": [{\"aaxis\": {\"endlinecolor\": \"#2a3f5f\", \"gridcolor\": \"white\", \"linecolor\": \"white\", \"minorgridcolor\": \"white\", \"startlinecolor\": \"#2a3f5f\"}, \"baxis\": {\"endlinecolor\": \"#2a3f5f\", \"gridcolor\": \"white\", \"linecolor\": \"white\", \"minorgridcolor\": \"white\", \"startlinecolor\": \"#2a3f5f\"}, \"type\": \"carpet\"}], \"choropleth\": [{\"colorbar\": {\"outlinewidth\": 0, \"ticks\": \"\"}, \"type\": \"choropleth\"}], \"contour\": [{\"colorbar\": {\"outlinewidth\": 0, \"ticks\": \"\"}, \"colorscale\": [[0.0, \"#0d0887\"], [0.1111111111111111, \"#46039f\"], [0.2222222222222222, \"#7201a8\"], [0.3333333333333333, \"#9c179e\"], [0.4444444444444444, \"#bd3786\"], [0.5555555555555556, \"#d8576b\"], [0.6666666666666666, \"#ed7953\"], [0.7777777777777778, \"#fb9f3a\"], [0.8888888888888888, \"#fdca26\"], [1.0, \"#f0f921\"]], \"type\": \"contour\"}], \"contourcarpet\": [{\"colorbar\": {\"outlinewidth\": 0, \"ticks\": \"\"}, \"type\": \"contourcarpet\"}], \"heatmap\": [{\"colorbar\": {\"outlinewidth\": 0, \"ticks\": \"\"}, \"colorscale\": [[0.0, \"#0d0887\"], [0.1111111111111111, \"#46039f\"], [0.2222222222222222, \"#7201a8\"], [0.3333333333333333, \"#9c179e\"], [0.4444444444444444, \"#bd3786\"], [0.5555555555555556, \"#d8576b\"], [0.6666666666666666, \"#ed7953\"], [0.7777777777777778, \"#fb9f3a\"], [0.8888888888888888, \"#fdca26\"], [1.0, \"#f0f921\"]], \"type\": \"heatmap\"}], \"heatmapgl\": [{\"colorbar\": {\"outlinewidth\": 0, \"ticks\": \"\"}, \"colorscale\": [[0.0, \"#0d0887\"], [0.1111111111111111, \"#46039f\"], [0.2222222222222222, \"#7201a8\"], [0.3333333333333333, \"#9c179e\"], [0.4444444444444444, \"#bd3786\"], [0.5555555555555556, \"#d8576b\"], [0.6666666666666666, \"#ed7953\"], [0.7777777777777778, \"#fb9f3a\"], [0.8888888888888888, \"#fdca26\"], [1.0, \"#f0f921\"]], \"type\": \"heatmapgl\"}], \"histogram\": [{\"marker\": {\"colorbar\": {\"outlinewidth\": 0, \"ticks\": \"\"}}, \"type\": \"histogram\"}], \"histogram2d\": [{\"colorbar\": {\"outlinewidth\": 0, \"ticks\": \"\"}, \"colorscale\": [[0.0, \"#0d0887\"], [0.1111111111111111, \"#46039f\"], [0.2222222222222222, \"#7201a8\"], [0.3333333333333333, \"#9c179e\"], [0.4444444444444444, \"#bd3786\"], [0.5555555555555556, \"#d8576b\"], [0.6666666666666666, \"#ed7953\"], [0.7777777777777778, \"#fb9f3a\"], [0.8888888888888888, \"#fdca26\"], [1.0, \"#f0f921\"]], \"type\": \"histogram2d\"}], \"histogram2dcontour\": [{\"colorbar\": {\"outlinewidth\": 0, \"ticks\": \"\"}, \"colorscale\": [[0.0, \"#0d0887\"], [0.1111111111111111, \"#46039f\"], [0.2222222222222222, \"#7201a8\"], [0.3333333333333333, \"#9c179e\"], [0.4444444444444444, \"#bd3786\"], [0.5555555555555556, \"#d8576b\"], [0.6666666666666666, \"#ed7953\"], [0.7777777777777778, \"#fb9f3a\"], [0.8888888888888888, \"#fdca26\"], [1.0, \"#f0f921\"]], \"type\": \"histogram2dcontour\"}], \"mesh3d\": [{\"colorbar\": {\"outlinewidth\": 0, \"ticks\": \"\"}, \"type\": \"mesh3d\"}], \"parcoords\": [{\"line\": {\"colorbar\": {\"outlinewidth\": 0, \"ticks\": \"\"}}, \"type\": \"parcoords\"}], \"pie\": [{\"automargin\": true, \"type\": \"pie\"}], \"scatter\": [{\"marker\": {\"colorbar\": {\"outlinewidth\": 0, \"ticks\": \"\"}}, \"type\": \"scatter\"}], \"scatter3d\": [{\"line\": {\"colorbar\": {\"outlinewidth\": 0, \"ticks\": \"\"}}, \"marker\": {\"colorbar\": {\"outlinewidth\": 0, \"ticks\": \"\"}}, \"type\": \"scatter3d\"}], \"scattercarpet\": [{\"marker\": {\"colorbar\": {\"outlinewidth\": 0, \"ticks\": \"\"}}, \"type\": \"scattercarpet\"}], \"scattergeo\": [{\"marker\": {\"colorbar\": {\"outlinewidth\": 0, \"ticks\": \"\"}}, \"type\": \"scattergeo\"}], \"scattergl\": [{\"marker\": {\"colorbar\": {\"outlinewidth\": 0, \"ticks\": \"\"}}, \"type\": \"scattergl\"}], \"scattermapbox\": [{\"marker\": {\"colorbar\": {\"outlinewidth\": 0, \"ticks\": \"\"}}, \"type\": \"scattermapbox\"}], \"scatterpolar\": [{\"marker\": {\"colorbar\": {\"outlinewidth\": 0, \"ticks\": \"\"}}, \"type\": \"scatterpolar\"}], \"scatterpolargl\": [{\"marker\": {\"colorbar\": {\"outlinewidth\": 0, \"ticks\": \"\"}}, \"type\": \"scatterpolargl\"}], \"scatterternary\": [{\"marker\": {\"colorbar\": {\"outlinewidth\": 0, \"ticks\": \"\"}}, \"type\": \"scatterternary\"}], \"surface\": [{\"colorbar\": {\"outlinewidth\": 0, \"ticks\": \"\"}, \"colorscale\": [[0.0, \"#0d0887\"], [0.1111111111111111, \"#46039f\"], [0.2222222222222222, \"#7201a8\"], [0.3333333333333333, \"#9c179e\"], [0.4444444444444444, \"#bd3786\"], [0.5555555555555556, \"#d8576b\"], [0.6666666666666666, \"#ed7953\"], [0.7777777777777778, \"#fb9f3a\"], [0.8888888888888888, \"#fdca26\"], [1.0, \"#f0f921\"]], \"type\": \"surface\"}], \"table\": [{\"cells\": {\"fill\": {\"color\": \"#EBF0F8\"}, \"line\": {\"color\": \"white\"}}, \"header\": {\"fill\": {\"color\": \"#C8D4E3\"}, \"line\": {\"color\": \"white\"}}, \"type\": \"table\"}]}, \"layout\": {\"annotationdefaults\": {\"arrowcolor\": \"#2a3f5f\", \"arrowhead\": 0, \"arrowwidth\": 1}, \"autotypenumbers\": \"strict\", \"coloraxis\": {\"colorbar\": {\"outlinewidth\": 0, \"ticks\": \"\"}}, \"colorscale\": {\"diverging\": [[0, \"#8e0152\"], [0.1, \"#c51b7d\"], [0.2, \"#de77ae\"], [0.3, \"#f1b6da\"], [0.4, \"#fde0ef\"], [0.5, \"#f7f7f7\"], [0.6, \"#e6f5d0\"], [0.7, \"#b8e186\"], [0.8, \"#7fbc41\"], [0.9, \"#4d9221\"], [1, \"#276419\"]], \"sequential\": [[0.0, \"#0d0887\"], [0.1111111111111111, \"#46039f\"], [0.2222222222222222, \"#7201a8\"], [0.3333333333333333, \"#9c179e\"], [0.4444444444444444, \"#bd3786\"], [0.5555555555555556, \"#d8576b\"], [0.6666666666666666, \"#ed7953\"], [0.7777777777777778, \"#fb9f3a\"], [0.8888888888888888, \"#fdca26\"], [1.0, \"#f0f921\"]], \"sequentialminus\": [[0.0, \"#0d0887\"], [0.1111111111111111, \"#46039f\"], [0.2222222222222222, \"#7201a8\"], [0.3333333333333333, \"#9c179e\"], [0.4444444444444444, \"#bd3786\"], [0.5555555555555556, \"#d8576b\"], [0.6666666666666666, \"#ed7953\"], [0.7777777777777778, \"#fb9f3a\"], [0.8888888888888888, \"#fdca26\"], [1.0, \"#f0f921\"]]}, \"colorway\": [\"#636efa\", \"#EF553B\", \"#00cc96\", \"#ab63fa\", \"#FFA15A\", \"#19d3f3\", \"#FF6692\", \"#B6E880\", \"#FF97FF\", \"#FECB52\"], \"font\": {\"color\": \"#2a3f5f\"}, \"geo\": {\"bgcolor\": \"white\", \"lakecolor\": \"white\", \"landcolor\": \"#E5ECF6\", \"showlakes\": true, \"showland\": true, \"subunitcolor\": \"white\"}, \"hoverlabel\": {\"align\": \"left\"}, \"hovermode\": \"closest\", \"mapbox\": {\"style\": \"light\"}, \"paper_bgcolor\": \"white\", \"plot_bgcolor\": \"#E5ECF6\", \"polar\": {\"angularaxis\": {\"gridcolor\": \"white\", \"linecolor\": \"white\", \"ticks\": \"\"}, \"bgcolor\": \"#E5ECF6\", \"radialaxis\": {\"gridcolor\": \"white\", \"linecolor\": \"white\", \"ticks\": \"\"}}, \"scene\": {\"xaxis\": {\"backgroundcolor\": \"#E5ECF6\", \"gridcolor\": \"white\", \"gridwidth\": 2, \"linecolor\": \"white\", \"showbackground\": true, \"ticks\": \"\", \"zerolinecolor\": \"white\"}, \"yaxis\": {\"backgroundcolor\": \"#E5ECF6\", \"gridcolor\": \"white\", \"gridwidth\": 2, \"linecolor\": \"white\", \"showbackground\": true, \"ticks\": \"\", \"zerolinecolor\": \"white\"}, \"zaxis\": {\"backgroundcolor\": \"#E5ECF6\", \"gridcolor\": \"white\", \"gridwidth\": 2, \"linecolor\": \"white\", \"showbackground\": true, \"ticks\": \"\", \"zerolinecolor\": \"white\"}}, \"shapedefaults\": {\"line\": {\"color\": \"#2a3f5f\"}}, \"ternary\": {\"aaxis\": {\"gridcolor\": \"white\", \"linecolor\": \"white\", \"ticks\": \"\"}, \"baxis\": {\"gridcolor\": \"white\", \"linecolor\": \"white\", \"ticks\": \"\"}, \"bgcolor\": \"#E5ECF6\", \"caxis\": {\"gridcolor\": \"white\", \"linecolor\": \"white\", \"ticks\": \"\"}}, \"title\": {\"x\": 0.05}, \"xaxis\": {\"automargin\": true, \"gridcolor\": \"white\", \"linecolor\": \"white\", \"ticks\": \"\", \"title\": {\"standoff\": 15}, \"zerolinecolor\": \"white\", \"zerolinewidth\": 2}, \"yaxis\": {\"automargin\": true, \"gridcolor\": \"white\", \"linecolor\": \"white\", \"ticks\": \"\", \"title\": {\"standoff\": 15}, \"zerolinecolor\": \"white\", \"zerolinewidth\": 2}}}, \"title\": {\"text\": \"Combined Distribution of Food Venues\"}, \"xaxis\": {\"anchor\": \"y\", \"domain\": [0.0, 1.0], \"title\": {\"text\": \"Count\"}}, \"yaxis\": {\"anchor\": \"x\", \"domain\": [0.0, 1.0], \"title\": {\"text\": \"Venue Category\"}}},                        {\"responsive\": true}                    ).then(function(){\n                            \nvar gd = document.getElementById('0fd62fe3-b66d-4641-87c4-97cf16e262b5');\nvar x = new MutationObserver(function (mutations, observer) {{\n        var display = window.getComputedStyle(gd).display;\n        if (!display || display === 'none') {{\n            console.log([gd, 'removed!']);\n            Plotly.purge(gd);\n            observer.disconnect();\n        }}\n}});\n\n// Listen for the removal of the full notebook cells\nvar notebookContainer = gd.closest('#notebook-container');\nif (notebookContainer) {{\n    x.observe(notebookContainer, {childList: true});\n}}\n\n// Listen for the clearing of the current output cell\nvar outputEl = gd.closest('.output');\nif (outputEl) {{\n    x.observe(outputEl, {childList: true});\n}}\n\n                        })                };                });            </script>        </div>"
     },
     "metadata": {},
     "output_type": "display_data"
    }
   ],
   "source": [
    "categs_graph = categs_sorted.loc[categs_sorted['Count'] > 1]\n",
    "\n",
    "fig = px.bar(categs_graph, y=\"Venue Category\",\n",
    "             x=\"Count\", title='Combined Distribution of Food Venues',\n",
    "             orientation='h', color = 'City'\n",
    "             )\n",
    "fig.show(renderer='notebook_connected')"
   ],
   "metadata": {
    "collapsed": false,
    "pycharm": {
     "name": "#%%\n"
    }
   }
  },
  {
   "cell_type": "markdown",
   "source": [
    "Having a look at the distribution of food venues across the three areas, we\n",
    "can make the following observations:\n",
    "- Mexican restaurants are the most common food venue overall\n",
    "- Fast Food restaurants are the second most common venue, but Norwalk has by\n",
    " far the most\n",
    "- Pacoima has the least restaurants overall and Norwalk the most, despite\n",
    "both of them are very close in population\n",
    "- There seems to be space for a Chinese or American Restaurant or a Donut\n",
    "Shop in Pacoima\n",
    "- Even sandwich and pizza places are not very common in Pacoima\n",
    "- Opening another fast food restaurant or mexican restaurant does not seem\n",
    "like a good idea\n",
    "\n",
    "<br />\n",
    "Again, let us have a look on the most recommended food venues in the county\n",
    "for comparison:"
   ],
   "metadata": {
    "collapsed": false,
    "pycharm": {
     "name": "#%% md\n"
    }
   }
  },
  {
   "cell_type": "code",
   "execution_count": 31,
   "outputs": [
    {
     "data": {
      "text/html": "        <script type=\"text/javascript\">\n        window.PlotlyConfig = {MathJaxConfig: 'local'};\n        if (window.MathJax) {MathJax.Hub.Config({SVG: {font: \"STIX-Web\"}});}\n        if (typeof require !== 'undefined') {\n        require.undef(\"plotly\");\n        requirejs.config({\n            paths: {\n                'plotly': ['https://cdn.plot.ly/plotly-latest.min']\n            }\n        });\n        require(['plotly'], function(Plotly) {\n            window._Plotly = Plotly;\n        });\n        }\n        </script>\n        "
     },
     "metadata": {},
     "output_type": "display_data"
    },
    {
     "data": {
      "text/html": "<div>                            <div id=\"9130ed8e-213c-4b67-b1ff-0a4efcfbffdd\" class=\"plotly-graph-div\" style=\"height:525px; width:100%;\"></div>            <script type=\"text/javascript\">                require([\"plotly\"], function(Plotly) {                    window.PLOTLYENV=window.PLOTLYENV || {};                                    if (document.getElementById(\"9130ed8e-213c-4b67-b1ff-0a4efcfbffdd\")) {                    Plotly.newPlot(                        \"9130ed8e-213c-4b67-b1ff-0a4efcfbffdd\",                        [{\"alignmentgroup\": \"True\", \"hovertemplate\": \"Venue Category=%{x}<br>Count=%{y}<extra></extra>\", \"legendgroup\": \"\", \"marker\": {\"color\": \"#636efa\"}, \"name\": \"\", \"offsetgroup\": \"\", \"orientation\": \"v\", \"showlegend\": false, \"textposition\": \"auto\", \"type\": \"bar\", \"x\": [\"Mexican Restaurant\", \"Pizza Place\", \"Fast Food Restaurant\", \"Chinese Restaurant\", \"Bakery\", \"Sandwich Place\", \"American Restaurant\", \"Caf\\u00e9\", \"Burger Joint\", \"Sushi Restaurant\", \"Japanese Restaurant\", \"Food\", \"Italian Restaurant\", \"Food Truck\"], \"xaxis\": \"x\", \"y\": [831, 569, 503, 414, 346, 338, 318, 303, 259, 258, 237, 235, 227, 213], \"yaxis\": \"y\"}],                        {\"barmode\": \"relative\", \"legend\": {\"tracegroupgap\": 0}, \"template\": {\"data\": {\"bar\": [{\"error_x\": {\"color\": \"#2a3f5f\"}, \"error_y\": {\"color\": \"#2a3f5f\"}, \"marker\": {\"line\": {\"color\": \"#E5ECF6\", \"width\": 0.5}}, \"type\": \"bar\"}], \"barpolar\": [{\"marker\": {\"line\": {\"color\": \"#E5ECF6\", \"width\": 0.5}}, \"type\": \"barpolar\"}], \"carpet\": [{\"aaxis\": {\"endlinecolor\": \"#2a3f5f\", \"gridcolor\": \"white\", \"linecolor\": \"white\", \"minorgridcolor\": \"white\", \"startlinecolor\": \"#2a3f5f\"}, \"baxis\": {\"endlinecolor\": \"#2a3f5f\", \"gridcolor\": \"white\", \"linecolor\": \"white\", \"minorgridcolor\": \"white\", \"startlinecolor\": \"#2a3f5f\"}, \"type\": \"carpet\"}], \"choropleth\": [{\"colorbar\": {\"outlinewidth\": 0, \"ticks\": \"\"}, \"type\": \"choropleth\"}], \"contour\": [{\"colorbar\": {\"outlinewidth\": 0, \"ticks\": \"\"}, \"colorscale\": [[0.0, \"#0d0887\"], [0.1111111111111111, \"#46039f\"], [0.2222222222222222, \"#7201a8\"], [0.3333333333333333, \"#9c179e\"], [0.4444444444444444, \"#bd3786\"], [0.5555555555555556, \"#d8576b\"], [0.6666666666666666, \"#ed7953\"], [0.7777777777777778, \"#fb9f3a\"], [0.8888888888888888, \"#fdca26\"], [1.0, \"#f0f921\"]], \"type\": \"contour\"}], \"contourcarpet\": [{\"colorbar\": {\"outlinewidth\": 0, \"ticks\": \"\"}, \"type\": \"contourcarpet\"}], \"heatmap\": [{\"colorbar\": {\"outlinewidth\": 0, \"ticks\": \"\"}, \"colorscale\": [[0.0, \"#0d0887\"], [0.1111111111111111, \"#46039f\"], [0.2222222222222222, \"#7201a8\"], [0.3333333333333333, \"#9c179e\"], [0.4444444444444444, \"#bd3786\"], [0.5555555555555556, \"#d8576b\"], [0.6666666666666666, \"#ed7953\"], [0.7777777777777778, \"#fb9f3a\"], [0.8888888888888888, \"#fdca26\"], [1.0, \"#f0f921\"]], \"type\": \"heatmap\"}], \"heatmapgl\": [{\"colorbar\": {\"outlinewidth\": 0, \"ticks\": \"\"}, \"colorscale\": [[0.0, \"#0d0887\"], [0.1111111111111111, \"#46039f\"], [0.2222222222222222, \"#7201a8\"], [0.3333333333333333, \"#9c179e\"], [0.4444444444444444, \"#bd3786\"], [0.5555555555555556, \"#d8576b\"], [0.6666666666666666, \"#ed7953\"], [0.7777777777777778, \"#fb9f3a\"], [0.8888888888888888, \"#fdca26\"], [1.0, \"#f0f921\"]], \"type\": \"heatmapgl\"}], \"histogram\": [{\"marker\": {\"colorbar\": {\"outlinewidth\": 0, \"ticks\": \"\"}}, \"type\": \"histogram\"}], \"histogram2d\": [{\"colorbar\": {\"outlinewidth\": 0, \"ticks\": \"\"}, \"colorscale\": [[0.0, \"#0d0887\"], [0.1111111111111111, \"#46039f\"], [0.2222222222222222, \"#7201a8\"], [0.3333333333333333, \"#9c179e\"], [0.4444444444444444, \"#bd3786\"], [0.5555555555555556, \"#d8576b\"], [0.6666666666666666, \"#ed7953\"], [0.7777777777777778, \"#fb9f3a\"], [0.8888888888888888, \"#fdca26\"], [1.0, \"#f0f921\"]], \"type\": \"histogram2d\"}], \"histogram2dcontour\": [{\"colorbar\": {\"outlinewidth\": 0, \"ticks\": \"\"}, \"colorscale\": [[0.0, \"#0d0887\"], [0.1111111111111111, \"#46039f\"], [0.2222222222222222, \"#7201a8\"], [0.3333333333333333, \"#9c179e\"], [0.4444444444444444, \"#bd3786\"], [0.5555555555555556, \"#d8576b\"], [0.6666666666666666, \"#ed7953\"], [0.7777777777777778, \"#fb9f3a\"], [0.8888888888888888, \"#fdca26\"], [1.0, \"#f0f921\"]], \"type\": \"histogram2dcontour\"}], \"mesh3d\": [{\"colorbar\": {\"outlinewidth\": 0, \"ticks\": \"\"}, \"type\": \"mesh3d\"}], \"parcoords\": [{\"line\": {\"colorbar\": {\"outlinewidth\": 0, \"ticks\": \"\"}}, \"type\": \"parcoords\"}], \"pie\": [{\"automargin\": true, \"type\": \"pie\"}], \"scatter\": [{\"marker\": {\"colorbar\": {\"outlinewidth\": 0, \"ticks\": \"\"}}, \"type\": \"scatter\"}], \"scatter3d\": [{\"line\": {\"colorbar\": {\"outlinewidth\": 0, \"ticks\": \"\"}}, \"marker\": {\"colorbar\": {\"outlinewidth\": 0, \"ticks\": \"\"}}, \"type\": \"scatter3d\"}], \"scattercarpet\": [{\"marker\": {\"colorbar\": {\"outlinewidth\": 0, \"ticks\": \"\"}}, \"type\": \"scattercarpet\"}], \"scattergeo\": [{\"marker\": {\"colorbar\": {\"outlinewidth\": 0, \"ticks\": \"\"}}, \"type\": \"scattergeo\"}], \"scattergl\": [{\"marker\": {\"colorbar\": {\"outlinewidth\": 0, \"ticks\": \"\"}}, \"type\": \"scattergl\"}], \"scattermapbox\": [{\"marker\": {\"colorbar\": {\"outlinewidth\": 0, \"ticks\": \"\"}}, \"type\": \"scattermapbox\"}], \"scatterpolar\": [{\"marker\": {\"colorbar\": {\"outlinewidth\": 0, \"ticks\": \"\"}}, \"type\": \"scatterpolar\"}], \"scatterpolargl\": [{\"marker\": {\"colorbar\": {\"outlinewidth\": 0, \"ticks\": \"\"}}, \"type\": \"scatterpolargl\"}], \"scatterternary\": [{\"marker\": {\"colorbar\": {\"outlinewidth\": 0, \"ticks\": \"\"}}, \"type\": \"scatterternary\"}], \"surface\": [{\"colorbar\": {\"outlinewidth\": 0, \"ticks\": \"\"}, \"colorscale\": [[0.0, \"#0d0887\"], [0.1111111111111111, \"#46039f\"], [0.2222222222222222, \"#7201a8\"], [0.3333333333333333, \"#9c179e\"], [0.4444444444444444, \"#bd3786\"], [0.5555555555555556, \"#d8576b\"], [0.6666666666666666, \"#ed7953\"], [0.7777777777777778, \"#fb9f3a\"], [0.8888888888888888, \"#fdca26\"], [1.0, \"#f0f921\"]], \"type\": \"surface\"}], \"table\": [{\"cells\": {\"fill\": {\"color\": \"#EBF0F8\"}, \"line\": {\"color\": \"white\"}}, \"header\": {\"fill\": {\"color\": \"#C8D4E3\"}, \"line\": {\"color\": \"white\"}}, \"type\": \"table\"}]}, \"layout\": {\"annotationdefaults\": {\"arrowcolor\": \"#2a3f5f\", \"arrowhead\": 0, \"arrowwidth\": 1}, \"autotypenumbers\": \"strict\", \"coloraxis\": {\"colorbar\": {\"outlinewidth\": 0, \"ticks\": \"\"}}, \"colorscale\": {\"diverging\": [[0, \"#8e0152\"], [0.1, \"#c51b7d\"], [0.2, \"#de77ae\"], [0.3, \"#f1b6da\"], [0.4, \"#fde0ef\"], [0.5, \"#f7f7f7\"], [0.6, \"#e6f5d0\"], [0.7, \"#b8e186\"], [0.8, \"#7fbc41\"], [0.9, \"#4d9221\"], [1, \"#276419\"]], \"sequential\": [[0.0, \"#0d0887\"], [0.1111111111111111, \"#46039f\"], [0.2222222222222222, \"#7201a8\"], [0.3333333333333333, \"#9c179e\"], [0.4444444444444444, \"#bd3786\"], [0.5555555555555556, \"#d8576b\"], [0.6666666666666666, \"#ed7953\"], [0.7777777777777778, \"#fb9f3a\"], [0.8888888888888888, \"#fdca26\"], [1.0, \"#f0f921\"]], \"sequentialminus\": [[0.0, \"#0d0887\"], [0.1111111111111111, \"#46039f\"], [0.2222222222222222, \"#7201a8\"], [0.3333333333333333, \"#9c179e\"], [0.4444444444444444, \"#bd3786\"], [0.5555555555555556, \"#d8576b\"], [0.6666666666666666, \"#ed7953\"], [0.7777777777777778, \"#fb9f3a\"], [0.8888888888888888, \"#fdca26\"], [1.0, \"#f0f921\"]]}, \"colorway\": [\"#636efa\", \"#EF553B\", \"#00cc96\", \"#ab63fa\", \"#FFA15A\", \"#19d3f3\", \"#FF6692\", \"#B6E880\", \"#FF97FF\", \"#FECB52\"], \"font\": {\"color\": \"#2a3f5f\"}, \"geo\": {\"bgcolor\": \"white\", \"lakecolor\": \"white\", \"landcolor\": \"#E5ECF6\", \"showlakes\": true, \"showland\": true, \"subunitcolor\": \"white\"}, \"hoverlabel\": {\"align\": \"left\"}, \"hovermode\": \"closest\", \"mapbox\": {\"style\": \"light\"}, \"paper_bgcolor\": \"white\", \"plot_bgcolor\": \"#E5ECF6\", \"polar\": {\"angularaxis\": {\"gridcolor\": \"white\", \"linecolor\": \"white\", \"ticks\": \"\"}, \"bgcolor\": \"#E5ECF6\", \"radialaxis\": {\"gridcolor\": \"white\", \"linecolor\": \"white\", \"ticks\": \"\"}}, \"scene\": {\"xaxis\": {\"backgroundcolor\": \"#E5ECF6\", \"gridcolor\": \"white\", \"gridwidth\": 2, \"linecolor\": \"white\", \"showbackground\": true, \"ticks\": \"\", \"zerolinecolor\": \"white\"}, \"yaxis\": {\"backgroundcolor\": \"#E5ECF6\", \"gridcolor\": \"white\", \"gridwidth\": 2, \"linecolor\": \"white\", \"showbackground\": true, \"ticks\": \"\", \"zerolinecolor\": \"white\"}, \"zaxis\": {\"backgroundcolor\": \"#E5ECF6\", \"gridcolor\": \"white\", \"gridwidth\": 2, \"linecolor\": \"white\", \"showbackground\": true, \"ticks\": \"\", \"zerolinecolor\": \"white\"}}, \"shapedefaults\": {\"line\": {\"color\": \"#2a3f5f\"}}, \"ternary\": {\"aaxis\": {\"gridcolor\": \"white\", \"linecolor\": \"white\", \"ticks\": \"\"}, \"baxis\": {\"gridcolor\": \"white\", \"linecolor\": \"white\", \"ticks\": \"\"}, \"bgcolor\": \"#E5ECF6\", \"caxis\": {\"gridcolor\": \"white\", \"linecolor\": \"white\", \"ticks\": \"\"}}, \"title\": {\"x\": 0.05}, \"xaxis\": {\"automargin\": true, \"gridcolor\": \"white\", \"linecolor\": \"white\", \"ticks\": \"\", \"title\": {\"standoff\": 15}, \"zerolinecolor\": \"white\", \"zerolinewidth\": 2}, \"yaxis\": {\"automargin\": true, \"gridcolor\": \"white\", \"linecolor\": \"white\", \"ticks\": \"\", \"title\": {\"standoff\": 15}, \"zerolinecolor\": \"white\", \"zerolinewidth\": 2}}}, \"title\": {\"text\": \"Distribution of recommended food venue categories\"}, \"xaxis\": {\"anchor\": \"y\", \"domain\": [0.0, 1.0], \"title\": {\"text\": \"Venue Category\"}}, \"yaxis\": {\"anchor\": \"x\", \"domain\": [0.0, 1.0], \"title\": {\"text\": \"Count\"}}},                        {\"responsive\": true}                    ).then(function(){\n                            \nvar gd = document.getElementById('9130ed8e-213c-4b67-b1ff-0a4efcfbffdd');\nvar x = new MutationObserver(function (mutations, observer) {{\n        var display = window.getComputedStyle(gd).display;\n        if (!display || display === 'none') {{\n            console.log([gd, 'removed!']);\n            Plotly.purge(gd);\n            observer.disconnect();\n        }}\n}});\n\n// Listen for the removal of the full notebook cells\nvar notebookContainer = gd.closest('#notebook-container');\nif (notebookContainer) {{\n    x.observe(notebookContainer, {childList: true});\n}}\n\n// Listen for the clearing of the current output cell\nvar outputEl = gd.closest('.output');\nif (outputEl) {{\n    x.observe(outputEl, {childList: true});\n}}\n\n                        })                };                });            </script>        </div>"
     },
     "metadata": {},
     "output_type": "display_data"
    }
   ],
   "source": [
    "top15 = sorted.iloc[0:14]\n",
    "fig = px.bar(top15, x=\"Venue Category\", y=\"Count\",\n",
    "             title='Distribution of recommended food venue categories')\n",
    "fig.show(renderer='notebook_connected')"
   ],
   "metadata": {
    "collapsed": false,
    "pycharm": {
     "name": "#%%\n"
    }
   }
  },
  {
   "cell_type": "markdown",
   "source": [
    "#### Choosing a restaurant to open\n",
    "- Bakeries are the fith most recommended venue category, but there is\n",
    "currently a maximum of 1 per area. So this could be a good option in any of\n",
    "the three communities.\n",
    "- Mexican and fast food restaurants are already very common and should not\n",
    "be chosen\n",
    "- There is an opportunity for a pizza place or a chinese resaturant in Pacoima\n",
    "- Pacoima in general has few food venues. Looking at the median income, any\n",
    "low price food venues could be a good opportunity.\n",
    "- Norwalk would be the best option according to population and income, but\n",
    "it is already very crowded with restaurants. A bakery seems to be the best\n",
    "option there.\n",
    "\n",
    "There are also multiple options for sushi restaurants, burger joints,\n",
    "japanese or thai restaurants in all three areas. Overall not looking bad!"
   ],
   "metadata": {
    "collapsed": false
   }
  },
  {
   "cell_type": "markdown",
   "source": [
    "## Results and Discussion <a name=\"results\"></a>\n"
   ],
   "metadata": {
    "collapsed": false,
    "pycharm": {
     "name": "#%% md\n"
    }
   }
  },
  {
   "cell_type": "markdown",
   "source": [
    "Our analysis shows that there is a high variability in population, income\n",
    "and median age in the different areas of Los Angeles County, CA. So it was\n",
    "possible to identify multiple areas that fit the criteria of a relatively high\n",
    "median income and a high population. Using census and income data of all\n",
    "areas in Los Angeles County, we did a clustering to identify similar areas.\n",
    "By analysing the formed clusters there have been three areas identified\n",
    "that fit the criteria best. Norwalk, Lake View Terrace in Sylmar and Hansen\n",
    "Hills in Pacoima.\n",
    "\n",
    "They are slightly different in income, population and age and also very\n",
    "  different in their local distribution of available food venues. The final\n",
    "  area could be picked on which of these factors matters to the stakeholders\n",
    "   most. I will pick Norwalk as the final area for a food venue, because it\n",
    "    offers the best combination of a high population and a good income out\n",
    "    of these three areas.\n",
    "\n",
    "By analysing the most recommended food venue categories across the whole\n",
    "county, we found that mexican restaurants are by far the most often\n",
    "recommended venue. After them pizza places, fast food restaurants,\n",
    "chinese restaurants and bakeries follow in that order. To give a\n",
    "recommendation for a food venue to open in Norwalk, we can compare the local\n",
    " distribution of food venues what was recommended the most in the county. By\n",
    "  looking at Norwalk we found that there are already many mexican\n",
    "  restaurants (12) and fast food restaurants (15). Pizza places (7) and\n",
    "  chinese restaurants (5) area also recommended in a higher number, so\n",
    "  opening a restaurant in one of those categories would be better, but there\n",
    "   is still some competition. What stands out is that there is currently\n",
    "   only one bakery recommended by Foursquare in Norwalk. Looking at the\n",
    "   distribution of recommendations in the county, bakeries are the fifth\n",
    "   most recommended venue category. Because of this, I would recommend\n",
    "   opening a bakery in Norwalk, CA to the stakeholders.\n",
    "\n",
    "Purpose of this analysis was to identify a possible area and food venue type\n",
    " for a new restaurant in Los Angeles County, CA based on a very limited\n",
    " amount of factors. Analysing census data and existing food venues is only\n",
    " one part on the way to find a location for opening a new restaurant. Other\n",
    "  factors that also play a role are for example available spaces, rent\n",
    "  costs, other venues in the area. This analysis serves as a starting point\n",
    "  for finding possible locations, but further analysis needs to be done by\n",
    "  the stakeholders."
   ],
   "metadata": {
    "collapsed": false
   }
  },
  {
   "cell_type": "markdown",
   "source": [
    "## Conclusion <a name=\"conclusion\"></a>"
   ],
   "metadata": {
    "collapsed": false
   }
  },
  {
   "cell_type": "markdown",
   "source": [
    "The purpose of this project was to find a possible location for a new\n",
    "restaurant in Los Angeles County, CA. The desire from the stakeholders was\n",
    "to identify locations that offer a good balance between median income and\n",
    "number of inhabitants, although income shall be rated slightly more important\n",
    "than population. In addition, the idea was to identify possible food\n",
    "venue categories by comparing recommended venues across the country with the\n",
    " local venues in the different areas. So for this there were census and\n",
    " income data combined to identify areas that fit the criteria. A clustering\n",
    " was performed, to group the communities in Los Angeles County using their\n",
    " income and population. Then the cluster was chosen that fit the former\n",
    " mentioned criteria the most. From this cluster the top 3 areas were chosen,\n",
    "  that had the best balance between income and population. This way the best\n",
    "   three candidates for a new restaurant location were identified.\n",
    "\n",
    "The next step was to analyze the local food venue categories. For this the\n",
    "local venues in a 4 km radius were identified and grouped. This grouping was\n",
    " then compared with the distribution of the most recommended food venue\n",
    " categories across the whole county. In doing so, opportunities for new\n",
    " restaurants in any of the three chosen communities have been identified.\n",
    "\n",
    "The final decision can be made by the stakeholders, based on the\n",
    "recommendations given in this project. This decision for a locality can be\n",
    "based on income, population or median age of the areas. The decision for a\n",
    "venue category can be based on popular venues across the county, and the gaps\n",
    " in the local food offerings that have been identified."
   ],
   "metadata": {
    "collapsed": false,
    "pycharm": {
     "name": "#%% md\n"
    }
   }
  }
 ],
 "metadata": {
  "kernelspec": {
   "name": "python382jvsc74a57bd0b3befaa638c808dcfe0a2e30de1d3695797f17316f51763e7151007a32a6d0a2",
   "display_name": "Python 3.8.2 64-bit ('python_playgrounds': conda)"
  },
  "language_info": {
   "codemirror_mode": {
    "name": "ipython",
    "version": 2
   },
   "file_extension": ".py",
   "mimetype": "text/x-python",
   "name": "python",
   "nbconvert_exporter": "python",
   "pygments_lexer": "ipython2",
   "version": "3.8.2"
  },
  "metadata": {
   "interpreter": {
    "hash": "b3befaa638c808dcfe0a2e30de1d3695797f17316f51763e7151007a32a6d0a2"
   }
  }
 },
 "nbformat": 4,
 "nbformat_minor": 0
}