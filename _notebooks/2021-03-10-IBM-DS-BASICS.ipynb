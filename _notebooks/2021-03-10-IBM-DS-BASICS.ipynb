{
 "cells": [
  {
   "cell_type": "markdown",
   "metadata": {
    "collapsed": true,
    "pycharm": {
     "name": "#%% md\n"
    }
   },
   "source": [
    "# Data Science Basics Intro\n",
    "> Collected basics from IBM Data Science course\n",
    "\n",
    "- toc: true\n",
    "- badges: true\n",
    "- comments: true\n",
    "- sticky_rank: 1\n",
    "- author: Felix\n",
    "- categories: [ibm, data_science, pandas, numpy]"
   ]
  },
  {
   "cell_type": "code",
   "execution_count": 27,
   "outputs": [],
   "source": [
    "import yfinance as yf\n",
    "import pandas as pd\n",
    "import requests\n",
    "from bs4 import BeautifulSoup\n",
    "# import plotly.graph_objects as go\n",
    "# from plotly.subplots import make_subplots\n",
    "# from IPython.display import HTML\n",
    "#\n",
    "# def make_graph(stock_data, revenue_data, stock):\n",
    "#     fig = make_subplots(rows=2, cols=1, shared_xaxes=True, subplot_titles=(\"Historical Share Price\", \"Historical Revenue\"), vertical_spacing = .3)\n",
    "#     fig.add_trace(go.Scatter(x=pd.to_datetime(stock_data.Date, infer_datetime_format=True), y=stock_data.Close.astype(\"float\"), name=\"Share Price\"), row=1, col=1)\n",
    "#     fig.add_trace(go.Scatter(x=pd.to_datetime(revenue_data.Date, infer_datetime_format=True), y=revenue_data.Revenue.astype(\"float\"), name=\"Revenue\"), row=2, col=1)\n",
    "#     fig.update_xaxes(title_text=\"Date\", row=1, col=1)\n",
    "#     fig.update_xaxes(title_text=\"Date\", row=2, col=1)\n",
    "#     fig.update_yaxes(title_text=\"Price ($US)\", row=1, col=1)\n",
    "#     fig.update_yaxes(title_text=\"Revenue ($US Millions)\", row=2, col=1)\n",
    "#     fig.update_layout(showlegend=False,\n",
    "#     height=900,\n",
    "#     title=stock,\n",
    "#     xaxis_rangeslider_visible=True)\n",
    "#     fig2 = fig.to_html()\n",
    "#     HTML(fig2)"
   ],
   "metadata": {
    "collapsed": false,
    "pycharm": {
     "name": "#%%\n"
    }
   }
  },
  {
   "cell_type": "code",
   "execution_count": 28,
   "outputs": [
    {
     "data": {
      "text/plain": "        Date  Open  High   Low  Close    Volume  Dividends  Stock Splits\n0 2010-06-29  3.80  5.00  3.51   4.78  93831500          0           0.0\n1 2010-06-30  5.16  6.08  4.66   4.77  85935500          0           0.0\n2 2010-07-01  5.00  5.18  4.05   4.39  41094000          0           0.0\n3 2010-07-02  4.60  4.62  3.74   3.84  25699000          0           0.0\n4 2010-07-06  4.00  4.00  3.17   3.22  34334500          0           0.0",
      "text/html": "<div>\n<style scoped>\n    .dataframe tbody tr th:only-of-type {\n        vertical-align: middle;\n    }\n\n    .dataframe tbody tr th {\n        vertical-align: top;\n    }\n\n    .dataframe thead th {\n        text-align: right;\n    }\n</style>\n<table border=\"1\" class=\"dataframe\">\n  <thead>\n    <tr style=\"text-align: right;\">\n      <th></th>\n      <th>Date</th>\n      <th>Open</th>\n      <th>High</th>\n      <th>Low</th>\n      <th>Close</th>\n      <th>Volume</th>\n      <th>Dividends</th>\n      <th>Stock Splits</th>\n    </tr>\n  </thead>\n  <tbody>\n    <tr>\n      <th>0</th>\n      <td>2010-06-29</td>\n      <td>3.80</td>\n      <td>5.00</td>\n      <td>3.51</td>\n      <td>4.78</td>\n      <td>93831500</td>\n      <td>0</td>\n      <td>0.0</td>\n    </tr>\n    <tr>\n      <th>1</th>\n      <td>2010-06-30</td>\n      <td>5.16</td>\n      <td>6.08</td>\n      <td>4.66</td>\n      <td>4.77</td>\n      <td>85935500</td>\n      <td>0</td>\n      <td>0.0</td>\n    </tr>\n    <tr>\n      <th>2</th>\n      <td>2010-07-01</td>\n      <td>5.00</td>\n      <td>5.18</td>\n      <td>4.05</td>\n      <td>4.39</td>\n      <td>41094000</td>\n      <td>0</td>\n      <td>0.0</td>\n    </tr>\n    <tr>\n      <th>3</th>\n      <td>2010-07-02</td>\n      <td>4.60</td>\n      <td>4.62</td>\n      <td>3.74</td>\n      <td>3.84</td>\n      <td>25699000</td>\n      <td>0</td>\n      <td>0.0</td>\n    </tr>\n    <tr>\n      <th>4</th>\n      <td>2010-07-06</td>\n      <td>4.00</td>\n      <td>4.00</td>\n      <td>3.17</td>\n      <td>3.22</td>\n      <td>34334500</td>\n      <td>0</td>\n      <td>0.0</td>\n    </tr>\n  </tbody>\n</table>\n</div>"
     },
     "execution_count": 28,
     "metadata": {},
     "output_type": "execute_result"
    }
   ],
   "source": [
    "tsla = yf.Ticker('TSLA')\n",
    "tesla_data = tsla.history(period='max')\n",
    "tesla_data.reset_index(inplace=True)\n",
    "tesla_data.head()\n"
   ],
   "metadata": {
    "collapsed": false,
    "pycharm": {
     "name": "#%%\n"
    }
   }
  },
  {
   "cell_type": "code",
   "execution_count": 29,
   "outputs": [
    {
     "data": {
      "text/plain": "          Date Revenue\n41  2010-09-30      31\n42  2010-06-30      28\n43  2010-03-31      21\n45  2009-09-30      46\n46  2009-06-30      27",
      "text/html": "<div>\n<style scoped>\n    .dataframe tbody tr th:only-of-type {\n        vertical-align: middle;\n    }\n\n    .dataframe tbody tr th {\n        vertical-align: top;\n    }\n\n    .dataframe thead th {\n        text-align: right;\n    }\n</style>\n<table border=\"1\" class=\"dataframe\">\n  <thead>\n    <tr style=\"text-align: right;\">\n      <th></th>\n      <th>Date</th>\n      <th>Revenue</th>\n    </tr>\n  </thead>\n  <tbody>\n    <tr>\n      <th>41</th>\n      <td>2010-09-30</td>\n      <td>31</td>\n    </tr>\n    <tr>\n      <th>42</th>\n      <td>2010-06-30</td>\n      <td>28</td>\n    </tr>\n    <tr>\n      <th>43</th>\n      <td>2010-03-31</td>\n      <td>21</td>\n    </tr>\n    <tr>\n      <th>45</th>\n      <td>2009-09-30</td>\n      <td>46</td>\n    </tr>\n    <tr>\n      <th>46</th>\n      <td>2009-06-30</td>\n      <td>27</td>\n    </tr>\n  </tbody>\n</table>\n</div>"
     },
     "execution_count": 29,
     "metadata": {},
     "output_type": "execute_result"
    }
   ],
   "source": [
    "url = 'https://www.macrotrends.net/stocks/charts/TSLA/tesla/revenue'\n",
    "html_data  = requests.get(url).text\n",
    "soup = BeautifulSoup(html_data,\"html5lib\")\n",
    "tesla_revenue = pd.DataFrame(columns=['Date', 'Revenue'])\n",
    "quarterly = soup.findAll(\"table\")[1].find(\"tbody\")\n",
    "\n",
    "for row in quarterly.find_all(\"tr\"):\n",
    "    col = row.find_all(\"td\")\n",
    "    date = col[0].text\n",
    "    revenue = col[1].text.replace(\"$\", \"\").replace(\",\", \"\")\n",
    "    tesla_revenue = tesla_revenue.append({\"Date\":date, \"Revenue\":revenue}, ignore_index=True)\n",
    "tesla_revenue.head()\n",
    "\n",
    "tesla_revenue.dropna(inplace=True)\n",
    "tesla_revenue = tesla_revenue[tesla_revenue['Revenue'] != \"\"]\n",
    "tesla_revenue.tail()"
   ],
   "metadata": {
    "collapsed": false,
    "pycharm": {
     "name": "#%%\n"
    }
   }
  },
  {
   "cell_type": "code",
   "execution_count": 30,
   "outputs": [
    {
     "data": {
      "text/html": "\n<div id=\"altair-viz-d237232763c148788bd231a889267c2e\"></div>\n<script type=\"text/javascript\">\n  (function(spec, embedOpt){\n    let outputDiv = document.currentScript.previousElementSibling;\n    if (outputDiv.id !== \"altair-viz-d237232763c148788bd231a889267c2e\") {\n      outputDiv = document.getElementById(\"altair-viz-d237232763c148788bd231a889267c2e\");\n    }\n    const paths = {\n      \"vega\": \"https://cdn.jsdelivr.net/npm//vega@5?noext\",\n      \"vega-lib\": \"https://cdn.jsdelivr.net/npm//vega-lib?noext\",\n      \"vega-lite\": \"https://cdn.jsdelivr.net/npm//vega-lite@4.8.1?noext\",\n      \"vega-embed\": \"https://cdn.jsdelivr.net/npm//vega-embed@6?noext\",\n    };\n\n    function loadScript(lib) {\n      return new Promise(function(resolve, reject) {\n        var s = document.createElement('script');\n        s.src = paths[lib];\n        s.async = true;\n        s.onload = () => resolve(paths[lib]);\n        s.onerror = () => reject(`Error loading script: ${paths[lib]}`);\n        document.getElementsByTagName(\"head\")[0].appendChild(s);\n      });\n    }\n\n    function showError(err) {\n      outputDiv.innerHTML = `<div class=\"error\" style=\"color:red;\">${err}</div>`;\n      throw err;\n    }\n\n    function displayChart(vegaEmbed) {\n      vegaEmbed(outputDiv, spec, embedOpt)\n        .catch(err => showError(`Javascript Error: ${err.message}<br>This usually means there's a typo in your chart specification. See the javascript console for the full traceback.`));\n    }\n\n    if(typeof define === \"function\" && define.amd) {\n      requirejs.config({paths});\n      require([\"vega-embed\"], displayChart, err => showError(`Error loading script: ${err.message}`));\n    } else if (typeof vegaEmbed === \"function\") {\n      displayChart(vegaEmbed);\n    } else {\n      loadScript(\"vega\")\n        .then(() => loadScript(\"vega-lite\"))\n        .then(() => loadScript(\"vega-embed\"))\n        .catch(showError)\n        .then(() => displayChart(vegaEmbed));\n    }\n  })({\"config\": {\"view\": {\"continuousWidth\": 400, \"continuousHeight\": 300}}, \"data\": {\"name\": \"data-50bb9f8b8fa0d328d7e3fee014973ffa\"}, \"mark\": \"bar\", \"encoding\": {\"x\": {\"type\": \"temporal\", \"field\": \"Date\"}, \"y\": {\"type\": \"nominal\", \"field\": \"Revenue\"}}, \"$schema\": \"https://vega.github.io/schema/vega-lite/v4.8.1.json\", \"datasets\": {\"data-50bb9f8b8fa0d328d7e3fee014973ffa\": [{\"Date\": \"2020-12-31\", \"Revenue\": \"10744\"}, {\"Date\": \"2020-09-30\", \"Revenue\": \"8771\"}, {\"Date\": \"2020-06-30\", \"Revenue\": \"6036\"}, {\"Date\": \"2020-03-31\", \"Revenue\": \"5985\"}, {\"Date\": \"2019-12-31\", \"Revenue\": \"7384\"}, {\"Date\": \"2019-09-30\", \"Revenue\": \"6303\"}, {\"Date\": \"2019-06-30\", \"Revenue\": \"6350\"}, {\"Date\": \"2019-03-31\", \"Revenue\": \"4541\"}, {\"Date\": \"2018-12-31\", \"Revenue\": \"7226\"}, {\"Date\": \"2018-09-30\", \"Revenue\": \"6824\"}, {\"Date\": \"2018-06-30\", \"Revenue\": \"4002\"}, {\"Date\": \"2018-03-31\", \"Revenue\": \"3409\"}, {\"Date\": \"2017-12-31\", \"Revenue\": \"3288\"}, {\"Date\": \"2017-09-30\", \"Revenue\": \"2985\"}, {\"Date\": \"2017-06-30\", \"Revenue\": \"2790\"}, {\"Date\": \"2017-03-31\", \"Revenue\": \"2696\"}, {\"Date\": \"2016-12-31\", \"Revenue\": \"2285\"}, {\"Date\": \"2016-09-30\", \"Revenue\": \"2298\"}, {\"Date\": \"2016-06-30\", \"Revenue\": \"1270\"}, {\"Date\": \"2016-03-31\", \"Revenue\": \"1147\"}, {\"Date\": \"2015-12-31\", \"Revenue\": \"1214\"}, {\"Date\": \"2015-09-30\", \"Revenue\": \"937\"}, {\"Date\": \"2015-06-30\", \"Revenue\": \"955\"}, {\"Date\": \"2015-03-31\", \"Revenue\": \"940\"}, {\"Date\": \"2014-12-31\", \"Revenue\": \"957\"}, {\"Date\": \"2014-09-30\", \"Revenue\": \"852\"}, {\"Date\": \"2014-06-30\", \"Revenue\": \"769\"}, {\"Date\": \"2014-03-31\", \"Revenue\": \"621\"}, {\"Date\": \"2013-12-31\", \"Revenue\": \"615\"}, {\"Date\": \"2013-09-30\", \"Revenue\": \"431\"}, {\"Date\": \"2013-06-30\", \"Revenue\": \"405\"}, {\"Date\": \"2013-03-31\", \"Revenue\": \"562\"}, {\"Date\": \"2012-12-31\", \"Revenue\": \"306\"}, {\"Date\": \"2012-09-30\", \"Revenue\": \"50\"}, {\"Date\": \"2012-06-30\", \"Revenue\": \"27\"}, {\"Date\": \"2012-03-31\", \"Revenue\": \"30\"}, {\"Date\": \"2011-12-31\", \"Revenue\": \"39\"}, {\"Date\": \"2011-09-30\", \"Revenue\": \"58\"}, {\"Date\": \"2011-06-30\", \"Revenue\": \"58\"}, {\"Date\": \"2011-03-31\", \"Revenue\": \"49\"}, {\"Date\": \"2010-12-31\", \"Revenue\": \"36\"}, {\"Date\": \"2010-09-30\", \"Revenue\": \"31\"}, {\"Date\": \"2010-06-30\", \"Revenue\": \"28\"}, {\"Date\": \"2010-03-31\", \"Revenue\": \"21\"}, {\"Date\": \"2009-09-30\", \"Revenue\": \"46\"}, {\"Date\": \"2009-06-30\", \"Revenue\": \"27\"}]}}, {\"mode\": \"vega-lite\"});\n</script>",
      "text/plain": "alt.Chart(...)"
     },
     "execution_count": 30,
     "metadata": {},
     "output_type": "execute_result"
    }
   ],
   "source": [
    "import altair as alt\n",
    "\n",
    "alt.Chart(tesla_revenue).mark_bar().encode(\n",
    "    x='Revenue',\n",
    "    y='Date:T'\n",
    ")\n",
    "\n",
    "# make_graph(tesla_data, tesla_revenue, 'Tesla Stock Data')"
   ],
   "metadata": {
    "collapsed": false,
    "pycharm": {
     "name": "#%%\n"
    }
   }
  },
  {
   "cell_type": "code",
   "execution_count": 30,
   "outputs": [],
   "source": [],
   "metadata": {
    "collapsed": false,
    "pycharm": {
     "name": "#%%\n"
    }
   }
  }
 ],
 "metadata": {
  "kernelspec": {
   "name": "pycharm-b5a51285",
   "language": "python",
   "display_name": "PyCharm (DataScienceBasics)"
  },
  "language_info": {
   "codemirror_mode": {
    "name": "ipython",
    "version": 2
   },
   "file_extension": ".py",
   "mimetype": "text/x-python",
   "name": "python",
   "nbconvert_exporter": "python",
   "pygments_lexer": "ipython2",
   "version": "2.7.6"
  }
 },
 "nbformat": 4,
 "nbformat_minor": 0
}