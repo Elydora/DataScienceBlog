{
 "cells": [
  {
   "cell_type": "markdown",
   "source": [
    "# Fundamental Data Structures\n",
    "> Example Implementations using <a href=\"https://jupyter.org/\">Jupyter Notebooks</a>.\n",
    "\n",
    "- toc: true\n",
    "- badges: true\n",
    "- comments: true\n",
    "- sticky_rank: 1\n",
    "- author: Felix\n",
    "- categories: [datastructures, jupyter, percipio]"
   ],
   "metadata": {
    "collapsed": false
   }
  },
  {
   "cell_type": "code",
   "execution_count": 1,
   "metadata": {
    "collapsed": true
   },
   "outputs": [
    {
     "name": "stdout",
     "output_type": "stream",
     "text": [
      "Hallo\n"
     ]
    }
   ],
   "source": [
    "# make common operations fast (fast loading / unloading of complex objects)\n",
    "# make difficult operations possible\n",
    "# occupy less space and still represent the complexity of information and\n",
    "# its interrelationships in an intuitive way\n",
    "# data structures and algorithms go hand-in-hand\n",
    "# A set is extremely fast for membership and containment queries\n",
    "# stacks can be used for undo functionality in applications as well as back functionality\n",
    "# index data structures\n",
    "# hash tables\n",
    "# graphs for relationships\n",
    "# data structures are concrete representations of data from the point of view of an implementor\n",
    "# they specify the actual implementation of the structure in code to meet the expected behavior"
   ]
  },
  {
   "cell_type": "code",
   "execution_count": 2,
   "outputs": [
    {
     "data": {
      "text/plain": "2"
     },
     "execution_count": 2,
     "metadata": {},
     "output_type": "execute_result"
    }
   ],
   "source": [
    "# Measuring Performance metrics:\n",
    "# Time (# of operations / amount of processing)\n",
    "# Space (make best use of available space, memory and disk space needed)\n",
    "# Network (overall network bandwidth, network speed)\n",
    "# efficient = uses fewer resources along all these axes\n",
    "# using more of the resources that are plenty, and less of those who lack\n",
    "# performance indicates how much of these resources are used by the code\n",
    "# == Performance can be measured in terms of complexity\n",
    "# Complexity is a measure of how resource requirements change as the size of the problem gets larger\n",
    "# The higher the complexity of a overall problem, the lower the performance"
   ],
   "metadata": {
    "collapsed": false,
    "pycharm": {
     "name": "#%%\n"
    }
   }
  },
  {
   "cell_type": "code",
   "execution_count": 1,
   "outputs": [],
   "source": [
    "# Basic Operations\n",
    "# Read - Write - Assignment - Test\n",
    "# do not worry about the number of operations\n",
    "# be worried how that number changes is based on the input size\n",
    "# that is how performance changes based on input size\n",
    "# focus on the worst case performance\n",
    "# what is the maximum number of basic operations that might have to be performed based on the input\n",
    "# Complexity varies with the algorithm"
   ],
   "metadata": {
    "collapsed": false,
    "pycharm": {
     "name": "#%%\n"
    }
   }
  },
  {
   "cell_type": "code",
   "execution_count": 2,
   "outputs": [],
   "source": [
    "# Big-O Notation\n",
    "# Represents the complexity of an algorithm\n",
    "# An algorithm whose complexity does not change with the input size is O(1)\n",
    "# -> the algorithm is said to have constant time complexity\n",
    "# The algorithm is said to have constant time complexity\n",
    "# It takes the same amount of time, even if the input size is doubled, tripled, or increased to any level"
   ],
   "metadata": {
    "collapsed": false,
    "pycharm": {
     "name": "#%%\n"
    }
   }
  },
  {
   "cell_type": "code",
   "execution_count": 3,
   "outputs": [],
   "source": [
    "# The complexity of an algorithm is O(N) if the time taken by the algorithm increases linearly when N increases\n",
    "# The complexity of an algorithm is O(N^2) if the time taken by the algorithm increases quadratically when N increases\n",
    "# Lower order terms and constants do not matter while expressing complexity\n",
    "# O(N^2 + 1000) is equivalent to O(N^2) -> N is assumed very large\n",
    "# O(N^2+N) is equivalent to O(N^2)"
   ],
   "metadata": {
    "collapsed": false,
    "pycharm": {
     "name": "#%%\n"
    }
   }
  },
  {
   "cell_type": "code",
   "execution_count": 8,
   "outputs": [],
   "source": [
    "# Fastest O(1) < O(N) < O(N^2) < O(N^3) Slowest"
   ],
   "metadata": {
    "collapsed": false,
    "pycharm": {
     "name": "#%%\n"
    }
   }
  },
  {
   "cell_type": "code",
   "execution_count": 12,
   "outputs": [],
   "source": [
    "# Linked Lists: [Data|Pointer]; Pointer points to the next element, or null\n",
    "# Header points to the first element\n",
    "# Best way to count is to increment/decrement a counter at every list operation\n",
    "# Adding: At the end/ in between -> O(N); at the beginning -> O(1)\n",
    "# Deleting: At the end/ in between -> O(N); at the beginning -> O(1)\n",
    "# Counting: Iterating -> O(1), Increment/Decrement a permanent Counter -> O(1)\n",
    "# Reversing: O(N)"
   ],
   "metadata": {
    "collapsed": false,
    "pycharm": {
     "name": "#%%\n"
    }
   }
  },
  {
   "cell_type": "code",
   "execution_count": 10,
   "outputs": [],
   "source": [
    "# Stacks:\n",
    "# Common operations (add, remove, peek) have O(1) complexity\n",
    "# Can be implemented using a linked list\n",
    "# LIFO principle\n",
    "# Insertion and deletion at the same end"
   ],
   "metadata": {
    "collapsed": false,
    "pycharm": {
     "name": "#%%\n"
    }
   }
  },
  {
   "cell_type": "code",
   "execution_count": 11,
   "outputs": [],
   "source": [
    "# Queues:\n",
    "# Common operations (add, remove, peek) have O(1) complexity\n",
    "# Can be implemented using a linked list\n",
    "# FIFO principle\n",
    "# Insertion and deletion at opposite ends"
   ],
   "metadata": {
    "collapsed": false,
    "pycharm": {
     "name": "#%%\n"
    }
   }
  },
  {
   "cell_type": "code",
   "execution_count": null,
   "outputs": [],
   "source": [
    "# Peek - Value of the most recently inserted element\n"
   ],
   "metadata": {
    "collapsed": false,
    "pycharm": {
     "name": "#%%\n"
    }
   }
  }
 ],
 "metadata": {
  "kernelspec": {
   "display_name": "Python 3",
   "language": "python",
   "name": "python3"
  },
  "language_info": {
   "codemirror_mode": {
    "name": "ipython",
    "version": 2
   },
   "file_extension": ".py",
   "mimetype": "text/x-python",
   "name": "python",
   "nbconvert_exporter": "python",
   "pygments_lexer": "ipython2",
   "version": "2.7.6"
  }
 },
 "nbformat": 4,
 "nbformat_minor": 0
}