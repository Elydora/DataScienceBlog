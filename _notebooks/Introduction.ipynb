{
 "cells": [
  {
   "cell_type": "code",
   "execution_count": 1,
   "metadata": {
    "collapsed": true
   },
   "outputs": [],
   "source": [
    "# model more complex real world entities\n",
    "# Classes -> have State (Attributes) and Behavior (Perform Actions)"
   ]
  },
  {
   "cell_type": "code",
   "execution_count": 2,
   "outputs": [],
   "source": [
    "# class is the blueprint for an entity\n",
    "# each entity is known as an instance or object\n",
    "# each objects has its own independent existence"
   ],
   "metadata": {
    "collapsed": false,
    "pycharm": {
     "name": "#%%\n"
    }
   }
  },
  {
   "cell_type": "code",
   "execution_count": 3,
   "outputs": [],
   "source": [
    "# keyword class Name:\n",
    "# attributes are called member variables\n",
    "# functions perform actions on the member variables -> called member functions\n",
    "# no limit for vars/functions"
   ],
   "metadata": {
    "collapsed": false,
    "pycharm": {
     "name": "#%%\n"
    }
   }
  },
  {
   "cell_type": "code",
   "execution_count": 4,
   "outputs": [],
   "source": [
    "# Variables:\n",
    "# Class variables -> associated with the class itself; shared by all objects of the class\n",
    "#  - declared outside of any method\n",
    "#  - referred to by class name\n",
    "# Instance variables -> associated with objects of a class; exclusive property\n",
    "#  - declared inside any method\n",
    "#  - referred using the self keyword"
   ],
   "metadata": {
    "collapsed": false,
    "pycharm": {
     "name": "#%%\n"
    }
   }
  },
  {
   "cell_type": "code",
   "execution_count": 6,
   "outputs": [],
   "source": [
    "# member functions -> perform actions, update state, return state"
   ],
   "metadata": {
    "collapsed": false,
    "pycharm": {
     "name": "#%%\n"
    }
   }
  },
  {
   "cell_type": "code",
   "execution_count": 7,
   "outputs": [],
   "source": [
    "# Inheritance\n",
    "# tries to capture the similarities and differences in real-world entities\n",
    "# Portray relationships\n",
    "# base, parent, super class | derived, child class, subclass"
   ],
   "metadata": {
    "collapsed": false,
    "pycharm": {
     "name": "#%%\n"
    }
   }
  },
  {
   "cell_type": "code",
   "execution_count": null,
   "outputs": [],
   "source": [
    "# Object-oriented programming\n",
    "# Polymorphism - the ability of an object to behave in multiple ways\n",
    "# Encapsulation of data\n",
    "# Clear modular structure for code\n",
    "# Provides abstractions and data encapsulation\n",
    "# Easy to maintain and reuse code\n",
    "# Model real-world entities\n"
   ],
   "metadata": {
    "collapsed": false,
    "pycharm": {
     "name": "#%%\n"
    }
   }
  }
 ],
 "metadata": {
  "kernelspec": {
   "display_name": "Python 3",
   "language": "python",
   "name": "python3"
  },
  "language_info": {
   "codemirror_mode": {
    "name": "ipython",
    "version": 2
   },
   "file_extension": ".py",
   "mimetype": "text/x-python",
   "name": "python",
   "nbconvert_exporter": "python",
   "pygments_lexer": "ipython2",
   "version": "2.7.6"
  }
 },
 "nbformat": 4,
 "nbformat_minor": 0
}