{
 "cells": [
  {
   "cell_type": "markdown",
   "source": [
    "# Creational Design Patterns\n",
    "> Example Implementations using <a href=\"https://jupyter.org/\">Jupyter Notebooks</a>.\n",
    "\n",
    "- toc: true\n",
    "- badges: true\n",
    "- comments: true\n",
    "- sticky_rank: 1\n",
    "- author: Felix\n",
    "- categories: [percipio, jupyter]"
   ],
   "metadata": {
    "collapsed": false
   }
  },
  {
   "cell_type": "code",
   "execution_count": null,
   "outputs": [],
   "source": [
    "# Singleton\n",
    "# a class of which only a single instance can exist\n",
    "# Ensure a class is instantiated only once, and provide a global point of access to it\n",
    "# When:\n",
    "# - no clear owner of the object, i. e. a global object (e. g. logger)\n",
    "# - when you want to use lazy instantiation\n",
    "# - when you need a single global way to access the object\n",
    "# python offers a global object pattern"
   ],
   "metadata": {
    "collapsed": false,
    "pycharm": {
     "name": "#%%\n"
    }
   }
  },
  {
   "cell_type": "code",
   "execution_count": null,
   "outputs": [],
   "source": [
    "# Implementation\n",
    "class Logger:\n",
    "    __instance = None\n",
    "\n",
    "    def __init__(self):\n",
    "        raise RuntimeError('Call get_instance() instead')\n",
    "\n",
    "    @classmethod\n",
    "    def get_instance(cls):\n",
    "        if cls.__instance is None :\n",
    "            print('No instance exists, creating a new one')\n",
    "            cls.__instance = cls.__new__(cls)\n",
    "        else:\n",
    "            print('A previously created instance exists, returning that same one')\n",
    "        return cls.__instance"
   ],
   "metadata": {
    "collapsed": false,
    "pycharm": {
     "name": "#%%\n"
    }
   }
  },
  {
   "cell_type": "code",
   "execution_count": null,
   "outputs": [],
   "source": [
    "logger1 = Logger.get_instance()\n",
    "logger1"
   ],
   "metadata": {
    "collapsed": false,
    "pycharm": {
     "name": "#%%\n"
    }
   }
  },
  {
   "cell_type": "code",
   "execution_count": null,
   "outputs": [],
   "source": [
    "logger2 = Logger.get_instance()"
   ],
   "metadata": {
    "collapsed": false,
    "pycharm": {
     "name": "#%%\n"
    }
   }
  },
  {
   "cell_type": "code",
   "execution_count": null,
   "outputs": [],
   "source": [
    "logger2"
   ],
   "metadata": {
    "collapsed": false,
    "pycharm": {
     "name": "#%%\n"
    }
   }
  },
  {
   "cell_type": "code",
   "execution_count": null,
   "outputs": [],
   "source": [
    "# Pythonic implementation\n",
    "# new is always called first -> it creates the instance, cls is reference to not yet existing instance\n",
    "# init is used to initialize the existing instance -> self is a reference to the instance\n",
    "class PythonicLogger:\n",
    "    __instance = None\n",
    "\n",
    "    def __init__(self):\n",
    "        print('Object initialized')\n",
    "        # put your custom code here\n",
    "        # is called every time - could be expensive\n",
    "\n",
    "    def __new__(cls):\n",
    "        if cls.__instance is None:\n",
    "            print('No instance exists, creating a new one')\n",
    "            cls.__instance = super(PythonicLogger, cls).__new__(cls)\n",
    "        else:\n",
    "            print('A previously created instance exists, returning that same one')\n",
    "        return cls.__instance"
   ],
   "metadata": {
    "collapsed": false,
    "pycharm": {
     "name": "#%%\n"
    }
   }
  },
  {
   "cell_type": "code",
   "execution_count": null,
   "outputs": [],
   "source": [
    "logger3 = PythonicLogger()\n",
    "logger3"
   ],
   "metadata": {
    "collapsed": false,
    "pycharm": {
     "name": "#%%\n"
    }
   }
  },
  {
   "cell_type": "code",
   "execution_count": null,
   "outputs": [],
   "source": [
    "logger4 = PythonicLogger()\n",
    "logger4"
   ],
   "metadata": {
    "collapsed": false,
    "pycharm": {
     "name": "#%%\n"
    }
   }
  },
  {
   "cell_type": "code",
   "execution_count": null,
   "outputs": [],
   "source": [
    "class SuperLogger:\n",
    "    __instance = None\n",
    "\n",
    "    def __new__(cls):\n",
    "        if cls.__instance is None:\n",
    "            print('No instance exists, creating a new one')\n",
    "            cls.__instance = super(SuperLogger, cls).__new__(cls)\n",
    "            # Place all initialization code here\n",
    "        else:\n",
    "            print('A previously created instance exists, returning that same one')\n",
    "        return cls.__instance"
   ],
   "metadata": {
    "collapsed": false,
    "pycharm": {
     "name": "#%%\n"
    }
   }
  },
  {
   "cell_type": "code",
   "execution_count": null,
   "outputs": [],
   "source": [
    "logger5 = SuperLogger()\n",
    "logger5"
   ],
   "metadata": {
    "collapsed": false,
    "pycharm": {
     "name": "#%%\n"
    }
   }
  },
  {
   "cell_type": "code",
   "execution_count": null,
   "outputs": [],
   "source": [
    "logger6 = SuperLogger()\n",
    "logger6"
   ],
   "metadata": {
    "collapsed": false,
    "pycharm": {
     "name": "#%%\n"
    }
   }
  },
  {
   "cell_type": "code",
   "execution_count": null,
   "outputs": [],
   "source": [
    "logger5 == logger6"
   ],
   "metadata": {
    "collapsed": false,
    "pycharm": {
     "name": "#%%\n"
    }
   }
  },
  {
   "cell_type": "code",
   "execution_count": null,
   "outputs": [],
   "source": [
    "# Global Object Pattern\n",
    "# Global Objects which expose methods\n",
    "import logger"
   ],
   "metadata": {
    "collapsed": false,
    "pycharm": {
     "name": "#%%\n"
    }
   }
  },
  {
   "cell_type": "code",
   "execution_count": null,
   "outputs": [],
   "source": [
    "logger.INFO"
   ],
   "metadata": {
    "collapsed": false,
    "pycharm": {
     "name": "#%%\n"
    }
   }
  },
  {
   "cell_type": "code",
   "execution_count": null,
   "outputs": [],
   "source": [
    "logger.WARNING"
   ],
   "metadata": {
    "collapsed": false,
    "pycharm": {
     "name": "#%%\n"
    }
   }
  },
  {
   "cell_type": "code",
   "execution_count": null,
   "outputs": [],
   "source": [
    "file_logger = logger.FILE_LOGGER\n",
    "file_logger.log(\"logging message\")"
   ],
   "metadata": {
    "collapsed": false,
    "pycharm": {
     "name": "#%%\n"
    }
   }
  },
  {
   "cell_type": "code",
   "execution_count": null,
   "outputs": [],
   "source": [
    "# Factory & Abstract Factory Design Patterns\n",
    "# Separate the creation of objects from their use\n",
    "# Class creation or Object creation\n",
    "# Class-creation patterns use inheritance\n",
    "# Object-creation patterns use delegation\n",
    "# Factory method is specified in base class, implemented in derived classes\n",
    "# Creates an instance of several derived classes\n",
    "# Define an interface for creating an object, but let subclasses decide which class to instantiate\n",
    "# Used to postpone instantiation - responsibility passes from base class to derived classes\n",
    "# Factory method -> create an instance of any of many derived classes\n",
    "# Abstract F. pattern -> create an instance of any one of many families of derived classes\n",
    "# Abstract Factory: create instances of several families of classes\n",
    "# encapsulate platform dependencies\n",
    "# Use case: Working with Oracle or MS-SQL databases -> each represents a family of classes\n",
    "# Microsoft Factory | Oracle Factory"
   ],
   "metadata": {
    "collapsed": false,
    "pycharm": {
     "name": "#%%\n"
    }
   }
  },
  {
   "cell_type": "code",
   "execution_count": null,
   "outputs": [],
   "source": [
    "# Factory Method\n",
    "class Product:\n",
    "    def __init__(self, name, price):\n",
    "        self.__name = name\n",
    "        self.__price = price\n",
    "\n",
    "    def get_price(self):\n",
    "        return self.__price"
   ],
   "metadata": {
    "collapsed": false,
    "pycharm": {
     "name": "#%%\n"
    }
   }
  },
  {
   "cell_type": "code",
   "execution_count": null,
   "outputs": [],
   "source": [
    "class MacBookAir(Product):\n",
    "\n",
    "    def __init__(self, memory, os):\n",
    "        Product.__init__(self, 'MacBookAir', 1031)\n",
    "\n",
    "        self.__memory = memory\n",
    "        self.__os = os\n",
    "\n",
    "\n",
    "class AppleIPad(Product):\n",
    "\n",
    "    def __init__(self, generation):\n",
    "        Product.__init__(self, 'AppleIPad', 529)\n",
    "\n",
    "        self.__generation = generation\n",
    "\n",
    "class AppleIWatch(Product):\n",
    "\n",
    "    def __init__(self):\n",
    "        Product.__init__(self, 'AppleIWatch', 264)"
   ],
   "metadata": {
    "collapsed": false,
    "pycharm": {
     "name": "#%%\n"
    }
   }
  },
  {
   "cell_type": "code",
   "execution_count": null,
   "outputs": [],
   "source": [
    "class ProductFactory():\n",
    "\n",
    "    @staticmethod\n",
    "    def create(item_name, *args):\n",
    "\n",
    "        if item_name == 'MacBookAir':\n",
    "            return MacBookAir(*args)\n",
    "        elif item_name == 'AppleIPad':\n",
    "            return AppleIPad(*args)\n",
    "        elif item_name == 'AppleIWatch':\n",
    "            return AppleIWatch(*args)"
   ],
   "metadata": {
    "collapsed": false,
    "pycharm": {
     "name": "#%%\n"
    }
   }
  },
  {
   "cell_type": "code",
   "execution_count": null,
   "outputs": [],
   "source": [
    "air = ProductFactory.create('MacBookAir', '16GB', 'Sierra')\n",
    "\n",
    "air.__dict__"
   ],
   "metadata": {
    "collapsed": false,
    "pycharm": {
     "name": "#%%\n"
    }
   }
  },
  {
   "cell_type": "code",
   "execution_count": null,
   "outputs": [],
   "source": [
    "ipad = ProductFactory.create('AppleIPad', '2nd')\n",
    "\n",
    "ipad.__dict__"
   ],
   "metadata": {
    "collapsed": false,
    "pycharm": {
     "name": "#%%\n"
    }
   }
  },
  {
   "cell_type": "code",
   "execution_count": null,
   "outputs": [],
   "source": [
    "iwatch = ProductFactory.create('AppleIWatch')\n",
    "\n",
    "iwatch.__dict__"
   ],
   "metadata": {
    "collapsed": false,
    "pycharm": {
     "name": "#%%\n"
    }
   }
  },
  {
   "cell_type": "markdown",
   "source": [
    "https://realpython.com/factory-method-python/"
   ],
   "metadata": {
    "collapsed": false
   }
  },
  {
   "cell_type": "code",
   "execution_count": null,
   "outputs": [],
   "source": [
    "import json\n",
    "import xml.etree.ElementTree as et\n",
    "\n",
    "class Movie:\n",
    "    def __init__(self, movie_id, name, director):\n",
    "\n",
    "        self.movie_id = movie_id\n",
    "        self.name = name\n",
    "        self.director = director"
   ],
   "metadata": {
    "collapsed": false,
    "pycharm": {
     "name": "#%%\n"
    }
   }
  },
  {
   "cell_type": "code",
   "execution_count": null,
   "outputs": [],
   "source": [
    "class MovieSerializer:\n",
    "\n",
    "    def serialize(self, movie, fmt):\n",
    "        if fmt == 'JSON':\n",
    "            movie_info = {\n",
    "                'id': movie.movie_id,\n",
    "                'name': movie.name,\n",
    "                'director': movie.director\n",
    "            }\n",
    "\n",
    "            return json.dumps(movie_info)\n",
    "\n",
    "        elif fmt == 'XML':\n",
    "            movie_info = et.Element('movie', attrib={'id': movie.movie_id})\n",
    "\n",
    "            name = et.SubElement(movie_info, 'name')\n",
    "            name.text = movie.name\n",
    "\n",
    "            director = et.SubElement(movie_info, 'director')\n",
    "            director.text = movie.director\n",
    "\n",
    "            return et.tostring(movie_info, encoding='unicode')\n",
    "\n",
    "        else:\n",
    "            raise ValueError(fmt)"
   ],
   "metadata": {
    "collapsed": false,
    "pycharm": {
     "name": "#%%\n"
    }
   }
  },
  {
   "cell_type": "code",
   "execution_count": null,
   "outputs": [],
   "source": [
    "movie = Movie('578', 'Avengers:End Game', 'Russo brothers')"
   ],
   "metadata": {
    "collapsed": false,
    "pycharm": {
     "name": "#%%\n"
    }
   }
  },
  {
   "cell_type": "code",
   "execution_count": null,
   "outputs": [],
   "source": [
    "serializer = MovieSerializer()"
   ],
   "metadata": {
    "collapsed": false,
    "pycharm": {
     "name": "#%%\n"
    }
   }
  },
  {
   "cell_type": "code",
   "execution_count": null,
   "outputs": [],
   "source": [
    "serializer.serialize(movie, 'JSON')"
   ],
   "metadata": {
    "collapsed": false,
    "pycharm": {
     "name": "#%%\n"
    }
   }
  },
  {
   "cell_type": "code",
   "execution_count": null,
   "outputs": [],
   "source": [
    "serializer.serialize(movie, 'XML')"
   ],
   "metadata": {
    "collapsed": false,
    "pycharm": {
     "name": "#%%\n"
    }
   }
  },
  {
   "cell_type": "code",
   "execution_count": null,
   "outputs": [],
   "source": [
    "serializer.serialize(movie, 'YAML')"
   ],
   "metadata": {
    "collapsed": false,
    "pycharm": {
     "name": "#%%\n"
    }
   }
  },
  {
   "cell_type": "markdown",
   "source": [
    "Complex logical code uses if/elif/else structures to change the behavior of an application. Using if/elif/else conditional structures makes the code harder to read, harder to understand, and harder to maintain.\n",
    "\n",
    "- When a new format is introduced: The method will have to change to implement the serialization to that format.\n",
    "\n",
    "- When the movie object changes: Adding or removing properties to the Song class will require the implementation to change in order to accommodate the new structure.\n",
    "\n",
    "- When the string representation for a format changes (plain JSON vs JSON API): The .serialize() method will have to change if the desired string representation for a format changes because the representation is hard-coded in the .serialize() method implementation."
   ],
   "metadata": {
    "collapsed": false
   }
  },
  {
   "cell_type": "markdown",
   "source": [
    "# Refactoring Code Into the Desired Interface"
   ],
   "metadata": {
    "collapsed": false
   }
  },
  {
   "cell_type": "code",
   "execution_count": null,
   "outputs": [],
   "source": [
    "class MovieSerializer:\n",
    "\n",
    "    def serialize(self, movie, fmt):\n",
    "        if fmt == 'JSON':\n",
    "            return self._serialize_to_json(movie)\n",
    "\n",
    "        elif fmt == 'XML':\n",
    "            return self._serialize_to_xml(movie)\n",
    "\n",
    "        else:\n",
    "            raise ValueError(format)\n",
    "\n",
    "    def _serialize_to_json(self, movie):\n",
    "        movie_info = {\n",
    "            'id': movie.movie_id,\n",
    "            'name': movie.name,\n",
    "            'director': movie.director\n",
    "        }\n",
    "\n",
    "        return json.dumps(movie_info)\n",
    "\n",
    "    def _serialize_to_xml(self, movie):\n",
    "        movie_element = et.Element('movie', attrib={'id': movie.movie_id})\n",
    "\n",
    "        name = et.SubElement(movie_element, 'name')\n",
    "        name.text = movie.name\n",
    "        director = et.SubElement(movie_element, 'director')\n",
    "        director.text = movie.director\n",
    "\n",
    "        return et.tostring(movie_element, encoding='unicode')"
   ],
   "metadata": {
    "collapsed": false,
    "pycharm": {
     "name": "#%%\n"
    }
   }
  },
  {
   "cell_type": "code",
   "execution_count": null,
   "outputs": [],
   "source": [
    "serializer = MovieSerializer()"
   ],
   "metadata": {
    "collapsed": false,
    "pycharm": {
     "name": "#%%\n"
    }
   }
  },
  {
   "cell_type": "code",
   "execution_count": null,
   "outputs": [],
   "source": [
    "serializer.serialize(movie, 'JSON')"
   ],
   "metadata": {
    "collapsed": false,
    "pycharm": {
     "name": "#%%\n"
    }
   }
  },
  {
   "cell_type": "code",
   "execution_count": null,
   "outputs": [],
   "source": [
    "serializer.serialize(movie, 'XML')"
   ],
   "metadata": {
    "collapsed": false,
    "pycharm": {
     "name": "#%%\n"
    }
   }
  },
  {
   "cell_type": "code",
   "execution_count": null,
   "outputs": [],
   "source": [
    "# Abstract Factory"
   ],
   "metadata": {
    "collapsed": false,
    "pycharm": {
     "name": "#%%\n"
    }
   }
  },
  {
   "cell_type": "markdown",
   "source": [
    "Provide an interface for creating families of related or dependent\n",
    "objects without specifying their concrete classes.\n",
    "\n",
    "An abstract factory is a factory that returns factories.A normal factory can be used to create sets of related objects. An abstract factory returns factories. Thus, an abstract factory is used to return factories that can be used to create sets of related objects.\n",
    "\n",
    "- When the system needs to be independent of how its object are created, composed, and represented.\n",
    "- When the family of related objects has to be used together, then this constraint needs to be enforced.\n",
    "- When you want to provide a library of objects that does not show implementations and only reveals interfaces.\n",
    "- When the system needs to be configured with one of a multiple family of objects."
   ],
   "metadata": {
    "collapsed": false
   }
  },
  {
   "cell_type": "code",
   "execution_count": 73,
   "outputs": [],
   "source": [
    "import abc"
   ],
   "metadata": {
    "collapsed": false,
    "pycharm": {
     "name": "#%%\n"
    }
   }
  },
  {
   "cell_type": "markdown",
   "source": [
    "create an interface for Toys and color"
   ],
   "metadata": {
    "collapsed": false
   }
  },
  {
   "cell_type": "code",
   "execution_count": 74,
   "outputs": [],
   "source": [
    "class Toy(metaclass=abc.ABCMeta):\n",
    "    @abc.abstractmethod\n",
    "    def show(self):\n",
    "        pass\n",
    "\n",
    "class Color(metaclass=abc.ABCMeta):\n",
    "    @abc.abstractmethod\n",
    "    def show_color(self):\n",
    "        pass"
   ],
   "metadata": {
    "collapsed": false,
    "pycharm": {
     "name": "#%%\n"
    }
   }
  },
  {
   "cell_type": "code",
   "execution_count": 75,
   "outputs": [],
   "source": [
    "class Car(Toy):\n",
    "    def show(self):\n",
    "        print(\"Remote controlled car\")\n",
    "\n",
    "class ActionFigure(Toy):\n",
    "    def show(self):\n",
    "        print(\"Captain America action figure\")\n",
    "\n",
    "class ConstructionToy(Toy):\n",
    "    def show(self):\n",
    "        print(\"Lego\")"
   ],
   "metadata": {
    "collapsed": false,
    "pycharm": {
     "name": "#%%\n"
    }
   }
  },
  {
   "cell_type": "code",
   "execution_count": 76,
   "outputs": [],
   "source": [
    "class Red(Color):\n",
    "    def show_color(self):\n",
    "        print(\"red\")\n",
    "\n",
    "class Green(Color):\n",
    "    def show_color(self):\n",
    "        print(\"green\")\n",
    "\n",
    "class Blue(Color):\n",
    "    def show_color(self):\n",
    "        print(\"blue\")"
   ],
   "metadata": {
    "collapsed": false,
    "pycharm": {
     "name": "#%%\n"
    }
   }
  },
  {
   "cell_type": "code",
   "execution_count": 77,
   "outputs": [
    {
     "name": "stdout",
     "output_type": "stream",
     "text": [
      "red\n",
      "Remote controlled car\n"
     ]
    },
    {
     "data": {
      "text/plain": "(None, None)"
     },
     "execution_count": 77,
     "metadata": {},
     "output_type": "execute_result"
    }
   ],
   "source": [
    "car = Car()\n",
    "\n",
    "red = Red()\n",
    "\n",
    "red.show_color(), car.show()"
   ],
   "metadata": {
    "collapsed": false,
    "pycharm": {
     "name": "#%%\n"
    }
   }
  },
  {
   "cell_type": "code",
   "execution_count": 78,
   "outputs": [
    {
     "name": "stdout",
     "output_type": "stream",
     "text": [
      "green\n",
      "Lego\n"
     ]
    },
    {
     "data": {
      "text/plain": "(None, None)"
     },
     "execution_count": 78,
     "metadata": {},
     "output_type": "execute_result"
    }
   ],
   "source": [
    "lego = ConstructionToy()\n",
    "\n",
    "green = Green()\n",
    "\n",
    "green.show_color(), lego.show()"
   ],
   "metadata": {
    "collapsed": false,
    "pycharm": {
     "name": "#%%\n"
    }
   }
  },
  {
   "cell_type": "code",
   "execution_count": 79,
   "outputs": [],
   "source": [
    "class AbstractFactory(metaclass=abc.ABCMeta):\n",
    "\n",
    "    @abc.abstractmethod\n",
    "    def get_color(self):\n",
    "        pass\n",
    "\n",
    "    @abc.abstractmethod\n",
    "    def get_toy(self):\n",
    "        pass"
   ],
   "metadata": {
    "collapsed": false,
    "pycharm": {
     "name": "#%%\n"
    }
   }
  },
  {
   "cell_type": "markdown",
   "source": [
    "Create concrete classes implementing the same interface."
   ],
   "metadata": {
    "collapsed": false
   }
  },
  {
   "cell_type": "markdown",
   "source": [
    "create Factory classes extending AbstractFactory"
   ],
   "metadata": {
    "collapsed": false
   }
  },
  {
   "cell_type": "code",
   "execution_count": 80,
   "outputs": [],
   "source": [
    "class ColorfulToysFactory(AbstractFactory):\n",
    "\n",
    "    def get_toy(self, toy_type):\n",
    "        if toy_type == None:\n",
    "            return None\n",
    "\n",
    "        if toy_type == \"car\":\n",
    "            return Car()\n",
    "        elif toy_type == \"action figure\":\n",
    "            return ActionFigure()\n",
    "        elif toy_type == \"construction toy\":\n",
    "            return ConstructionToy()\n",
    "\n",
    "        return None\n",
    "\n",
    "    def get_color(self, color_type):\n",
    "        if color_type == None:\n",
    "            return None\n",
    "\n",
    "        if color_type == \"red\":\n",
    "            return Red()\n",
    "        elif color_type == \"green\":\n",
    "            return Green()\n",
    "        elif color_type == \"blue\":\n",
    "            return Blue()\n",
    "\n",
    "        return None"
   ],
   "metadata": {
    "collapsed": false,
    "pycharm": {
     "name": "#%%\n"
    }
   }
  },
  {
   "cell_type": "code",
   "execution_count": 81,
   "outputs": [],
   "source": [
    "RED_CAR = 'red_car'\n",
    "BLUE_LEGO = 'blue_lego'\n",
    "GREEN_ACTION_FIGURE = 'green_action_figure'"
   ],
   "metadata": {
    "collapsed": false,
    "pycharm": {
     "name": "#%%\n"
    }
   }
  },
  {
   "cell_type": "markdown",
   "source": [
    "Use the FactoryProducer to get AbstractFactory in order to get factories of concrete classes by passing an information such as type"
   ],
   "metadata": {
    "collapsed": false
   }
  },
  {
   "cell_type": "code",
   "execution_count": 82,
   "outputs": [],
   "source": [
    "class ColorfulToysProducer:\n",
    "\n",
    "    __colorful_toys_factory = ColorfulToysFactory()\n",
    "\n",
    "    @classmethod\n",
    "    def get_toy_and_color(cls, choice):\n",
    "        toy = None\n",
    "        color = None\n",
    "\n",
    "        if choice == RED_CAR:\n",
    "            toy = cls.__colorful_toys_factory.get_toy('car')\n",
    "            color = cls.__colorful_toys_factory.get_color('red')\n",
    "\n",
    "        elif choice == BLUE_LEGO:\n",
    "            toy = cls.__colorful_toys_factory.get_toy('construction toy')\n",
    "            color = cls.__colorful_toys_factory.get_color('blue')\n",
    "\n",
    "        elif choice == GREEN_ACTION_FIGURE:\n",
    "            toy = cls.__colorful_toys_factory.get_toy('action figure')\n",
    "            color = cls.__colorful_toys_factory.get_color('green')\n",
    "\n",
    "        return toy, color"
   ],
   "metadata": {
    "collapsed": false,
    "pycharm": {
     "name": "#%%\n"
    }
   }
  },
  {
   "cell_type": "code",
   "execution_count": 83,
   "outputs": [
    {
     "data": {
      "text/plain": "(<__main__.Car at 0x253feb8a748>, <__main__.Red at 0x253ff224fc8>)"
     },
     "execution_count": 83,
     "metadata": {},
     "output_type": "execute_result"
    }
   ],
   "source": [
    "toy, color = ColorfulToysProducer.get_toy_and_color(RED_CAR)\n",
    "\n",
    "toy, color"
   ],
   "metadata": {
    "collapsed": false,
    "pycharm": {
     "name": "#%%\n"
    }
   }
  },
  {
   "cell_type": "code",
   "execution_count": 84,
   "outputs": [
    {
     "data": {
      "text/plain": "(<__main__.ConstructionToy at 0x253feb611c8>, <__main__.Blue at 0x253feb61548>)"
     },
     "execution_count": 84,
     "metadata": {},
     "output_type": "execute_result"
    }
   ],
   "source": [
    "toy, color = ColorfulToysProducer.get_toy_and_color(BLUE_LEGO)\n",
    "\n",
    "toy, color"
   ],
   "metadata": {
    "collapsed": false,
    "pycharm": {
     "name": "#%%\n"
    }
   }
  },
  {
   "cell_type": "code",
   "execution_count": 85,
   "outputs": [
    {
     "data": {
      "text/plain": "(<__main__.ActionFigure at 0x253ff09f208>, <__main__.Green at 0x253ff09f3c8>)"
     },
     "execution_count": 85,
     "metadata": {},
     "output_type": "execute_result"
    }
   ],
   "source": [
    "toy, color = ColorfulToysProducer.get_toy_and_color(GREEN_ACTION_FIGURE)\n",
    "\n",
    "toy, color"
   ],
   "metadata": {
    "collapsed": false,
    "pycharm": {
     "name": "#%%\n"
    }
   }
  },
  {
   "cell_type": "code",
   "execution_count": 86,
   "outputs": [],
   "source": [
    "# Builder Pattern\n",
    "# Separate the construction of an object from representation\n",
    "# allow same construction process for many representations\n",
    "# parse a complex representation, create different objects\n",
    "# Consider a SQL query builder class\n",
    "# allows step-by-step creation of a SQL query\n",
    "# Query is a complex entity with many different parts\n",
    "# Applications might build once, run multiple times\n",
    "# Separates object construction from its representation\n",
    "# parse a complex construction process into simple constituent operations"
   ],
   "metadata": {
    "collapsed": false,
    "pycharm": {
     "name": "#%%\n"
    }
   }
  },
  {
   "cell_type": "code",
   "execution_count": 98,
   "outputs": [],
   "source": [
    "class Mobile:\n",
    "\n",
    "    def __init__(self,\n",
    "                 name,\n",
    "                 weight,\n",
    "                 screen_size,\n",
    "                 ram,\n",
    "                 os,\n",
    "                 camera_mp,\n",
    "                 battery):\n",
    "\n",
    "        self.name = name\n",
    "        self.weight = weight\n",
    "        self.screen_size = screen_size\n",
    "        self.ram = ram\n",
    "        self.os = os\n",
    "        self.camera_mp = camera_mp\n",
    "        self.battery = battery\n",
    "\n",
    "    def show(self):\n",
    "        print(\"name:\", self.name)\n",
    "        print(\"weight:\", self.weight)\n",
    "        print(\"screen_size:\", self.screen_size)\n",
    "        print(\"ram:\", self.ram)\n",
    "        print(\"os:\", self.os)\n",
    "        print(\"camera_mp:\", self.camera_mp)\n",
    "        print(\"battery:\", self.battery)"
   ],
   "metadata": {
    "collapsed": false,
    "pycharm": {
     "name": "#%%\n"
    }
   }
  },
  {
   "cell_type": "code",
   "execution_count": 99,
   "outputs": [],
   "source": [
    "samsung_s10 = Mobile(name=\"Samsung S10\",\n",
    "                     weight = \"157g\",\n",
    "                     screen_size = \"6.1 inch\",\n",
    "                     ram = \"8GB\",\n",
    "                     os = \"android 9.0\",\n",
    "                     camera_mp = \"12 megapixel\",\n",
    "                     battery = \"3400 mAh\")"
   ],
   "metadata": {
    "collapsed": false,
    "pycharm": {
     "name": "#%%\n"
    }
   }
  },
  {
   "cell_type": "code",
   "execution_count": 100,
   "outputs": [
    {
     "name": "stdout",
     "output_type": "stream",
     "text": [
      "name: Samsung S10\n",
      "weight: 157g\n",
      "screen_size: 6.1 inch\n",
      "ram: 8GB\n",
      "os: android 9.0\n",
      "camera_mp: 12 megapixel\n",
      "battery: 3400 mAh\n"
     ]
    }
   ],
   "source": [
    "samsung_s10.show()"
   ],
   "metadata": {
    "collapsed": false,
    "pycharm": {
     "name": "#%%\n"
    }
   }
  },
  {
   "cell_type": "markdown",
   "source": [
    "to get rid of the long list of parameters we can have the features in the main program but directly\n",
    "setting attributes in the client program is wrong, it goes against encapsulate what varies principle\n",
    "\n",
    "this is prone to errors and maintenance unfriendly"
   ],
   "metadata": {
    "collapsed": false
   }
  },
  {
   "cell_type": "code",
   "execution_count": 101,
   "outputs": [],
   "source": [
    "class Mobile():\n",
    "\n",
    "    def __init__(self):\n",
    "\n",
    "        self.name = None\n",
    "        self.weight = None\n",
    "        self.screen_size = None\n",
    "        self.ram = None\n",
    "        self.os = None\n",
    "        self.camera_mp = None\n",
    "        self.battery = None\n",
    "\n",
    "    def show(self):\n",
    "        print(\"name:\", self.name)\n",
    "        print(\"weight:\", self.weight)\n",
    "        print(\"screen_size:\", self.screen_size)\n",
    "        print(\"ram:\", self.ram)\n",
    "        print(\"os:\", self.os)\n",
    "        print(\"camera_mp:\", self.camera_mp)\n",
    "        print(\"battery:\", self.battery)\n"
   ],
   "metadata": {
    "collapsed": false,
    "pycharm": {
     "name": "#%%\n"
    }
   }
  },
  {
   "cell_type": "code",
   "execution_count": 102,
   "outputs": [],
   "source": [
    "s10 = Mobile()"
   ],
   "metadata": {
    "collapsed": false,
    "pycharm": {
     "name": "#%%\n"
    }
   }
  },
  {
   "cell_type": "code",
   "execution_count": 103,
   "outputs": [],
   "source": [
    "s10.name = \"Samsung S10\"\n",
    "s10.screen_size = \"6.1 inch\",\n",
    "s10.os = \"android 9.0\",\n",
    "s10.camera_mp = \"12 megapixel\",\n",
    "s10.battery = \"3400 mAh\""
   ],
   "metadata": {
    "collapsed": false,
    "pycharm": {
     "name": "#%%\n"
    }
   }
  },
  {
   "cell_type": "code",
   "execution_count": 104,
   "outputs": [
    {
     "name": "stdout",
     "output_type": "stream",
     "text": [
      "name: Samsung S10\n",
      "weight: None\n",
      "screen_size: ('6.1 inch',)\n",
      "ram: None\n",
      "os: ('android 9.0',)\n",
      "camera_mp: ('12 megapixel',)\n",
      "battery: 3400 mAh\n"
     ]
    }
   ],
   "source": [
    "s10.show()"
   ],
   "metadata": {
    "collapsed": false,
    "pycharm": {
     "name": "#%%\n"
    }
   }
  },
  {
   "cell_type": "markdown",
   "source": [
    "- now the features have been encapsulated in a seperate class called MyMobile\n",
    "the build method instantiates a new mobile object and encapsulates setting of sttributes"
   ],
   "metadata": {
    "collapsed": false
   }
  },
  {
   "cell_type": "code",
   "execution_count": 105,
   "outputs": [],
   "source": [
    "class MyMobileBuilder():\n",
    "\n",
    "    def __init__(self):\n",
    "        self.__mobile = Mobile()\n",
    "\n",
    "    def get_mobile(self):\n",
    "        return self.__mobile\n",
    "\n",
    "    def build_name(self, name):\n",
    "        self.__mobile.name = name\n",
    "\n",
    "    def build_memory(self, ram):\n",
    "        self.__mobile.ram = ram\n",
    "\n",
    "    def build_camera(self, camera_mp):\n",
    "        self.__mobile.camera_mp = camera_mp\n",
    "\n",
    "    def build_otherfeatures(self, weight, screen_size, os, battery):\n",
    "        self.__mobile.weight = weight\n",
    "        self.__mobile.screen_size = screen_size\n",
    "        self.__mobile.os = os\n",
    "        self.__mobile.battery = battery"
   ],
   "metadata": {
    "collapsed": false,
    "pycharm": {
     "name": "#%%\n"
    }
   }
  },
  {
   "cell_type": "markdown",
   "source": [
    "build the mobile, get the finished product and show the features\n",
    "\n",
    "we solved -\n",
    "\n",
    "- long parameter list problem\n",
    "- encapsulating attributes"
   ],
   "metadata": {
    "collapsed": false
   }
  },
  {
   "cell_type": "code",
   "execution_count": 91,
   "outputs": [],
   "source": [
    "builder = MyMobileBuilder()"
   ],
   "metadata": {
    "collapsed": false,
    "pycharm": {
     "name": "#%%\n"
    }
   }
  },
  {
   "cell_type": "code",
   "execution_count": 106,
   "outputs": [],
   "source": [
    "builder.build_name('Samsung S10')\n",
    "builder.build_memory('8GB')\n",
    "builder.build_camera('16 megapixels')"
   ],
   "metadata": {
    "collapsed": false,
    "pycharm": {
     "name": "#%%\n"
    }
   }
  },
  {
   "cell_type": "code",
   "execution_count": 107,
   "outputs": [],
   "source": [
    "mobile = builder.get_mobile()"
   ],
   "metadata": {
    "collapsed": false,
    "pycharm": {
     "name": "#%%\n"
    }
   }
  },
  {
   "cell_type": "code",
   "execution_count": 108,
   "outputs": [
    {
     "name": "stdout",
     "output_type": "stream",
     "text": [
      "name: Samsung S10\n",
      "weight: None\n",
      "screen_size: None\n",
      "ram: 8GB\n",
      "os: None\n",
      "camera_mp: 16 megapixels\n",
      "battery: None\n"
     ]
    }
   ],
   "source": [
    "mobile.show()"
   ],
   "metadata": {
    "collapsed": false,
    "pycharm": {
     "name": "#%%\n"
    }
   }
  },
  {
   "cell_type": "code",
   "execution_count": 111,
   "outputs": [],
   "source": [
    "# Builder is less valuable in python, because you can specify default values\n",
    "class Mobile:\n",
    "    def __init__(self,\n",
    "                 name,\n",
    "                 weight='157gm',\n",
    "                 screen_size='5inches',\n",
    "                 ram='8GB',\n",
    "                 os='Android',\n",
    "                 camera_mp='16 megapixels',\n",
    "                 battery='3400 mAh'):\n",
    "\n",
    "        self.name = name\n",
    "        self.weight = weight\n",
    "        self.screen_size = screen_size\n",
    "        self.ram = ram\n",
    "        self.os = os\n",
    "        self.camera_mp = camera_mp\n",
    "        self.battery = battery\n",
    "\n",
    "    def show(self):\n",
    "        print(\"name:\", self.name)\n",
    "        print(\"weight:\", self.weight)\n",
    "        print(\"screen_size:\", self.screen_size)\n",
    "        print(\"ram:\", self.ram)\n",
    "        print(\"os:\", self.os)\n",
    "        print(\"camera_mp:\", self.camera_mp)\n",
    "        print(\"battery:\", self.battery)"
   ],
   "metadata": {
    "collapsed": false,
    "pycharm": {
     "name": "#%%\n"
    }
   }
  },
  {
   "cell_type": "code",
   "execution_count": 112,
   "outputs": [
    {
     "name": "stdout",
     "output_type": "stream",
     "text": [
      "name: Samsung S10\n",
      "weight: 157gm\n",
      "screen_size: 5inches\n",
      "ram: 8GB\n",
      "os: Android\n",
      "camera_mp: 16 megapixels\n",
      "battery: 3400 mAh\n"
     ]
    }
   ],
   "source": [
    "samsung_s10 = Mobile('Samsung S10')\n",
    "\n",
    "samsung_s10.show()"
   ],
   "metadata": {
    "collapsed": false,
    "pycharm": {
     "name": "#%%\n"
    }
   }
  },
  {
   "cell_type": "code",
   "execution_count": 113,
   "outputs": [
    {
     "name": "stdout",
     "output_type": "stream",
     "text": [
      "name: Samsung S8\n",
      "weight: 157gm\n",
      "screen_size: 4.4inches\n",
      "ram: 4GB\n",
      "os: Android\n",
      "camera_mp: 16 megapixels\n",
      "battery: 3400 mAh\n"
     ]
    }
   ],
   "source": [
    "samsung_s8 = Mobile('Samsung S8', screen_size='4.4inches', ram='4GB')\n",
    "\n",
    "samsung_s8.show()"
   ],
   "metadata": {
    "collapsed": false,
    "pycharm": {
     "name": "#%%\n"
    }
   }
  },
  {
   "cell_type": "code",
   "execution_count": 97,
   "outputs": [],
   "source": [
    "# Object Pool Pattern\n",
    "# Used when the cost of initializing objects is high\n",
    "# Number of objects in use at a time is low\n",
    "# Rate of object instantiation is high\n",
    "# Pools used to cache and manage objects\n",
    "# Avoid creating new objects, when an existing one is available\n",
    "# Reuse objects rather than incur the cost of creating one\n",
    "# common example: thread pools\n",
    "# some processes are embarrassingly parallel\n",
    "# threads are expensive to create and free up\n",
    "# use a thread pool -> mitigates the overhead of pool creation\n",
    "# avoids needless re-instantiation and expensive acquisition of resources"
   ],
   "metadata": {
    "collapsed": false,
    "pycharm": {
     "name": "#%%\n"
    }
   }
  },
  {
   "cell_type": "code",
   "execution_count": 114,
   "outputs": [],
   "source": [
    "class Connection:\n",
    "\n",
    "    def __init__(self):\n",
    "        self.__is_used = False\n",
    "\n",
    "        # Imagine a very heavy-duty initialization process here\n",
    "        # to set up the database connections and connect\n",
    "        self.connect_to_database()\n",
    "\n",
    "    def acquire(self):\n",
    "        self.__is_used = True\n",
    "\n",
    "    def release(self):\n",
    "        self.__is_used = False\n",
    "\n",
    "    def is_used(self):\n",
    "        return self.__is_used\n",
    "\n",
    "    def connect_to_database(self):\n",
    "        pass"
   ],
   "metadata": {
    "collapsed": false,
    "pycharm": {
     "name": "#%%\n"
    }
   }
  },
  {
   "cell_type": "code",
   "execution_count": 115,
   "outputs": [],
   "source": [
    "class ConnectionPool:\n",
    "\n",
    "    def __init__(self, num_connections):\n",
    "\n",
    "        self.__num_connections = num_connections\n",
    "\n",
    "        self.__connections = []\n",
    "        for i in range(num_connections):\n",
    "            self.__connections.append(Connection())\n",
    "\n",
    "    def acquire(self):\n",
    "        for i in range(self.__num_connections):\n",
    "            connection = self.__connections[i]\n",
    "\n",
    "            if not connection.is_used():\n",
    "                connection.acquire()\n",
    "                return connection\n",
    "\n",
    "        return None\n",
    "\n",
    "    def release(self, connection):\n",
    "        if connection.is_used():\n",
    "            connection.release()"
   ],
   "metadata": {
    "collapsed": false,
    "pycharm": {
     "name": "#%%\n"
    }
   }
  },
  {
   "cell_type": "code",
   "execution_count": 116,
   "outputs": [],
   "source": [
    "pool = ConnectionPool(3)"
   ],
   "metadata": {
    "collapsed": false,
    "pycharm": {
     "name": "#%%\n"
    }
   }
  },
  {
   "cell_type": "code",
   "execution_count": 117,
   "outputs": [
    {
     "data": {
      "text/plain": "<__main__.Connection at 0x253ff03aac8>"
     },
     "execution_count": 117,
     "metadata": {},
     "output_type": "execute_result"
    }
   ],
   "source": [
    "conn_1 = pool.acquire()\n",
    "\n",
    "conn_1"
   ],
   "metadata": {
    "collapsed": false,
    "pycharm": {
     "name": "#%%\n"
    }
   }
  },
  {
   "cell_type": "code",
   "execution_count": 118,
   "outputs": [
    {
     "data": {
      "text/plain": "<__main__.Connection at 0x253ff03a8c8>"
     },
     "execution_count": 118,
     "metadata": {},
     "output_type": "execute_result"
    }
   ],
   "source": [
    "conn_2 = pool.acquire()\n",
    "\n",
    "conn_2"
   ],
   "metadata": {
    "collapsed": false,
    "pycharm": {
     "name": "#%%\n"
    }
   }
  },
  {
   "cell_type": "code",
   "execution_count": 119,
   "outputs": [
    {
     "data": {
      "text/plain": "<__main__.Connection at 0x253ff03a5c8>"
     },
     "execution_count": 119,
     "metadata": {},
     "output_type": "execute_result"
    }
   ],
   "source": [
    "conn_3 = pool.acquire()\n",
    "\n",
    "conn_3"
   ],
   "metadata": {
    "collapsed": false,
    "pycharm": {
     "name": "#%%\n"
    }
   }
  },
  {
   "cell_type": "code",
   "execution_count": 120,
   "outputs": [
    {
     "data": {
      "text/plain": "True"
     },
     "execution_count": 120,
     "metadata": {},
     "output_type": "execute_result"
    }
   ],
   "source": [
    "conn_4 = pool.acquire()\n",
    "\n",
    "conn_4 is None"
   ],
   "metadata": {
    "collapsed": false,
    "pycharm": {
     "name": "#%%\n"
    }
   }
  },
  {
   "cell_type": "code",
   "execution_count": 121,
   "outputs": [],
   "source": [
    "pool.release(conn_3)"
   ],
   "metadata": {
    "collapsed": false,
    "pycharm": {
     "name": "#%%\n"
    }
   }
  },
  {
   "cell_type": "code",
   "execution_count": 122,
   "outputs": [
    {
     "data": {
      "text/plain": "<__main__.Connection at 0x253ff03a5c8>"
     },
     "execution_count": 122,
     "metadata": {},
     "output_type": "execute_result"
    }
   ],
   "source": [
    "conn_4 = pool.acquire()\n",
    "\n",
    "conn_4"
   ],
   "metadata": {
    "collapsed": false,
    "pycharm": {
     "name": "#%%\n"
    }
   }
  },
  {
   "cell_type": "code",
   "execution_count": 123,
   "outputs": [],
   "source": [
    "pool.release(conn_2)"
   ],
   "metadata": {
    "collapsed": false,
    "pycharm": {
     "name": "#%%\n"
    }
   }
  },
  {
   "cell_type": "code",
   "execution_count": 124,
   "outputs": [
    {
     "data": {
      "text/plain": "<__main__.Connection at 0x253ff03a8c8>"
     },
     "execution_count": 124,
     "metadata": {},
     "output_type": "execute_result"
    }
   ],
   "source": [
    "conn_5 = pool.acquire()\n",
    "\n",
    "conn_5"
   ],
   "metadata": {
    "collapsed": false,
    "pycharm": {
     "name": "#%%\n"
    }
   }
  },
  {
   "cell_type": "code",
   "execution_count": 125,
   "outputs": [],
   "source": [
    "class ConnectionPool:\n",
    "\n",
    "    __instance = None\n",
    "\n",
    "    def __new__(cls, num_connections):\n",
    "        if cls.__instance is None:\n",
    "            print('No instance exists, creating a new one')\n",
    "\n",
    "            cls.__instance = super(ConnectionPool, cls).__new__(cls)\n",
    "\n",
    "            cls.__instance.__num_connections = num_connections\n",
    "            cls.__instance.__connections = []\n",
    "\n",
    "            for i in range(num_connections):\n",
    "                cls.__instance.__connections.append(Connection())\n",
    "\n",
    "        else:\n",
    "            print('A previously created instance exists, returning that same one')\n",
    "\n",
    "\n",
    "        return cls.__instance\n",
    "\n",
    "\n",
    "    def acquire(self):\n",
    "        for i in range(self.__num_connections):\n",
    "            connection = self.__connections[i]\n",
    "\n",
    "            if not connection.is_used():\n",
    "                connection.acquire()\n",
    "                return connection\n",
    "\n",
    "        return None\n",
    "\n",
    "    def release(self, connection):\n",
    "        if connection.is_used():\n",
    "            connection.release()"
   ],
   "metadata": {
    "collapsed": false,
    "pycharm": {
     "name": "#%%\n"
    }
   }
  },
  {
   "cell_type": "code",
   "execution_count": 126,
   "outputs": [
    {
     "name": "stdout",
     "output_type": "stream",
     "text": [
      "No instance exists, creating a new one\n"
     ]
    }
   ],
   "source": [
    "pool = ConnectionPool(2)"
   ],
   "metadata": {
    "collapsed": false,
    "pycharm": {
     "name": "#%%\n"
    }
   }
  },
  {
   "cell_type": "code",
   "execution_count": 127,
   "outputs": [
    {
     "name": "stdout",
     "output_type": "stream",
     "text": [
      "A previously created instance exists, returning that same one\n"
     ]
    }
   ],
   "source": [
    "pool = ConnectionPool(2)"
   ],
   "metadata": {
    "collapsed": false,
    "pycharm": {
     "name": "#%%\n"
    }
   }
  },
  {
   "cell_type": "code",
   "execution_count": 128,
   "outputs": [
    {
     "data": {
      "text/plain": "<__main__.Connection at 0x253feeed048>"
     },
     "execution_count": 128,
     "metadata": {},
     "output_type": "execute_result"
    }
   ],
   "source": [
    "conn_1 = pool.acquire()\n",
    "\n",
    "conn_1"
   ],
   "metadata": {
    "collapsed": false,
    "pycharm": {
     "name": "#%%\n"
    }
   }
  },
  {
   "cell_type": "code",
   "execution_count": 129,
   "outputs": [
    {
     "data": {
      "text/plain": "<__main__.Connection at 0x253feeed308>"
     },
     "execution_count": 129,
     "metadata": {},
     "output_type": "execute_result"
    }
   ],
   "source": [
    "conn_2 = pool.acquire()\n",
    "\n",
    "conn_2"
   ],
   "metadata": {
    "collapsed": false,
    "pycharm": {
     "name": "#%%\n"
    }
   }
  },
  {
   "cell_type": "code",
   "execution_count": 130,
   "outputs": [
    {
     "data": {
      "text/plain": "True"
     },
     "execution_count": 130,
     "metadata": {},
     "output_type": "execute_result"
    }
   ],
   "source": [
    "conn_3 = pool.acquire()\n",
    "\n",
    "conn_3 is None"
   ],
   "metadata": {
    "collapsed": false,
    "pycharm": {
     "name": "#%%\n"
    }
   }
  },
  {
   "cell_type": "code",
   "execution_count": 131,
   "outputs": [],
   "source": [
    "pool.release(conn_2)"
   ],
   "metadata": {
    "collapsed": false,
    "pycharm": {
     "name": "#%%\n"
    }
   }
  },
  {
   "cell_type": "code",
   "execution_count": 132,
   "outputs": [
    {
     "data": {
      "text/plain": "<__main__.Connection at 0x253feeed308>"
     },
     "execution_count": 132,
     "metadata": {},
     "output_type": "execute_result"
    }
   ],
   "source": [
    "conn_3 = pool.acquire()\n",
    "\n",
    "conn_3"
   ],
   "metadata": {
    "collapsed": false,
    "pycharm": {
     "name": "#%%\n"
    }
   }
  },
  {
   "cell_type": "code",
   "execution_count": null,
   "outputs": [],
   "source": [
    "\n"
   ],
   "metadata": {
    "collapsed": false,
    "pycharm": {
     "name": "#%%\n"
    }
   }
  }
 ],
 "metadata": {
  "kernelspec": {
   "display_name": "Python 3",
   "language": "python",
   "name": "python3"
  },
  "language_info": {
   "codemirror_mode": {
    "name": "ipython",
    "version": 2
   },
   "file_extension": ".py",
   "mimetype": "text/x-python",
   "name": "python",
   "nbconvert_exporter": "python",
   "pygments_lexer": "ipython2",
   "version": "2.7.6"
  }
 },
 "nbformat": 4,
 "nbformat_minor": 0
}