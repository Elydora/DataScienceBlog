{
 "cells": [
  {
   "cell_type": "markdown",
   "source": [
    "# Finding a location and type for a restaurant in Los Angeles County, CA\n",
    "> Finding a location and type for a restaurant in Los Angeles County, CA\n",
    "\n",
    "- toc: true\n",
    "- badges: true\n",
    "- comments: true\n",
    "- sticky_rank: 1\n",
    "- author: Felix\n",
    "- categories: [ibm, data_science, ml, visualization]"
   ],
   "metadata": {
    "collapsed": false
   }
  },
  {
   "cell_type": "markdown",
   "metadata": {
    "collapsed": true,
    "pycharm": {
     "name": "#%% md\n"
    }
   },
   "source": [
    "# Capstone Project\n",
    "## Finding a location and type for a restaurant in Los Angeles County, CA"
   ]
  },
  {
   "cell_type": "markdown",
   "source": [
    "## Table of contents\n",
    "* [Introduction: Business Problem](#introduction)\n",
    "* [Data](#data)\n",
    "* [Methodology](#methodology)\n",
    "* [Analysis](#analysis)\n",
    "* [Results and Discussion](#results)\n",
    "* [Conclusion](#conclusion)\n"
   ],
   "metadata": {
    "collapsed": false
   }
  },
  {
   "cell_type": "markdown",
   "source": [
    "## Introduction: Business Problem <a name=\"introduction\"></a>\n"
   ],
   "metadata": {
    "collapsed": false
   }
  },
  {
   "cell_type": "markdown",
   "source": [
    "In this project I will try to give a recommendation on where to open a\n",
    "restaurant in Los Angeles County, CA. In addition, there shall be given  a\n",
    "recommendation of which type of restaurant could be opened, based on\n",
    "existing restaurants in the area and generally popular restaurants in the\n",
    "whole county.\n",
    "\n",
    "The decision on where to open a restaurant can be based on many factors,\n",
    "depending on the target group. For example, one could look for very dense\n",
    "populated areas, or areas with lots of wealthy citizens. Even the median age\n",
    " of the population can play a role.\n",
    "\n",
    "I will make a decision based on the following conditions:\n",
    "- Find the area with a good balance between number of possible customers\n",
    "and a high median income (population is slightly more important than income)\n",
    "- the type of restaurant will be determined by the most recommended categories\n",
    " of food venue in Los Angeles County, CA and the number of already existing\n",
    " venues in the area"
   ],
   "metadata": {
    "collapsed": false
   }
  },
  {
   "cell_type": "markdown",
   "source": [
    "## Data <a name=\"data\"></a>"
   ],
   "metadata": {
    "collapsed": false
   }
  },
  {
   "cell_type": "markdown",
   "source": [
    "I used three different datasets as basis for my analysis. Using these\n",
    "datasets I am able to work with the following features, among others:\n",
    "- A list of areas in Los Angeles County, CA based on the ZIP code\n",
    "- The number of citizens and households in every area\n",
    "- The estimated median income of every area\n",
    "- The latitude and longitude for every zip code in the county\n",
    "\n",
    "<br />\n",
    "\n",
    "I combined the following datasets for this:\n",
    "-\t2010 Los Angeles Census Data\n",
    "    - \thttps://www.kaggle.com/cityofLA/los-angeles-census-data\n",
    "-\tMedian Household Income by Zip Code in 2019\n",
    "    -\thttp://www.laalmanac.com/employment/em12c.php\n",
    "-\tUS Zip Code Latitude and Longitude\n",
    "    -   https://public.opendatasoft.com/explore/dataset/us-zip-code-latitude-and-longitude/information/\n",
    "\n",
    "To analyse the existing food venues in the county, the **Foursquare API** is\n",
    " used. With this API we can provide the data to answer the following two\n",
    " questions:\n",
    "- What are the most recommended types of restaurants in the county?\n",
    "- What are the existing food venues categories in the area where we want to\n",
    "open a restaurant in?"
   ],
   "metadata": {
    "collapsed": false
   }
  },
  {
   "cell_type": "markdown",
   "source": [
    "<br />\n",
    "\n",
    "#### Merging the three datasets as basis of the analytics\n",
    "First, let's merge all three datasets and get rid of unnecessary\n",
    "information. I will continue to use a single dataframe with the combined\n",
    "datasets as basis for further analysis.<br />\n",
    "\n",
    "The census data and the geodata for the US zip codes are available as csv\n",
    "files that I will read directly into a dataframe. The records for the median\n",
    " household income are available on a website, so I downloaded the data as a\n",
    " html file, which then is used to create a dataframe. As the median income\n",
    " has a dollar sign and can not be converted into a numeric value\n",
    " automatically because of its format, we have to do some data preparation."
   ],
   "metadata": {
    "collapsed": false,
    "pycharm": {
     "name": "#%% md\n"
    }
   }
  },
  {
   "cell_type": "code",
   "execution_count": 1,
   "outputs": [
    {
     "data": {
      "text/plain": "(279, 12)"
     },
     "execution_count": 1,
     "metadata": {},
     "output_type": "execute_result"
    }
   ],
   "source": [
    "import pandas as pd\n",
    "\n",
    "# Dataset: 2010 Los Angeles Census Data\n",
    "df_census = pd.read_csv(\"2010-census-populations-by-zip-code.csv\")\n",
    "# Dataset: Median Household Income by Zip Code in 2019\n",
    "url = \"Median Household Income By Zip Code in Los Angeles County, California.html\"\n",
    "dfs = pd.read_html(url)\n",
    "df_income_all = dfs[0]\n",
    "# drop areas where the median income is missing\n",
    "df_income_na = df_income_all[df_income_all['Estimated Median Income'].notna()]\n",
    "# Next step: clean the values in the median income column to retrieve\n",
    "# numeric values that can be used for clustering / calculation\n",
    "df_income = df_income_na.drop(df_income_na[df_income_na[\n",
    "                             'Estimated Median Income'] == '---'].index)\n",
    "df_income['Estimated Median Income'] = \\\n",
    "    df_income['Estimated Median Income'].map(lambda x: x.lstrip('$'))\n",
    "df_income['Estimated Median Income'] =\\\n",
    "    df_income['Estimated Median Income'].str.replace(',','')\n",
    "df_income[\"Estimated Median Income\"] =\\\n",
    "    pd.to_numeric(df_income[\"Estimated Median Income\"])\n",
    "# Dataset: US Zip Code Latitude and Longitude\n",
    "df_geodata = pd.read_csv(\"us-zip-code-latitude-and-longitude.csv\", sep=';')\n",
    "# Let's start by joining the geodata on the income dataset via the zip code\n",
    "df_income_geo = df_census.join(df_income.set_index('Zip Code'), on='Zip Code')\n",
    "# Now join the census data with the income dataset and the geodata\n",
    "dataset_geo = df_income_geo.join(df_geodata.set_index('Zip'), on='Zip Code',\n",
    "                           how='left')\n",
    "# Let us only use the columns we need for the further analysis and ignore\n",
    "# the rest\n",
    "prepared_ds = dataset_geo[[\n",
    "  \"Zip Code\", \"City\", \"Community\", \"Estimated Median Income\",\n",
    "  \"Longitude\", \"Latitude\", \"Total Population\", \"Median Age\",\n",
    "  \"Total Males\", \"Total Females\", \"Total Households\",\n",
    "  \"Average Household Size\"]]\n",
    "# last stop: let's drop records with missing data\n",
    "final_ds = prepared_ds.dropna(axis=0)\n",
    "final_ds.shape"
   ],
   "metadata": {
    "collapsed": false,
    "pycharm": {
     "name": "#%%\n"
    }
   }
  },
  {
   "cell_type": "markdown",
   "source": [
    "So the final dataframe now contains 279 areas with 12 features. <br />\n",
    "Let's get an overview on how the records look now:"
   ],
   "metadata": {
    "collapsed": false,
    "pycharm": {
     "name": "#%% md\n"
    }
   }
  },
  {
   "cell_type": "code",
   "execution_count": 2,
   "outputs": [
    {
     "data": {
      "text/plain": "   Zip Code         City                                          Community  \\\n1     90001  Los Angeles   Los Angeles (South Los Angeles), Florence-Graham   \n2     90002  Los Angeles         Los Angeles (Southeast Los Angeles, Watts)   \n3     90003  Los Angeles  Los Angeles (South Los Angeles, Southeast Los ...   \n4     90004  Los Angeles  Los Angeles (Hancock Park, Rampart Village, Vi...   \n5     90005  Los Angeles  Los Angeles (Hancock Park, Koreatown, Wilshire...   \n\n   Estimated Median Income  Longitude   Latitude  Total Population  \\\n1                  43360.0 -118.24878  33.972914             57110   \n2                  37285.0 -118.24845  33.948315             51223   \n3                  40598.0 -118.27600  33.962714             66266   \n4                  49675.0 -118.30755  34.077110             62180   \n5                  38491.0 -118.30848  34.058911             37681   \n\n   Median Age  Total Males  Total Females  Total Households  \\\n1        26.6        28468          28642             12971   \n2        25.5        24876          26347             11731   \n3        26.3        32631          33635             15642   \n4        34.8        31302          30878             22547   \n5        33.9        19299          18382             15044   \n\n   Average Household Size  \n1                    4.40  \n2                    4.36  \n3                    4.22  \n4                    2.73  \n5                    2.50  ",
      "text/html": "<div>\n<style scoped>\n    .dataframe tbody tr th:only-of-type {\n        vertical-align: middle;\n    }\n\n    .dataframe tbody tr th {\n        vertical-align: top;\n    }\n\n    .dataframe thead th {\n        text-align: right;\n    }\n</style>\n<table border=\"1\" class=\"dataframe\">\n  <thead>\n    <tr style=\"text-align: right;\">\n      <th></th>\n      <th>Zip Code</th>\n      <th>City</th>\n      <th>Community</th>\n      <th>Estimated Median Income</th>\n      <th>Longitude</th>\n      <th>Latitude</th>\n      <th>Total Population</th>\n      <th>Median Age</th>\n      <th>Total Males</th>\n      <th>Total Females</th>\n      <th>Total Households</th>\n      <th>Average Household Size</th>\n    </tr>\n  </thead>\n  <tbody>\n    <tr>\n      <th>1</th>\n      <td>90001</td>\n      <td>Los Angeles</td>\n      <td>Los Angeles (South Los Angeles), Florence-Graham</td>\n      <td>43360.0</td>\n      <td>-118.24878</td>\n      <td>33.972914</td>\n      <td>57110</td>\n      <td>26.6</td>\n      <td>28468</td>\n      <td>28642</td>\n      <td>12971</td>\n      <td>4.40</td>\n    </tr>\n    <tr>\n      <th>2</th>\n      <td>90002</td>\n      <td>Los Angeles</td>\n      <td>Los Angeles (Southeast Los Angeles, Watts)</td>\n      <td>37285.0</td>\n      <td>-118.24845</td>\n      <td>33.948315</td>\n      <td>51223</td>\n      <td>25.5</td>\n      <td>24876</td>\n      <td>26347</td>\n      <td>11731</td>\n      <td>4.36</td>\n    </tr>\n    <tr>\n      <th>3</th>\n      <td>90003</td>\n      <td>Los Angeles</td>\n      <td>Los Angeles (South Los Angeles, Southeast Los ...</td>\n      <td>40598.0</td>\n      <td>-118.27600</td>\n      <td>33.962714</td>\n      <td>66266</td>\n      <td>26.3</td>\n      <td>32631</td>\n      <td>33635</td>\n      <td>15642</td>\n      <td>4.22</td>\n    </tr>\n    <tr>\n      <th>4</th>\n      <td>90004</td>\n      <td>Los Angeles</td>\n      <td>Los Angeles (Hancock Park, Rampart Village, Vi...</td>\n      <td>49675.0</td>\n      <td>-118.30755</td>\n      <td>34.077110</td>\n      <td>62180</td>\n      <td>34.8</td>\n      <td>31302</td>\n      <td>30878</td>\n      <td>22547</td>\n      <td>2.73</td>\n    </tr>\n    <tr>\n      <th>5</th>\n      <td>90005</td>\n      <td>Los Angeles</td>\n      <td>Los Angeles (Hancock Park, Koreatown, Wilshire...</td>\n      <td>38491.0</td>\n      <td>-118.30848</td>\n      <td>34.058911</td>\n      <td>37681</td>\n      <td>33.9</td>\n      <td>19299</td>\n      <td>18382</td>\n      <td>15044</td>\n      <td>2.50</td>\n    </tr>\n  </tbody>\n</table>\n</div>"
     },
     "execution_count": 2,
     "metadata": {},
     "output_type": "execute_result"
    }
   ],
   "source": [
    "final_ds.head(5)"
   ],
   "metadata": {
    "collapsed": false,
    "pycharm": {
     "name": "#%%\n"
    }
   }
  },
  {
   "cell_type": "markdown",
   "source": [
    "#### Finding the most recommended food venue categories in the county <br />\n",
    "Now we will use the Foursquare API to find out what are the most recommended\n",
    " food venues in the county. For this we will go through every single area\n",
    " and get the recommended food venues in the vicinity of the area center."
   ],
   "metadata": {
    "collapsed": false,
    "pycharm": {
     "name": "#%% md\n"
    }
   }
  },
  {
   "cell_type": "code",
   "execution_count": 3,
   "outputs": [],
   "source": [
    "# first, lets import the necessary libraries and the credentials for the API\n",
    "import foursquare\n",
    "import requests\n",
    "CLIENT_ID = foursquare.CLIENT_ID\n",
    "CLIENT_SECRET = foursquare.CLIENT_SECRET\n",
    "ACCESS_TOKEN = foursquare.ACCESS_TOKEN\n",
    "VERSION = '20210514' # Foursquare API version\n",
    "LIMIT = 100"
   ],
   "metadata": {
    "collapsed": false,
    "pycharm": {
     "name": "#%%\n"
    }
   }
  },
  {
   "cell_type": "code",
   "execution_count": 4,
   "outputs": [
    {
     "data": {
      "text/plain": "   Zip Code         City                                          Community  \\\n1     90001  Los Angeles   Los Angeles (South Los Angeles), Florence-Graham   \n2     90002  Los Angeles         Los Angeles (Southeast Los Angeles, Watts)   \n3     90003  Los Angeles  Los Angeles (South Los Angeles, Southeast Los ...   \n4     90004  Los Angeles  Los Angeles (Hancock Park, Rampart Village, Vi...   \n5     90005  Los Angeles  Los Angeles (Hancock Park, Koreatown, Wilshire...   \n\n   Longitude   Latitude  \n1 -118.24878  33.972914  \n2 -118.24845  33.948315  \n3 -118.27600  33.962714  \n4 -118.30755  34.077110  \n5 -118.30848  34.058911  ",
      "text/html": "<div>\n<style scoped>\n    .dataframe tbody tr th:only-of-type {\n        vertical-align: middle;\n    }\n\n    .dataframe tbody tr th {\n        vertical-align: top;\n    }\n\n    .dataframe thead th {\n        text-align: right;\n    }\n</style>\n<table border=\"1\" class=\"dataframe\">\n  <thead>\n    <tr style=\"text-align: right;\">\n      <th></th>\n      <th>Zip Code</th>\n      <th>City</th>\n      <th>Community</th>\n      <th>Longitude</th>\n      <th>Latitude</th>\n    </tr>\n  </thead>\n  <tbody>\n    <tr>\n      <th>1</th>\n      <td>90001</td>\n      <td>Los Angeles</td>\n      <td>Los Angeles (South Los Angeles), Florence-Graham</td>\n      <td>-118.24878</td>\n      <td>33.972914</td>\n    </tr>\n    <tr>\n      <th>2</th>\n      <td>90002</td>\n      <td>Los Angeles</td>\n      <td>Los Angeles (Southeast Los Angeles, Watts)</td>\n      <td>-118.24845</td>\n      <td>33.948315</td>\n    </tr>\n    <tr>\n      <th>3</th>\n      <td>90003</td>\n      <td>Los Angeles</td>\n      <td>Los Angeles (South Los Angeles, Southeast Los ...</td>\n      <td>-118.27600</td>\n      <td>33.962714</td>\n    </tr>\n    <tr>\n      <th>4</th>\n      <td>90004</td>\n      <td>Los Angeles</td>\n      <td>Los Angeles (Hancock Park, Rampart Village, Vi...</td>\n      <td>-118.30755</td>\n      <td>34.077110</td>\n    </tr>\n    <tr>\n      <th>5</th>\n      <td>90005</td>\n      <td>Los Angeles</td>\n      <td>Los Angeles (Hancock Park, Koreatown, Wilshire...</td>\n      <td>-118.30848</td>\n      <td>34.058911</td>\n    </tr>\n  </tbody>\n</table>\n</div>"
     },
     "execution_count": 4,
     "metadata": {},
     "output_type": "execute_result"
    }
   ],
   "source": [
    "# first, we use a list of the areas and without columns we don't need\n",
    "areas = final_ds.drop(['Estimated Median Income', 'Total ' 'Population',\n",
    "                        'Median Age', 'Total Males', 'Total Females',\n",
    "                        'Total Households', 'Average Household Size'], 1)\n",
    "areas.head()"
   ],
   "metadata": {
    "collapsed": false,
    "pycharm": {
     "name": "#%%\n"
    }
   }
  },
  {
   "cell_type": "markdown",
   "source": [
    "In the next code block, we will iterate through every area in the dataframe\n",
    "and get up to 50 recommendations per area. For that I use the \"explore\"\n",
    "endpoint of the Foursquare API. I use the *categoryId* and\n",
    "*sortByPopularity* parameters to only request food venues that are sorted by\n",
    " popularity in descending order."
   ],
   "metadata": {
    "collapsed": false,
    "pycharm": {
     "name": "#%% md\n"
    }
   }
  },
  {
   "cell_type": "code",
   "execution_count": 5,
   "outputs": [],
   "source": [
    "venues_list = []\n",
    "for index, area in areas.iterrows():\n",
    "    url = 'https://api.foursquare' \\\n",
    "      '.com/v2/venues/explore?&client_id={}&client_secret={}&v={}&ll={},' \\\n",
    "      '{}&radius={}&limit={}&offset={}&categoryId={}&sortByPopularity={}'\\\n",
    "        .format(\n",
    "    CLIENT_ID, CLIENT_SECRET, VERSION, area['Latitude'], area['Longitude'],\n",
    "    1000, LIMIT, 0, '4d4b7105d754a06374d81259', 1)\n",
    "\n",
    "    results = requests.get(url).json()[\"response\"]['groups'][0]['items']\n",
    "    for v in results:\n",
    "        try: # try to extract the city, if there is one in the response\n",
    "            city = v['venue']['location']['city']\n",
    "        except:\n",
    "            city = area['City']\n",
    "\n",
    "        try: # try to extract the zip code, if there is one\n",
    "            postalCode = str(v['venue']['location']['postalCode'])\n",
    "        except:\n",
    "            postalCode = str(area['Zip Code'])\n",
    "        # build a list with all the columns I want to use\n",
    "        if postalCode == str(area['Zip Code']):\n",
    "            venues_list.append((\n",
    "                        area['Zip Code'],\n",
    "                        area['Community'],\n",
    "                        area['Latitude'],\n",
    "                        area['Longitude'],\n",
    "                        v['venue']['name'],\n",
    "                        v['venue']['categories'][0]['name'],\n",
    "                        city ))\n",
    "# create a dataframe from the results of the request\n",
    "la_venues = pd.DataFrame(venues_list, columns=['Zip Code', 'Community',\n",
    "              'Zip Code Latitude', 'Zip Code Longitude', 'Venue',\n",
    "              'Venue Category', 'City'])"
   ],
   "metadata": {
    "collapsed": false,
    "pycharm": {
     "name": "#%%\n"
    }
   }
  },
  {
   "cell_type": "code",
   "execution_count": 6,
   "outputs": [
    {
     "data": {
      "text/plain": "   Zip Code                                         Community  \\\n0     90001  Los Angeles (South Los Angeles), Florence-Graham   \n1     90001  Los Angeles (South Los Angeles), Florence-Graham   \n2     90001  Los Angeles (South Los Angeles), Florence-Graham   \n3     90001  Los Angeles (South Los Angeles), Florence-Graham   \n4     90001  Los Angeles (South Los Angeles), Florence-Graham   \n\n   Zip Code Latitude  Zip Code Longitude                      Venue  \\\n0          33.972914          -118.24878  Mi Lindo Nayarit Mariscos   \n1          33.972914          -118.24878            Jack in the Box   \n2          33.972914          -118.24878           Mi Lindo Nayarit   \n3          33.972914          -118.24878      Birrieria Tlaquepaque   \n4          33.972914          -118.24878          Birrieria Jalisco   \n\n         Venue Category         City  \n0    Mexican Restaurant  Los Angeles  \n1  Fast Food Restaurant  Los Angeles  \n2    Seafood Restaurant  Los Angeles  \n3    Mexican Restaurant  Los Angeles  \n4    Mexican Restaurant  Los Angeles  ",
      "text/html": "<div>\n<style scoped>\n    .dataframe tbody tr th:only-of-type {\n        vertical-align: middle;\n    }\n\n    .dataframe tbody tr th {\n        vertical-align: top;\n    }\n\n    .dataframe thead th {\n        text-align: right;\n    }\n</style>\n<table border=\"1\" class=\"dataframe\">\n  <thead>\n    <tr style=\"text-align: right;\">\n      <th></th>\n      <th>Zip Code</th>\n      <th>Community</th>\n      <th>Zip Code Latitude</th>\n      <th>Zip Code Longitude</th>\n      <th>Venue</th>\n      <th>Venue Category</th>\n      <th>City</th>\n    </tr>\n  </thead>\n  <tbody>\n    <tr>\n      <th>0</th>\n      <td>90001</td>\n      <td>Los Angeles (South Los Angeles), Florence-Graham</td>\n      <td>33.972914</td>\n      <td>-118.24878</td>\n      <td>Mi Lindo Nayarit Mariscos</td>\n      <td>Mexican Restaurant</td>\n      <td>Los Angeles</td>\n    </tr>\n    <tr>\n      <th>1</th>\n      <td>90001</td>\n      <td>Los Angeles (South Los Angeles), Florence-Graham</td>\n      <td>33.972914</td>\n      <td>-118.24878</td>\n      <td>Jack in the Box</td>\n      <td>Fast Food Restaurant</td>\n      <td>Los Angeles</td>\n    </tr>\n    <tr>\n      <th>2</th>\n      <td>90001</td>\n      <td>Los Angeles (South Los Angeles), Florence-Graham</td>\n      <td>33.972914</td>\n      <td>-118.24878</td>\n      <td>Mi Lindo Nayarit</td>\n      <td>Seafood Restaurant</td>\n      <td>Los Angeles</td>\n    </tr>\n    <tr>\n      <th>3</th>\n      <td>90001</td>\n      <td>Los Angeles (South Los Angeles), Florence-Graham</td>\n      <td>33.972914</td>\n      <td>-118.24878</td>\n      <td>Birrieria Tlaquepaque</td>\n      <td>Mexican Restaurant</td>\n      <td>Los Angeles</td>\n    </tr>\n    <tr>\n      <th>4</th>\n      <td>90001</td>\n      <td>Los Angeles (South Los Angeles), Florence-Graham</td>\n      <td>33.972914</td>\n      <td>-118.24878</td>\n      <td>Birrieria Jalisco</td>\n      <td>Mexican Restaurant</td>\n      <td>Los Angeles</td>\n    </tr>\n  </tbody>\n</table>\n</div>"
     },
     "execution_count": 6,
     "metadata": {},
     "output_type": "execute_result"
    }
   ],
   "source": [
    "la_venues.head()"
   ],
   "metadata": {
    "collapsed": false,
    "pycharm": {
     "name": "#%%\n"
    }
   }
  },
  {
   "cell_type": "code",
   "execution_count": 7,
   "outputs": [
    {
     "data": {
      "text/plain": "8603"
     },
     "execution_count": 7,
     "metadata": {},
     "output_type": "execute_result"
    }
   ],
   "source": [
    "la_venues[\"Venue\"].count()"
   ],
   "metadata": {
    "collapsed": false,
    "pycharm": {
     "name": "#%%\n"
    }
   }
  },
  {
   "cell_type": "markdown",
   "source": [
    "So we have found 8,635 recommendations for our 279 areas in Los Angeles\n",
    "County, CA. That are ~31 recommendations per area. Let's extract the city\n",
    "and venue category and group the data by category, to find out about the\n",
    "distribution of the recommended food venue categories."
   ],
   "metadata": {
    "collapsed": false,
    "pycharm": {
     "name": "#%% md\n"
    }
   }
  },
  {
   "cell_type": "code",
   "execution_count": 8,
   "outputs": [
    {
     "data": {
      "text/plain": "           Venue Category  Count\n77     Mexican Restaurant    814\n89            Pizza Place    574\n42   Fast Food Restaurant    507\n24     Chinese Restaurant    412\n99         Sandwich Place    354\n9                  Bakery    347\n2     American Restaurant    300\n18                   Café    288\n111      Sushi Restaurant    266",
      "text/html": "<div>\n<style scoped>\n    .dataframe tbody tr th:only-of-type {\n        vertical-align: middle;\n    }\n\n    .dataframe tbody tr th {\n        vertical-align: top;\n    }\n\n    .dataframe thead th {\n        text-align: right;\n    }\n</style>\n<table border=\"1\" class=\"dataframe\">\n  <thead>\n    <tr style=\"text-align: right;\">\n      <th></th>\n      <th>Venue Category</th>\n      <th>Count</th>\n    </tr>\n  </thead>\n  <tbody>\n    <tr>\n      <th>77</th>\n      <td>Mexican Restaurant</td>\n      <td>814</td>\n    </tr>\n    <tr>\n      <th>89</th>\n      <td>Pizza Place</td>\n      <td>574</td>\n    </tr>\n    <tr>\n      <th>42</th>\n      <td>Fast Food Restaurant</td>\n      <td>507</td>\n    </tr>\n    <tr>\n      <th>24</th>\n      <td>Chinese Restaurant</td>\n      <td>412</td>\n    </tr>\n    <tr>\n      <th>99</th>\n      <td>Sandwich Place</td>\n      <td>354</td>\n    </tr>\n    <tr>\n      <th>9</th>\n      <td>Bakery</td>\n      <td>347</td>\n    </tr>\n    <tr>\n      <th>2</th>\n      <td>American Restaurant</td>\n      <td>300</td>\n    </tr>\n    <tr>\n      <th>18</th>\n      <td>Café</td>\n      <td>288</td>\n    </tr>\n    <tr>\n      <th>111</th>\n      <td>Sushi Restaurant</td>\n      <td>266</td>\n    </tr>\n  </tbody>\n</table>\n</div>"
     },
     "execution_count": 8,
     "metadata": {},
     "output_type": "execute_result"
    }
   ],
   "source": [
    "venues = la_venues[['City', 'Venue Category']]\n",
    "categories = venues.groupby('Venue Category').size().to_frame('Count').reset_index()\n",
    "sorted = categories.sort_values(by='Count', ascending=False) # Sort by Count\n",
    "top10 = sorted.iloc[0:9] # Show the top 10 categories\n",
    "top10"
   ],
   "metadata": {
    "collapsed": false,
    "pycharm": {
     "name": "#%%\n"
    }
   }
  },
  {
   "cell_type": "markdown",
   "source": [
    "After that, we will visualize the distribution."
   ],
   "metadata": {
    "collapsed": false,
    "pycharm": {
     "name": "#%% md\n"
    }
   }
  },
  {
   "cell_type": "code",
   "execution_count": 9,
   "outputs": [
    {
     "data": {
      "text/plain": "<IPython.core.display.HTML object>",
      "text/html": "<html>\n<head><meta charset=\"utf-8\" /></head>\n<body>\n    <div>                        <script type=\"text/javascript\">window.PlotlyConfig = {MathJaxConfig: 'local'};</script>\n        <script src=\"https://cdn.plot.ly/plotly-latest.min.js\"></script>                <div id=\"15bb54a1-14f0-4e54-b063-4a502b5af7b3\" class=\"plotly-graph-div\" style=\"height:100%; width:100%;\"></div>            <script type=\"text/javascript\">                                    window.PLOTLYENV=window.PLOTLYENV || {};                                    if (document.getElementById(\"15bb54a1-14f0-4e54-b063-4a502b5af7b3\")) {                    Plotly.newPlot(                        \"15bb54a1-14f0-4e54-b063-4a502b5af7b3\",                        [{\"alignmentgroup\": \"True\", \"hovertemplate\": \"Venue Category=%{x}<br>Count=%{y}<extra></extra>\", \"legendgroup\": \"\", \"marker\": {\"color\": \"#636efa\"}, \"name\": \"\", \"offsetgroup\": \"\", \"orientation\": \"v\", \"showlegend\": false, \"textposition\": \"auto\", \"type\": \"bar\", \"x\": [\"Mexican Restaurant\", \"Pizza Place\", \"Fast Food Restaurant\", \"Chinese Restaurant\", \"Sandwich Place\", \"Bakery\", \"American Restaurant\", \"Caf\\u00e9\", \"Sushi Restaurant\", \"Burger Joint\", \"Food\", \"Japanese Restaurant\", \"Italian Restaurant\", \"Thai Restaurant\"], \"xaxis\": \"x\", \"y\": [814, 574, 507, 412, 354, 347, 300, 288, 266, 262, 247, 240, 229, 210], \"yaxis\": \"y\"}],                        {\"barmode\": \"relative\", \"legend\": {\"tracegroupgap\": 0}, \"template\": {\"data\": {\"bar\": [{\"error_x\": {\"color\": \"#2a3f5f\"}, \"error_y\": {\"color\": \"#2a3f5f\"}, \"marker\": {\"line\": {\"color\": \"#E5ECF6\", \"width\": 0.5}}, \"type\": \"bar\"}], \"barpolar\": [{\"marker\": {\"line\": {\"color\": \"#E5ECF6\", \"width\": 0.5}}, \"type\": \"barpolar\"}], \"carpet\": [{\"aaxis\": {\"endlinecolor\": \"#2a3f5f\", \"gridcolor\": \"white\", \"linecolor\": \"white\", \"minorgridcolor\": \"white\", \"startlinecolor\": \"#2a3f5f\"}, \"baxis\": {\"endlinecolor\": \"#2a3f5f\", \"gridcolor\": \"white\", \"linecolor\": \"white\", \"minorgridcolor\": \"white\", \"startlinecolor\": \"#2a3f5f\"}, \"type\": \"carpet\"}], \"choropleth\": [{\"colorbar\": {\"outlinewidth\": 0, \"ticks\": \"\"}, \"type\": \"choropleth\"}], \"contour\": [{\"colorbar\": {\"outlinewidth\": 0, \"ticks\": \"\"}, \"colorscale\": [[0.0, \"#0d0887\"], [0.1111111111111111, \"#46039f\"], [0.2222222222222222, \"#7201a8\"], [0.3333333333333333, \"#9c179e\"], [0.4444444444444444, \"#bd3786\"], [0.5555555555555556, \"#d8576b\"], [0.6666666666666666, \"#ed7953\"], [0.7777777777777778, \"#fb9f3a\"], [0.8888888888888888, \"#fdca26\"], [1.0, \"#f0f921\"]], \"type\": \"contour\"}], \"contourcarpet\": [{\"colorbar\": {\"outlinewidth\": 0, \"ticks\": \"\"}, \"type\": \"contourcarpet\"}], \"heatmap\": [{\"colorbar\": {\"outlinewidth\": 0, \"ticks\": \"\"}, \"colorscale\": [[0.0, \"#0d0887\"], [0.1111111111111111, \"#46039f\"], [0.2222222222222222, \"#7201a8\"], [0.3333333333333333, \"#9c179e\"], [0.4444444444444444, \"#bd3786\"], [0.5555555555555556, \"#d8576b\"], [0.6666666666666666, \"#ed7953\"], [0.7777777777777778, \"#fb9f3a\"], [0.8888888888888888, \"#fdca26\"], [1.0, \"#f0f921\"]], \"type\": \"heatmap\"}], \"heatmapgl\": [{\"colorbar\": {\"outlinewidth\": 0, \"ticks\": \"\"}, \"colorscale\": [[0.0, \"#0d0887\"], [0.1111111111111111, \"#46039f\"], [0.2222222222222222, \"#7201a8\"], [0.3333333333333333, \"#9c179e\"], [0.4444444444444444, \"#bd3786\"], [0.5555555555555556, \"#d8576b\"], [0.6666666666666666, \"#ed7953\"], [0.7777777777777778, \"#fb9f3a\"], [0.8888888888888888, \"#fdca26\"], [1.0, \"#f0f921\"]], \"type\": \"heatmapgl\"}], \"histogram\": [{\"marker\": {\"colorbar\": {\"outlinewidth\": 0, \"ticks\": \"\"}}, \"type\": \"histogram\"}], \"histogram2d\": [{\"colorbar\": {\"outlinewidth\": 0, \"ticks\": \"\"}, \"colorscale\": [[0.0, \"#0d0887\"], [0.1111111111111111, \"#46039f\"], [0.2222222222222222, \"#7201a8\"], [0.3333333333333333, \"#9c179e\"], [0.4444444444444444, \"#bd3786\"], [0.5555555555555556, \"#d8576b\"], [0.6666666666666666, \"#ed7953\"], [0.7777777777777778, \"#fb9f3a\"], [0.8888888888888888, \"#fdca26\"], [1.0, \"#f0f921\"]], \"type\": \"histogram2d\"}], \"histogram2dcontour\": [{\"colorbar\": {\"outlinewidth\": 0, \"ticks\": \"\"}, \"colorscale\": [[0.0, \"#0d0887\"], [0.1111111111111111, \"#46039f\"], [0.2222222222222222, \"#7201a8\"], [0.3333333333333333, \"#9c179e\"], [0.4444444444444444, \"#bd3786\"], [0.5555555555555556, \"#d8576b\"], [0.6666666666666666, \"#ed7953\"], [0.7777777777777778, \"#fb9f3a\"], [0.8888888888888888, \"#fdca26\"], [1.0, \"#f0f921\"]], \"type\": \"histogram2dcontour\"}], \"mesh3d\": [{\"colorbar\": {\"outlinewidth\": 0, \"ticks\": \"\"}, \"type\": \"mesh3d\"}], \"parcoords\": [{\"line\": {\"colorbar\": {\"outlinewidth\": 0, \"ticks\": \"\"}}, \"type\": \"parcoords\"}], \"pie\": [{\"automargin\": true, \"type\": \"pie\"}], \"scatter\": [{\"marker\": {\"colorbar\": {\"outlinewidth\": 0, \"ticks\": \"\"}}, \"type\": \"scatter\"}], \"scatter3d\": [{\"line\": {\"colorbar\": {\"outlinewidth\": 0, \"ticks\": \"\"}}, \"marker\": {\"colorbar\": {\"outlinewidth\": 0, \"ticks\": \"\"}}, \"type\": \"scatter3d\"}], \"scattercarpet\": [{\"marker\": {\"colorbar\": {\"outlinewidth\": 0, \"ticks\": \"\"}}, \"type\": \"scattercarpet\"}], \"scattergeo\": [{\"marker\": {\"colorbar\": {\"outlinewidth\": 0, \"ticks\": \"\"}}, \"type\": \"scattergeo\"}], \"scattergl\": [{\"marker\": {\"colorbar\": {\"outlinewidth\": 0, \"ticks\": \"\"}}, \"type\": \"scattergl\"}], \"scattermapbox\": [{\"marker\": {\"colorbar\": {\"outlinewidth\": 0, \"ticks\": \"\"}}, \"type\": \"scattermapbox\"}], \"scatterpolar\": [{\"marker\": {\"colorbar\": {\"outlinewidth\": 0, \"ticks\": \"\"}}, \"type\": \"scatterpolar\"}], \"scatterpolargl\": [{\"marker\": {\"colorbar\": {\"outlinewidth\": 0, \"ticks\": \"\"}}, \"type\": \"scatterpolargl\"}], \"scatterternary\": [{\"marker\": {\"colorbar\": {\"outlinewidth\": 0, \"ticks\": \"\"}}, \"type\": \"scatterternary\"}], \"surface\": [{\"colorbar\": {\"outlinewidth\": 0, \"ticks\": \"\"}, \"colorscale\": [[0.0, \"#0d0887\"], [0.1111111111111111, \"#46039f\"], [0.2222222222222222, \"#7201a8\"], [0.3333333333333333, \"#9c179e\"], [0.4444444444444444, \"#bd3786\"], [0.5555555555555556, \"#d8576b\"], [0.6666666666666666, \"#ed7953\"], [0.7777777777777778, \"#fb9f3a\"], [0.8888888888888888, \"#fdca26\"], [1.0, \"#f0f921\"]], \"type\": \"surface\"}], \"table\": [{\"cells\": {\"fill\": {\"color\": \"#EBF0F8\"}, \"line\": {\"color\": \"white\"}}, \"header\": {\"fill\": {\"color\": \"#C8D4E3\"}, \"line\": {\"color\": \"white\"}}, \"type\": \"table\"}]}, \"layout\": {\"annotationdefaults\": {\"arrowcolor\": \"#2a3f5f\", \"arrowhead\": 0, \"arrowwidth\": 1}, \"autotypenumbers\": \"strict\", \"coloraxis\": {\"colorbar\": {\"outlinewidth\": 0, \"ticks\": \"\"}}, \"colorscale\": {\"diverging\": [[0, \"#8e0152\"], [0.1, \"#c51b7d\"], [0.2, \"#de77ae\"], [0.3, \"#f1b6da\"], [0.4, \"#fde0ef\"], [0.5, \"#f7f7f7\"], [0.6, \"#e6f5d0\"], [0.7, \"#b8e186\"], [0.8, \"#7fbc41\"], [0.9, \"#4d9221\"], [1, \"#276419\"]], \"sequential\": [[0.0, \"#0d0887\"], [0.1111111111111111, \"#46039f\"], [0.2222222222222222, \"#7201a8\"], [0.3333333333333333, \"#9c179e\"], [0.4444444444444444, \"#bd3786\"], [0.5555555555555556, \"#d8576b\"], [0.6666666666666666, \"#ed7953\"], [0.7777777777777778, \"#fb9f3a\"], [0.8888888888888888, \"#fdca26\"], [1.0, \"#f0f921\"]], \"sequentialminus\": [[0.0, \"#0d0887\"], [0.1111111111111111, \"#46039f\"], [0.2222222222222222, \"#7201a8\"], [0.3333333333333333, \"#9c179e\"], [0.4444444444444444, \"#bd3786\"], [0.5555555555555556, \"#d8576b\"], [0.6666666666666666, \"#ed7953\"], [0.7777777777777778, \"#fb9f3a\"], [0.8888888888888888, \"#fdca26\"], [1.0, \"#f0f921\"]]}, \"colorway\": [\"#636efa\", \"#EF553B\", \"#00cc96\", \"#ab63fa\", \"#FFA15A\", \"#19d3f3\", \"#FF6692\", \"#B6E880\", \"#FF97FF\", \"#FECB52\"], \"font\": {\"color\": \"#2a3f5f\"}, \"geo\": {\"bgcolor\": \"white\", \"lakecolor\": \"white\", \"landcolor\": \"#E5ECF6\", \"showlakes\": true, \"showland\": true, \"subunitcolor\": \"white\"}, \"hoverlabel\": {\"align\": \"left\"}, \"hovermode\": \"closest\", \"mapbox\": {\"style\": \"light\"}, \"paper_bgcolor\": \"white\", \"plot_bgcolor\": \"#E5ECF6\", \"polar\": {\"angularaxis\": {\"gridcolor\": \"white\", \"linecolor\": \"white\", \"ticks\": \"\"}, \"bgcolor\": \"#E5ECF6\", \"radialaxis\": {\"gridcolor\": \"white\", \"linecolor\": \"white\", \"ticks\": \"\"}}, \"scene\": {\"xaxis\": {\"backgroundcolor\": \"#E5ECF6\", \"gridcolor\": \"white\", \"gridwidth\": 2, \"linecolor\": \"white\", \"showbackground\": true, \"ticks\": \"\", \"zerolinecolor\": \"white\"}, \"yaxis\": {\"backgroundcolor\": \"#E5ECF6\", \"gridcolor\": \"white\", \"gridwidth\": 2, \"linecolor\": \"white\", \"showbackground\": true, \"ticks\": \"\", \"zerolinecolor\": \"white\"}, \"zaxis\": {\"backgroundcolor\": \"#E5ECF6\", \"gridcolor\": \"white\", \"gridwidth\": 2, \"linecolor\": \"white\", \"showbackground\": true, \"ticks\": \"\", \"zerolinecolor\": \"white\"}}, \"shapedefaults\": {\"line\": {\"color\": \"#2a3f5f\"}}, \"ternary\": {\"aaxis\": {\"gridcolor\": \"white\", \"linecolor\": \"white\", \"ticks\": \"\"}, \"baxis\": {\"gridcolor\": \"white\", \"linecolor\": \"white\", \"ticks\": \"\"}, \"bgcolor\": \"#E5ECF6\", \"caxis\": {\"gridcolor\": \"white\", \"linecolor\": \"white\", \"ticks\": \"\"}}, \"title\": {\"x\": 0.05}, \"xaxis\": {\"automargin\": true, \"gridcolor\": \"white\", \"linecolor\": \"white\", \"ticks\": \"\", \"title\": {\"standoff\": 15}, \"zerolinecolor\": \"white\", \"zerolinewidth\": 2}, \"yaxis\": {\"automargin\": true, \"gridcolor\": \"white\", \"linecolor\": \"white\", \"ticks\": \"\", \"title\": {\"standoff\": 15}, \"zerolinecolor\": \"white\", \"zerolinewidth\": 2}}}, \"title\": {\"text\": \"Distribution of recommended food venue categories\"}, \"xaxis\": {\"anchor\": \"y\", \"domain\": [0.0, 1.0], \"title\": {\"text\": \"Venue Category\"}}, \"yaxis\": {\"anchor\": \"x\", \"domain\": [0.0, 1.0], \"title\": {\"text\": \"Count\"}}},                        {\"responsive\": true}                    )                };                            </script>        </div>\n</body>\n</html>"
     },
     "execution_count": 9,
     "metadata": {},
     "output_type": "execute_result"
    }
   ],
   "source": [
    "import plotly.express as px\n",
    "from IPython.display import HTML, display\n",
    "top15 = sorted.iloc[0:14]\n",
    "fig = px.bar(top15, x=\"Venue Category\", y=\"Count\",\n",
    "             title='Distribution of recommended food venue categories')\n",
    "HTML(fig.to_html(include_plotlyjs='cdn'))\n",
    "#fig.show(renderer='notebook_connected')"
   ],
   "metadata": {
    "collapsed": false,
    "pycharm": {
     "name": "#%%\n"
    }
   }
  },
  {
   "cell_type": "markdown",
   "source": [
    "So with this data we can tell what food venue categories are recommended the\n",
    " most throughout Los Angeles County, CA. <br />"
   ],
   "metadata": {
    "collapsed": false,
    "pycharm": {
     "name": "#%% md\n"
    }
   }
  },
  {
   "cell_type": "markdown",
   "source": [
    "We have prepared the following data, which we will use for further analysis:\n",
    "- a dataframe with areas in LA County, enriched with geodata, median income\n",
    "and census data\n",
    "- a dataframe with the most recommended food venue categories in the county"
   ],
   "metadata": {
    "collapsed": false
   }
  },
  {
   "cell_type": "markdown",
   "source": [
    "## Methodology <a name=\"methodology\"></a>"
   ],
   "metadata": {
    "collapsed": false
   }
  },
  {
   "cell_type": "markdown",
   "source": [
    "In this project we will focus on finding a suitable area for a new\n",
    "restaurant in Los Angeles County, CA. The areas are defined by their US Zip\n",
    "Code. In addition, we will look at the most\n",
    "recommended food venue categories throughout the country, to suggest which\n",
    "type of restaurant could be opened. There won't be a specific location in\n",
    "the chosen area recommended.\n",
    "\n",
    "In the first step we have merged three different datasets, that provide data\n",
    " on the different areas in Los Angeles County. With this data it is possible\n",
    "  to cluster the areas using information like median income, number of\n",
    "  households and number of inhabitants. In addition, using Foursquare, we\n",
    "  identified the most recommended food venue categories in the county.\n",
    "\n",
    "The second step in the analysis is to cluster (using k-means clustering) the\n",
    "areas in the county and to describe the individual clusters. Using this\n",
    "method we support the process of finding a single area that looks promising\n",
    "for a new restaurant.\n",
    "\n",
    "The third step is to pick a cluster that fits the chosen criteria most. The\n",
    "area shall be chosen under the premise of finding a good balance between estimated median income and number of potential\n",
    " customers. So the target is to find an area that has as many citizens as\n",
    " possible with the highest income possible. After an area was chosen, the\n",
    " distribution of local restaurant types in this area will be analysed.\n",
    " Combining this information with the categories of food venues that are\n",
    " popular throughout the county, a recommendation of the restaurant to open\n",
    " can be given."
   ],
   "metadata": {
    "collapsed": false
   }
  },
  {
   "cell_type": "markdown",
   "source": [
    "## Analysis <a name=\"analysis\"></a>"
   ],
   "metadata": {
    "collapsed": false
   }
  },
  {
   "cell_type": "markdown",
   "source": [
    "#### Getting an overview\n",
    "First of all, let's have a look on our dataset describing the areas."
   ],
   "metadata": {
    "collapsed": false,
    "pycharm": {
     "name": "#%% md\n"
    }
   }
  },
  {
   "cell_type": "code",
   "execution_count": 10,
   "outputs": [
    {
     "data": {
      "text/plain": "   Zip Code         City                                          Community  \\\n1     90001  Los Angeles   Los Angeles (South Los Angeles), Florence-Graham   \n2     90002  Los Angeles         Los Angeles (Southeast Los Angeles, Watts)   \n3     90003  Los Angeles  Los Angeles (South Los Angeles, Southeast Los ...   \n4     90004  Los Angeles  Los Angeles (Hancock Park, Rampart Village, Vi...   \n5     90005  Los Angeles  Los Angeles (Hancock Park, Koreatown, Wilshire...   \n\n   Estimated Median Income  Longitude   Latitude  Total Population  \\\n1                  43360.0 -118.24878  33.972914             57110   \n2                  37285.0 -118.24845  33.948315             51223   \n3                  40598.0 -118.27600  33.962714             66266   \n4                  49675.0 -118.30755  34.077110             62180   \n5                  38491.0 -118.30848  34.058911             37681   \n\n   Median Age  Total Males  Total Females  Total Households  \\\n1        26.6        28468          28642             12971   \n2        25.5        24876          26347             11731   \n3        26.3        32631          33635             15642   \n4        34.8        31302          30878             22547   \n5        33.9        19299          18382             15044   \n\n   Average Household Size  \n1                    4.40  \n2                    4.36  \n3                    4.22  \n4                    2.73  \n5                    2.50  ",
      "text/html": "<div>\n<style scoped>\n    .dataframe tbody tr th:only-of-type {\n        vertical-align: middle;\n    }\n\n    .dataframe tbody tr th {\n        vertical-align: top;\n    }\n\n    .dataframe thead th {\n        text-align: right;\n    }\n</style>\n<table border=\"1\" class=\"dataframe\">\n  <thead>\n    <tr style=\"text-align: right;\">\n      <th></th>\n      <th>Zip Code</th>\n      <th>City</th>\n      <th>Community</th>\n      <th>Estimated Median Income</th>\n      <th>Longitude</th>\n      <th>Latitude</th>\n      <th>Total Population</th>\n      <th>Median Age</th>\n      <th>Total Males</th>\n      <th>Total Females</th>\n      <th>Total Households</th>\n      <th>Average Household Size</th>\n    </tr>\n  </thead>\n  <tbody>\n    <tr>\n      <th>1</th>\n      <td>90001</td>\n      <td>Los Angeles</td>\n      <td>Los Angeles (South Los Angeles), Florence-Graham</td>\n      <td>43360.0</td>\n      <td>-118.24878</td>\n      <td>33.972914</td>\n      <td>57110</td>\n      <td>26.6</td>\n      <td>28468</td>\n      <td>28642</td>\n      <td>12971</td>\n      <td>4.40</td>\n    </tr>\n    <tr>\n      <th>2</th>\n      <td>90002</td>\n      <td>Los Angeles</td>\n      <td>Los Angeles (Southeast Los Angeles, Watts)</td>\n      <td>37285.0</td>\n      <td>-118.24845</td>\n      <td>33.948315</td>\n      <td>51223</td>\n      <td>25.5</td>\n      <td>24876</td>\n      <td>26347</td>\n      <td>11731</td>\n      <td>4.36</td>\n    </tr>\n    <tr>\n      <th>3</th>\n      <td>90003</td>\n      <td>Los Angeles</td>\n      <td>Los Angeles (South Los Angeles, Southeast Los ...</td>\n      <td>40598.0</td>\n      <td>-118.27600</td>\n      <td>33.962714</td>\n      <td>66266</td>\n      <td>26.3</td>\n      <td>32631</td>\n      <td>33635</td>\n      <td>15642</td>\n      <td>4.22</td>\n    </tr>\n    <tr>\n      <th>4</th>\n      <td>90004</td>\n      <td>Los Angeles</td>\n      <td>Los Angeles (Hancock Park, Rampart Village, Vi...</td>\n      <td>49675.0</td>\n      <td>-118.30755</td>\n      <td>34.077110</td>\n      <td>62180</td>\n      <td>34.8</td>\n      <td>31302</td>\n      <td>30878</td>\n      <td>22547</td>\n      <td>2.73</td>\n    </tr>\n    <tr>\n      <th>5</th>\n      <td>90005</td>\n      <td>Los Angeles</td>\n      <td>Los Angeles (Hancock Park, Koreatown, Wilshire...</td>\n      <td>38491.0</td>\n      <td>-118.30848</td>\n      <td>34.058911</td>\n      <td>37681</td>\n      <td>33.9</td>\n      <td>19299</td>\n      <td>18382</td>\n      <td>15044</td>\n      <td>2.50</td>\n    </tr>\n  </tbody>\n</table>\n</div>"
     },
     "execution_count": 10,
     "metadata": {},
     "output_type": "execute_result"
    }
   ],
   "source": [
    "final_ds.head()"
   ],
   "metadata": {
    "collapsed": false,
    "pycharm": {
     "name": "#%%\n"
    }
   }
  },
  {
   "cell_type": "markdown",
   "source": [
    "Now we are going to take a look at the areas with the highest income and the\n",
    " highest population."
   ],
   "metadata": {
    "collapsed": false
   }
  },
  {
   "cell_type": "code",
   "execution_count": 11,
   "outputs": [
    {
     "data": {
      "text/plain": "<IPython.core.display.HTML object>",
      "text/html": "<html>\n<head><meta charset=\"utf-8\" /></head>\n<body>\n    <div>                        <script type=\"text/javascript\">window.PlotlyConfig = {MathJaxConfig: 'local'};</script>\n        <script src=\"https://cdn.plot.ly/plotly-latest.min.js\"></script>                <div id=\"f2f6d218-f2bc-4356-8be2-5fff511a17b5\" class=\"plotly-graph-div\" style=\"height:100%; width:100%;\"></div>            <script type=\"text/javascript\">                                    window.PLOTLYENV=window.PLOTLYENV || {};                                    if (document.getElementById(\"f2f6d218-f2bc-4356-8be2-5fff511a17b5\")) {                    Plotly.newPlot(                        \"f2f6d218-f2bc-4356-8be2-5fff511a17b5\",                        [{\"alignmentgroup\": \"True\", \"hovertemplate\": \"Estimated Median Income=%{marker.color}<br>City=%{y}<extra></extra>\", \"legendgroup\": \"\", \"marker\": {\"color\": [209531.0, 192500.0, 175652.0, 174085.0, 169919.0, 165765.0, 155417.0, 154583.0, 153023.0, 152378.0, 147270.0, 138293.0, 136702.0, 135741.0], \"coloraxis\": \"coloraxis\"}, \"name\": \"\", \"offsetgroup\": \"\", \"orientation\": \"h\", \"showlegend\": false, \"textposition\": \"auto\", \"type\": \"bar\", \"x\": [209531.0, 192500.0, 175652.0, 174085.0, 169919.0, 165765.0, 155417.0, 154583.0, 153023.0, 152378.0, 147270.0, 138293.0, 136702.0, 135741.0], \"xaxis\": \"x\", \"y\": [\"Los Angeles\", \"Pacific Palisades\", \"La Canada Flintridge\", \"Encino\", \"Palos Verdes Peninsula\", \"San Marino\", \"Los Angeles\", \"Santa Monica\", \"Manhattan Beach\", \"Malibu\", \"Beverly Hills\", \"Rancho Palos Verdes\", \"Hermosa Beach\", \"Glendale\"], \"yaxis\": \"y\"}],                        {\"barmode\": \"relative\", \"coloraxis\": {\"colorbar\": {\"title\": {\"text\": \"Estimated Median Income\"}}, \"colorscale\": [[0.0, \"#0d0887\"], [0.1111111111111111, \"#46039f\"], [0.2222222222222222, \"#7201a8\"], [0.3333333333333333, \"#9c179e\"], [0.4444444444444444, \"#bd3786\"], [0.5555555555555556, \"#d8576b\"], [0.6666666666666666, \"#ed7953\"], [0.7777777777777778, \"#fb9f3a\"], [0.8888888888888888, \"#fdca26\"], [1.0, \"#f0f921\"]]}, \"legend\": {\"tracegroupgap\": 0}, \"template\": {\"data\": {\"bar\": [{\"error_x\": {\"color\": \"#2a3f5f\"}, \"error_y\": {\"color\": \"#2a3f5f\"}, \"marker\": {\"line\": {\"color\": \"#E5ECF6\", \"width\": 0.5}}, \"type\": \"bar\"}], \"barpolar\": [{\"marker\": {\"line\": {\"color\": \"#E5ECF6\", \"width\": 0.5}}, \"type\": \"barpolar\"}], \"carpet\": [{\"aaxis\": {\"endlinecolor\": \"#2a3f5f\", \"gridcolor\": \"white\", \"linecolor\": \"white\", \"minorgridcolor\": \"white\", \"startlinecolor\": \"#2a3f5f\"}, \"baxis\": {\"endlinecolor\": \"#2a3f5f\", \"gridcolor\": \"white\", \"linecolor\": \"white\", \"minorgridcolor\": \"white\", \"startlinecolor\": \"#2a3f5f\"}, \"type\": \"carpet\"}], \"choropleth\": [{\"colorbar\": {\"outlinewidth\": 0, \"ticks\": \"\"}, \"type\": \"choropleth\"}], \"contour\": [{\"colorbar\": {\"outlinewidth\": 0, \"ticks\": \"\"}, \"colorscale\": [[0.0, \"#0d0887\"], [0.1111111111111111, \"#46039f\"], [0.2222222222222222, \"#7201a8\"], [0.3333333333333333, \"#9c179e\"], [0.4444444444444444, \"#bd3786\"], [0.5555555555555556, \"#d8576b\"], [0.6666666666666666, \"#ed7953\"], [0.7777777777777778, \"#fb9f3a\"], [0.8888888888888888, \"#fdca26\"], [1.0, \"#f0f921\"]], \"type\": \"contour\"}], \"contourcarpet\": [{\"colorbar\": {\"outlinewidth\": 0, \"ticks\": \"\"}, \"type\": \"contourcarpet\"}], \"heatmap\": [{\"colorbar\": {\"outlinewidth\": 0, \"ticks\": \"\"}, \"colorscale\": [[0.0, \"#0d0887\"], [0.1111111111111111, \"#46039f\"], [0.2222222222222222, \"#7201a8\"], [0.3333333333333333, \"#9c179e\"], [0.4444444444444444, \"#bd3786\"], [0.5555555555555556, \"#d8576b\"], [0.6666666666666666, \"#ed7953\"], [0.7777777777777778, \"#fb9f3a\"], [0.8888888888888888, \"#fdca26\"], [1.0, \"#f0f921\"]], \"type\": \"heatmap\"}], \"heatmapgl\": [{\"colorbar\": {\"outlinewidth\": 0, \"ticks\": \"\"}, \"colorscale\": [[0.0, \"#0d0887\"], [0.1111111111111111, \"#46039f\"], [0.2222222222222222, \"#7201a8\"], [0.3333333333333333, \"#9c179e\"], [0.4444444444444444, \"#bd3786\"], [0.5555555555555556, \"#d8576b\"], [0.6666666666666666, \"#ed7953\"], [0.7777777777777778, \"#fb9f3a\"], [0.8888888888888888, \"#fdca26\"], [1.0, \"#f0f921\"]], \"type\": \"heatmapgl\"}], \"histogram\": [{\"marker\": {\"colorbar\": {\"outlinewidth\": 0, \"ticks\": \"\"}}, \"type\": \"histogram\"}], \"histogram2d\": [{\"colorbar\": {\"outlinewidth\": 0, \"ticks\": \"\"}, \"colorscale\": [[0.0, \"#0d0887\"], [0.1111111111111111, \"#46039f\"], [0.2222222222222222, \"#7201a8\"], [0.3333333333333333, \"#9c179e\"], [0.4444444444444444, \"#bd3786\"], [0.5555555555555556, \"#d8576b\"], [0.6666666666666666, \"#ed7953\"], [0.7777777777777778, \"#fb9f3a\"], [0.8888888888888888, \"#fdca26\"], [1.0, \"#f0f921\"]], \"type\": \"histogram2d\"}], \"histogram2dcontour\": [{\"colorbar\": {\"outlinewidth\": 0, \"ticks\": \"\"}, \"colorscale\": [[0.0, \"#0d0887\"], [0.1111111111111111, \"#46039f\"], [0.2222222222222222, \"#7201a8\"], [0.3333333333333333, \"#9c179e\"], [0.4444444444444444, \"#bd3786\"], [0.5555555555555556, \"#d8576b\"], [0.6666666666666666, \"#ed7953\"], [0.7777777777777778, \"#fb9f3a\"], [0.8888888888888888, \"#fdca26\"], [1.0, \"#f0f921\"]], \"type\": \"histogram2dcontour\"}], \"mesh3d\": [{\"colorbar\": {\"outlinewidth\": 0, \"ticks\": \"\"}, \"type\": \"mesh3d\"}], \"parcoords\": [{\"line\": {\"colorbar\": {\"outlinewidth\": 0, \"ticks\": \"\"}}, \"type\": \"parcoords\"}], \"pie\": [{\"automargin\": true, \"type\": \"pie\"}], \"scatter\": [{\"marker\": {\"colorbar\": {\"outlinewidth\": 0, \"ticks\": \"\"}}, \"type\": \"scatter\"}], \"scatter3d\": [{\"line\": {\"colorbar\": {\"outlinewidth\": 0, \"ticks\": \"\"}}, \"marker\": {\"colorbar\": {\"outlinewidth\": 0, \"ticks\": \"\"}}, \"type\": \"scatter3d\"}], \"scattercarpet\": [{\"marker\": {\"colorbar\": {\"outlinewidth\": 0, \"ticks\": \"\"}}, \"type\": \"scattercarpet\"}], \"scattergeo\": [{\"marker\": {\"colorbar\": {\"outlinewidth\": 0, \"ticks\": \"\"}}, \"type\": \"scattergeo\"}], \"scattergl\": [{\"marker\": {\"colorbar\": {\"outlinewidth\": 0, \"ticks\": \"\"}}, \"type\": \"scattergl\"}], \"scattermapbox\": [{\"marker\": {\"colorbar\": {\"outlinewidth\": 0, \"ticks\": \"\"}}, \"type\": \"scattermapbox\"}], \"scatterpolar\": [{\"marker\": {\"colorbar\": {\"outlinewidth\": 0, \"ticks\": \"\"}}, \"type\": \"scatterpolar\"}], \"scatterpolargl\": [{\"marker\": {\"colorbar\": {\"outlinewidth\": 0, \"ticks\": \"\"}}, \"type\": \"scatterpolargl\"}], \"scatterternary\": [{\"marker\": {\"colorbar\": {\"outlinewidth\": 0, \"ticks\": \"\"}}, \"type\": \"scatterternary\"}], \"surface\": [{\"colorbar\": {\"outlinewidth\": 0, \"ticks\": \"\"}, \"colorscale\": [[0.0, \"#0d0887\"], [0.1111111111111111, \"#46039f\"], [0.2222222222222222, \"#7201a8\"], [0.3333333333333333, \"#9c179e\"], [0.4444444444444444, \"#bd3786\"], [0.5555555555555556, \"#d8576b\"], [0.6666666666666666, \"#ed7953\"], [0.7777777777777778, \"#fb9f3a\"], [0.8888888888888888, \"#fdca26\"], [1.0, \"#f0f921\"]], \"type\": \"surface\"}], \"table\": [{\"cells\": {\"fill\": {\"color\": \"#EBF0F8\"}, \"line\": {\"color\": \"white\"}}, \"header\": {\"fill\": {\"color\": \"#C8D4E3\"}, \"line\": {\"color\": \"white\"}}, \"type\": \"table\"}]}, \"layout\": {\"annotationdefaults\": {\"arrowcolor\": \"#2a3f5f\", \"arrowhead\": 0, \"arrowwidth\": 1}, \"autotypenumbers\": \"strict\", \"coloraxis\": {\"colorbar\": {\"outlinewidth\": 0, \"ticks\": \"\"}}, \"colorscale\": {\"diverging\": [[0, \"#8e0152\"], [0.1, \"#c51b7d\"], [0.2, \"#de77ae\"], [0.3, \"#f1b6da\"], [0.4, \"#fde0ef\"], [0.5, \"#f7f7f7\"], [0.6, \"#e6f5d0\"], [0.7, \"#b8e186\"], [0.8, \"#7fbc41\"], [0.9, \"#4d9221\"], [1, \"#276419\"]], \"sequential\": [[0.0, \"#0d0887\"], [0.1111111111111111, \"#46039f\"], [0.2222222222222222, \"#7201a8\"], [0.3333333333333333, \"#9c179e\"], [0.4444444444444444, \"#bd3786\"], [0.5555555555555556, \"#d8576b\"], [0.6666666666666666, \"#ed7953\"], [0.7777777777777778, \"#fb9f3a\"], [0.8888888888888888, \"#fdca26\"], [1.0, \"#f0f921\"]], \"sequentialminus\": [[0.0, \"#0d0887\"], [0.1111111111111111, \"#46039f\"], [0.2222222222222222, \"#7201a8\"], [0.3333333333333333, \"#9c179e\"], [0.4444444444444444, \"#bd3786\"], [0.5555555555555556, \"#d8576b\"], [0.6666666666666666, \"#ed7953\"], [0.7777777777777778, \"#fb9f3a\"], [0.8888888888888888, \"#fdca26\"], [1.0, \"#f0f921\"]]}, \"colorway\": [\"#636efa\", \"#EF553B\", \"#00cc96\", \"#ab63fa\", \"#FFA15A\", \"#19d3f3\", \"#FF6692\", \"#B6E880\", \"#FF97FF\", \"#FECB52\"], \"font\": {\"color\": \"#2a3f5f\"}, \"geo\": {\"bgcolor\": \"white\", \"lakecolor\": \"white\", \"landcolor\": \"#E5ECF6\", \"showlakes\": true, \"showland\": true, \"subunitcolor\": \"white\"}, \"hoverlabel\": {\"align\": \"left\"}, \"hovermode\": \"closest\", \"mapbox\": {\"style\": \"light\"}, \"paper_bgcolor\": \"white\", \"plot_bgcolor\": \"#E5ECF6\", \"polar\": {\"angularaxis\": {\"gridcolor\": \"white\", \"linecolor\": \"white\", \"ticks\": \"\"}, \"bgcolor\": \"#E5ECF6\", \"radialaxis\": {\"gridcolor\": \"white\", \"linecolor\": \"white\", \"ticks\": \"\"}}, \"scene\": {\"xaxis\": {\"backgroundcolor\": \"#E5ECF6\", \"gridcolor\": \"white\", \"gridwidth\": 2, \"linecolor\": \"white\", \"showbackground\": true, \"ticks\": \"\", \"zerolinecolor\": \"white\"}, \"yaxis\": {\"backgroundcolor\": \"#E5ECF6\", \"gridcolor\": \"white\", \"gridwidth\": 2, \"linecolor\": \"white\", \"showbackground\": true, \"ticks\": \"\", \"zerolinecolor\": \"white\"}, \"zaxis\": {\"backgroundcolor\": \"#E5ECF6\", \"gridcolor\": \"white\", \"gridwidth\": 2, \"linecolor\": \"white\", \"showbackground\": true, \"ticks\": \"\", \"zerolinecolor\": \"white\"}}, \"shapedefaults\": {\"line\": {\"color\": \"#2a3f5f\"}}, \"ternary\": {\"aaxis\": {\"gridcolor\": \"white\", \"linecolor\": \"white\", \"ticks\": \"\"}, \"baxis\": {\"gridcolor\": \"white\", \"linecolor\": \"white\", \"ticks\": \"\"}, \"bgcolor\": \"#E5ECF6\", \"caxis\": {\"gridcolor\": \"white\", \"linecolor\": \"white\", \"ticks\": \"\"}}, \"title\": {\"x\": 0.05}, \"xaxis\": {\"automargin\": true, \"gridcolor\": \"white\", \"linecolor\": \"white\", \"ticks\": \"\", \"title\": {\"standoff\": 15}, \"zerolinecolor\": \"white\", \"zerolinewidth\": 2}, \"yaxis\": {\"automargin\": true, \"gridcolor\": \"white\", \"linecolor\": \"white\", \"ticks\": \"\", \"title\": {\"standoff\": 15}, \"zerolinecolor\": \"white\", \"zerolinewidth\": 2}}}, \"title\": {\"text\": \"Distribution of Estimated Median Income\"}, \"xaxis\": {\"anchor\": \"y\", \"domain\": [0.0, 1.0], \"title\": {\"text\": \"Estimated Median Income\"}}, \"yaxis\": {\"anchor\": \"x\", \"domain\": [0.0, 1.0], \"title\": {\"text\": \"City\"}}},                        {\"responsive\": true}                    )                };                            </script>        </div>\n</body>\n</html>"
     },
     "execution_count": 11,
     "metadata": {},
     "output_type": "execute_result"
    }
   ],
   "source": [
    "# sort descending by the income and draw the top 15 areas\n",
    "income_sorted = final_ds.sort_values(by='Estimated Median Income',\n",
    "                                     ascending=False)\n",
    "income_top15 = income_sorted.iloc[0:14]\n",
    "fig = px.bar(income_top15, x=\"Estimated Median Income\", y=\"City\",\n",
    " orientation = \"h\", color='Estimated Median Income',\n",
    "             title='Distribution of Estimated Median Income')\n",
    "HTML(fig.to_html(include_plotlyjs='cdn'))\n",
    "#fig.show(renderer='notebook_connected')"
   ],
   "metadata": {
    "collapsed": false,
    "pycharm": {
     "name": "#%%\n"
    }
   }
  },
  {
   "cell_type": "code",
   "execution_count": 12,
   "outputs": [
    {
     "data": {
      "text/plain": "<IPython.core.display.HTML object>",
      "text/html": "<html>\n<head><meta charset=\"utf-8\" /></head>\n<body>\n    <div>                        <script type=\"text/javascript\">window.PlotlyConfig = {MathJaxConfig: 'local'};</script>\n        <script src=\"https://cdn.plot.ly/plotly-latest.min.js\"></script>                <div id=\"8ee126ab-6e2a-4c31-9f35-dd3d7fc7ba49\" class=\"plotly-graph-div\" style=\"height:100%; width:100%;\"></div>            <script type=\"text/javascript\">                                    window.PLOTLYENV=window.PLOTLYENV || {};                                    if (document.getElementById(\"8ee126ab-6e2a-4c31-9f35-dd3d7fc7ba49\")) {                    Plotly.newPlot(                        \"8ee126ab-6e2a-4c31-9f35-dd3d7fc7ba49\",                        [{\"alignmentgroup\": \"True\", \"hovertemplate\": \"City=%{x}<br>Total Population=%{marker.color}<extra></extra>\", \"legendgroup\": \"\", \"marker\": {\"color\": [105549, 103892, 103689, 101279, 94396, 93524, 93193, 91725, 89779, 85040, 76615, 76571, 75066, 74929], \"coloraxis\": \"coloraxis\"}, \"name\": \"\", \"offsetgroup\": \"\", \"orientation\": \"v\", \"showlegend\": false, \"textposition\": \"auto\", \"type\": \"bar\", \"x\": [\"Norwalk\", \"Los Angeles\", \"Pacoima\", \"Bell\", \"South Gate\", \"Long Beach\", \"Hawthorne\", \"Sylmar\", \"Los Angeles\", \"La Puente\", \"Bellflower\", \"Baldwin Park\", \"Huntington Park\", \"Palmdale\"], \"xaxis\": \"x\", \"y\": [105549, 103892, 103689, 101279, 94396, 93524, 93193, 91725, 89779, 85040, 76615, 76571, 75066, 74929], \"yaxis\": \"y\"}],                        {\"barmode\": \"relative\", \"coloraxis\": {\"colorbar\": {\"title\": {\"text\": \"Total Population\"}}, \"colorscale\": [[0.0, \"#0d0887\"], [0.1111111111111111, \"#46039f\"], [0.2222222222222222, \"#7201a8\"], [0.3333333333333333, \"#9c179e\"], [0.4444444444444444, \"#bd3786\"], [0.5555555555555556, \"#d8576b\"], [0.6666666666666666, \"#ed7953\"], [0.7777777777777778, \"#fb9f3a\"], [0.8888888888888888, \"#fdca26\"], [1.0, \"#f0f921\"]]}, \"legend\": {\"tracegroupgap\": 0}, \"template\": {\"data\": {\"bar\": [{\"error_x\": {\"color\": \"#2a3f5f\"}, \"error_y\": {\"color\": \"#2a3f5f\"}, \"marker\": {\"line\": {\"color\": \"#E5ECF6\", \"width\": 0.5}}, \"type\": \"bar\"}], \"barpolar\": [{\"marker\": {\"line\": {\"color\": \"#E5ECF6\", \"width\": 0.5}}, \"type\": \"barpolar\"}], \"carpet\": [{\"aaxis\": {\"endlinecolor\": \"#2a3f5f\", \"gridcolor\": \"white\", \"linecolor\": \"white\", \"minorgridcolor\": \"white\", \"startlinecolor\": \"#2a3f5f\"}, \"baxis\": {\"endlinecolor\": \"#2a3f5f\", \"gridcolor\": \"white\", \"linecolor\": \"white\", \"minorgridcolor\": \"white\", \"startlinecolor\": \"#2a3f5f\"}, \"type\": \"carpet\"}], \"choropleth\": [{\"colorbar\": {\"outlinewidth\": 0, \"ticks\": \"\"}, \"type\": \"choropleth\"}], \"contour\": [{\"colorbar\": {\"outlinewidth\": 0, \"ticks\": \"\"}, \"colorscale\": [[0.0, \"#0d0887\"], [0.1111111111111111, \"#46039f\"], [0.2222222222222222, \"#7201a8\"], [0.3333333333333333, \"#9c179e\"], [0.4444444444444444, \"#bd3786\"], [0.5555555555555556, \"#d8576b\"], [0.6666666666666666, \"#ed7953\"], [0.7777777777777778, \"#fb9f3a\"], [0.8888888888888888, \"#fdca26\"], [1.0, \"#f0f921\"]], \"type\": \"contour\"}], \"contourcarpet\": [{\"colorbar\": {\"outlinewidth\": 0, \"ticks\": \"\"}, \"type\": \"contourcarpet\"}], \"heatmap\": [{\"colorbar\": {\"outlinewidth\": 0, \"ticks\": \"\"}, \"colorscale\": [[0.0, \"#0d0887\"], [0.1111111111111111, \"#46039f\"], [0.2222222222222222, \"#7201a8\"], [0.3333333333333333, \"#9c179e\"], [0.4444444444444444, \"#bd3786\"], [0.5555555555555556, \"#d8576b\"], [0.6666666666666666, \"#ed7953\"], [0.7777777777777778, \"#fb9f3a\"], [0.8888888888888888, \"#fdca26\"], [1.0, \"#f0f921\"]], \"type\": \"heatmap\"}], \"heatmapgl\": [{\"colorbar\": {\"outlinewidth\": 0, \"ticks\": \"\"}, \"colorscale\": [[0.0, \"#0d0887\"], [0.1111111111111111, \"#46039f\"], [0.2222222222222222, \"#7201a8\"], [0.3333333333333333, \"#9c179e\"], [0.4444444444444444, \"#bd3786\"], [0.5555555555555556, \"#d8576b\"], [0.6666666666666666, \"#ed7953\"], [0.7777777777777778, \"#fb9f3a\"], [0.8888888888888888, \"#fdca26\"], [1.0, \"#f0f921\"]], \"type\": \"heatmapgl\"}], \"histogram\": [{\"marker\": {\"colorbar\": {\"outlinewidth\": 0, \"ticks\": \"\"}}, \"type\": \"histogram\"}], \"histogram2d\": [{\"colorbar\": {\"outlinewidth\": 0, \"ticks\": \"\"}, \"colorscale\": [[0.0, \"#0d0887\"], [0.1111111111111111, \"#46039f\"], [0.2222222222222222, \"#7201a8\"], [0.3333333333333333, \"#9c179e\"], [0.4444444444444444, \"#bd3786\"], [0.5555555555555556, \"#d8576b\"], [0.6666666666666666, \"#ed7953\"], [0.7777777777777778, \"#fb9f3a\"], [0.8888888888888888, \"#fdca26\"], [1.0, \"#f0f921\"]], \"type\": \"histogram2d\"}], \"histogram2dcontour\": [{\"colorbar\": {\"outlinewidth\": 0, \"ticks\": \"\"}, \"colorscale\": [[0.0, \"#0d0887\"], [0.1111111111111111, \"#46039f\"], [0.2222222222222222, \"#7201a8\"], [0.3333333333333333, \"#9c179e\"], [0.4444444444444444, \"#bd3786\"], [0.5555555555555556, \"#d8576b\"], [0.6666666666666666, \"#ed7953\"], [0.7777777777777778, \"#fb9f3a\"], [0.8888888888888888, \"#fdca26\"], [1.0, \"#f0f921\"]], \"type\": \"histogram2dcontour\"}], \"mesh3d\": [{\"colorbar\": {\"outlinewidth\": 0, \"ticks\": \"\"}, \"type\": \"mesh3d\"}], \"parcoords\": [{\"line\": {\"colorbar\": {\"outlinewidth\": 0, \"ticks\": \"\"}}, \"type\": \"parcoords\"}], \"pie\": [{\"automargin\": true, \"type\": \"pie\"}], \"scatter\": [{\"marker\": {\"colorbar\": {\"outlinewidth\": 0, \"ticks\": \"\"}}, \"type\": \"scatter\"}], \"scatter3d\": [{\"line\": {\"colorbar\": {\"outlinewidth\": 0, \"ticks\": \"\"}}, \"marker\": {\"colorbar\": {\"outlinewidth\": 0, \"ticks\": \"\"}}, \"type\": \"scatter3d\"}], \"scattercarpet\": [{\"marker\": {\"colorbar\": {\"outlinewidth\": 0, \"ticks\": \"\"}}, \"type\": \"scattercarpet\"}], \"scattergeo\": [{\"marker\": {\"colorbar\": {\"outlinewidth\": 0, \"ticks\": \"\"}}, \"type\": \"scattergeo\"}], \"scattergl\": [{\"marker\": {\"colorbar\": {\"outlinewidth\": 0, \"ticks\": \"\"}}, \"type\": \"scattergl\"}], \"scattermapbox\": [{\"marker\": {\"colorbar\": {\"outlinewidth\": 0, \"ticks\": \"\"}}, \"type\": \"scattermapbox\"}], \"scatterpolar\": [{\"marker\": {\"colorbar\": {\"outlinewidth\": 0, \"ticks\": \"\"}}, \"type\": \"scatterpolar\"}], \"scatterpolargl\": [{\"marker\": {\"colorbar\": {\"outlinewidth\": 0, \"ticks\": \"\"}}, \"type\": \"scatterpolargl\"}], \"scatterternary\": [{\"marker\": {\"colorbar\": {\"outlinewidth\": 0, \"ticks\": \"\"}}, \"type\": \"scatterternary\"}], \"surface\": [{\"colorbar\": {\"outlinewidth\": 0, \"ticks\": \"\"}, \"colorscale\": [[0.0, \"#0d0887\"], [0.1111111111111111, \"#46039f\"], [0.2222222222222222, \"#7201a8\"], [0.3333333333333333, \"#9c179e\"], [0.4444444444444444, \"#bd3786\"], [0.5555555555555556, \"#d8576b\"], [0.6666666666666666, \"#ed7953\"], [0.7777777777777778, \"#fb9f3a\"], [0.8888888888888888, \"#fdca26\"], [1.0, \"#f0f921\"]], \"type\": \"surface\"}], \"table\": [{\"cells\": {\"fill\": {\"color\": \"#EBF0F8\"}, \"line\": {\"color\": \"white\"}}, \"header\": {\"fill\": {\"color\": \"#C8D4E3\"}, \"line\": {\"color\": \"white\"}}, \"type\": \"table\"}]}, \"layout\": {\"annotationdefaults\": {\"arrowcolor\": \"#2a3f5f\", \"arrowhead\": 0, \"arrowwidth\": 1}, \"autotypenumbers\": \"strict\", \"coloraxis\": {\"colorbar\": {\"outlinewidth\": 0, \"ticks\": \"\"}}, \"colorscale\": {\"diverging\": [[0, \"#8e0152\"], [0.1, \"#c51b7d\"], [0.2, \"#de77ae\"], [0.3, \"#f1b6da\"], [0.4, \"#fde0ef\"], [0.5, \"#f7f7f7\"], [0.6, \"#e6f5d0\"], [0.7, \"#b8e186\"], [0.8, \"#7fbc41\"], [0.9, \"#4d9221\"], [1, \"#276419\"]], \"sequential\": [[0.0, \"#0d0887\"], [0.1111111111111111, \"#46039f\"], [0.2222222222222222, \"#7201a8\"], [0.3333333333333333, \"#9c179e\"], [0.4444444444444444, \"#bd3786\"], [0.5555555555555556, \"#d8576b\"], [0.6666666666666666, \"#ed7953\"], [0.7777777777777778, \"#fb9f3a\"], [0.8888888888888888, \"#fdca26\"], [1.0, \"#f0f921\"]], \"sequentialminus\": [[0.0, \"#0d0887\"], [0.1111111111111111, \"#46039f\"], [0.2222222222222222, \"#7201a8\"], [0.3333333333333333, \"#9c179e\"], [0.4444444444444444, \"#bd3786\"], [0.5555555555555556, \"#d8576b\"], [0.6666666666666666, \"#ed7953\"], [0.7777777777777778, \"#fb9f3a\"], [0.8888888888888888, \"#fdca26\"], [1.0, \"#f0f921\"]]}, \"colorway\": [\"#636efa\", \"#EF553B\", \"#00cc96\", \"#ab63fa\", \"#FFA15A\", \"#19d3f3\", \"#FF6692\", \"#B6E880\", \"#FF97FF\", \"#FECB52\"], \"font\": {\"color\": \"#2a3f5f\"}, \"geo\": {\"bgcolor\": \"white\", \"lakecolor\": \"white\", \"landcolor\": \"#E5ECF6\", \"showlakes\": true, \"showland\": true, \"subunitcolor\": \"white\"}, \"hoverlabel\": {\"align\": \"left\"}, \"hovermode\": \"closest\", \"mapbox\": {\"style\": \"light\"}, \"paper_bgcolor\": \"white\", \"plot_bgcolor\": \"#E5ECF6\", \"polar\": {\"angularaxis\": {\"gridcolor\": \"white\", \"linecolor\": \"white\", \"ticks\": \"\"}, \"bgcolor\": \"#E5ECF6\", \"radialaxis\": {\"gridcolor\": \"white\", \"linecolor\": \"white\", \"ticks\": \"\"}}, \"scene\": {\"xaxis\": {\"backgroundcolor\": \"#E5ECF6\", \"gridcolor\": \"white\", \"gridwidth\": 2, \"linecolor\": \"white\", \"showbackground\": true, \"ticks\": \"\", \"zerolinecolor\": \"white\"}, \"yaxis\": {\"backgroundcolor\": \"#E5ECF6\", \"gridcolor\": \"white\", \"gridwidth\": 2, \"linecolor\": \"white\", \"showbackground\": true, \"ticks\": \"\", \"zerolinecolor\": \"white\"}, \"zaxis\": {\"backgroundcolor\": \"#E5ECF6\", \"gridcolor\": \"white\", \"gridwidth\": 2, \"linecolor\": \"white\", \"showbackground\": true, \"ticks\": \"\", \"zerolinecolor\": \"white\"}}, \"shapedefaults\": {\"line\": {\"color\": \"#2a3f5f\"}}, \"ternary\": {\"aaxis\": {\"gridcolor\": \"white\", \"linecolor\": \"white\", \"ticks\": \"\"}, \"baxis\": {\"gridcolor\": \"white\", \"linecolor\": \"white\", \"ticks\": \"\"}, \"bgcolor\": \"#E5ECF6\", \"caxis\": {\"gridcolor\": \"white\", \"linecolor\": \"white\", \"ticks\": \"\"}}, \"title\": {\"x\": 0.05}, \"xaxis\": {\"automargin\": true, \"gridcolor\": \"white\", \"linecolor\": \"white\", \"ticks\": \"\", \"title\": {\"standoff\": 15}, \"zerolinecolor\": \"white\", \"zerolinewidth\": 2}, \"yaxis\": {\"automargin\": true, \"gridcolor\": \"white\", \"linecolor\": \"white\", \"ticks\": \"\", \"title\": {\"standoff\": 15}, \"zerolinecolor\": \"white\", \"zerolinewidth\": 2}}}, \"title\": {\"text\": \"Distribution of Population\"}, \"xaxis\": {\"anchor\": \"y\", \"domain\": [0.0, 1.0], \"title\": {\"text\": \"City\"}}, \"yaxis\": {\"anchor\": \"x\", \"domain\": [0.0, 1.0], \"title\": {\"text\": \"Total Population\"}}},                        {\"responsive\": true}                    )                };                            </script>        </div>\n</body>\n</html>"
     },
     "execution_count": 12,
     "metadata": {},
     "output_type": "execute_result"
    }
   ],
   "source": [
    "# sort descending by the population and draw the top 15 areas\n",
    "pop_sorted = final_ds.sort_values(by='Total Population',\n",
    "                                     ascending=False)\n",
    "pop_top15 = pop_sorted.iloc[0:14]\n",
    "fig = px.bar(pop_top15, y=\"Total Population\", x=\"City\",\n",
    " orientation = \"v\", color='Total Population',\n",
    "             title='Distribution of Population')\n",
    "HTML(fig.to_html(include_plotlyjs='cdn'))\n",
    "#fig.show(renderer='notebook_connected')"
   ],
   "metadata": {
    "collapsed": false,
    "pycharm": {
     "name": "#%%\n"
    }
   }
  },
  {
   "cell_type": "markdown",
   "source": [
    "As we are primarily interested in the areas that have a high total\n",
    "population, let us add the income to this graph and get an overview on which\n",
    "areas in this group have the highest income."
   ],
   "metadata": {
    "collapsed": false
   }
  },
  {
   "cell_type": "code",
   "execution_count": 13,
   "outputs": [
    {
     "data": {
      "text/plain": "<IPython.core.display.HTML object>",
      "text/html": "<html>\n<head><meta charset=\"utf-8\" /></head>\n<body>\n    <div>                        <script type=\"text/javascript\">window.PlotlyConfig = {MathJaxConfig: 'local'};</script>\n        <script src=\"https://cdn.plot.ly/plotly-latest.min.js\"></script>                <div id=\"28981664-ee65-4ec8-9642-c4fe9009abba\" class=\"plotly-graph-div\" style=\"height:100%; width:100%;\"></div>            <script type=\"text/javascript\">                                    window.PLOTLYENV=window.PLOTLYENV || {};                                    if (document.getElementById(\"28981664-ee65-4ec8-9642-c4fe9009abba\")) {                    Plotly.newPlot(                        \"28981664-ee65-4ec8-9642-c4fe9009abba\",                        [{\"hovertemplate\": \"Estimated Median Income=%{x}<br>Community=%{y}<br>Total Population=%{marker.color}<extra></extra>\", \"legendgroup\": \"\", \"marker\": {\"color\": [105549, 103892, 103689, 101279, 94396, 93524, 93193, 91725, 89779, 85040, 76615, 76571, 75066, 74929], \"coloraxis\": \"coloraxis\", \"size\": [105549, 103892, 103689, 101279, 94396, 93524, 93193, 91725, 89779, 85040, 76615, 76571, 75066, 74929], \"sizemode\": \"area\", \"sizeref\": 263.8725, \"symbol\": \"circle\"}, \"mode\": \"markers\", \"name\": \"\", \"orientation\": \"h\", \"showlegend\": false, \"type\": \"scatter\", \"x\": [70667.0, 40940.0, 63807.0, 44046.0, 52321.0, 50914.0, 56304.0, 74050.0, 35981.0, 71243.0, 60011.0, 65755.0, 44962.0, 45918.0], \"xaxis\": \"x\", \"y\": [\"Norwalk\", \"Los Angeles (Southeast Los Angeles)\", \"Los Angeles (Arleta, Hansen Hills, Pacoima)\", \"Bell, Bell Gardens, Cudahy\", \"South Gate\", \"Long Beach (North Long Beach)\", \"Hawthorne (Holly Park)\", \"Los Angeles (Lake View Terrace, Sylmar), Kagel Canyon\", \"Athens, Los Angeles (South Los Angeles)\", \"City of Industry, La Puente, Valinda\", \"Bellflower\", \"Baldwin Park, Irwindale\", \"Huntington Park, Walnut Park\", \"Lake Los Angeles, Palmdale\"], \"yaxis\": \"y\"}],                        {\"coloraxis\": {\"colorbar\": {\"title\": {\"text\": \"Total Population\"}}, \"colorscale\": [[0.0, \"#0d0887\"], [0.1111111111111111, \"#46039f\"], [0.2222222222222222, \"#7201a8\"], [0.3333333333333333, \"#9c179e\"], [0.4444444444444444, \"#bd3786\"], [0.5555555555555556, \"#d8576b\"], [0.6666666666666666, \"#ed7953\"], [0.7777777777777778, \"#fb9f3a\"], [0.8888888888888888, \"#fdca26\"], [1.0, \"#f0f921\"]]}, \"legend\": {\"itemsizing\": \"constant\", \"tracegroupgap\": 0}, \"margin\": {\"t\": 60}, \"template\": {\"data\": {\"bar\": [{\"error_x\": {\"color\": \"#2a3f5f\"}, \"error_y\": {\"color\": \"#2a3f5f\"}, \"marker\": {\"line\": {\"color\": \"#E5ECF6\", \"width\": 0.5}}, \"type\": \"bar\"}], \"barpolar\": [{\"marker\": {\"line\": {\"color\": \"#E5ECF6\", \"width\": 0.5}}, \"type\": \"barpolar\"}], \"carpet\": [{\"aaxis\": {\"endlinecolor\": \"#2a3f5f\", \"gridcolor\": \"white\", \"linecolor\": \"white\", \"minorgridcolor\": \"white\", \"startlinecolor\": \"#2a3f5f\"}, \"baxis\": {\"endlinecolor\": \"#2a3f5f\", \"gridcolor\": \"white\", \"linecolor\": \"white\", \"minorgridcolor\": \"white\", \"startlinecolor\": \"#2a3f5f\"}, \"type\": \"carpet\"}], \"choropleth\": [{\"colorbar\": {\"outlinewidth\": 0, \"ticks\": \"\"}, \"type\": \"choropleth\"}], \"contour\": [{\"colorbar\": {\"outlinewidth\": 0, \"ticks\": \"\"}, \"colorscale\": [[0.0, \"#0d0887\"], [0.1111111111111111, \"#46039f\"], [0.2222222222222222, \"#7201a8\"], [0.3333333333333333, \"#9c179e\"], [0.4444444444444444, \"#bd3786\"], [0.5555555555555556, \"#d8576b\"], [0.6666666666666666, \"#ed7953\"], [0.7777777777777778, \"#fb9f3a\"], [0.8888888888888888, \"#fdca26\"], [1.0, \"#f0f921\"]], \"type\": \"contour\"}], \"contourcarpet\": [{\"colorbar\": {\"outlinewidth\": 0, \"ticks\": \"\"}, \"type\": \"contourcarpet\"}], \"heatmap\": [{\"colorbar\": {\"outlinewidth\": 0, \"ticks\": \"\"}, \"colorscale\": [[0.0, \"#0d0887\"], [0.1111111111111111, \"#46039f\"], [0.2222222222222222, \"#7201a8\"], [0.3333333333333333, \"#9c179e\"], [0.4444444444444444, \"#bd3786\"], [0.5555555555555556, \"#d8576b\"], [0.6666666666666666, \"#ed7953\"], [0.7777777777777778, \"#fb9f3a\"], [0.8888888888888888, \"#fdca26\"], [1.0, \"#f0f921\"]], \"type\": \"heatmap\"}], \"heatmapgl\": [{\"colorbar\": {\"outlinewidth\": 0, \"ticks\": \"\"}, \"colorscale\": [[0.0, \"#0d0887\"], [0.1111111111111111, \"#46039f\"], [0.2222222222222222, \"#7201a8\"], [0.3333333333333333, \"#9c179e\"], [0.4444444444444444, \"#bd3786\"], [0.5555555555555556, \"#d8576b\"], [0.6666666666666666, \"#ed7953\"], [0.7777777777777778, \"#fb9f3a\"], [0.8888888888888888, \"#fdca26\"], [1.0, \"#f0f921\"]], \"type\": \"heatmapgl\"}], \"histogram\": [{\"marker\": {\"colorbar\": {\"outlinewidth\": 0, \"ticks\": \"\"}}, \"type\": \"histogram\"}], \"histogram2d\": [{\"colorbar\": {\"outlinewidth\": 0, \"ticks\": \"\"}, \"colorscale\": [[0.0, \"#0d0887\"], [0.1111111111111111, \"#46039f\"], [0.2222222222222222, \"#7201a8\"], [0.3333333333333333, \"#9c179e\"], [0.4444444444444444, \"#bd3786\"], [0.5555555555555556, \"#d8576b\"], [0.6666666666666666, \"#ed7953\"], [0.7777777777777778, \"#fb9f3a\"], [0.8888888888888888, \"#fdca26\"], [1.0, \"#f0f921\"]], \"type\": \"histogram2d\"}], \"histogram2dcontour\": [{\"colorbar\": {\"outlinewidth\": 0, \"ticks\": \"\"}, \"colorscale\": [[0.0, \"#0d0887\"], [0.1111111111111111, \"#46039f\"], [0.2222222222222222, \"#7201a8\"], [0.3333333333333333, \"#9c179e\"], [0.4444444444444444, \"#bd3786\"], [0.5555555555555556, \"#d8576b\"], [0.6666666666666666, \"#ed7953\"], [0.7777777777777778, \"#fb9f3a\"], [0.8888888888888888, \"#fdca26\"], [1.0, \"#f0f921\"]], \"type\": \"histogram2dcontour\"}], \"mesh3d\": [{\"colorbar\": {\"outlinewidth\": 0, \"ticks\": \"\"}, \"type\": \"mesh3d\"}], \"parcoords\": [{\"line\": {\"colorbar\": {\"outlinewidth\": 0, \"ticks\": \"\"}}, \"type\": \"parcoords\"}], \"pie\": [{\"automargin\": true, \"type\": \"pie\"}], \"scatter\": [{\"marker\": {\"colorbar\": {\"outlinewidth\": 0, \"ticks\": \"\"}}, \"type\": \"scatter\"}], \"scatter3d\": [{\"line\": {\"colorbar\": {\"outlinewidth\": 0, \"ticks\": \"\"}}, \"marker\": {\"colorbar\": {\"outlinewidth\": 0, \"ticks\": \"\"}}, \"type\": \"scatter3d\"}], \"scattercarpet\": [{\"marker\": {\"colorbar\": {\"outlinewidth\": 0, \"ticks\": \"\"}}, \"type\": \"scattercarpet\"}], \"scattergeo\": [{\"marker\": {\"colorbar\": {\"outlinewidth\": 0, \"ticks\": \"\"}}, \"type\": \"scattergeo\"}], \"scattergl\": [{\"marker\": {\"colorbar\": {\"outlinewidth\": 0, \"ticks\": \"\"}}, \"type\": \"scattergl\"}], \"scattermapbox\": [{\"marker\": {\"colorbar\": {\"outlinewidth\": 0, \"ticks\": \"\"}}, \"type\": \"scattermapbox\"}], \"scatterpolar\": [{\"marker\": {\"colorbar\": {\"outlinewidth\": 0, \"ticks\": \"\"}}, \"type\": \"scatterpolar\"}], \"scatterpolargl\": [{\"marker\": {\"colorbar\": {\"outlinewidth\": 0, \"ticks\": \"\"}}, \"type\": \"scatterpolargl\"}], \"scatterternary\": [{\"marker\": {\"colorbar\": {\"outlinewidth\": 0, \"ticks\": \"\"}}, \"type\": \"scatterternary\"}], \"surface\": [{\"colorbar\": {\"outlinewidth\": 0, \"ticks\": \"\"}, \"colorscale\": [[0.0, \"#0d0887\"], [0.1111111111111111, \"#46039f\"], [0.2222222222222222, \"#7201a8\"], [0.3333333333333333, \"#9c179e\"], [0.4444444444444444, \"#bd3786\"], [0.5555555555555556, \"#d8576b\"], [0.6666666666666666, \"#ed7953\"], [0.7777777777777778, \"#fb9f3a\"], [0.8888888888888888, \"#fdca26\"], [1.0, \"#f0f921\"]], \"type\": \"surface\"}], \"table\": [{\"cells\": {\"fill\": {\"color\": \"#EBF0F8\"}, \"line\": {\"color\": \"white\"}}, \"header\": {\"fill\": {\"color\": \"#C8D4E3\"}, \"line\": {\"color\": \"white\"}}, \"type\": \"table\"}]}, \"layout\": {\"annotationdefaults\": {\"arrowcolor\": \"#2a3f5f\", \"arrowhead\": 0, \"arrowwidth\": 1}, \"autotypenumbers\": \"strict\", \"coloraxis\": {\"colorbar\": {\"outlinewidth\": 0, \"ticks\": \"\"}}, \"colorscale\": {\"diverging\": [[0, \"#8e0152\"], [0.1, \"#c51b7d\"], [0.2, \"#de77ae\"], [0.3, \"#f1b6da\"], [0.4, \"#fde0ef\"], [0.5, \"#f7f7f7\"], [0.6, \"#e6f5d0\"], [0.7, \"#b8e186\"], [0.8, \"#7fbc41\"], [0.9, \"#4d9221\"], [1, \"#276419\"]], \"sequential\": [[0.0, \"#0d0887\"], [0.1111111111111111, \"#46039f\"], [0.2222222222222222, \"#7201a8\"], [0.3333333333333333, \"#9c179e\"], [0.4444444444444444, \"#bd3786\"], [0.5555555555555556, \"#d8576b\"], [0.6666666666666666, \"#ed7953\"], [0.7777777777777778, \"#fb9f3a\"], [0.8888888888888888, \"#fdca26\"], [1.0, \"#f0f921\"]], \"sequentialminus\": [[0.0, \"#0d0887\"], [0.1111111111111111, \"#46039f\"], [0.2222222222222222, \"#7201a8\"], [0.3333333333333333, \"#9c179e\"], [0.4444444444444444, \"#bd3786\"], [0.5555555555555556, \"#d8576b\"], [0.6666666666666666, \"#ed7953\"], [0.7777777777777778, \"#fb9f3a\"], [0.8888888888888888, \"#fdca26\"], [1.0, \"#f0f921\"]]}, \"colorway\": [\"#636efa\", \"#EF553B\", \"#00cc96\", \"#ab63fa\", \"#FFA15A\", \"#19d3f3\", \"#FF6692\", \"#B6E880\", \"#FF97FF\", \"#FECB52\"], \"font\": {\"color\": \"#2a3f5f\"}, \"geo\": {\"bgcolor\": \"white\", \"lakecolor\": \"white\", \"landcolor\": \"#E5ECF6\", \"showlakes\": true, \"showland\": true, \"subunitcolor\": \"white\"}, \"hoverlabel\": {\"align\": \"left\"}, \"hovermode\": \"closest\", \"mapbox\": {\"style\": \"light\"}, \"paper_bgcolor\": \"white\", \"plot_bgcolor\": \"#E5ECF6\", \"polar\": {\"angularaxis\": {\"gridcolor\": \"white\", \"linecolor\": \"white\", \"ticks\": \"\"}, \"bgcolor\": \"#E5ECF6\", \"radialaxis\": {\"gridcolor\": \"white\", \"linecolor\": \"white\", \"ticks\": \"\"}}, \"scene\": {\"xaxis\": {\"backgroundcolor\": \"#E5ECF6\", \"gridcolor\": \"white\", \"gridwidth\": 2, \"linecolor\": \"white\", \"showbackground\": true, \"ticks\": \"\", \"zerolinecolor\": \"white\"}, \"yaxis\": {\"backgroundcolor\": \"#E5ECF6\", \"gridcolor\": \"white\", \"gridwidth\": 2, \"linecolor\": \"white\", \"showbackground\": true, \"ticks\": \"\", \"zerolinecolor\": \"white\"}, \"zaxis\": {\"backgroundcolor\": \"#E5ECF6\", \"gridcolor\": \"white\", \"gridwidth\": 2, \"linecolor\": \"white\", \"showbackground\": true, \"ticks\": \"\", \"zerolinecolor\": \"white\"}}, \"shapedefaults\": {\"line\": {\"color\": \"#2a3f5f\"}}, \"ternary\": {\"aaxis\": {\"gridcolor\": \"white\", \"linecolor\": \"white\", \"ticks\": \"\"}, \"baxis\": {\"gridcolor\": \"white\", \"linecolor\": \"white\", \"ticks\": \"\"}, \"bgcolor\": \"#E5ECF6\", \"caxis\": {\"gridcolor\": \"white\", \"linecolor\": \"white\", \"ticks\": \"\"}}, \"title\": {\"x\": 0.05}, \"xaxis\": {\"automargin\": true, \"gridcolor\": \"white\", \"linecolor\": \"white\", \"ticks\": \"\", \"title\": {\"standoff\": 15}, \"zerolinecolor\": \"white\", \"zerolinewidth\": 2}, \"yaxis\": {\"automargin\": true, \"gridcolor\": \"white\", \"linecolor\": \"white\", \"ticks\": \"\", \"title\": {\"standoff\": 15}, \"zerolinecolor\": \"white\", \"zerolinewidth\": 2}}}, \"xaxis\": {\"anchor\": \"y\", \"domain\": [0.0, 1.0], \"title\": {\"text\": \"Estimated Median Income\"}, \"type\": \"log\"}, \"yaxis\": {\"anchor\": \"x\", \"domain\": [0.0, 1.0], \"title\": {\"text\": \"Community\"}}},                        {\"responsive\": true}                    )                };                            </script>        </div>\n</body>\n</html>"
     },
     "execution_count": 13,
     "metadata": {},
     "output_type": "execute_result"
    }
   ],
   "source": [
    "fig = px.scatter(pop_top15, x=\"Estimated Median Income\", y=\"Community\",\n",
    "                 size=\"Total Population\", log_x=True, color=\"Total Population\")\n",
    "HTML(fig.to_html(include_plotlyjs='cdn'))\n",
    "#fig.show(renderer='notebook_connected')"
   ],
   "metadata": {
    "collapsed": false,
    "pycharm": {
     "name": "#%%\n"
    }
   }
  },
  {
   "cell_type": "markdown",
   "source": [
    "In this graph the population determines the bubble size. So there are four\n",
    "areas that stand out:\n",
    "\n",
    "| City    | Population | Median Income |\n",
    "|---------|------------|--------|\n",
    "| Norwalk | 105,6K     | 70,7K       |\n",
    "| Lake View Terrace, Sylmar   |  91,7K          |  74K      |\n",
    "| La Puente, Valinda        |  85K          |   71,2K     |\n",
    "| Hansen Hills, Pacoima |  104K          |  64K      |\n",
    "\n",
    "These four cities / neighbourhoods seem to be suitable areas, based on\n",
    "their combination of population and median income. We are going to see, if\n",
    "this assumption is confirmed going forward."
   ],
   "metadata": {
    "collapsed": false,
    "pycharm": {
     "name": "#%% md\n"
    }
   }
  },
  {
   "cell_type": "markdown",
   "source": [
    "#### Clustering the dataset\n"
   ],
   "metadata": {
    "collapsed": false
   }
  },
  {
   "cell_type": "code",
   "execution_count": 14,
   "outputs": [
    {
     "data": {
      "text/plain": "   Estimated Median Income  Total Population  Median Age  Total Households  \\\n1                  43360.0             57110        26.6             12971   \n2                  37285.0             51223        25.5             11731   \n3                  40598.0             66266        26.3             15642   \n4                  49675.0             62180        34.8             22547   \n5                  38491.0             37681        33.9             15044   \n\n   Average Household Size  \n1                    4.40  \n2                    4.36  \n3                    4.22  \n4                    2.73  \n5                    2.50  ",
      "text/html": "<div>\n<style scoped>\n    .dataframe tbody tr th:only-of-type {\n        vertical-align: middle;\n    }\n\n    .dataframe tbody tr th {\n        vertical-align: top;\n    }\n\n    .dataframe thead th {\n        text-align: right;\n    }\n</style>\n<table border=\"1\" class=\"dataframe\">\n  <thead>\n    <tr style=\"text-align: right;\">\n      <th></th>\n      <th>Estimated Median Income</th>\n      <th>Total Population</th>\n      <th>Median Age</th>\n      <th>Total Households</th>\n      <th>Average Household Size</th>\n    </tr>\n  </thead>\n  <tbody>\n    <tr>\n      <th>1</th>\n      <td>43360.0</td>\n      <td>57110</td>\n      <td>26.6</td>\n      <td>12971</td>\n      <td>4.40</td>\n    </tr>\n    <tr>\n      <th>2</th>\n      <td>37285.0</td>\n      <td>51223</td>\n      <td>25.5</td>\n      <td>11731</td>\n      <td>4.36</td>\n    </tr>\n    <tr>\n      <th>3</th>\n      <td>40598.0</td>\n      <td>66266</td>\n      <td>26.3</td>\n      <td>15642</td>\n      <td>4.22</td>\n    </tr>\n    <tr>\n      <th>4</th>\n      <td>49675.0</td>\n      <td>62180</td>\n      <td>34.8</td>\n      <td>22547</td>\n      <td>2.73</td>\n    </tr>\n    <tr>\n      <th>5</th>\n      <td>38491.0</td>\n      <td>37681</td>\n      <td>33.9</td>\n      <td>15044</td>\n      <td>2.50</td>\n    </tr>\n  </tbody>\n</table>\n</div>"
     },
     "execution_count": 14,
     "metadata": {},
     "output_type": "execute_result"
    }
   ],
   "source": [
    "from sklearn.cluster import KMeans\n",
    "grouped_clustering = final_ds.drop(['Zip Code', 'City', 'Community', 'Longitude', 'Latitude', 'Total Males',\n",
    "                                    'Total Females'], 1)\n",
    "grouped_clustering.head()"
   ],
   "metadata": {
    "collapsed": false,
    "pycharm": {
     "name": "#%%\n"
    }
   }
  },
  {
   "cell_type": "markdown",
   "source": [],
   "metadata": {
    "collapsed": false
   }
  },
  {
   "cell_type": "code",
   "execution_count": 15,
   "outputs": [],
   "source": [
    "sum_of_squared_distances = []\n",
    "K = range(1,15)\n",
    "for k in K:\n",
    "    kmeans = KMeans(n_clusters=k, init=\"k-means++\",\n",
    "                random_state=0).fit(grouped_clustering)\n",
    "    sum_of_squared_distances.append(kmeans.inertia_)\n",
    "\n",
    "#kmeans.labels_"
   ],
   "metadata": {
    "collapsed": false,
    "pycharm": {
     "name": "#%%\n"
    }
   }
  },
  {
   "cell_type": "code",
   "execution_count": 16,
   "outputs": [
    {
     "data": {
      "text/plain": "<Figure size 432x288 with 1 Axes>",
      "image/png": "[encoded data removed]"
     },
     "metadata": {
      "needs_background": "light"
     },
     "output_type": "display_data"
    }
   ],
   "source": [
    "import matplotlib.pyplot as plt\n",
    "plt.plot(K, sum_of_squared_distances, 'bx-')\n",
    "plt.xlabel('k')\n",
    "plt.ylabel('Sum_of_squared_distances')\n",
    "plt.title('Elbow Method For Optimal k')\n",
    "plt.show()"
   ],
   "metadata": {
    "collapsed": false,
    "pycharm": {
     "name": "#%%\n"
    }
   }
  },
  {
   "cell_type": "markdown",
   "source": [
    "According to the elbow method I chose a k of 6 going forward.\n",
    "So let's do the clustering again with the determined k value.\n",
    "Then I will add the cluster labels to my dataset and print out a\n",
    "summarization of the created clusters."
   ],
   "metadata": {
    "collapsed": false,
    "pycharm": {
     "name": "#%% md\n"
    }
   }
  },
  {
   "cell_type": "code",
   "execution_count": 17,
   "outputs": [],
   "source": [
    "# cluster with the determined K\n",
    "kmeans = KMeans(n_clusters=6, init=\"k-means++\",\n",
    "                random_state=0).fit(grouped_clustering)\n",
    "# add the labels to the dataset\n",
    "final_ds.insert(0, 'Cluster Label', kmeans.labels_)"
   ],
   "metadata": {
    "collapsed": false,
    "pycharm": {
     "name": "#%%\n"
    }
   }
  },
  {
   "cell_type": "code",
   "execution_count": 18,
   "outputs": [
    {
     "data": {
      "text/plain": "                   Zip Code  Estimated Median Income   Longitude   Latitude  \\\nCluster Label                                                                 \n0              90988.629630            106149.203704 -118.326722  34.101526   \n1              90949.500000             51305.386364 -118.201435  34.097584   \n2              90624.000000            155063.444444 -118.425995  34.024770   \n3              91153.090909             57912.863636 -118.190515  34.113848   \n4              90657.634921             53158.555556 -118.258781  34.038015   \n5              91012.205128             79295.179487 -118.214638  34.056455   \n\n               Total Population  Median Age   Total Males  Total Females  \\\nCluster Label                                                              \n0                  29781.925926   41.064815  14563.444444   15218.481481   \n1                  18681.204545   35.754545   9459.613636    9221.590909   \n2                  17967.666667   43.838889   8777.833333    9189.833333   \n3                  83146.500000   30.468182  41257.500000   41889.000000   \n4                  49959.714286   32.455556  24713.476190   25246.238095   \n5                  28459.230769   38.342308  13819.230769   14640.000000   \n\n               Total Households  Average Household Size  \nCluster Label                                            \n0                  11475.425926                2.544815  \n1                   6144.704545                2.858409  \n2                   7020.722222                2.479444  \n3                  22069.545455                3.768182  \n4                  15571.158730                3.256984  \n5                  10393.205128                2.747949  ",
      "text/html": "<div>\n<style scoped>\n    .dataframe tbody tr th:only-of-type {\n        vertical-align: middle;\n    }\n\n    .dataframe tbody tr th {\n        vertical-align: top;\n    }\n\n    .dataframe thead th {\n        text-align: right;\n    }\n</style>\n<table border=\"1\" class=\"dataframe\">\n  <thead>\n    <tr style=\"text-align: right;\">\n      <th></th>\n      <th>Zip Code</th>\n      <th>Estimated Median Income</th>\n      <th>Longitude</th>\n      <th>Latitude</th>\n      <th>Total Population</th>\n      <th>Median Age</th>\n      <th>Total Males</th>\n      <th>Total Females</th>\n      <th>Total Households</th>\n      <th>Average Household Size</th>\n    </tr>\n    <tr>\n      <th>Cluster Label</th>\n      <th></th>\n      <th></th>\n      <th></th>\n      <th></th>\n      <th></th>\n      <th></th>\n      <th></th>\n      <th></th>\n      <th></th>\n      <th></th>\n    </tr>\n  </thead>\n  <tbody>\n    <tr>\n      <th>0</th>\n      <td>90988.629630</td>\n      <td>106149.203704</td>\n      <td>-118.326722</td>\n      <td>34.101526</td>\n      <td>29781.925926</td>\n      <td>41.064815</td>\n      <td>14563.444444</td>\n      <td>15218.481481</td>\n      <td>11475.425926</td>\n      <td>2.544815</td>\n    </tr>\n    <tr>\n      <th>1</th>\n      <td>90949.500000</td>\n      <td>51305.386364</td>\n      <td>-118.201435</td>\n      <td>34.097584</td>\n      <td>18681.204545</td>\n      <td>35.754545</td>\n      <td>9459.613636</td>\n      <td>9221.590909</td>\n      <td>6144.704545</td>\n      <td>2.858409</td>\n    </tr>\n    <tr>\n      <th>2</th>\n      <td>90624.000000</td>\n      <td>155063.444444</td>\n      <td>-118.425995</td>\n      <td>34.024770</td>\n      <td>17967.666667</td>\n      <td>43.838889</td>\n      <td>8777.833333</td>\n      <td>9189.833333</td>\n      <td>7020.722222</td>\n      <td>2.479444</td>\n    </tr>\n    <tr>\n      <th>3</th>\n      <td>91153.090909</td>\n      <td>57912.863636</td>\n      <td>-118.190515</td>\n      <td>34.113848</td>\n      <td>83146.500000</td>\n      <td>30.468182</td>\n      <td>41257.500000</td>\n      <td>41889.000000</td>\n      <td>22069.545455</td>\n      <td>3.768182</td>\n    </tr>\n    <tr>\n      <th>4</th>\n      <td>90657.634921</td>\n      <td>53158.555556</td>\n      <td>-118.258781</td>\n      <td>34.038015</td>\n      <td>49959.714286</td>\n      <td>32.455556</td>\n      <td>24713.476190</td>\n      <td>25246.238095</td>\n      <td>15571.158730</td>\n      <td>3.256984</td>\n    </tr>\n    <tr>\n      <th>5</th>\n      <td>91012.205128</td>\n      <td>79295.179487</td>\n      <td>-118.214638</td>\n      <td>34.056455</td>\n      <td>28459.230769</td>\n      <td>38.342308</td>\n      <td>13819.230769</td>\n      <td>14640.000000</td>\n      <td>10393.205128</td>\n      <td>2.747949</td>\n    </tr>\n  </tbody>\n</table>\n</div>"
     },
     "execution_count": 18,
     "metadata": {},
     "output_type": "execute_result"
    }
   ],
   "source": [
    "# create a dataframe for the defined clusters\n",
    "cluster_df = final_ds.groupby('Cluster Label').mean()\n",
    "cluster_df"
   ],
   "metadata": {
    "collapsed": false,
    "pycharm": {
     "name": "#%%\n"
    }
   }
  },
  {
   "cell_type": "markdown",
   "source": [
    "Let us clean this up a bit and add a new column, that will help us to chose\n",
    "a cluster going forward.\n"
   ],
   "metadata": {
    "collapsed": false,
    "pycharm": {
     "name": "#%% md\n"
    }
   }
  },
  {
   "cell_type": "code",
   "execution_count": 19,
   "outputs": [
    {
     "name": "stderr",
     "output_type": "stream",
     "text": [
      "<ipython-input-19-ab34df8160b4>:5: SettingWithCopyWarning:\n",
      "\n",
      "\n",
      "A value is trying to be set on a copy of a slice from a DataFrame.\n",
      "Try using .loc[row_indexer,col_indexer] = value instead\n",
      "\n",
      "See the caveats in the documentation: https://pandas.pydata.org/pandas-docs/stable/user_guide/indexing.html#returning-a-view-versus-a-copy\n",
      "\n"
     ]
    },
    {
     "data": {
      "text/plain": "               Estimated Median Income  Total Population  Median Age  \\\nCluster Label                                                          \n3                             57912.86          83146.50       30.47   \n0                            106149.20          29781.93       41.06   \n2                            155063.44          17967.67       43.84   \n4                             53158.56          49959.71       32.46   \n5                             79295.18          28459.23       38.34   \n1                             51305.39          18681.20       35.75   \n\n               Total Households  Average Household Size  Decision Factor  \nCluster Label                                                             \n3                      22069.55                    3.77         57783.02  \n0                      11475.43                    2.54         37935.93  \n2                       7020.72                    2.48         33433.54  \n4                      15571.16                    3.26         31869.43  \n5                      10393.21                    2.75         27080.16  \n1                       6144.70                    2.86         11501.36  ",
      "text/html": "<div>\n<style scoped>\n    .dataframe tbody tr th:only-of-type {\n        vertical-align: middle;\n    }\n\n    .dataframe tbody tr th {\n        vertical-align: top;\n    }\n\n    .dataframe thead th {\n        text-align: right;\n    }\n</style>\n<table border=\"1\" class=\"dataframe\">\n  <thead>\n    <tr style=\"text-align: right;\">\n      <th></th>\n      <th>Estimated Median Income</th>\n      <th>Total Population</th>\n      <th>Median Age</th>\n      <th>Total Households</th>\n      <th>Average Household Size</th>\n      <th>Decision Factor</th>\n    </tr>\n    <tr>\n      <th>Cluster Label</th>\n      <th></th>\n      <th></th>\n      <th></th>\n      <th></th>\n      <th></th>\n      <th></th>\n    </tr>\n  </thead>\n  <tbody>\n    <tr>\n      <th>3</th>\n      <td>57912.86</td>\n      <td>83146.50</td>\n      <td>30.47</td>\n      <td>22069.55</td>\n      <td>3.77</td>\n      <td>57783.02</td>\n    </tr>\n    <tr>\n      <th>0</th>\n      <td>106149.20</td>\n      <td>29781.93</td>\n      <td>41.06</td>\n      <td>11475.43</td>\n      <td>2.54</td>\n      <td>37935.93</td>\n    </tr>\n    <tr>\n      <th>2</th>\n      <td>155063.44</td>\n      <td>17967.67</td>\n      <td>43.84</td>\n      <td>7020.72</td>\n      <td>2.48</td>\n      <td>33433.54</td>\n    </tr>\n    <tr>\n      <th>4</th>\n      <td>53158.56</td>\n      <td>49959.71</td>\n      <td>32.46</td>\n      <td>15571.16</td>\n      <td>3.26</td>\n      <td>31869.43</td>\n    </tr>\n    <tr>\n      <th>5</th>\n      <td>79295.18</td>\n      <td>28459.23</td>\n      <td>38.34</td>\n      <td>10393.21</td>\n      <td>2.75</td>\n      <td>27080.16</td>\n    </tr>\n    <tr>\n      <th>1</th>\n      <td>51305.39</td>\n      <td>18681.20</td>\n      <td>35.75</td>\n      <td>6144.70</td>\n      <td>2.86</td>\n      <td>11501.36</td>\n    </tr>\n  </tbody>\n</table>\n</div>"
     },
     "execution_count": 19,
     "metadata": {},
     "output_type": "execute_result"
    }
   ],
   "source": [
    "clusters = cluster_df[['Estimated Median Income', 'Total Population',\n",
    "                       'Median Age', 'Total Households', 'Average Household '\n",
    "                                                         'Size']]\n",
    "\n",
    "clusters['Decision Factor'] = \\\n",
    "    ( ( clusters['Total Population'] * 1.2 ) *\n",
    "      clusters['Estimated Median Income']) / 100000\n",
    "clusters_r = clusters.round(2)\n",
    "clusters_r\n",
    "clusters_sorted = clusters_r.sort_values(by='Decision Factor', ascending=False)\n",
    "clusters_sorted"
   ],
   "metadata": {
    "collapsed": false,
    "pycharm": {
     "name": "#%%\n"
    }
   }
  },
  {
   "cell_type": "markdown",
   "source": [
    "Looking at these clusters, they can be described as the following:\n",
    "\n",
    "| Name      | Income | Population | Age |\n",
    "|-----------|--------|------------|-----|\n",
    "| Cluster 0 | High      | Medium   | Older    |\n",
    "| Cluster 1 | Low       | Low      | Young    |\n",
    "| Cluster 2 | Very High | Low      | Older    |\n",
    "| Cluster 3 | Medium    | Very High| Very Young    |\n",
    "| Cluster 4 | Low       | High     | Very Young    |\n",
    "| Cluster 5 | High      | Medium   | Young    |\n",
    "\n",
    "So based on this information I am going to choose Cluster 3 for further\n",
    "evaluation and as the cluster where I will pick an area from. This cluster\n",
    "has a medium income combined with a very high population. It also contains\n",
    "the youngest median age, which also can be considered for choosing the\n",
    "food venue category."
   ],
   "metadata": {
    "collapsed": false
   }
  },
  {
   "cell_type": "code",
   "execution_count": 20,
   "outputs": [
    {
     "data": {
      "text/plain": "(22, 12)"
     },
     "execution_count": 20,
     "metadata": {},
     "output_type": "execute_result"
    }
   ],
   "source": [
    "cluster3 = final_ds.loc[final_ds['Cluster Label'] == 3, final_ds\n",
    "    .columns[[1] + list(range(2, final_ds.shape[1]))]]\n",
    "cluster3.shape"
   ],
   "metadata": {
    "collapsed": false,
    "pycharm": {
     "name": "#%%\n"
    }
   }
  },
  {
   "cell_type": "markdown",
   "source": [
    "This cluster contains 22 areas in Los Angeles County, CA.\n",
    "We are going to have a look on them on the map using **Folium**."
   ],
   "metadata": {
    "collapsed": false,
    "pycharm": {
     "name": "#%% md\n"
    }
   }
  },
  {
   "cell_type": "code",
   "execution_count": 1,
   "outputs": [],
   "source": [
    "from geopy.geocoders import Nominatim\n",
    "# initialize the map\n",
    "address = 'Los Angeles County, CA'\n",
    "geolocator = Nominatim(user_agent=\"la_explorer\")\n",
    "location = geolocator.geocode(address)\n",
    "latitude = location.latitude\n",
    "longitude = location.longitude\n"
   ],
   "metadata": {
    "collapsed": false,
    "pycharm": {
     "name": "#%%\n"
    }
   }
  },
  {
   "cell_type": "code",
   "execution_count": null,
   "outputs": [],
   "source": [
    "import matplotlib.cm as cm\n",
    "import matplotlib.colors as colors\n",
    "import folium\n",
    "import numpy as np\n",
    "# create map\n",
    "map_clusters = folium.Map(location=[latitude, longitude], zoom_start=11)\n",
    "cluster3 = final_ds.loc[final_ds['Cluster Label'] == 3]\n",
    "# set color scheme for the clusters, 6 is our number of clusters\n",
    "x = np.arange(6)\n",
    "ys = [i + x + (i*x)**2 for i in range(6)]\n",
    "colors_array = cm.rainbow(np.linspace(0, 1, len(ys)))\n",
    "rainbow = [colors.rgb2hex(i) for i in colors_array]\n",
    "# add markers to the map\n",
    "markers_colors = []\n",
    "for lat, lon, poi, cluster in zip(cluster3['Latitude'],\n",
    "                                  cluster3['Longitude'],\n",
    "                                  cluster3['Zip Code'],\n",
    "                                  cluster3['Cluster Label']):\n",
    "    label = folium.Popup(str(poi) + ' Cluster ' + str(cluster), parse_html=True)\n",
    "    folium.CircleMarker(\n",
    "        [lat, lon],\n",
    "        radius=5,\n",
    "        popup=label,\n",
    "        color=rainbow[cluster-1],\n",
    "        fill=True,\n",
    "        fill_color=rainbow[cluster-1],\n",
    "        fill_opacity=0.7).add_to(map_clusters)\n",
    "\n",
    "map_clusters"
   ],
   "metadata": {
    "collapsed": false,
    "pycharm": {
     "name": "#%%\n"
    }
   }
  },
  {
   "cell_type": "markdown",
   "source": [
    "As one can see, most of our areas in more densely populated areas and in the\n",
    " vicinity of the city of Los Angeles.\n",
    "Now let us add the \"decision factor\" again and calculate it for every single\n",
    " region in cluster 3."
   ],
   "metadata": {
    "collapsed": false,
    "pycharm": {
     "name": "#%% md\n"
    }
   }
  },
  {
   "cell_type": "code",
   "execution_count": null,
   "outputs": [],
   "source": [
    "cluster3['Decision Factor'] = ( ( cluster3['Total Population'] * 1.2 ) *\n",
    "                                  cluster3['Estimated Median Income']) / 100000\n",
    "cluster3_r = cluster3.round(2)\n",
    "cluster3_sorted = cluster3_r.sort_values(by='Decision Factor', ascending=False)\n",
    "cluster3_sorted.head(10)"
   ],
   "metadata": {
    "collapsed": false,
    "pycharm": {
     "name": "#%%\n"
    }
   }
  },
  {
   "cell_type": "code",
   "execution_count": null,
   "outputs": [],
   "source": [
    "# draw the top 5 areas according to income and population\n",
    "cluster3_top5 = cluster3_sorted.iloc[0:5]\n",
    "fig = px.bar(cluster3_top5, x='Decision Factor', y='Community',\n",
    "             color='Average Household Size' )\n",
    "HTML(fig.to_html(include_plotlyjs='cdn'))\n",
    "#fig.show(renderer='notebook_connected')"
   ],
   "metadata": {
    "collapsed": false,
    "pycharm": {
     "name": "#%%\n"
    }
   }
  },
  {
   "cell_type": "markdown",
   "source": [
    "So there are three areas that stand out:\n",
    "- Norwalk, with a population of 105,6k and an income of $70,6k; it has the\n",
    "oldest median age of the three communities and the largest population.\n",
    "- Lake View Terrace in Sylmar, with a population of 91,7k and an income of\n",
    "$74k; it has the highest income of the group and the lowest population.\n",
    "- Hansen Hills in Pacoima, with a population 104,7k and an income of $63,8k.\n",
    " It has the youngest median age of the three and is very close to Norwalk in\n",
    "  terms of population, but it has the lowest income.\n",
    "\n",
    "Looking back at the initial analysis we did for all areas in Los Angeles\n",
    "County, we find that these three areas were also part auf the group we\n",
    "found, based on their features. So through the clustering we could confirm our\n",
    "initial findings."
   ],
   "metadata": {
    "collapsed": false,
    "pycharm": {
     "name": "#%% md\n"
    }
   }
  },
  {
   "cell_type": "markdown",
   "source": [
    "#### Exploring local food venues"
   ],
   "metadata": {
    "collapsed": false
   }
  },
  {
   "cell_type": "markdown",
   "source": [
    "Using Foursquare, we are going to query the existing food venues in the\n",
    "three areas.\n",
    "\n",
    "We will use a radius of 4 kilometres around the center of every community.\n",
    "I will also use the city and zip code from the response to filter out\n",
    "results from Foursquare that actually do not belong to the city community we\n",
    " are exploring."
   ],
   "metadata": {
    "collapsed": false
   }
  },
  {
   "cell_type": "code",
   "execution_count": null,
   "outputs": [],
   "source": [
    "import itertools\n",
    "top3 = cluster3_sorted.iloc[0:3]\n",
    "venues_list=[]\n",
    "# Get the local food venues for all 3 of our communities\n",
    "for _, record in top3.iterrows():\n",
    "    offset = 0\n",
    "    for _ in itertools.repeat(None, 4):\n",
    "        url = 'https://api.foursquare' \\\n",
    "              '.com/v2/venues/explore?&client_id={}&client_secret={}&v={}&ll={},' \\\n",
    "              '{}&radius={}&limit={}&offset={}&categoryId={}'.format(\n",
    "            CLIENT_ID, CLIENT_SECRET, VERSION, record['Latitude'],\n",
    "            record['Longitude'], 4000, 50, offset, '4d4b7105d754a06374d81259')\n",
    "        # increase the offset for the next run\n",
    "        offset += 50\n",
    "        # try to read the items from the Foursquare response and loop over them\n",
    "        try:\n",
    "            results = requests.get(url).json()[\"response\"]['groups'][0]['items']\n",
    "            for v in results:\n",
    "                # get the city name from the Foursquare response, if possible\n",
    "                try:\n",
    "                    city = v['venue']['location']['city']\n",
    "                except:\n",
    "                    city = str(record['City'])\n",
    "                # get the zip code from the Foursquare response, if possible\n",
    "                try:\n",
    "                    postalCode = str(v['venue']['location']['postalCode'])\n",
    "                except:\n",
    "                    postalCode = str(record['Zip Code'])\n",
    "\n",
    "                venues_list.append((record['Zip Code'], record['Community'],\n",
    "                                    record['Latitude'], record['Longitude'],\n",
    "                                    v['venue']['name'],\n",
    "                                    v['venue']['categories'][0]['name'],\n",
    "                                    city, postalCode))\n",
    "        except:\n",
    "            # there are no more results that Foursquare can deliver\n",
    "            break\n",
    "# create a dataframe from all venues we have found for all 3 areas\n",
    "nearby_venues = pd.DataFrame(venues_list, columns=['Zip Code', 'Community',\n",
    "              'Zip Code Latitude', 'Zip Code Longitude', 'Venue',\n",
    "              'Venue Category', 'City', 'PostalCode'])\n",
    "nearby_venues.count()"
   ],
   "metadata": {
    "collapsed": false,
    "pycharm": {
     "name": "#%%\n"
    }
   }
  },
  {
   "cell_type": "code",
   "execution_count": null,
   "outputs": [],
   "source": [
    "# only keep the records that belong to our 3 chosen cities\n",
    "venues_cleaned = nearby_venues.loc[\n",
    "                 nearby_venues['City'].isin(['Norwalk', 'Sylmar', 'Pacoima'])]\n",
    "venues_cleaned.count()"
   ],
   "metadata": {
    "collapsed": false,
    "pycharm": {
     "name": "#%%\n"
    }
   }
  },
  {
   "cell_type": "markdown",
   "source": [
    "We found 167 food venues across all 3 areas.\n",
    "In the next step we will group the food venues by category and city.\n",
    "We can use the count of food venues per category to visualize the\n",
    "distribution across the communities."
   ],
   "metadata": {
    "collapsed": false,
    "pycharm": {
     "name": "#%% md\n"
    }
   }
  },
  {
   "cell_type": "code",
   "execution_count": null,
   "outputs": [],
   "source": [
    "# extract city name and food venue category\n",
    "categs = venues_cleaned[['City', 'Venue Category']]\n",
    "# count the number of restaurants per city and category\n",
    "categs_count = categs.groupby(['City', 'Venue Category']).size().to_frame(\n",
    "               'Count').reset_index()\n",
    "# sort the result by city and count\n",
    "categs_sorted = categs_count.sort_values(by=['City', 'Count'],\n",
    "                                         ascending=False)\n",
    "categs_sorted"
   ],
   "metadata": {
    "collapsed": false,
    "pycharm": {
     "name": "#%%\n"
    }
   }
  },
  {
   "cell_type": "code",
   "execution_count": null,
   "outputs": [],
   "source": [
    "categs_graph = categs_sorted.loc[categs_sorted['Count'] > 1]\n",
    "\n",
    "fig = px.bar(categs_graph, y=\"Venue Category\",\n",
    "             x=\"Count\", title='Combined Distribution of Food Venues',\n",
    "             orientation='h', color = 'City'\n",
    "             )\n",
    "HTML(fig.to_html(include_plotlyjs='cdn'))\n",
    "#fig.show(renderer='notebook_connected')"
   ],
   "metadata": {
    "collapsed": false,
    "pycharm": {
     "name": "#%%\n"
    }
   }
  },
  {
   "cell_type": "markdown",
   "source": [
    "Having a look at the distribution of food venues across the three areas, we\n",
    "can make the following observations:\n",
    "- Mexican restaurants are the most common food venue overall\n",
    "- Fast Food restaurants are the second most common venue, but Norwalk has by\n",
    " far the most\n",
    "- Pacoima has the least restaurants overall and Norwalk the most, despite\n",
    "both of them are very close in population\n",
    "- There seems to be space for a Chinese or American Restaurant or a Donut\n",
    "Shop in Pacoima\n",
    "- Even sandwich and pizza places are not very common in Pacoima\n",
    "- Opening another fast food restaurant or mexican restaurant does not seem\n",
    "like a good idea\n",
    "\n",
    "<br />\n",
    "Again, let us have a look on the most recommended food venues in the county\n",
    "for comparison:"
   ],
   "metadata": {
    "collapsed": false,
    "pycharm": {
     "name": "#%% md\n"
    }
   }
  },
  {
   "cell_type": "code",
   "execution_count": null,
   "outputs": [],
   "source": [
    "top15 = sorted.iloc[0:14]\n",
    "fig = px.bar(top15, x=\"Venue Category\", y=\"Count\",\n",
    "             title='Distribution of recommended food venue categories')\n",
    "#fig.show(renderer='notebook_connected')\n",
    "HTML(fig.to_html(include_plotlyjs='cdn'))"
   ],
   "metadata": {
    "collapsed": false,
    "pycharm": {
     "name": "#%%\n"
    }
   }
  },
  {
   "cell_type": "markdown",
   "source": [
    "#### Choosing a restaurant to open\n",
    "- Bakeries are the fith most recommended venue category, but there is\n",
    "currently a maximum of 1 per area. So this could be a good option in any of\n",
    "the three communities.\n",
    "- Mexican and fast food restaurants are already very common and should not\n",
    "be chosen\n",
    "- There is an opportunity for a pizza place or a chinese resaturant in Pacoima\n",
    "- Pacoima in general has few food venues. Looking at the median income, any\n",
    "low price food venues could be a good opportunity.\n",
    "- Norwalk would be the best option according to population and income, but\n",
    "it is already very crowded with restaurants. A bakery seems to be the best\n",
    "option there.\n",
    "\n",
    "There are also multiple options for sushi restaurants, burger joints,\n",
    "japanese or thai restaurants in all three areas. Overall not looking bad!"
   ],
   "metadata": {
    "collapsed": false
   }
  },
  {
   "cell_type": "markdown",
   "source": [
    "## Results and Discussion <a name=\"results\"></a>\n"
   ],
   "metadata": {
    "collapsed": false,
    "pycharm": {
     "name": "#%% md\n"
    }
   }
  },
  {
   "cell_type": "markdown",
   "source": [
    "Our analysis shows that there is a high variability in population, income\n",
    "and median age in the different areas of Los Angeles County, CA. So it was\n",
    "possible to identify multiple areas that fit the criteria of a relatively high\n",
    "median income and a high population. Using census and income data of all\n",
    "areas in Los Angeles County, we did a clustering to identify similar areas.\n",
    "By analysing the formed clusters there have been three areas identified\n",
    "that fit the criteria best. Norwalk, Lake View Terrace in Sylmar and Hansen\n",
    "Hills in Pacoima.\n",
    "\n",
    "They are slightly different in income, population and age and also very\n",
    "  different in their local distribution of available food venues. The final\n",
    "  area could be picked on which of these factors matters to the stakeholders\n",
    "   most. I will pick Norwalk as the final area for a food venue, because it\n",
    "    offers the best combination of a high population and a good income out\n",
    "    of these three areas.\n",
    "\n",
    "By analysing the most recommended food venue categories across the whole\n",
    "county, we found that mexican restaurants are by far the most often\n",
    "recommended venue. After them pizza places, fast food restaurants,\n",
    "chinese restaurants and bakeries follow in that order. To give a\n",
    "recommendation for a food venue to open in Norwalk, we can compare the local\n",
    " distribution of food venues what was recommended the most in the county. By\n",
    "  looking at Norwalk we found that there are already many mexican\n",
    "  restaurants (12) and fast food restaurants (15). Pizza places (7) and\n",
    "  chinese restaurants (5) area also recommended in a higher number, so\n",
    "  opening a restaurant in one of those categories would be better, but there\n",
    "   is still some competition. What stands out is that there is currently\n",
    "   only one bakery recommended by Foursquare in Norwalk. Looking at the\n",
    "   distribution of recommendations in the county, bakeries are the fifth\n",
    "   most recommended venue category. Because of this, I would recommend\n",
    "   opening a bakery in Norwalk, CA to the stakeholders.\n",
    "\n",
    "Purpose of this analysis was to identify a possible area and food venue type\n",
    " for a new restaurant in Los Angeles County, CA based on a very limited\n",
    " amount of factors. Analysing census data and existing food venues is only\n",
    " one part on the way to find a location for opening a new restaurant. Other\n",
    "  factors that also play a role are for example available spaces, rent\n",
    "  costs, other venues in the area. This analysis serves as a starting point\n",
    "  for finding possible locations, but further analysis needs to be done by\n",
    "  the stakeholders."
   ],
   "metadata": {
    "collapsed": false
   }
  },
  {
   "cell_type": "markdown",
   "source": [
    "## Conclusion <a name=\"conclusion\"></a>"
   ],
   "metadata": {
    "collapsed": false
   }
  },
  {
   "cell_type": "markdown",
   "source": [
    "The purpose of this project was to find a possible location for a new\n",
    "restaurant in Los Angeles County, CA. The desire from the stakeholders was\n",
    "to identify locations that offer a good balance between median income and\n",
    "number of inhabitants, although income shall be rated slightly more important\n",
    "than population. In addition, the idea was to identify possible food\n",
    "venue categories by comparing recommended venues across the country with the\n",
    " local venues in the different areas. So for this there were census and\n",
    " income data combined to identify areas that fit the criteria. A clustering\n",
    " was performed, to group the communities in Los Angeles County using their\n",
    " income and population. Then the cluster was chosen that fit the former\n",
    " mentioned criteria the most. From this cluster the top 3 areas were chosen,\n",
    "  that had the best balance between income and population. This way the best\n",
    "   three candidates for a new restaurant location were identified.\n",
    "\n",
    "The next step was to analyze the local food venue categories. For this the\n",
    "local venues in a 4 km radius were identified and grouped. This grouping was\n",
    " then compared with the distribution of the most recommended food venue\n",
    " categories across the whole county. In doing so, opportunities for new\n",
    " restaurants in any of the three chosen communities have been identified.\n",
    "\n",
    "The final decision can be made by the stakeholders, based on the\n",
    "recommendations given in this project. This decision for a locality can be\n",
    "based on income, population or median age of the areas. The decision for a\n",
    "venue category can be based on popular venues across the county, and the gaps\n",
    " in the local food offerings that have been identified."
   ],
   "metadata": {
    "collapsed": false,
    "pycharm": {
     "name": "#%% md\n"
    }
   }
  }
 ],
 "metadata": {
  "kernelspec": {
   "name": "pycharm-5a19e405",
   "language": "python",
   "display_name": "PyCharm (DataScienceBlog)"
  },
  "language_info": {
   "codemirror_mode": {
    "name": "ipython",
    "version": 2
   },
   "file_extension": ".py",
   "mimetype": "text/x-python",
   "name": "python",
   "nbconvert_exporter": "python",
   "pygments_lexer": "ipython2",
   "version": "2.7.6"
  }
 },
 "nbformat": 4,
 "nbformat_minor": 0
}