{
 "cells": [
  {
   "cell_type": "markdown",
   "source": [
    "# Implementing Data Structures\n",
    "> Example Implementations using <a href=\"https://jupyter.org/\">Jupyter Notebooks</a>.\n",
    "\n",
    "- toc: true\n",
    "- badges: true\n",
    "- comments: true\n",
    "- sticky_rank: 1\n",
    "- author: Felix\n",
    "- categories: [datastructures, jupyter, percipio]"
   ],
   "metadata": {
    "collapsed": false
   }
  },
  {
   "cell_type": "code",
   "execution_count": 1,
   "metadata": {
    "collapsed": true
   },
   "outputs": [],
   "source": [
    "# Time complexity\n",
    "def addition(num1, num2):\n",
    "    total = num1 + num2\n",
    "\n",
    "    print(\"The sum of %d and %d is %d\" %(num1, num2, total))"
   ]
  },
  {
   "cell_type": "code",
   "execution_count": 2,
   "outputs": [
    {
     "name": "stdout",
     "output_type": "stream",
     "text": [
      "The sum of 10 and 4 is 14\n"
     ]
    }
   ],
   "source": [
    "addition(10, 4)"
   ],
   "metadata": {
    "collapsed": false,
    "pycharm": {
     "name": "#%%\n"
    }
   }
  },
  {
   "cell_type": "code",
   "execution_count": 3,
   "outputs": [],
   "source": [
    "def addition(num1, num2):\n",
    "    num_iterations = 0\n",
    "    total = num1 + num2\n",
    "    num_iterations += 1\n",
    "    print(\"The sum of %d and %d is %d \\n total number: %d\" %(num1, num2, total, num_iterations))\n"
   ],
   "metadata": {
    "collapsed": false,
    "pycharm": {
     "name": "#%%\n"
    }
   }
  },
  {
   "cell_type": "code",
   "execution_count": 4,
   "outputs": [
    {
     "name": "stdout",
     "output_type": "stream",
     "text": [
      "The sum of 50 and 10 is 60 \n",
      " total number: 1\n"
     ]
    }
   ],
   "source": [
    "addition(50,10)\n",
    "# O(1) operation, number of operations is constant, no matter the input"
   ],
   "metadata": {
    "collapsed": false,
    "pycharm": {
     "name": "#%%\n"
    }
   }
  },
  {
   "cell_type": "code",
   "execution_count": 5,
   "outputs": [],
   "source": [
    "# O(N) operations -> linear ascend, number of operations depends on the input value\n",
    "def check_prime1(number):\n",
    "    num_iterations = 0\n",
    "    for i in range(2, number):\n",
    "        num_iterations += 1\n",
    "\n",
    "        if number%i == 0:\n",
    "            print(\"%d is not a prime number \\n Total number of iterations = %d\"\n",
    "                  %(number, num_iterations))\n",
    "            return\n",
    "    print(\"%d is a prime number \\nTotal number of iterations = %d\"\n",
    "          %(number, num_iterations))"
   ],
   "metadata": {
    "collapsed": false,
    "pycharm": {
     "name": "#%%\n"
    }
   }
  },
  {
   "cell_type": "code",
   "execution_count": 6,
   "outputs": [
    {
     "name": "stdout",
     "output_type": "stream",
     "text": [
      "10 is not a prime number \n",
      " Total number of iterations = 1\n"
     ]
    }
   ],
   "source": [
    "check_prime1(10)"
   ],
   "metadata": {
    "collapsed": false,
    "pycharm": {
     "name": "#%%\n"
    }
   }
  },
  {
   "cell_type": "code",
   "execution_count": 7,
   "outputs": [
    {
     "name": "stdout",
     "output_type": "stream",
     "text": [
      "50 is not a prime number \n",
      " Total number of iterations = 1\n"
     ]
    }
   ],
   "source": [
    "check_prime1(50)"
   ],
   "metadata": {
    "collapsed": false,
    "pycharm": {
     "name": "#%%\n"
    }
   }
  },
  {
   "cell_type": "code",
   "execution_count": 8,
   "outputs": [
    {
     "name": "stdout",
     "output_type": "stream",
     "text": [
      "1 is a prime number \n",
      "Total number of iterations = 0\n"
     ]
    }
   ],
   "source": [
    "check_prime1(1)"
   ],
   "metadata": {
    "collapsed": false,
    "pycharm": {
     "name": "#%%\n"
    }
   }
  },
  {
   "cell_type": "code",
   "execution_count": 9,
   "outputs": [
    {
     "name": "stdout",
     "output_type": "stream",
     "text": [
      "49 is not a prime number \n",
      " Total number of iterations = 6\n"
     ]
    }
   ],
   "source": [
    "check_prime1(49)"
   ],
   "metadata": {
    "collapsed": false,
    "pycharm": {
     "name": "#%%\n"
    }
   }
  },
  {
   "cell_type": "code",
   "execution_count": 10,
   "outputs": [
    {
     "name": "stdout",
     "output_type": "stream",
     "text": [
      "191 is a prime number \n",
      "Total number of iterations = 189\n"
     ]
    }
   ],
   "source": [
    "check_prime1(191)"
   ],
   "metadata": {
    "collapsed": false,
    "pycharm": {
     "name": "#%%\n"
    }
   }
  },
  {
   "cell_type": "code",
   "execution_count": 11,
   "outputs": [],
   "source": [
    "# Another example: checking for a maximum value in a list,\n",
    "# that takes longer, if the input list gets longer"
   ],
   "metadata": {
    "collapsed": false,
    "pycharm": {
     "name": "#%%\n"
    }
   }
  },
  {
   "cell_type": "code",
   "execution_count": 12,
   "outputs": [],
   "source": [
    "#O(n*n) operations\n",
    "def print_pairs(number_list):\n",
    "        num_iterations = 0\n",
    "        n = len(number_list)\n",
    "\n",
    "        for i in range(n):\n",
    "            for j in range(n):\n",
    "                print(number_list[i], number_list[j])\n",
    "                num_iterations += 1\n",
    "\n",
    "        print(\"Total iterations are %d\" % num_iterations)"
   ],
   "metadata": {
    "collapsed": false,
    "pycharm": {
     "name": "#%%\n"
    }
   }
  },
  {
   "cell_type": "code",
   "execution_count": 13,
   "outputs": [
    {
     "name": "stdout",
     "output_type": "stream",
     "text": [
      "123 123\n",
      "123 67\n",
      "67 123\n",
      "67 67\n",
      "Total iterations are 4\n"
     ]
    }
   ],
   "source": [
    "print_pairs([123,67])"
   ],
   "metadata": {
    "collapsed": false,
    "pycharm": {
     "name": "#%%\n"
    }
   }
  },
  {
   "cell_type": "code",
   "execution_count": 14,
   "outputs": [
    {
     "name": "stdout",
     "output_type": "stream",
     "text": [
      "123 123\n",
      "123 67\n",
      "123 25\n",
      "123 79\n",
      "67 123\n",
      "67 67\n",
      "67 25\n",
      "67 79\n",
      "25 123\n",
      "25 67\n",
      "25 25\n",
      "25 79\n",
      "79 123\n",
      "79 67\n",
      "79 25\n",
      "79 79\n",
      "Total iterations are 16\n"
     ]
    }
   ],
   "source": [
    "print_pairs([123,67, 25, 79])"
   ],
   "metadata": {
    "collapsed": false,
    "pycharm": {
     "name": "#%%\n"
    }
   }
  },
  {
   "cell_type": "code",
   "execution_count": 15,
   "outputs": [],
   "source": [
    "# number of iterations is equal to the square of the input size - complexity is O(n^2)"
   ],
   "metadata": {
    "collapsed": false,
    "pycharm": {
     "name": "#%%\n"
    }
   }
  },
  {
   "cell_type": "code",
   "execution_count": 16,
   "outputs": [
    {
     "data": {
      "text/plain": "<queue.Queue at 0x2e919de0708>"
     },
     "execution_count": 16,
     "metadata": {},
     "output_type": "execute_result"
    }
   ],
   "source": [
    "#Built-in queue\n",
    "from queue import Queue\n",
    "olympics = Queue(5)\n",
    "olympics"
   ],
   "metadata": {
    "collapsed": false,
    "pycharm": {
     "name": "#%%\n"
    }
   }
  },
  {
   "cell_type": "code",
   "execution_count": 17,
   "outputs": [],
   "source": [
    "olympics.put(\"United Statues(USA)\")\n",
    "olympics.put(\"Great Britain(GBR)\")"
   ],
   "metadata": {
    "collapsed": false,
    "pycharm": {
     "name": "#%%\n"
    }
   }
  },
  {
   "cell_type": "code",
   "execution_count": 18,
   "outputs": [
    {
     "data": {
      "text/plain": "False"
     },
     "execution_count": 18,
     "metadata": {},
     "output_type": "execute_result"
    }
   ],
   "source": [
    "olympics.empty() # O(1)"
   ],
   "metadata": {
    "collapsed": false,
    "pycharm": {
     "name": "#%%\n"
    }
   }
  },
  {
   "cell_type": "code",
   "execution_count": 19,
   "outputs": [
    {
     "data": {
      "text/plain": "False"
     },
     "execution_count": 19,
     "metadata": {},
     "output_type": "execute_result"
    }
   ],
   "source": [
    "olympics.full() # O(1)"
   ],
   "metadata": {
    "collapsed": false,
    "pycharm": {
     "name": "#%%\n"
    }
   }
  },
  {
   "cell_type": "code",
   "execution_count": 20,
   "outputs": [
    {
     "data": {
      "text/plain": "2"
     },
     "execution_count": 20,
     "metadata": {},
     "output_type": "execute_result"
    }
   ],
   "source": [
    "olympics.qsize() # O(1)"
   ],
   "metadata": {
    "collapsed": false,
    "pycharm": {
     "name": "#%%\n"
    }
   }
  },
  {
   "cell_type": "code",
   "execution_count": 21,
   "outputs": [],
   "source": [
    "olympics.put(\"China(CHN)\")\n",
    "olympics.put(\"Russia(RUS)\")\n",
    "olympics.put(\"Germany(GER)\")"
   ],
   "metadata": {
    "collapsed": false,
    "pycharm": {
     "name": "#%%\n"
    }
   }
  },
  {
   "cell_type": "code",
   "execution_count": 22,
   "outputs": [
    {
     "data": {
      "text/plain": "True"
     },
     "execution_count": 22,
     "metadata": {},
     "output_type": "execute_result"
    }
   ],
   "source": [
    "olympics.full()"
   ],
   "metadata": {
    "collapsed": false,
    "pycharm": {
     "name": "#%%\n"
    }
   }
  },
  {
   "cell_type": "code",
   "execution_count": 23,
   "outputs": [
    {
     "data": {
      "text/plain": "5"
     },
     "execution_count": 23,
     "metadata": {},
     "output_type": "execute_result"
    }
   ],
   "source": [
    "olympics.qsize()"
   ],
   "metadata": {
    "collapsed": false,
    "pycharm": {
     "name": "#%%\n"
    }
   }
  },
  {
   "cell_type": "code",
   "execution_count": 24,
   "outputs": [
    {
     "data": {
      "text/plain": "'United Statues(USA)'"
     },
     "execution_count": 24,
     "metadata": {},
     "output_type": "execute_result"
    }
   ],
   "source": [
    "olympics.get()"
   ],
   "metadata": {
    "collapsed": false,
    "pycharm": {
     "name": "#%%\n"
    }
   }
  },
  {
   "cell_type": "code",
   "execution_count": 25,
   "outputs": [
    {
     "data": {
      "text/plain": "4"
     },
     "execution_count": 25,
     "metadata": {},
     "output_type": "execute_result"
    }
   ],
   "source": [
    "olympics.qsize()"
   ],
   "metadata": {
    "collapsed": false,
    "pycharm": {
     "name": "#%%\n"
    }
   }
  },
  {
   "cell_type": "code",
   "execution_count": 26,
   "outputs": [
    {
     "data": {
      "text/plain": "False"
     },
     "execution_count": 26,
     "metadata": {},
     "output_type": "execute_result"
    }
   ],
   "source": [
    "olympics.full()"
   ],
   "metadata": {
    "collapsed": false,
    "pycharm": {
     "name": "#%%\n"
    }
   }
  },
  {
   "cell_type": "code",
   "execution_count": 27,
   "outputs": [],
   "source": [
    "# Stack\n",
    "stack = []\n",
    "stack.append(\"United States\")\n",
    "stack.append(\"Great Britain\")\n",
    "stack.append(\"China\")"
   ],
   "metadata": {
    "collapsed": false,
    "pycharm": {
     "name": "#%%\n"
    }
   }
  },
  {
   "cell_type": "code",
   "execution_count": 28,
   "outputs": [
    {
     "data": {
      "text/plain": "['United States', 'Great Britain', 'China']"
     },
     "execution_count": 28,
     "metadata": {},
     "output_type": "execute_result"
    }
   ],
   "source": [
    "stack"
   ],
   "metadata": {
    "collapsed": false,
    "pycharm": {
     "name": "#%%\n"
    }
   }
  },
  {
   "cell_type": "code",
   "execution_count": 29,
   "outputs": [
    {
     "data": {
      "text/plain": "'China'"
     },
     "execution_count": 29,
     "metadata": {},
     "output_type": "execute_result"
    }
   ],
   "source": [
    "stack.pop()"
   ],
   "metadata": {
    "collapsed": false,
    "pycharm": {
     "name": "#%%\n"
    }
   }
  },
  {
   "cell_type": "code",
   "execution_count": 30,
   "outputs": [],
   "source": [
    "# Linked lists\n",
    "class Node:\n",
    "    def __init__(self, dataval=None, nextval=None):\n",
    "        self.dataval = dataval\n",
    "        self.nextval = nextval\n",
    "\n",
    "    def __repr__(self):\n",
    "        return repr(self.dataval)\n",
    "\n",
    "class LinkedList:\n",
    "    def __init__(self):\n",
    "        self.head = None\n",
    "\n",
    "    def __repr__(self): # O(N)\n",
    "        nodes = []\n",
    "        curr = self.head\n",
    "\n",
    "        while curr:\n",
    "            nodes.append(repr(curr))\n",
    "            curr = curr.nextval\n",
    "\n",
    "        return \"[\" + \"->\".join(nodes) + \"]\"\n",
    "\n",
    "    def prepend(self, dataval): # O(1)\n",
    "        self.head = Node(dataval=dataval, nextval = self.head)\n",
    "\n",
    "    def append(self, dataval):\n",
    "        if not self.head:\n",
    "            self.head = Node(dataval=dataval)\n",
    "            return\n",
    "\n",
    "        curr = self.head\n",
    "\n",
    "        while curr.nextval:\n",
    "            curr = curr.nextval\n",
    "\n",
    "        curr.nextval = Node(dataval=dataval)\n",
    "\n",
    "    def add_after(self, middle_dataval, dataval):\n",
    "        if middle_dataval is None:\n",
    "            print(\"Data to insert after not specified\")\n",
    "            return\n",
    "\n",
    "        curr = self.head\n",
    "\n",
    "        while curr and curr.dataval != middle_dataval:\n",
    "            curr = curr.nextval\n",
    "\n",
    "        new_node = Node(dataval = dataval)\n",
    "\n",
    "        new_node.nextval = curr.nextval\n",
    "        curr.nextval = new_node\n",
    "\n",
    "    def find(self, data):\n",
    "        curr = self.head\n",
    "        while curr and curr.dataval != data:\n",
    "            curr = curr.nextval\n",
    "\n",
    "        return curr\n",
    "\n",
    "    def remove(self, data):\n",
    "        curr = self.head\n",
    "        prev = None\n",
    "\n",
    "        while curr and curr.dataval != data:\n",
    "            prev = curr\n",
    "            curr = curr.nextval\n",
    "\n",
    "            if prev is None:\n",
    "                self.head = curr.nextval\n",
    "            elif curr:\n",
    "                prev.nextval = curr.nextval\n",
    "                curr.nextval = None\n",
    "\n",
    "    def reverse(self):\n",
    "        curr = self.head\n",
    "\n",
    "        prev_node = None\n",
    "        next_node = None\n",
    "\n",
    "        while curr:\n",
    "            nextval = curr.nextval\n",
    "            curr.nextval = prev_node\n",
    "\n",
    "            prev_node = curr\n",
    "\n",
    "            curr = nextval\n",
    "\n",
    "        self.head = prev_node\n"
   ],
   "metadata": {
    "collapsed": false,
    "pycharm": {
     "name": "#%%\n"
    }
   }
  },
  {
   "cell_type": "code",
   "execution_count": 31,
   "outputs": [],
   "source": [
    "numbers = LinkedList()"
   ],
   "metadata": {
    "collapsed": false,
    "pycharm": {
     "name": "#%%\n"
    }
   }
  },
  {
   "cell_type": "code",
   "execution_count": 32,
   "outputs": [
    {
     "data": {
      "text/plain": "[]"
     },
     "execution_count": 32,
     "metadata": {},
     "output_type": "execute_result"
    }
   ],
   "source": [
    "numbers"
   ],
   "metadata": {
    "collapsed": false,
    "pycharm": {
     "name": "#%%\n"
    }
   }
  },
  {
   "cell_type": "code",
   "execution_count": 33,
   "outputs": [
    {
     "data": {
      "text/plain": "['two'->'three']"
     },
     "execution_count": 33,
     "metadata": {},
     "output_type": "execute_result"
    }
   ],
   "source": [
    "numbers.append(\"two\")\n",
    "numbers.append(\"three\")\n",
    "\n",
    "numbers"
   ],
   "metadata": {
    "collapsed": false,
    "pycharm": {
     "name": "#%%\n"
    }
   }
  },
  {
   "cell_type": "code",
   "execution_count": 34,
   "outputs": [
    {
     "data": {
      "text/plain": "['one'->'two'->'three']"
     },
     "execution_count": 34,
     "metadata": {},
     "output_type": "execute_result"
    }
   ],
   "source": [
    "numbers.prepend(\"one\")\n",
    "numbers"
   ],
   "metadata": {
    "collapsed": false,
    "pycharm": {
     "name": "#%%\n"
    }
   }
  },
  {
   "cell_type": "code",
   "execution_count": 34,
   "outputs": [],
   "source": [
    "\n"
   ],
   "metadata": {
    "collapsed": false,
    "pycharm": {
     "name": "#%%\n"
    }
   }
  }
 ],
 "metadata": {
  "kernelspec": {
   "display_name": "Python 3",
   "language": "python",
   "name": "python3"
  },
  "language_info": {
   "codemirror_mode": {
    "name": "ipython",
    "version": 2
   },
   "file_extension": ".py",
   "mimetype": "text/x-python",
   "name": "python",
   "nbconvert_exporter": "python",
   "pygments_lexer": "ipython2",
   "version": "2.7.6"
  }
 },
 "nbformat": 4,
 "nbformat_minor": 0
}