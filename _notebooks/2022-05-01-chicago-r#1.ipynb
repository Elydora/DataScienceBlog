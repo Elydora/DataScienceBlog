{
 "cells": [
  {
   "cell_type": "markdown",
   "source": [
    "# Analyzing Crime in Chicago\n",
    "> Initial Overview\n",
    "\n",
    "- toc: false\n",
    "- badges: true\n",
    "- comments: true\n",
    "- sticky_rank: 1\n",
    "- author: Felix\n",
    "- categories: [data_science, visualization]"
   ],
   "metadata": {
    "collapsed": false,
    "pycharm": {
     "name": "#%% md\n"
    }
   }
  },
  {
   "cell_type": "markdown",
   "source": [
    "# Abstract\n",
    "*This report’s intent is to give an initial overview of the recorded\n",
    "incidents of crime in the city of Chicago from 2001 to 2021. The data is provided in a publicly available dataset by the Chicago Police Department. The report is an initial overview about the total numbers of crimes, their types, and development over time. All charts in this report have been created with Apache Superset.*\n",
    "\n",
    "*It is the first report in a series that is based on the data of this\n",
    "dataset and its purpose is to lay the groundwork for further analysis.*"
   ],
   "metadata": {
    "collapsed": false,
    "pycharm": {
     "name": "#%% md\n"
    }
   }
  },
  {
   "cell_type": "markdown",
   "source": [
    "## Table of contents\n",
    "- [Introduction](#introduction)\n",
    "- [Data](#data)\n",
    "- [Analysis](#analysis)\n",
    "- [Crime in General](#crime_general)"
   ],
   "metadata": {
    "collapsed": false,
    "pycharm": {
     "name": "#%% md\n"
    }
   }
  },
  {
   "cell_type": "markdown",
   "source": [
    "## Introduction <a name=\"introduction\"></a>"
   ],
   "metadata": {
    "collapsed": false,
    "pycharm": {
     "name": "#%% md\n"
    }
   }
  },
  {
   "cell_type": "markdown",
   "source": [
    "The following report will give an overview on the development of crime counts in the city of Chicago from 2001 to 2021. This analysis includes includes a broad overview on the total number of crimes in the dataset, their development over time and the distribution of the types of crime. We will also have a look on the trend of recorded number of crimes overall and in detail."
   ],
   "metadata": {
    "collapsed": false,
    "pycharm": {
     "name": "#%% md\n"
    }
   }
  },
  {
   "cell_type": "markdown",
   "source": [
    "## Data <a name=\"data\"></a>"
   ],
   "metadata": {
    "collapsed": false,
    "pycharm": {
     "name": "#%% md\n"
    }
   }
  },
  {
   "cell_type": "markdown",
   "source": [
    "This analysis is based on the reported incidents of crime in the City of Chicago. The dataset starts in the year of 2001 and is updated daily. It only excludes the most recent seven days. The data is provided by the Chicago Police Department itself. This dataset records among others the date and time of the incident, detailed information on the location, the crime type and description, if an arrest was made and if it was a domestic crime.\n",
    "\n",
    "This dataset is publicly available on the Chicago Data Portal:\n",
    "\t•\t[dataset](https://data.cityofchicago\n",
    "\t.org/Public-Safety/Crimes-2001-to-Present/ijzp-q8t2)\n",
    "\n",
    "The accuracy, completeness, timeliness or correct sequencing of the provided records is not guaranteed. So  comparisons of over time created with it should be taken with a grain of salt. In addition, older records are subject to change."
   ],
   "metadata": {
    "collapsed": false,
    "pycharm": {
     "name": "#%% md\n"
    }
   }
  },
  {
   "cell_type": "markdown",
   "source": [
    "## Analysis <a name=\"analysis\"></a>\n",
    "### Crime in General <a name=\"crime_general\"></a>"
   ],
   "metadata": {
    "collapsed": false,
    "pycharm": {
     "name": "#%% md\n"
    }
   }
  },
  {
   "cell_type": "markdown",
   "source": [
    "At first let us take a look on the total amount of crimes committed and what their primary types are. From 2001 to 2021 there have been a total of 7.47 million recorded crimes by the Chicago Police Department. Overall these crimes split into 36 different types. The most common crimes are theft, battery, criminal damage and cases involving narcotics. These four types alone amount to 4.5 million of the 7.47 million records overall, which is 61 %.\n",
    "![Crime Type](images/r#1/01.jpg)\n",
    "\n",
    "Test"
   ],
   "metadata": {
    "collapsed": false,
    "pycharm": {
     "name": "#%% md\n"
    }
   }
  },
  {
   "cell_type": "markdown",
   "source": [],
   "metadata": {
    "collapsed": false,
    "pycharm": {
     "name": "#%% md\n"
    }
   }
  },
  {
   "cell_type": "code",
   "execution_count": null,
   "outputs": [],
   "source": [],
   "metadata": {
    "collapsed": false,
    "pycharm": {
     "name": "#%%\n"
    }
   }
  },
  {
   "cell_type": "markdown",
   "source": [],
   "metadata": {
    "collapsed": false,
    "pycharm": {
     "name": "#%% md\n"
    }
   }
  }
 ],
 "metadata": {
  "kernelspec": {
   "display_name": "Python 3",
   "language": "python",
   "name": "python3"
  },
  "language_info": {
   "codemirror_mode": {
    "name": "ipython",
    "version": 2
   },
   "file_extension": ".py",
   "mimetype": "text/x-python",
   "name": "python",
   "nbconvert_exporter": "python",
   "pygments_lexer": "ipython2",
   "version": "2.7.6"
  }
 },
 "nbformat": 4,
 "nbformat_minor": 0
}